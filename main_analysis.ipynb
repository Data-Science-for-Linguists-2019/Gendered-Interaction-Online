{
 "cells": [
  {
   "cell_type": "markdown",
   "metadata": {},
   "source": [
    "# Analysis\n",
    "Now let's delve deeper into the analysis!\n",
    "\n",
    "## Load DataFrames"
   ]
  },
  {
   "cell_type": "code",
   "execution_count": 1,
   "metadata": {},
   "outputs": [],
   "source": [
    "# import things\n",
    "import pandas as pd\n",
    "import numpy as np\n",
    "import seaborn as sns\n",
    "import matplotlib.pyplot as plt"
   ]
  },
  {
   "cell_type": "code",
   "execution_count": 2,
   "metadata": {},
   "outputs": [],
   "source": [
    "# reading in files\n",
    "fb_congress_df = pd.read_pickle(\"pickle/fb_congress_df_part1.pkl\")\n",
    "fb_congress_df2 = pd.read_pickle(\"pickle/fb_congress_df_part2.pkl\")\n",
    "\n",
    "# merging them\n",
    "fb_congress_df = fb_congress_df.append(fb_congress_df2)"
   ]
  },
  {
   "cell_type": "code",
   "execution_count": 3,
   "metadata": {},
   "outputs": [],
   "source": [
    "# read in fb wiki\n",
    "fb_wiki_df = pd.read_pickle(\"pickle/fb_wiki_df.pkl\")"
   ]
  },
  {
   "cell_type": "code",
   "execution_count": 4,
   "metadata": {},
   "outputs": [],
   "source": [
    "# read in fitocracy\n",
    "fitocracy_df = pd.read_pickle(\"pickle/fitocracy_df.pkl\")"
   ]
  },
  {
   "cell_type": "code",
   "execution_count": 5,
   "metadata": {},
   "outputs": [],
   "source": [
    "# read in reddit\n",
    "reddit_df = pd.read_pickle(\"pickle/reddit_df.pkl\")"
   ]
  },
  {
   "cell_type": "code",
   "execution_count": 6,
   "metadata": {},
   "outputs": [],
   "source": [
    "# read in ted\n",
    "ted_responses_df = pd.read_pickle(\"pickle/ted_responses_df.pkl\")"
   ]
  },
  {
   "cell_type": "markdown",
   "metadata": {},
   "source": [
    "## Conduct basic analysis\n",
    "Some of this information will be repetition from previous files, but I want to have it all in one place here.\n",
    "\n",
    "### Analysis of Facebook Congress"
   ]
  },
  {
   "cell_type": "code",
   "execution_count": 7,
   "metadata": {},
   "outputs": [
    {
     "data": {
      "text/html": [
       "<div>\n",
       "<style scoped>\n",
       "    .dataframe tbody tr th:only-of-type {\n",
       "        vertical-align: middle;\n",
       "    }\n",
       "\n",
       "    .dataframe tbody tr th {\n",
       "        vertical-align: top;\n",
       "    }\n",
       "\n",
       "    .dataframe thead th {\n",
       "        text-align: right;\n",
       "    }\n",
       "</style>\n",
       "<table border=\"1\" class=\"dataframe\">\n",
       "  <thead>\n",
       "    <tr style=\"text-align: right;\">\n",
       "      <th></th>\n",
       "      <th>post_id</th>\n",
       "      <th>post_type</th>\n",
       "      <th>op_id</th>\n",
       "      <th>op_name</th>\n",
       "      <th>op_category</th>\n",
       "      <th>op_gender</th>\n",
       "      <th>responder_id</th>\n",
       "      <th>post_text</th>\n",
       "      <th>response_text</th>\n",
       "    </tr>\n",
       "  </thead>\n",
       "  <tbody>\n",
       "    <tr>\n",
       "      <th>0</th>\n",
       "      <td>0</td>\n",
       "      <td>video</td>\n",
       "      <td>57265377</td>\n",
       "      <td>Roger Williams</td>\n",
       "      <td>Congress_Republican</td>\n",
       "      <td>M</td>\n",
       "      <td>Jerry</td>\n",
       "      <td>Yesterday, my colleagues and I voted to protec...</td>\n",
       "      <td>Protecting birth is not the same as protecting...</td>\n",
       "    </tr>\n",
       "    <tr>\n",
       "      <th>1</th>\n",
       "      <td>0</td>\n",
       "      <td>video</td>\n",
       "      <td>57265377</td>\n",
       "      <td>Roger Williams</td>\n",
       "      <td>Congress_Republican</td>\n",
       "      <td>M</td>\n",
       "      <td>Andrea</td>\n",
       "      <td>Yesterday, my colleagues and I voted to protec...</td>\n",
       "      <td>You need to protect children and leave my body...</td>\n",
       "    </tr>\n",
       "    <tr>\n",
       "      <th>2</th>\n",
       "      <td>0</td>\n",
       "      <td>video</td>\n",
       "      <td>57265377</td>\n",
       "      <td>Roger Williams</td>\n",
       "      <td>Congress_Republican</td>\n",
       "      <td>M</td>\n",
       "      <td>Sherry</td>\n",
       "      <td>Yesterday, my colleagues and I voted to protec...</td>\n",
       "      <td>Thank you</td>\n",
       "    </tr>\n",
       "    <tr>\n",
       "      <th>3</th>\n",
       "      <td>0</td>\n",
       "      <td>video</td>\n",
       "      <td>57265377</td>\n",
       "      <td>Roger Williams</td>\n",
       "      <td>Congress_Republican</td>\n",
       "      <td>M</td>\n",
       "      <td>Bob</td>\n",
       "      <td>Yesterday, my colleagues and I voted to protec...</td>\n",
       "      <td>Thank you Roger</td>\n",
       "    </tr>\n",
       "    <tr>\n",
       "      <th>4</th>\n",
       "      <td>0</td>\n",
       "      <td>video</td>\n",
       "      <td>57265377</td>\n",
       "      <td>Roger Williams</td>\n",
       "      <td>Congress_Republican</td>\n",
       "      <td>M</td>\n",
       "      <td>Joy</td>\n",
       "      <td>Yesterday, my colleagues and I voted to protec...</td>\n",
       "      <td>Unwanted pregnancy is a sad and unfortunate si...</td>\n",
       "    </tr>\n",
       "  </tbody>\n",
       "</table>\n",
       "</div>"
      ],
      "text/plain": [
       "   post_id post_type     op_id         op_name          op_category op_gender  \\\n",
       "0        0     video  57265377  Roger Williams  Congress_Republican         M   \n",
       "1        0     video  57265377  Roger Williams  Congress_Republican         M   \n",
       "2        0     video  57265377  Roger Williams  Congress_Republican         M   \n",
       "3        0     video  57265377  Roger Williams  Congress_Republican         M   \n",
       "4        0     video  57265377  Roger Williams  Congress_Republican         M   \n",
       "\n",
       "  responder_id                                          post_text  \\\n",
       "0        Jerry  Yesterday, my colleagues and I voted to protec...   \n",
       "1       Andrea  Yesterday, my colleagues and I voted to protec...   \n",
       "2       Sherry  Yesterday, my colleagues and I voted to protec...   \n",
       "3          Bob  Yesterday, my colleagues and I voted to protec...   \n",
       "4          Joy  Yesterday, my colleagues and I voted to protec...   \n",
       "\n",
       "                                       response_text  \n",
       "0  Protecting birth is not the same as protecting...  \n",
       "1  You need to protect children and leave my body...  \n",
       "2                                          Thank you  \n",
       "3                                    Thank you Roger  \n",
       "4  Unwanted pregnancy is a sad and unfortunate si...  "
      ]
     },
     "execution_count": 7,
     "metadata": {},
     "output_type": "execute_result"
    }
   ],
   "source": [
    "fb_congress_df.head()"
   ]
  },
  {
   "cell_type": "code",
   "execution_count": 8,
   "metadata": {},
   "outputs": [
    {
     "data": {
      "text/plain": [
       "link      210499\n",
       "photo     199123\n",
       "status     87921\n",
       "video      46842\n",
       "event       3417\n",
       "music        278\n",
       "note         261\n",
       "Name: post_type, dtype: int64"
      ]
     },
     "execution_count": 8,
     "metadata": {},
     "output_type": "execute_result"
    }
   ],
   "source": [
    "unique_posts = fb_congress_df.drop_duplicates('post_id')\n",
    "\n",
    "# different post types, make sure unique for post id\n",
    "unique_posts.post_type.value_counts()"
   ]
  },
  {
   "cell_type": "code",
   "execution_count": 9,
   "metadata": {},
   "outputs": [
    {
     "data": {
      "text/plain": [
       "Congress_Republican     239909\n",
       "Congress_Democratic     158237\n",
       "                        149304\n",
       "Congress_Independent       891\n",
       "Name: op_category, dtype: int64"
      ]
     },
     "execution_count": 9,
     "metadata": {},
     "output_type": "execute_result"
    }
   ],
   "source": [
    "# different op categories, make sure unique for post id\n",
    "unique_posts.op_category.value_counts()"
   ]
  },
  {
   "cell_type": "markdown",
   "metadata": {},
   "source": [
    "Note: the ones with no category are the ones with no response corresponding to that post."
   ]
  },
  {
   "cell_type": "code",
   "execution_count": 10,
   "metadata": {},
   "outputs": [
    {
     "data": {
      "text/plain": [
       "M    413011\n",
       "W    135330\n",
       "Name: op_gender, dtype: int64"
      ]
     },
     "execution_count": 10,
     "metadata": {},
     "output_type": "execute_result"
    }
   ],
   "source": [
    "# different op genders, make sure unique for post id\n",
    "unique_posts.op_gender.value_counts()"
   ]
  },
  {
   "cell_type": "code",
   "execution_count": 18,
   "metadata": {},
   "outputs": [
    {
     "data": {
      "image/png": "[encoded data removed]",
      "text/plain": [
       "<Figure size 432x288 with 1 Axes>"
      ]
     },
     "metadata": {},
     "output_type": "display_data"
    }
   ],
   "source": [
    "# plot gender\n",
    "unique_posts.op_gender.value_counts().plot(kind='pie', autopct='%1.1f%%')\n",
    "\n",
    "# save figure\n",
    "plt.savefig('images/fbcongress_op_gender.png')\n",
    "\n",
    "# show plot\n",
    "plt.show()"
   ]
  },
  {
   "cell_type": "code",
   "execution_count": 19,
   "metadata": {},
   "outputs": [
    {
     "data": {
      "text/plain": [
       "25.560392164729613"
      ]
     },
     "execution_count": 19,
     "metadata": {},
     "output_type": "execute_result"
    }
   ],
   "source": [
    "# average num responses for everyone\n",
    "fb_congress_df.post_id.value_counts().mean()"
   ]
  },
  {
   "cell_type": "code",
   "execution_count": 20,
   "metadata": {},
   "outputs": [
    {
     "name": "stdout",
     "output_type": "stream",
     "text": [
      "average responses when poster is male: 25.473808203655594\n",
      "average responses when poster is female: 25.824636074780166\n"
     ]
    }
   ],
   "source": [
    "# average number of responses per gender\n",
    "\n",
    "print('average responses when poster is male:', fb_congress_df.groupby('op_gender').post_id.value_counts()['M'].mean())\n",
    "print('average responses when poster is female:', fb_congress_df.groupby('op_gender').post_id.value_counts()['W'].mean())"
   ]
  },
  {
   "cell_type": "markdown",
   "metadata": {},
   "source": [
    "Basic analysis conclusion: There are a lot more male posters. Also, the average number of responses doesn't really vary per gender. The information about the post type and op_category is interesting, but doesn't really relate to my current study.\n",
    "\n",
    "### Analysis of Facebook Wiki"
   ]
  },
  {
   "cell_type": "code",
   "execution_count": 21,
   "metadata": {},
   "outputs": [
    {
     "data": {
      "text/html": [
       "<div>\n",
       "<style scoped>\n",
       "    .dataframe tbody tr th:only-of-type {\n",
       "        vertical-align: middle;\n",
       "    }\n",
       "\n",
       "    .dataframe tbody tr th {\n",
       "        vertical-align: top;\n",
       "    }\n",
       "\n",
       "    .dataframe thead th {\n",
       "        text-align: right;\n",
       "    }\n",
       "</style>\n",
       "<table border=\"1\" class=\"dataframe\">\n",
       "  <thead>\n",
       "    <tr style=\"text-align: right;\">\n",
       "      <th></th>\n",
       "      <th>post_id</th>\n",
       "      <th>post_type</th>\n",
       "      <th>op_id</th>\n",
       "      <th>op_name</th>\n",
       "      <th>op_category</th>\n",
       "      <th>op_gender</th>\n",
       "      <th>responder_id</th>\n",
       "      <th>post_text</th>\n",
       "      <th>response_text</th>\n",
       "    </tr>\n",
       "  </thead>\n",
       "  <tbody>\n",
       "    <tr>\n",
       "      <th>0</th>\n",
       "      <td>0</td>\n",
       "      <td>photo</td>\n",
       "      <td>11679984</td>\n",
       "      <td>Byron Miranda</td>\n",
       "      <td>Wikipedia_American_television_news_anchors</td>\n",
       "      <td>M</td>\n",
       "      <td>Michelle</td>\n",
       "      <td>Tornado watch in effect tonight. Be safe. Plea...</td>\n",
       "      <td>Is this watch going to make it to LaPorte county?</td>\n",
       "    </tr>\n",
       "    <tr>\n",
       "      <th>1</th>\n",
       "      <td>0</td>\n",
       "      <td>photo</td>\n",
       "      <td>11679984</td>\n",
       "      <td>Byron Miranda</td>\n",
       "      <td>Wikipedia_American_television_news_anchors</td>\n",
       "      <td>M</td>\n",
       "      <td>Melissa</td>\n",
       "      <td>Tornado watch in effect tonight. Be safe. Plea...</td>\n",
       "      <td>Anything for Wilmington area</td>\n",
       "    </tr>\n",
       "    <tr>\n",
       "      <th>2</th>\n",
       "      <td>0</td>\n",
       "      <td>photo</td>\n",
       "      <td>11679984</td>\n",
       "      <td>Byron Miranda</td>\n",
       "      <td>Wikipedia_American_television_news_anchors</td>\n",
       "      <td>M</td>\n",
       "      <td>Darlene</td>\n",
       "      <td>Tornado watch in effect tonight. Be safe. Plea...</td>\n",
       "      <td>Thanks, please keep us posted.</td>\n",
       "    </tr>\n",
       "    <tr>\n",
       "      <th>3</th>\n",
       "      <td>0</td>\n",
       "      <td>photo</td>\n",
       "      <td>11679984</td>\n",
       "      <td>Byron Miranda</td>\n",
       "      <td>Wikipedia_American_television_news_anchors</td>\n",
       "      <td>M</td>\n",
       "      <td>Cheryl</td>\n",
       "      <td>Tornado watch in effect tonight. Be safe. Plea...</td>\n",
       "      <td>Thanks Byron</td>\n",
       "    </tr>\n",
       "    <tr>\n",
       "      <th>4</th>\n",
       "      <td>0</td>\n",
       "      <td>photo</td>\n",
       "      <td>11679984</td>\n",
       "      <td>Byron Miranda</td>\n",
       "      <td>Wikipedia_American_television_news_anchors</td>\n",
       "      <td>M</td>\n",
       "      <td>Melissa</td>\n",
       "      <td>Tornado watch in effect tonight. Be safe. Plea...</td>\n",
       "      <td>[[STICKER]]</td>\n",
       "    </tr>\n",
       "  </tbody>\n",
       "</table>\n",
       "</div>"
      ],
      "text/plain": [
       "   post_id post_type     op_id        op_name  \\\n",
       "0        0     photo  11679984  Byron Miranda   \n",
       "1        0     photo  11679984  Byron Miranda   \n",
       "2        0     photo  11679984  Byron Miranda   \n",
       "3        0     photo  11679984  Byron Miranda   \n",
       "4        0     photo  11679984  Byron Miranda   \n",
       "\n",
       "                                  op_category op_gender responder_id  \\\n",
       "0  Wikipedia_American_television_news_anchors         M     Michelle   \n",
       "1  Wikipedia_American_television_news_anchors         M      Melissa   \n",
       "2  Wikipedia_American_television_news_anchors         M      Darlene   \n",
       "3  Wikipedia_American_television_news_anchors         M       Cheryl   \n",
       "4  Wikipedia_American_television_news_anchors         M      Melissa   \n",
       "\n",
       "                                           post_text  \\\n",
       "0  Tornado watch in effect tonight. Be safe. Plea...   \n",
       "1  Tornado watch in effect tonight. Be safe. Plea...   \n",
       "2  Tornado watch in effect tonight. Be safe. Plea...   \n",
       "3  Tornado watch in effect tonight. Be safe. Plea...   \n",
       "4  Tornado watch in effect tonight. Be safe. Plea...   \n",
       "\n",
       "                                       response_text  \n",
       "0  Is this watch going to make it to LaPorte county?  \n",
       "1                       Anything for Wilmington area  \n",
       "2                     Thanks, please keep us posted.  \n",
       "3                                       Thanks Byron  \n",
       "4                                        [[STICKER]]  "
      ]
     },
     "execution_count": 21,
     "metadata": {},
     "output_type": "execute_result"
    }
   ],
   "source": [
    "fb_wiki_df.head()"
   ]
  },
  {
   "cell_type": "code",
   "execution_count": 22,
   "metadata": {},
   "outputs": [
    {
     "data": {
      "text/plain": [
       "photo     61411\n",
       "link      37609\n",
       "status    33495\n",
       "video     16026\n",
       "event       859\n",
       "note         32\n",
       "music        16\n",
       "Name: post_type, dtype: int64"
      ]
     },
     "execution_count": 22,
     "metadata": {},
     "output_type": "execute_result"
    }
   ],
   "source": [
    "unique_posts = fb_wiki_df.drop_duplicates('post_id')\n",
    "\n",
    "# different post types, make sure unique for post id\n",
    "unique_posts.post_type.value_counts()"
   ]
  },
  {
   "cell_type": "code",
   "execution_count": 23,
   "metadata": {},
   "outputs": [
    {
     "data": {
      "text/plain": [
       "                                                                   31637\n",
       "Wikipedia_American_television_actresses                            22822\n",
       "Wikipedia_American_television_news_anchors                         17925\n",
       "Wikipedia_American_television_talk_show_hosts                      16607\n",
       "Wikipedia_American_female_tennis_players                           14855\n",
       "Wikipedia_American_film_actresses                                  14579\n",
       "Wikipedia_American_male_film_actors                                12304\n",
       "Wikipedia_American_television_journalists                          10285\n",
       "Wikipedia_American_male_television_actors                           3330\n",
       "Wikipedia_Women_economists                                          2945\n",
       "Wikipedia_American_male_tennis_players                               957\n",
       "Wikipedia_21st-century_American_novelists                            792\n",
       "Wikipedia_Political_analysts                                         338\n",
       "Wikipedia_Olympic_track_and_field_athletes_of_the_United_States       72\n",
       "Name: op_category, dtype: int64"
      ]
     },
     "execution_count": 23,
     "metadata": {},
     "output_type": "execute_result"
    }
   ],
   "source": [
    "# different op categories, make sure unique for post id\n",
    "unique_posts.op_category.value_counts()"
   ]
  },
  {
   "cell_type": "code",
   "execution_count": 24,
   "metadata": {},
   "outputs": [
    {
     "data": {
      "text/plain": [
       "W    99692\n",
       "M    49756\n",
       "Name: op_gender, dtype: int64"
      ]
     },
     "execution_count": 24,
     "metadata": {},
     "output_type": "execute_result"
    }
   ],
   "source": [
    "# different op genders, make sure unique for post id\n",
    "unique_posts.op_gender.value_counts()"
   ]
  },
  {
   "cell_type": "code",
   "execution_count": 25,
   "metadata": {},
   "outputs": [
    {
     "data": {
      "image/png": "[encoded data removed]",
      "text/plain": [
       "<Figure size 432x288 with 1 Axes>"
      ]
     },
     "metadata": {},
     "output_type": "display_data"
    }
   ],
   "source": [
    "# plot gender\n",
    "unique_posts.op_gender.value_counts().plot(kind='pie', autopct='%1.1f%%')\n",
    "\n",
    "# save figure\n",
    "plt.savefig('images/fbwiki_op_gender.png')\n",
    "\n",
    "# show plot\n",
    "plt.show()"
   ]
  },
  {
   "cell_type": "code",
   "execution_count": 26,
   "metadata": {},
   "outputs": [
    {
     "data": {
      "text/plain": [
       "71.5910350088325"
      ]
     },
     "execution_count": 26,
     "metadata": {},
     "output_type": "execute_result"
    }
   ],
   "source": [
    "# average num responses for everyone\n",
    "fb_wiki_df.post_id.value_counts().mean()"
   ]
  },
  {
   "cell_type": "code",
   "execution_count": 27,
   "metadata": {},
   "outputs": [
    {
     "name": "stdout",
     "output_type": "stream",
     "text": [
      "average responses when poster is male: 71.25723530830453\n",
      "average responses when poster is female: 71.75763351121454\n"
     ]
    }
   ],
   "source": [
    "# average number of responses per gender\n",
    "\n",
    "print('average responses when poster is male:', fb_wiki_df.groupby('op_gender').post_id.value_counts()['M'].mean())\n",
    "print('average responses when poster is female:', fb_wiki_df.groupby('op_gender').post_id.value_counts()['W'].mean())"
   ]
  },
  {
   "cell_type": "markdown",
   "metadata": {},
   "source": [
    "Basic analysis conclusion: This file is set up the same as Facebook Congress, so for the same reasons, we only have a figure for op_gender. Again, the average number of responses doesn't really vary between male and female posters.\n",
    "\n",
    "### Analysis of Fitocracy"
   ]
  },
  {
   "cell_type": "code",
   "execution_count": 28,
   "metadata": {},
   "outputs": [
    {
     "data": {
      "text/html": [
       "<div>\n",
       "<style scoped>\n",
       "    .dataframe tbody tr th:only-of-type {\n",
       "        vertical-align: middle;\n",
       "    }\n",
       "\n",
       "    .dataframe tbody tr th {\n",
       "        vertical-align: top;\n",
       "    }\n",
       "\n",
       "    .dataframe thead th {\n",
       "        text-align: right;\n",
       "    }\n",
       "</style>\n",
       "<table border=\"1\" class=\"dataframe\">\n",
       "  <thead>\n",
       "    <tr style=\"text-align: right;\">\n",
       "      <th></th>\n",
       "      <th>post_id</th>\n",
       "      <th>op_id</th>\n",
       "      <th>op_gender</th>\n",
       "      <th>responder_id</th>\n",
       "      <th>responder_gender</th>\n",
       "      <th>post_text</th>\n",
       "      <th>response_text</th>\n",
       "    </tr>\n",
       "  </thead>\n",
       "  <tbody>\n",
       "    <tr>\n",
       "      <th>0</th>\n",
       "      <td>0</td>\n",
       "      <td>102</td>\n",
       "      <td>W</td>\n",
       "      <td>1196122</td>\n",
       "      <td>M</td>\n",
       "      <td>Thanks for the follow!  I followed back :)  I ...</td>\n",
       "      <td>One day at a time! =]</td>\n",
       "    </tr>\n",
       "    <tr>\n",
       "      <th>1</th>\n",
       "      <td>1</td>\n",
       "      <td>104</td>\n",
       "      <td>W</td>\n",
       "      <td>5867</td>\n",
       "      <td>W</td>\n",
       "      <td>I've decided I have this crazy goal of running...</td>\n",
       "      <td>Crazy is synonymous with awesome in this case.</td>\n",
       "    </tr>\n",
       "    <tr>\n",
       "      <th>2</th>\n",
       "      <td>2</td>\n",
       "      <td>104</td>\n",
       "      <td>W</td>\n",
       "      <td>1635</td>\n",
       "      <td>M</td>\n",
       "      <td>Umm, yeah, so those are assisted pull-ups. Bef...</td>\n",
       "      <td>You can enter assisted pullups. Select pullups...</td>\n",
       "    </tr>\n",
       "    <tr>\n",
       "      <th>3</th>\n",
       "      <td>3</td>\n",
       "      <td>117</td>\n",
       "      <td>M</td>\n",
       "      <td>8520</td>\n",
       "      <td>W</td>\n",
       "      <td>dam gurl lookin mad tone in dat pp holla bb</td>\n",
       "      <td>Mirin 3% bodyfat? Yeah, you are.</td>\n",
       "    </tr>\n",
       "    <tr>\n",
       "      <th>4</th>\n",
       "      <td>4</td>\n",
       "      <td>117</td>\n",
       "      <td>M</td>\n",
       "      <td>29126</td>\n",
       "      <td>M</td>\n",
       "      <td>What's up there bear mode?</td>\n",
       "      <td>Hey! I just started a new job, so things are s...</td>\n",
       "    </tr>\n",
       "  </tbody>\n",
       "</table>\n",
       "</div>"
      ],
      "text/plain": [
       "   post_id  op_id op_gender  responder_id responder_gender  \\\n",
       "0        0    102         W       1196122                M   \n",
       "1        1    104         W          5867                W   \n",
       "2        2    104         W          1635                M   \n",
       "3        3    117         M          8520                W   \n",
       "4        4    117         M         29126                M   \n",
       "\n",
       "                                           post_text  \\\n",
       "0  Thanks for the follow!  I followed back :)  I ...   \n",
       "1  I've decided I have this crazy goal of running...   \n",
       "2  Umm, yeah, so those are assisted pull-ups. Bef...   \n",
       "3        dam gurl lookin mad tone in dat pp holla bb   \n",
       "4                         What's up there bear mode?   \n",
       "\n",
       "                                       response_text  \n",
       "0                              One day at a time! =]  \n",
       "1     Crazy is synonymous with awesome in this case.  \n",
       "2  You can enter assisted pullups. Select pullups...  \n",
       "3                   Mirin 3% bodyfat? Yeah, you are.  \n",
       "4  Hey! I just started a new job, so things are s...  "
      ]
     },
     "execution_count": 28,
     "metadata": {},
     "output_type": "execute_result"
    }
   ],
   "source": [
    "fitocracy_df.head()"
   ]
  },
  {
   "cell_type": "code",
   "execution_count": 29,
   "metadata": {},
   "outputs": [
    {
     "name": "stdout",
     "output_type": "stream",
     "text": [
      "318535\n",
      "318535\n"
     ]
    }
   ],
   "source": [
    "# make sure post id is unique again\n",
    "print(fitocracy_df.post_id.nunique())\n",
    "print(len(fitocracy_df.post_id))"
   ]
  },
  {
   "cell_type": "code",
   "execution_count": 30,
   "metadata": {},
   "outputs": [
    {
     "data": {
      "text/plain": [
       "M    173738\n",
       "W    144797\n",
       "Name: op_gender, dtype: int64"
      ]
     },
     "execution_count": 30,
     "metadata": {},
     "output_type": "execute_result"
    }
   ],
   "source": [
    "# different op genders\n",
    "fitocracy_df.op_gender.value_counts()"
   ]
  },
  {
   "cell_type": "code",
   "execution_count": 31,
   "metadata": {},
   "outputs": [
    {
     "data": {
      "image/png": "[encoded data removed]",
      "text/plain": [
       "<Figure size 432x288 with 1 Axes>"
      ]
     },
     "metadata": {},
     "output_type": "display_data"
    }
   ],
   "source": [
    "# plot gender\n",
    "fitocracy_df.op_gender.value_counts().plot(kind='pie', autopct='%1.1f%%')\n",
    "\n",
    "# save figure\n",
    "plt.savefig('images/fit_op_gender.png')\n",
    "\n",
    "# show plot\n",
    "plt.show()"
   ]
  },
  {
   "cell_type": "code",
   "execution_count": 32,
   "metadata": {},
   "outputs": [
    {
     "data": {
      "text/plain": [
       "W    163315\n",
       "M    155220\n",
       "Name: responder_gender, dtype: int64"
      ]
     },
     "execution_count": 32,
     "metadata": {},
     "output_type": "execute_result"
    }
   ],
   "source": [
    "# different responder genders\n",
    "fitocracy_df.responder_gender.value_counts()"
   ]
  },
  {
   "cell_type": "code",
   "execution_count": 33,
   "metadata": {},
   "outputs": [
    {
     "data": {
      "image/png": "[encoded data removed]",
      "text/plain": [
       "<Figure size 432x288 with 1 Axes>"
      ]
     },
     "metadata": {},
     "output_type": "display_data"
    }
   ],
   "source": [
    "# plot gender\n",
    "fitocracy_df.responder_gender.value_counts().plot(kind='pie', autopct='%1.1f%%')\n",
    "\n",
    "# save figure\n",
    "plt.savefig('images/fit_responder_gender.png')\n",
    "\n",
    "# show plot\n",
    "plt.show()"
   ]
  },
  {
   "cell_type": "code",
   "execution_count": 34,
   "metadata": {},
   "outputs": [
    {
     "data": {
      "text/plain": [
       "op_gender  responder_gender\n",
       "M          W                   94375\n",
       "           M                   79363\n",
       "W          M                   75857\n",
       "           W                   68940\n",
       "Name: responder_gender, dtype: int64"
      ]
     },
     "execution_count": 34,
     "metadata": {},
     "output_type": "execute_result"
    }
   ],
   "source": [
    "# can't do average number responses per gender - there is only one response per post\n",
    "\n",
    "# instead, look at how many males respond to males vs. females and how many females respond to males vs. females\n",
    "fitocracy_df.groupby('op_gender').responder_gender.value_counts()"
   ]
  },
  {
   "cell_type": "code",
   "execution_count": 36,
   "metadata": {},
   "outputs": [
    {
     "data": {
      "image/png": "[encoded data removed]",
      "text/plain": [
       "<Figure size 432x288 with 1 Axes>"
      ]
     },
     "metadata": {
      "needs_background": "light"
     },
     "output_type": "display_data"
    }
   ],
   "source": [
    "# plot this\n",
    "fitocracy_df.groupby('op_gender').responder_gender.value_counts().unstack().plot(kind='bar')\n",
    "\n",
    "# save figure\n",
    "plt.savefig('images/fit_gender_groupby.png')\n",
    "\n",
    "# show graph\n",
    "plt.show()"
   ]
  },
  {
   "cell_type": "markdown",
   "metadata": {},
   "source": [
    "Basic analysis conclusion: This time, male vs. female posters/responders is much more evenly distributed. Additionally, we can see that when op_gender is male, there are more female responders than male responders and when op_gender is female, there are more male responders than female responders. This is interesting!\n",
    "\n",
    "### Analysis of Reddit"
   ]
  },
  {
   "cell_type": "code",
   "execution_count": 37,
   "metadata": {},
   "outputs": [
    {
     "data": {
      "text/html": [
       "<div>\n",
       "<style scoped>\n",
       "    .dataframe tbody tr th:only-of-type {\n",
       "        vertical-align: middle;\n",
       "    }\n",
       "\n",
       "    .dataframe tbody tr th {\n",
       "        vertical-align: top;\n",
       "    }\n",
       "\n",
       "    .dataframe thead th {\n",
       "        text-align: right;\n",
       "    }\n",
       "</style>\n",
       "<table border=\"1\" class=\"dataframe\">\n",
       "  <thead>\n",
       "    <tr style=\"text-align: right;\">\n",
       "      <th></th>\n",
       "      <th>post_id</th>\n",
       "      <th>subreddit</th>\n",
       "      <th>op_id</th>\n",
       "      <th>op_gender</th>\n",
       "      <th>op_gender_visible</th>\n",
       "      <th>responder_id</th>\n",
       "      <th>responder_gender</th>\n",
       "      <th>responder_gender_visible</th>\n",
       "      <th>post_text</th>\n",
       "      <th>response_text</th>\n",
       "    </tr>\n",
       "  </thead>\n",
       "  <tbody>\n",
       "    <tr>\n",
       "      <th>0</th>\n",
       "      <td>0</td>\n",
       "      <td>2007scape</td>\n",
       "      <td>Kastoli</td>\n",
       "      <td>M</td>\n",
       "      <td>False</td>\n",
       "      <td>Thunda_Storm</td>\n",
       "      <td></td>\n",
       "      <td>unknown_gender</td>\n",
       "      <td>slayer task perhaps?</td>\n",
       "      <td>or low level. I mean hes wearing black armour ...</td>\n",
       "    </tr>\n",
       "    <tr>\n",
       "      <th>1</th>\n",
       "      <td>1</td>\n",
       "      <td>2007scape</td>\n",
       "      <td>Kastoli</td>\n",
       "      <td>M</td>\n",
       "      <td>False</td>\n",
       "      <td>Thunda_Storm</td>\n",
       "      <td></td>\n",
       "      <td>unknown_gender</td>\n",
       "      <td>Black DHide legs, possibly an initiate pure?</td>\n",
       "      <td>So... Low level</td>\n",
       "    </tr>\n",
       "    <tr>\n",
       "      <th>2</th>\n",
       "      <td>2</td>\n",
       "      <td>2007scape</td>\n",
       "      <td>DCBizzle</td>\n",
       "      <td>M</td>\n",
       "      <td>False</td>\n",
       "      <td>minixmatt</td>\n",
       "      <td></td>\n",
       "      <td>unknown_gender</td>\n",
       "      <td>Whats a tonk? lol</td>\n",
       "      <td>&lt;link&gt;  TONK, TONK</td>\n",
       "    </tr>\n",
       "    <tr>\n",
       "      <th>3</th>\n",
       "      <td>3</td>\n",
       "      <td>2007scape</td>\n",
       "      <td>ordona</td>\n",
       "      <td>M</td>\n",
       "      <td>False</td>\n",
       "      <td>Namiweso</td>\n",
       "      <td></td>\n",
       "      <td>unknown_gender</td>\n",
       "      <td>Do the Stronghold of Security for a free 10k t...</td>\n",
       "      <td>Thanks I forgot about that place! :)</td>\n",
       "    </tr>\n",
       "    <tr>\n",
       "      <th>4</th>\n",
       "      <td>4</td>\n",
       "      <td>2007scape</td>\n",
       "      <td>SlayerMaster</td>\n",
       "      <td>M</td>\n",
       "      <td>False</td>\n",
       "      <td>Quantization</td>\n",
       "      <td></td>\n",
       "      <td>unknown_gender</td>\n",
       "      <td>I cant tell if this guy just doesnt speak Engl...</td>\n",
       "      <td>Or hes just trolling.</td>\n",
       "    </tr>\n",
       "  </tbody>\n",
       "</table>\n",
       "</div>"
      ],
      "text/plain": [
       "   post_id  subreddit         op_id op_gender  op_gender_visible  \\\n",
       "0        0  2007scape       Kastoli         M              False   \n",
       "1        1  2007scape       Kastoli         M              False   \n",
       "2        2  2007scape      DCBizzle         M              False   \n",
       "3        3  2007scape        ordona         M              False   \n",
       "4        4  2007scape  SlayerMaster         M              False   \n",
       "\n",
       "   responder_id responder_gender responder_gender_visible  \\\n",
       "0  Thunda_Storm                            unknown_gender   \n",
       "1  Thunda_Storm                            unknown_gender   \n",
       "2     minixmatt                            unknown_gender   \n",
       "3      Namiweso                            unknown_gender   \n",
       "4  Quantization                            unknown_gender   \n",
       "\n",
       "                                           post_text  \\\n",
       "0                               slayer task perhaps?   \n",
       "1       Black DHide legs, possibly an initiate pure?   \n",
       "2                                  Whats a tonk? lol   \n",
       "3  Do the Stronghold of Security for a free 10k t...   \n",
       "4  I cant tell if this guy just doesnt speak Engl...   \n",
       "\n",
       "                                       response_text  \n",
       "0  or low level. I mean hes wearing black armour ...  \n",
       "1                                    So... Low level  \n",
       "2                                 <link>  TONK, TONK  \n",
       "3               Thanks I forgot about that place! :)  \n",
       "4                              Or hes just trolling.  "
      ]
     },
     "execution_count": 37,
     "metadata": {},
     "output_type": "execute_result"
    }
   ],
   "source": [
    "reddit_df.head()"
   ]
  },
  {
   "cell_type": "code",
   "execution_count": 38,
   "metadata": {},
   "outputs": [
    {
     "name": "stdout",
     "output_type": "stream",
     "text": [
      "1453512\n",
      "1453512\n"
     ]
    }
   ],
   "source": [
    "# make sure post id is unique again\n",
    "print(reddit_df.post_id.nunique())\n",
    "print(len(reddit_df.post_id))"
   ]
  },
  {
   "cell_type": "code",
   "execution_count": 39,
   "metadata": {},
   "outputs": [
    {
     "data": {
      "text/plain": [
       "AskReddit               344400\n",
       "AskMen                  133920\n",
       "politics                 46727\n",
       "funny                    44761\n",
       "pics                     42920\n",
       "relationships            34809\n",
       "AdviceAnimals            33965\n",
       "worldnews                33571\n",
       "todayilearned            32652\n",
       "nba                      32242\n",
       "gaming                   27855\n",
       "news                     27225\n",
       "nfl                      27194\n",
       "videos                   26940\n",
       "WTF                      26682\n",
       "soccer                   22315\n",
       "leagueoflegends          22151\n",
       "CasualConversation       21517\n",
       "movies                   20567\n",
       "OkCupid                  18239\n",
       "CFB                      16025\n",
       "anime                    15254\n",
       "europe                   15233\n",
       "hockey                   14949\n",
       "Fitness                  14909\n",
       "teenagers                12809\n",
       "pcmasterrace             11841\n",
       "explainlikeimfive        11270\n",
       "SquaredCircle            11249\n",
       "technology               11244\n",
       "                         ...  \n",
       "xboxone                   2932\n",
       "heroesofthestorm          2456\n",
       "marvelstudios             2319\n",
       "gonewild                  2310\n",
       "Jokes                     2251\n",
       "Warframe                  2034\n",
       "pathofexile               1771\n",
       "RocketLeague              1766\n",
       "Bitcoin                   1726\n",
       "TheSilphRoad              1650\n",
       "me_irl                    1371\n",
       "Philippines               1295\n",
       "PUBATTLEGROUNDS           1204\n",
       "NintendoSwitch            1117\n",
       "FIFA                      1014\n",
       "2007scape                  928\n",
       "rupaulsdragrace            881\n",
       "Amd                        879\n",
       "counting                   798\n",
       "FFBraveExvius              696\n",
       "FireEmblemHeroes           685\n",
       "GlobalOffensiveTrade       681\n",
       "DBZDokkanBattle            523\n",
       "Rainbow6                   477\n",
       "dankmemes                  374\n",
       "RocketLeagueExchange       363\n",
       "ethtrader                  205\n",
       "AskOuija                   117\n",
       "Ice_Poseidon                37\n",
       "SolutionGambling             2\n",
       "Name: subreddit, Length: 98, dtype: int64"
      ]
     },
     "execution_count": 39,
     "metadata": {},
     "output_type": "execute_result"
    }
   ],
   "source": [
    "# different subreddits\n",
    "reddit_df.subreddit.value_counts()"
   ]
  },
  {
   "cell_type": "code",
   "execution_count": 40,
   "metadata": {},
   "outputs": [
    {
     "data": {
      "text/plain": [
       "M    1148591\n",
       "W     304921\n",
       "Name: op_gender, dtype: int64"
      ]
     },
     "execution_count": 40,
     "metadata": {},
     "output_type": "execute_result"
    }
   ],
   "source": [
    "# different op genders\n",
    "reddit_df.op_gender.value_counts()"
   ]
  },
  {
   "cell_type": "code",
   "execution_count": 41,
   "metadata": {},
   "outputs": [
    {
     "data": {
      "image/png": "[encoded data removed]",
      "text/plain": [
       "<Figure size 432x288 with 1 Axes>"
      ]
     },
     "metadata": {},
     "output_type": "display_data"
    }
   ],
   "source": [
    "# plot gender\n",
    "reddit_df.op_gender.value_counts().plot(kind='pie', autopct='%1.1f%%')\n",
    "\n",
    "# save figure\n",
    "plt.savefig('images/reddit_op_gender.png')\n",
    "\n",
    "# show plot\n",
    "plt.show()"
   ]
  },
  {
   "cell_type": "code",
   "execution_count": 42,
   "metadata": {},
   "outputs": [
    {
     "data": {
      "text/plain": [
       "     1320290\n",
       "M     102530\n",
       "W      30692\n",
       "Name: responder_gender, dtype: int64"
      ]
     },
     "execution_count": 42,
     "metadata": {},
     "output_type": "execute_result"
    }
   ],
   "source": [
    "# different responder genders\n",
    "reddit_df.responder_gender.value_counts()\n",
    "# blank is unknown"
   ]
  },
  {
   "cell_type": "code",
   "execution_count": 43,
   "metadata": {},
   "outputs": [
    {
     "data": {
      "image/png": "[encoded data removed]",
      "text/plain": [
       "<Figure size 432x288 with 1 Axes>"
      ]
     },
     "metadata": {},
     "output_type": "display_data"
    }
   ],
   "source": [
    "# plot gender\n",
    "labels = ['unknown','M','W']\n",
    "reddit_df.responder_gender.value_counts().plot(kind='pie', labels=labels, autopct='%1.1f%%')\n",
    "\n",
    "# save figure\n",
    "plt.savefig('images/reddit_responder_gender.png')\n",
    "\n",
    "# show plot\n",
    "plt.show()"
   ]
  },
  {
   "cell_type": "code",
   "execution_count": 45,
   "metadata": {},
   "outputs": [
    {
     "data": {
      "text/plain": [
       "op_gender  responder_gender\n",
       "M          M                   80705\n",
       "           W                   22883\n",
       "W          M                   21825\n",
       "           W                    7809\n",
       "Name: responder_gender, dtype: int64"
      ]
     },
     "execution_count": 45,
     "metadata": {},
     "output_type": "execute_result"
    }
   ],
   "source": [
    "# look at how many males respond to males vs. females and how many females respond to males vs. females\n",
    "# eliminating when unknown\n",
    "reddit_df[reddit_df.responder_gender != ''].groupby('op_gender').responder_gender.value_counts()"
   ]
  },
  {
   "cell_type": "code",
   "execution_count": 46,
   "metadata": {},
   "outputs": [
    {
     "data": {
      "image/png": "[encoded data removed]",
      "text/plain": [
       "<Figure size 432x288 with 1 Axes>"
      ]
     },
     "metadata": {
      "needs_background": "light"
     },
     "output_type": "display_data"
    }
   ],
   "source": [
    "# plot this\n",
    "reddit_df[reddit_df.responder_gender != ''].groupby('op_gender').responder_gender.value_counts().unstack().plot(kind='bar')\n",
    "\n",
    "# save figure\n",
    "plt.savefig('images/reddit_gender_groupby.png')\n",
    "\n",
    "# show graph\n",
    "plt.show()"
   ]
  },
  {
   "cell_type": "markdown",
   "metadata": {},
   "source": [
    "Let's look at male vs. female posters by subreddit and see if we can find any patterns. It was my assumption that maybe there was so much more male posters and responders was because of the prominent AskMen subreddit."
   ]
  },
  {
   "cell_type": "code",
   "execution_count": 47,
   "metadata": {},
   "outputs": [
    {
     "data": {
      "text/html": [
       "<div>\n",
       "<style scoped>\n",
       "    .dataframe tbody tr th:only-of-type {\n",
       "        vertical-align: middle;\n",
       "    }\n",
       "\n",
       "    .dataframe tbody tr th {\n",
       "        vertical-align: top;\n",
       "    }\n",
       "\n",
       "    .dataframe thead th {\n",
       "        text-align: right;\n",
       "    }\n",
       "</style>\n",
       "<table border=\"1\" class=\"dataframe\">\n",
       "  <thead>\n",
       "    <tr style=\"text-align: right;\">\n",
       "      <th>op_gender</th>\n",
       "      <th>M</th>\n",
       "      <th>W</th>\n",
       "    </tr>\n",
       "    <tr>\n",
       "      <th>subreddit</th>\n",
       "      <th></th>\n",
       "      <th></th>\n",
       "    </tr>\n",
       "  </thead>\n",
       "  <tbody>\n",
       "    <tr>\n",
       "      <th>2007scape</th>\n",
       "      <td>886.0</td>\n",
       "      <td>42.0</td>\n",
       "    </tr>\n",
       "    <tr>\n",
       "      <th>AdviceAnimals</th>\n",
       "      <td>25525.0</td>\n",
       "      <td>8440.0</td>\n",
       "    </tr>\n",
       "    <tr>\n",
       "      <th>Amd</th>\n",
       "      <td>860.0</td>\n",
       "      <td>19.0</td>\n",
       "    </tr>\n",
       "    <tr>\n",
       "      <th>AskMen</th>\n",
       "      <td>110542.0</td>\n",
       "      <td>23378.0</td>\n",
       "    </tr>\n",
       "    <tr>\n",
       "      <th>AskOuija</th>\n",
       "      <td>98.0</td>\n",
       "      <td>19.0</td>\n",
       "    </tr>\n",
       "  </tbody>\n",
       "</table>\n",
       "</div>"
      ],
      "text/plain": [
       "op_gender             M        W\n",
       "subreddit                       \n",
       "2007scape         886.0     42.0\n",
       "AdviceAnimals   25525.0   8440.0\n",
       "Amd               860.0     19.0\n",
       "AskMen         110542.0  23378.0\n",
       "AskOuija           98.0     19.0"
      ]
     },
     "execution_count": 47,
     "metadata": {},
     "output_type": "execute_result"
    }
   ],
   "source": [
    "# copying in from another file, but I thought it was important to look at again\n",
    "subgroups = reddit_df.groupby('subreddit').op_gender.value_counts()\n",
    "subgroups_df = subgroups.unstack()\n",
    "subgroups_df.head()"
   ]
  },
  {
   "cell_type": "code",
   "execution_count": 48,
   "metadata": {},
   "outputs": [
    {
     "data": {
      "image/png": "[encoded data removed]",
      "text/plain": [
       "<Figure size 1440x720 with 1 Axes>"
      ]
     },
     "metadata": {
      "needs_background": "light"
     },
     "output_type": "display_data"
    }
   ],
   "source": [
    "# graph the first 20 subreddits to get some idea\n",
    "subgroups_df[:20].plot(kind='bar', figsize=(20,10))\n",
    "\n",
    "# save figure\n",
    "plt.savefig('images/subreddits.png')\n",
    "\n",
    "# show graph\n",
    "plt.show()"
   ]
  },
  {
   "cell_type": "markdown",
   "metadata": {},
   "source": [
    "So just looking at a flash of the data, 'AskMen' doesn't seem to stand out as a much higher male:female ratio. It seems like most have more male. Maybe Reddit is just a male-dominated site.\n",
    "\n",
    "Are there any groups where there are more women? From the graph, it looks like the subreddit \"BigBrother\" has more female posters. Let's see what else..."
   ]
  },
  {
   "cell_type": "code",
   "execution_count": 49,
   "metadata": {},
   "outputs": [
    {
     "data": {
      "text/html": [
       "<div>\n",
       "<style scoped>\n",
       "    .dataframe tbody tr th:only-of-type {\n",
       "        vertical-align: middle;\n",
       "    }\n",
       "\n",
       "    .dataframe tbody tr th {\n",
       "        vertical-align: top;\n",
       "    }\n",
       "\n",
       "    .dataframe thead th {\n",
       "        text-align: right;\n",
       "    }\n",
       "</style>\n",
       "<table border=\"1\" class=\"dataframe\">\n",
       "  <thead>\n",
       "    <tr style=\"text-align: right;\">\n",
       "      <th>op_gender</th>\n",
       "      <th>M</th>\n",
       "      <th>W</th>\n",
       "    </tr>\n",
       "    <tr>\n",
       "      <th>subreddit</th>\n",
       "      <th></th>\n",
       "      <th></th>\n",
       "    </tr>\n",
       "  </thead>\n",
       "  <tbody>\n",
       "    <tr>\n",
       "      <th>BigBrother</th>\n",
       "      <td>3564.0</td>\n",
       "      <td>4647.0</td>\n",
       "    </tr>\n",
       "    <tr>\n",
       "      <th>aww</th>\n",
       "      <td>4400.0</td>\n",
       "      <td>4597.0</td>\n",
       "    </tr>\n",
       "    <tr>\n",
       "      <th>counting</th>\n",
       "      <td>267.0</td>\n",
       "      <td>531.0</td>\n",
       "    </tr>\n",
       "    <tr>\n",
       "      <th>relationships</th>\n",
       "      <td>10951.0</td>\n",
       "      <td>23858.0</td>\n",
       "    </tr>\n",
       "    <tr>\n",
       "      <th>rupaulsdragrace</th>\n",
       "      <td>153.0</td>\n",
       "      <td>728.0</td>\n",
       "    </tr>\n",
       "  </tbody>\n",
       "</table>\n",
       "</div>"
      ],
      "text/plain": [
       "op_gender              M        W\n",
       "subreddit                        \n",
       "BigBrother        3564.0   4647.0\n",
       "aww               4400.0   4597.0\n",
       "counting           267.0    531.0\n",
       "relationships    10951.0  23858.0\n",
       "rupaulsdragrace    153.0    728.0"
      ]
     },
     "execution_count": 49,
     "metadata": {},
     "output_type": "execute_result"
    }
   ],
   "source": [
    "subgroups_df[subgroups_df.W > subgroups_df.M]"
   ]
  },
  {
   "cell_type": "markdown",
   "metadata": {},
   "source": [
    "So with all these subreddits - there are only 5 that have more female than male posters!\n",
    "\n",
    "Basic analysis conclusion: With this data set, the men seem to dominate the distribution in both posters and responders. Thus, it makes sense that there are more male responders for both male and female posters."
   ]
  },
  {
   "cell_type": "markdown",
   "metadata": {},
   "source": [
    "### Analysis of TED"
   ]
  },
  {
   "cell_type": "code",
   "execution_count": 50,
   "metadata": {},
   "outputs": [
    {
     "data": {
      "text/html": [
       "<div>\n",
       "<style scoped>\n",
       "    .dataframe tbody tr th:only-of-type {\n",
       "        vertical-align: middle;\n",
       "    }\n",
       "\n",
       "    .dataframe tbody tr th {\n",
       "        vertical-align: top;\n",
       "    }\n",
       "\n",
       "    .dataframe thead th {\n",
       "        text-align: right;\n",
       "    }\n",
       "</style>\n",
       "<table border=\"1\" class=\"dataframe\">\n",
       "  <thead>\n",
       "    <tr style=\"text-align: right;\">\n",
       "      <th></th>\n",
       "      <th>post_id</th>\n",
       "      <th>op_id</th>\n",
       "      <th>op_gender</th>\n",
       "      <th>responder_id</th>\n",
       "      <th>response_text</th>\n",
       "    </tr>\n",
       "  </thead>\n",
       "  <tbody>\n",
       "    <tr>\n",
       "      <th>0</th>\n",
       "      <td>0</td>\n",
       "      <td>Aimee Mullins</td>\n",
       "      <td>W</td>\n",
       "      <td>Laura</td>\n",
       "      <td>She seems like a truly amazing person, regardl...</td>\n",
       "    </tr>\n",
       "    <tr>\n",
       "      <th>1</th>\n",
       "      <td>1</td>\n",
       "      <td>Aimee Mullins</td>\n",
       "      <td>W</td>\n",
       "      <td>Ellen</td>\n",
       "      <td>Aimee's true \"disability\" is when people treat...</td>\n",
       "    </tr>\n",
       "    <tr>\n",
       "      <th>2</th>\n",
       "      <td>2</td>\n",
       "      <td>Aimee Mullins</td>\n",
       "      <td>W</td>\n",
       "      <td>Tanya</td>\n",
       "      <td>I love that she took away some of the mystery ...</td>\n",
       "    </tr>\n",
       "    <tr>\n",
       "      <th>3</th>\n",
       "      <td>3</td>\n",
       "      <td>Aimee Mullins</td>\n",
       "      <td>W</td>\n",
       "      <td>Salim</td>\n",
       "      <td>VERY inspiring indeed! I love these TED antiqu...</td>\n",
       "    </tr>\n",
       "    <tr>\n",
       "      <th>4</th>\n",
       "      <td>4</td>\n",
       "      <td>Aimee Mullins</td>\n",
       "      <td>W</td>\n",
       "      <td>Kiruba</td>\n",
       "      <td>We take running so much for granted that most ...</td>\n",
       "    </tr>\n",
       "  </tbody>\n",
       "</table>\n",
       "</div>"
      ],
      "text/plain": [
       "   post_id          op_id op_gender responder_id  \\\n",
       "0        0  Aimee Mullins         W        Laura   \n",
       "1        1  Aimee Mullins         W        Ellen   \n",
       "2        2  Aimee Mullins         W        Tanya   \n",
       "3        3  Aimee Mullins         W        Salim   \n",
       "4        4  Aimee Mullins         W       Kiruba   \n",
       "\n",
       "                                       response_text  \n",
       "0  She seems like a truly amazing person, regardl...  \n",
       "1  Aimee's true \"disability\" is when people treat...  \n",
       "2  I love that she took away some of the mystery ...  \n",
       "3  VERY inspiring indeed! I love these TED antiqu...  \n",
       "4  We take running so much for granted that most ...  "
      ]
     },
     "execution_count": 50,
     "metadata": {},
     "output_type": "execute_result"
    }
   ],
   "source": [
    "ted_responses_df.head()"
   ]
  },
  {
   "cell_type": "code",
   "execution_count": 51,
   "metadata": {},
   "outputs": [
    {
     "data": {
      "text/plain": [
       "M    144336\n",
       "W     46011\n",
       "Name: op_gender, dtype: int64"
      ]
     },
     "execution_count": 51,
     "metadata": {},
     "output_type": "execute_result"
    }
   ],
   "source": [
    "# different op genders\n",
    "ted_responses_df.op_gender.value_counts()"
   ]
  },
  {
   "cell_type": "code",
   "execution_count": 54,
   "metadata": {},
   "outputs": [
    {
     "data": {
      "image/png": "[encoded data removed]",
      "text/plain": [
       "<Figure size 432x288 with 1 Axes>"
      ]
     },
     "metadata": {},
     "output_type": "display_data"
    }
   ],
   "source": [
    "# plot gender\n",
    "ted_responses_df.op_gender.value_counts().plot(kind='pie', autopct='%1.1f%%')\n",
    "\n",
    "# save figure\n",
    "plt.savefig('images/ted_op_gender.png')\n",
    "\n",
    "# show plot\n",
    "plt.show()"
   ]
  },
  {
   "cell_type": "markdown",
   "metadata": {},
   "source": [
    "Basic analysis conclusion: There are a lot more male \"posters\" than female. Not much else to analyze here..."
   ]
  },
  {
   "cell_type": "markdown",
   "metadata": {},
   "source": [
    "## Conduct linguistic analysis\n",
    "Next, we'll look at the actual text. Let's start by conducting some simple linguistic analysis, like token count, sentence length, and TTR.\n",
    "\n",
    "### Facebook Congress linguistic analysis"
   ]
  },
  {
   "cell_type": "code",
   "execution_count": null,
   "metadata": {},
   "outputs": [],
   "source": [
    "# making a smaller sample to do analysis on since it's way too big\n",
    "# how big again?\n",
    "fb_congress_df.info()"
   ]
  },
  {
   "cell_type": "code",
   "execution_count": null,
   "metadata": {},
   "outputs": [],
   "source": [
    "fb_congress_df.op_category.value_counts()"
   ]
  },
  {
   "cell_type": "code",
   "execution_count": null,
   "metadata": {},
   "outputs": [],
   "source": [
    "# so there are 14M entries. That's a TON to tokenize. Let's take a sample of 50,000\n",
    "# should I do a stratified sample?\n",
    "fb_congress_sample = fb_congress_df.sample(50000)\n",
    "fb_congress_sample.sort_index(inplace=True)\n",
    "fb_congress_sample.head()"
   ]
  },
  {
   "cell_type": "code",
   "execution_count": null,
   "metadata": {},
   "outputs": [],
   "source": [
    "# make sure we still have all post types, op categories, and op genders\n",
    "print(fb_congress_sample.post_type.value_counts())\n",
    "print(fb_congress_sample.op_category.value_counts())\n",
    "print(fb_congress_sample.op_gender.value_counts())"
   ]
  },
  {
   "cell_type": "code",
   "execution_count": null,
   "metadata": {},
   "outputs": [],
   "source": [
    "# use nltk's tokenizer\n",
    "import nltk\n",
    "\n",
    "fb_congress_sample['post_tokens'] = fb_congress_sample.post_text.map(nltk.word_tokenize)\n",
    "fb_congress_sample['response_tokens'] = fb_congress_sample.response_text.map(nltk.word_tokenize)"
   ]
  },
  {
   "cell_type": "code",
   "execution_count": null,
   "metadata": {},
   "outputs": [],
   "source": [
    "# find text length\n",
    "fb_congress_sample['post_length'] = fb_congress_sample.post_tokens.map(len)\n",
    "fb_congress_sample['response_length'] = fb_congress_sample.response_tokens.map(len)\n",
    "\n",
    "fb_congress_sample.head()"
   ]
  },
  {
   "cell_type": "markdown",
   "metadata": {},
   "source": [
    "Let's look at length in a boxplot grouping by gender!"
   ]
  },
  {
   "cell_type": "code",
   "execution_count": null,
   "metadata": {},
   "outputs": [],
   "source": [
    "sns.catplot(x='op_gender', y='post_length', kind='box', data=fb_congress_sample)\n",
    "print('average post length when poster is male:',\n",
    "      fb_congress_sample[fb_congress_sample.op_gender == 'M'].post_length.mean())\n",
    "print('average post length when poster is female:',\n",
    "      fb_congress_sample[fb_congress_sample.op_gender == 'W'].post_length.mean())"
   ]
  },
  {
   "cell_type": "markdown",
   "metadata": {},
   "source": [
    "So female posters seem to typically have longer posts than male posters! Let's look at some more details:"
   ]
  },
  {
   "cell_type": "code",
   "execution_count": null,
   "metadata": {},
   "outputs": [],
   "source": [
    "fb_congress_sample.groupby('op_gender')[['post_length','response_length']].describe()"
   ]
  },
  {
   "cell_type": "code",
   "execution_count": null,
   "metadata": {},
   "outputs": [],
   "source": [
    "# plot the response length too\n",
    "sns.catplot(x='op_gender', y='response_length', kind='box', data=fb_congress_sample)\n",
    "\n",
    "print('average response length when poster is male:',\n",
    "      fb_congress_sample[fb_congress_sample.op_gender == 'M'].response_length.mean())\n",
    "print('average response length when poster is female:',\n",
    "      fb_congress_sample[fb_congress_sample.op_gender == 'W'].response_length.mean())"
   ]
  },
  {
   "cell_type": "markdown",
   "metadata": {},
   "source": [
    "This time, op_gender doesn't make much of a difference in the length of the responses."
   ]
  },
  {
   "cell_type": "code",
   "execution_count": null,
   "metadata": {},
   "outputs": [],
   "source": [
    "# getting sentence lengths\n",
    "post_sent_count = fb_congress_sample.post_text.map(lambda x: len(nltk.sent_tokenize(x)))\n",
    "response_sent_count = fb_congress_sample.response_text.map(lambda x: len(nltk.sent_tokenize(x)))"
   ]
  },
  {
   "cell_type": "code",
   "execution_count": null,
   "metadata": {},
   "outputs": [],
   "source": [
    "# find average sentence length\n",
    "post_avg_sent_length = fb_congress_sample.post_length / post_sent_count\n",
    "response_avg_sent_length = fb_congress_sample.response_length / response_sent_count"
   ]
  },
  {
   "cell_type": "code",
   "execution_count": null,
   "metadata": {},
   "outputs": [],
   "source": [
    "# make new columns\n",
    "fb_congress_sample['post_avg_slen'] = post_avg_sent_length\n",
    "fb_congress_sample['response_avg_slen'] = response_avg_sent_length\n",
    "\n",
    "fb_congress_sample.head()"
   ]
  },
  {
   "cell_type": "code",
   "execution_count": null,
   "metadata": {},
   "outputs": [],
   "source": [
    "# does gender of poster have an impact on sentence length?\n",
    "fb_congress_sample.groupby('op_gender')[['post_avg_slen','response_avg_slen']].describe()"
   ]
  },
  {
   "cell_type": "markdown",
   "metadata": {},
   "source": [
    "It seems like female posters may use slightly longer sentences than male posters. Again, the length of the responses doesn't seem to change dependent on the gender of the poster.\n",
    "\n",
    "Should we add a TTR column?"
   ]
  },
  {
   "cell_type": "code",
   "execution_count": null,
   "metadata": {},
   "outputs": [],
   "source": [
    "# define TTR\n",
    "def get_ttr(tokens):\n",
    "    lower = [w.lower() for w in tokens]\n",
    "    if len(lower) == 0:   # sometimes there was no text\n",
    "        return None\n",
    "    else:\n",
    "        return len(set(lower))/len(lower)"
   ]
  },
  {
   "cell_type": "code",
   "execution_count": null,
   "metadata": {},
   "outputs": [],
   "source": [
    "# add to df\n",
    "#fb_congress_sample['post_TTR'] = fb_congress_sample.post_tokens.map(get_ttr)\n",
    "#fb_congress_sample['response_TTR'] = fb_congress_sample.response_tokens.map(get_ttr)\n",
    "#fb_congress_sample.head()"
   ]
  },
  {
   "cell_type": "markdown",
   "metadata": {},
   "source": [
    "Commented the above out because: is TTR even useful here? Sometimes the responses are so short that they have a TTR of 1. This doesn't help us.\n",
    "\n",
    "It doesn't seem to make sense to calculate TTR at all since online posts are pretty short to begin with. TTR isn't very meaningful when there aren't very many words to even look at.\n",
    "\n",
    "How about average google k-band?"
   ]
  },
  {
   "cell_type": "code",
   "execution_count": null,
   "metadata": {},
   "outputs": [],
   "source": [
    "# thanks Na-Rae for this code!\n",
    "\n",
    "# reading file and setting up\n",
    "# credit of the Google 1T English unigram frequency list goes to Peter Norbig's site: http://norvig.com/ngrams/\n",
    "# these files can be used under the MIT license\n",
    "google_1gram_lines = open('count_1w.txt').readlines()\n",
    "google_1gram_tup = [tuple(line.split()) for line in google_1gram_lines]\n",
    "google_1gram_rank = {word:index+1 for (index,(word, count)) in enumerate(google_1gram_tup)}"
   ]
  },
  {
   "cell_type": "code",
   "execution_count": null,
   "metadata": {},
   "outputs": [],
   "source": [
    "# thanks Na-Rae for this code!\n",
    "\n",
    "import math\n",
    "\n",
    "def get_avg_google_kband(toks):\n",
    "    \"\"\"\n",
    "    Computes the average K-band value from a list of tokens. \n",
    "    Limited to 20 K-bands: all words outside top 20,000 are excluded. \n",
    "    \"\"\"\n",
    "    kbands = []\n",
    "    for t in toks:\n",
    "        if t.lower() in google_1gram_rank: \n",
    "           grank = google_1gram_rank[t.lower()]\n",
    "           if grank <= 20000:  # limiting to 20k \n",
    "               kband = math.floor(grank/1000)+1\n",
    "               kbands.append(kband)\n",
    "               #print(t, grank, kband)\n",
    "    return np.mean(kbands)"
   ]
  },
  {
   "cell_type": "code",
   "execution_count": null,
   "metadata": {},
   "outputs": [],
   "source": [
    "# applying to df\n",
    "fb_congress_sample['post_avg_kband'] = fb_congress_sample.post_tokens.map(get_avg_google_kband)\n",
    "fb_congress_sample['response_avg_kband'] = fb_congress_sample.response_tokens.map(get_avg_google_kband)\n",
    "\n",
    "fb_congress_sample.head()"
   ]
  },
  {
   "cell_type": "code",
   "execution_count": null,
   "metadata": {},
   "outputs": [],
   "source": [
    "fb_congress_sample.groupby('op_gender')['post_avg_kband', 'response_avg_kband'].describe()"
   ]
  },
  {
   "cell_type": "markdown",
   "metadata": {},
   "source": [
    "What does this tell us? Not much - the average k-band is about the same for male vs. female posters and in responses to male vs. female posters."
   ]
  },
  {
   "cell_type": "markdown",
   "metadata": {},
   "source": [
    "### Facebook Wiki linguistic analysis"
   ]
  },
  {
   "cell_type": "code",
   "execution_count": null,
   "metadata": {},
   "outputs": [],
   "source": [
    "# how big is this one again?\n",
    "fb_wiki_df.info()"
   ]
  },
  {
   "cell_type": "code",
   "execution_count": null,
   "metadata": {},
   "outputs": [],
   "source": [
    "# still too large for my analysis, let's reduce to 50,000 again\n",
    "fb_wiki_sample = fb_wiki_df.sample(50000)\n",
    "fb_wiki_sample.sort_index(inplace=True)"
   ]
  },
  {
   "cell_type": "code",
   "execution_count": null,
   "metadata": {},
   "outputs": [],
   "source": [
    "# tokenize...\n",
    "fb_wiki_sample['post_tokens'] = fb_wiki_sample.post_text.map(nltk.word_tokenize)\n",
    "fb_wiki_sample['response_tokens'] = fb_wiki_sample.response_text.map(nltk.word_tokenize)\n",
    "\n",
    "# ... and find length\n",
    "fb_wiki_sample['post_length'] = fb_wiki_sample.post_tokens.map(len)\n",
    "fb_wiki_sample['response_length'] = fb_wiki_sample.response_tokens.map(len)\n",
    "\n",
    "fb_wiki_sample.head()"
   ]
  },
  {
   "cell_type": "code",
   "execution_count": null,
   "metadata": {},
   "outputs": [],
   "source": [
    "sns.catplot(x='op_gender', y='post_length', kind='box', data=fb_wiki_sample)\n",
    "\n",
    "print('average post length when poster is male:',\n",
    "      fb_wiki_sample[fb_wiki_sample.op_gender == 'M'].post_length.mean())\n",
    "print('average post length when poster is female:',\n",
    "      fb_wiki_sample[fb_wiki_sample.op_gender == 'W'].post_length.mean())"
   ]
  },
  {
   "cell_type": "markdown",
   "metadata": {},
   "source": [
    "Interestingly, this is opposite from the Facebook Congress data. This time, the male posters have longer posts. It could also be specific to the sample - I'll have to make sure different samples are consistent to these results."
   ]
  },
  {
   "cell_type": "code",
   "execution_count": null,
   "metadata": {},
   "outputs": [],
   "source": [
    "# look at response length again\n",
    "sns.catplot(x='op_gender', y='response_length', kind='box', data=fb_congress_sample)\n",
    "\n",
    "print('average response length when poster is male:',\n",
    "      fb_wiki_sample[fb_wiki_sample.op_gender == 'M'].response_length.mean())\n",
    "print('average response length when poster is female:',\n",
    "      fb_wiki_sample[fb_wiki_sample.op_gender == 'W'].response_length.mean())"
   ]
  },
  {
   "cell_type": "markdown",
   "metadata": {},
   "source": [
    "Again, not a large difference in response length when responding to male vs. female posters."
   ]
  },
  {
   "cell_type": "code",
   "execution_count": null,
   "metadata": {},
   "outputs": [],
   "source": [
    "# summary of post and response length\n",
    "fb_wiki_sample.groupby('op_gender')[['post_length','response_length']].describe()"
   ]
  },
  {
   "cell_type": "code",
   "execution_count": null,
   "metadata": {},
   "outputs": [],
   "source": [
    "# getting sentence lengths\n",
    "post_sent_count = fb_wiki_sample.post_text.map(lambda x: len(nltk.sent_tokenize(x)))\n",
    "response_sent_count = fb_wiki_sample.response_text.map(lambda x: len(nltk.sent_tokenize(x)))"
   ]
  },
  {
   "cell_type": "code",
   "execution_count": null,
   "metadata": {},
   "outputs": [],
   "source": [
    "# find average sentence length\n",
    "post_avg_sent_length = fb_wiki_sample.post_length / post_sent_count\n",
    "response_avg_sent_length = fb_wiki_sample.response_length / response_sent_count"
   ]
  },
  {
   "cell_type": "code",
   "execution_count": null,
   "metadata": {},
   "outputs": [],
   "source": [
    "# make new columns\n",
    "fb_wiki_sample['post_avg_slen'] = post_avg_sent_length\n",
    "fb_wiki_sample['response_avg_slen'] = response_avg_sent_length\n",
    "\n",
    "fb_wiki_sample.head()"
   ]
  },
  {
   "cell_type": "code",
   "execution_count": null,
   "metadata": {},
   "outputs": [],
   "source": [
    "# does gender of poster have an impact on sentence length?\n",
    "fb_wiki_sample.groupby('op_gender')[['post_avg_slen','response_avg_slen']].describe()"
   ]
  },
  {
   "cell_type": "markdown",
   "metadata": {},
   "source": [
    "This time, sentence length looks about equal in male vs. female posts, and well as in responses to male vs. female posters."
   ]
  },
  {
   "cell_type": "code",
   "execution_count": null,
   "metadata": {},
   "outputs": [],
   "source": [
    "# average google k-band\n",
    "# applying to df\n",
    "fb_wiki_sample['post_avg_kband'] = fb_wiki_sample.post_tokens.map(get_avg_google_kband)\n",
    "fb_wiki_sample['response_avg_kband'] = fb_wiki_sample.response_tokens.map(get_avg_google_kband)\n",
    "\n",
    "fb_wiki_sample.head()"
   ]
  },
  {
   "cell_type": "code",
   "execution_count": null,
   "metadata": {},
   "outputs": [],
   "source": [
    "fb_wiki_sample.groupby('op_gender')['post_avg_kband', 'response_avg_kband'].describe()"
   ]
  },
  {
   "cell_type": "markdown",
   "metadata": {},
   "source": [
    "What does this tell us? Again - not much. The average k-band is about the same for all."
   ]
  },
  {
   "cell_type": "markdown",
   "metadata": {},
   "source": [
    "### Fitocracy linguistic analysis"
   ]
  },
  {
   "cell_type": "code",
   "execution_count": null,
   "metadata": {},
   "outputs": [],
   "source": [
    "# how big is this?\n",
    "fitocracy_df.info()"
   ]
  },
  {
   "cell_type": "code",
   "execution_count": null,
   "metadata": {},
   "outputs": [],
   "source": [
    "# again reduce to 50,000\n",
    "fitocracy_sample = fitocracy_df.sample(50000)\n",
    "fitocracy_sample.sort_index(inplace=True)\n",
    "\n",
    "fitocracy_sample.head()"
   ]
  },
  {
   "cell_type": "markdown",
   "metadata": {},
   "source": [
    "So now we have both op gender and responder gender. I want to figure out how to put all of this in a box plot together for easier visualization... look into this. For now, moving on."
   ]
  },
  {
   "cell_type": "code",
   "execution_count": null,
   "metadata": {},
   "outputs": [],
   "source": [
    "# tokenize...\n",
    "fitocracy_sample['post_tokens'] = fitocracy_sample.post_text.map(nltk.word_tokenize)\n",
    "fitocracy_sample['response_tokens'] = fitocracy_sample.response_text.map(nltk.word_tokenize)\n",
    "\n",
    "# ... and find length\n",
    "fitocracy_sample['post_length'] = fitocracy_sample.post_tokens.map(len)\n",
    "fitocracy_sample['response_length'] = fitocracy_sample.response_tokens.map(len)\n",
    "\n",
    "fitocracy_sample.head()"
   ]
  },
  {
   "cell_type": "code",
   "execution_count": null,
   "metadata": {},
   "outputs": [],
   "source": [
    "fitocracy_sample.groupby('op_gender')['post_length', 'response_length'].describe()"
   ]
  },
  {
   "cell_type": "code",
   "execution_count": null,
   "metadata": {},
   "outputs": [],
   "source": [
    "fitocracy_sample.groupby(['op_gender', 'responder_gender'])['response_length'].describe()"
   ]
  },
  {
   "cell_type": "markdown",
   "metadata": {},
   "source": [
    "A lot to analyze here. Let's break this up a little:\n",
    "\n",
    "#### Post length\n",
    "\n",
    "Posts by females seem to be a little longer than posts by males.\n",
    "\n",
    "#### Response length\n",
    "\n",
    "Overall, responses to female posters seem to be a little longer than responses to male posters. Let's break it down even further:\n",
    "- Male poster/male responder has shorter responses than male poster/female responder.\n",
    "- Female poster/male responder has shorter responses than female poster/female responder.\n",
    "\n",
    "So do female responders always have longer responses than male responders, regardless of the original poster's gender? It seems like it from this quick analysis.\n",
    "\n",
    "Given this information about post and response length by gender, it seems like (for Fitocracy, at least) female posters and responders generally have longer posts/responses than their male counterparts.\n",
    "\n",
    "#### Gender x Gender\n",
    "Male responders have about the same length response when responding to male vs. female posters, but female responders have longer responses when responding to female than when responding to male."
   ]
  },
  {
   "cell_type": "code",
   "execution_count": null,
   "metadata": {},
   "outputs": [],
   "source": [
    "# getting sentence lengths\n",
    "post_sent_count = fitocracy_sample.post_text.map(lambda x: len(nltk.sent_tokenize(x)))\n",
    "response_sent_count = fitocracy_sample.response_text.map(lambda x: len(nltk.sent_tokenize(x)))"
   ]
  },
  {
   "cell_type": "code",
   "execution_count": null,
   "metadata": {},
   "outputs": [],
   "source": [
    "# find average sentence length\n",
    "post_avg_sent_length = fitocracy_sample.post_length / post_sent_count\n",
    "response_avg_sent_length = fitocracy_sample.response_length / response_sent_count"
   ]
  },
  {
   "cell_type": "code",
   "execution_count": null,
   "metadata": {},
   "outputs": [],
   "source": [
    "# make new columns\n",
    "fitocracy_sample['post_avg_slen'] = post_avg_sent_length\n",
    "fitocracy_sample['response_avg_slen'] = response_avg_sent_length\n",
    "\n",
    "fitocracy_sample.head()"
   ]
  },
  {
   "cell_type": "code",
   "execution_count": null,
   "metadata": {},
   "outputs": [],
   "source": [
    "# summarize again\n",
    "fitocracy_sample.groupby('op_gender')['post_avg_slen', 'response_avg_slen'].describe()"
   ]
  },
  {
   "cell_type": "code",
   "execution_count": null,
   "metadata": {},
   "outputs": [],
   "source": [
    "fitocracy_sample.groupby(['op_gender', 'responder_gender'])['response_avg_slen'].describe()"
   ]
  },
  {
   "cell_type": "markdown",
   "metadata": {},
   "source": [
    "Analyzing sentence length by gender:\n",
    "\n",
    "#### Post sentence length\n",
    "\n",
    "Posts by females and males seem to have about the same average sentence length.\n",
    "\n",
    "#### Response sentence length\n",
    "\n",
    "Responses to females vs. males seem to have about the same average sentence length, but let's again break it down further:\n",
    "- Male poster/male responder has shorter sentences in the response than male poster/female responder.\n",
    "- Female poster/male responder has shorter sentences in the response than female poster/female responder.\n",
    "\n",
    "Summing that up, it seems like female responders use longer sentences regardless of the original poster's gender.\n",
    "\n",
    "#### Gender x Gender\n",
    "Male responders have a little bit longer sentences when responding to a male than when responding to a female, and female responders have a little bit longer sentences when responding to a female than when responding to a male."
   ]
  },
  {
   "cell_type": "code",
   "execution_count": null,
   "metadata": {},
   "outputs": [],
   "source": [
    "# computing average k-band\n",
    "fitocracy_sample['post_avg_kband'] = fitocracy_sample.post_tokens.map(get_avg_google_kband)\n",
    "fitocracy_sample['response_avg_kband'] = fitocracy_sample.response_tokens.map(get_avg_google_kband)\n",
    "\n",
    "fitocracy_sample.head()"
   ]
  },
  {
   "cell_type": "code",
   "execution_count": null,
   "metadata": {},
   "outputs": [],
   "source": [
    "fitocracy_sample.groupby('op_gender')['post_avg_kband', 'response_avg_kband'].describe()"
   ]
  },
  {
   "cell_type": "code",
   "execution_count": null,
   "metadata": {},
   "outputs": [],
   "source": [
    "fitocracy_sample.groupby(['op_gender','responder_gender'])['response_avg_kband'].describe()"
   ]
  },
  {
   "cell_type": "markdown",
   "metadata": {},
   "source": [
    "Again, average k-band is about the same for everything."
   ]
  },
  {
   "cell_type": "markdown",
   "metadata": {},
   "source": [
    "### Reddit linguistic analysis"
   ]
  },
  {
   "cell_type": "code",
   "execution_count": null,
   "metadata": {},
   "outputs": [],
   "source": [
    "# how big is this?\n",
    "reddit_df.info()"
   ]
  },
  {
   "cell_type": "code",
   "execution_count": null,
   "metadata": {},
   "outputs": [],
   "source": [
    "# reduce to 50,000 again\n",
    "reddit_sample = reddit_df.sample(50000)\n",
    "reddit_sample.sort_index(inplace=True)\n",
    "\n",
    "reddit_sample.head()"
   ]
  },
  {
   "cell_type": "code",
   "execution_count": null,
   "metadata": {},
   "outputs": [],
   "source": [
    "# tokenize...\n",
    "reddit_sample['post_tokens'] = reddit_sample.post_text.map(nltk.word_tokenize)\n",
    "reddit_sample['response_tokens'] = reddit_sample.response_text.map(nltk.word_tokenize)\n",
    "\n",
    "# ... and find length\n",
    "reddit_sample['post_length'] = reddit_sample.post_tokens.map(len)\n",
    "reddit_sample['response_length'] = reddit_sample.response_tokens.map(len)\n",
    "\n",
    "reddit_sample.head()"
   ]
  },
  {
   "cell_type": "code",
   "execution_count": null,
   "metadata": {},
   "outputs": [],
   "source": [
    "sns.catplot(x='op_gender', y='post_length', kind='box', data=reddit_sample)\n",
    "\n",
    "print('average post length when poster is male:',\n",
    "      reddit_sample[reddit_sample.op_gender == 'M'].post_length.mean())\n",
    "print('average post length when poster is female:',\n",
    "      reddit_sample[reddit_sample.op_gender == 'W'].post_length.mean())"
   ]
  },
  {
   "cell_type": "markdown",
   "metadata": {},
   "source": [
    "So female posters typically have longer posts than male posters."
   ]
  },
  {
   "cell_type": "code",
   "execution_count": null,
   "metadata": {},
   "outputs": [],
   "source": [
    "sns.catplot(x='op_gender', y='response_length', kind='box', data=reddit_sample)\n",
    "\n",
    "print('average response length when poster is male:',\n",
    "      reddit_sample[reddit_sample.op_gender == 'M'].response_length.mean())\n",
    "print('average response length when poster is female:',\n",
    "      reddit_sample[reddit_sample.op_gender == 'W'].response_length.mean())"
   ]
  },
  {
   "cell_type": "markdown",
   "metadata": {},
   "source": [
    "Responses to female posters are a little bit longer than responses to male posters, but they are very close."
   ]
  },
  {
   "cell_type": "code",
   "execution_count": null,
   "metadata": {},
   "outputs": [],
   "source": [
    "# summarize\n",
    "reddit_sample.groupby('op_gender')['post_length', 'response_length'].describe()"
   ]
  },
  {
   "cell_type": "code",
   "execution_count": null,
   "metadata": {},
   "outputs": [],
   "source": [
    "reddit_sample.groupby(['op_gender', 'responder_gender'])['response_length'].describe()"
   ]
  },
  {
   "cell_type": "markdown",
   "metadata": {},
   "source": [
    "For now, we don't care about when responder gender isn't visible. Let's summarize:\n",
    "\n",
    "#### Post length\n",
    "\n",
    "Female posters seem to typically have longer posts than male posters.\n",
    "\n",
    "#### Response length\n",
    "\n",
    "Responses to female posters seem to be a little longer than responses to male posters. Let's dive a little deeper:\n",
    "\n",
    "- Male poster/male responder has shorter response length than male poster/male responder.\n",
    "- female poster/male responder has shorter response length than female poster/female responder.\n",
    "\n",
    "Again, it seems that female responders typically have longer responses than male responders, regardless of the original poster's gender.\n",
    "\n",
    "#### Gender x Gender\n",
    "\n",
    "Interestingly, male responders have longer responses when responding to females than when responding to males. Female responders have longer responses when responding to females than when responding to males."
   ]
  },
  {
   "cell_type": "code",
   "execution_count": null,
   "metadata": {},
   "outputs": [],
   "source": [
    "# getting sentence lengths\n",
    "post_sent_count = reddit_sample.post_text.map(lambda x: len(nltk.sent_tokenize(x)))\n",
    "response_sent_count = reddit_sample.response_text.map(lambda x: len(nltk.sent_tokenize(x)))"
   ]
  },
  {
   "cell_type": "code",
   "execution_count": null,
   "metadata": {},
   "outputs": [],
   "source": [
    "# find average sentence length\n",
    "post_avg_sent_length = reddit_sample.post_length / post_sent_count\n",
    "response_avg_sent_length = reddit_sample.response_length / response_sent_count"
   ]
  },
  {
   "cell_type": "code",
   "execution_count": null,
   "metadata": {},
   "outputs": [],
   "source": [
    "# make new columns\n",
    "reddit_sample['post_avg_slen'] = post_avg_sent_length\n",
    "reddit_sample['response_avg_slen'] = response_avg_sent_length\n",
    "\n",
    "reddit_sample.head()"
   ]
  },
  {
   "cell_type": "code",
   "execution_count": null,
   "metadata": {},
   "outputs": [],
   "source": [
    "# what did we find?\n",
    "reddit_sample.groupby('op_gender')['post_avg_slen', 'response_avg_slen'].describe()"
   ]
  },
  {
   "cell_type": "code",
   "execution_count": null,
   "metadata": {},
   "outputs": [],
   "source": [
    "reddit_sample.groupby(['op_gender', 'responder_gender'])['response_avg_slen'].describe()"
   ]
  },
  {
   "cell_type": "markdown",
   "metadata": {},
   "source": [
    "What can we figure out from this?\n",
    "\n",
    "#### Post sentence length\n",
    "\n",
    "The average sentence length for both female and male posters is about the same.\n",
    "\n",
    "#### Response sentence length\n",
    "\n",
    "The average response length responding to both female and male posters is about the same. Also, the gender of the responder doesn't seem to make a difference in average sentence length in any case."
   ]
  },
  {
   "cell_type": "code",
   "execution_count": null,
   "metadata": {},
   "outputs": [],
   "source": [
    "# computing average k-band\n",
    "reddit_sample['post_avg_kband'] = reddit_sample.post_tokens.map(get_avg_google_kband)\n",
    "reddit_sample['response_avg_kband'] = reddit_sample.response_tokens.map(get_avg_google_kband)\n",
    "\n",
    "reddit_sample.head()"
   ]
  },
  {
   "cell_type": "code",
   "execution_count": null,
   "metadata": {},
   "outputs": [],
   "source": [
    "reddit_sample.groupby('op_gender')['post_avg_kband', 'response_avg_kband'].describe()"
   ]
  },
  {
   "cell_type": "code",
   "execution_count": null,
   "metadata": {},
   "outputs": [],
   "source": [
    "reddit_sample.groupby(['op_gender','responder_gender'])['response_avg_kband'].describe()"
   ]
  },
  {
   "cell_type": "markdown",
   "metadata": {},
   "source": [
    "Again, about the same."
   ]
  },
  {
   "cell_type": "markdown",
   "metadata": {},
   "source": [
    "### TED linguistic analysis"
   ]
  },
  {
   "cell_type": "code",
   "execution_count": null,
   "metadata": {},
   "outputs": [],
   "source": [
    "# how big is this?\n",
    "ted_responses_df.info()"
   ]
  },
  {
   "cell_type": "code",
   "execution_count": null,
   "metadata": {},
   "outputs": [],
   "source": [
    "# reduce again for consistency (though I think this would be possible to handle anyways)\n",
    "ted_sample = ted_responses_df.sample(50000)\n",
    "ted_sample.sort_index(inplace=True)"
   ]
  },
  {
   "cell_type": "code",
   "execution_count": null,
   "metadata": {},
   "outputs": [],
   "source": [
    "# tokenize...\n",
    "ted_sample['response_tokens'] = ted_sample.response_text.map(nltk.word_tokenize)\n",
    "\n",
    "# ... and find length\n",
    "ted_sample['response_length'] = ted_sample.response_tokens.map(len)\n",
    "\n",
    "ted_sample.head()"
   ]
  },
  {
   "cell_type": "code",
   "execution_count": null,
   "metadata": {},
   "outputs": [],
   "source": [
    "sns.catplot(x='op_gender', y='response_length', kind='box', data=ted_sample)\n",
    "\n",
    "print('average response length when poster is male:',\n",
    "      ted_sample[ted_sample.op_gender == 'M'].response_length.mean())\n",
    "print('average response length when poster is female:',\n",
    "      ted_sample[ted_sample.op_gender == 'W'].response_length.mean())"
   ]
  },
  {
   "cell_type": "markdown",
   "metadata": {},
   "source": [
    "It seems responses are longer when the speaker is male than when they are female. Let's look at some more detail:"
   ]
  },
  {
   "cell_type": "code",
   "execution_count": null,
   "metadata": {},
   "outputs": [],
   "source": [
    "ted_sample.groupby('op_gender')['response_length'].describe()"
   ]
  },
  {
   "cell_type": "code",
   "execution_count": null,
   "metadata": {},
   "outputs": [],
   "source": [
    "# getting sentence lengths\n",
    "response_sent_count = ted_sample.response_text.map(lambda x: len(nltk.sent_tokenize(x)))"
   ]
  },
  {
   "cell_type": "code",
   "execution_count": null,
   "metadata": {},
   "outputs": [],
   "source": [
    "# find average sentence length\n",
    "response_avg_sent_length = ted_sample.response_length / response_sent_count"
   ]
  },
  {
   "cell_type": "code",
   "execution_count": null,
   "metadata": {},
   "outputs": [],
   "source": [
    "# make new column\n",
    "ted_sample['response_avg_slen'] = response_avg_sent_length\n",
    "\n",
    "ted_sample.head()"
   ]
  },
  {
   "cell_type": "code",
   "execution_count": null,
   "metadata": {},
   "outputs": [],
   "source": [
    "# summarize\n",
    "ted_sample.groupby('op_gender')['response_avg_slen'].describe()"
   ]
  },
  {
   "cell_type": "markdown",
   "metadata": {},
   "source": [
    "Sentence length seems to be about the same whether they are responding to a male vs. a female speaker."
   ]
  },
  {
   "cell_type": "code",
   "execution_count": null,
   "metadata": {},
   "outputs": [],
   "source": [
    "# add average google k-band\n",
    "ted_sample['response_avg_kband'] = ted_sample.response_tokens.map(get_avg_google_kband)\n",
    "\n",
    "ted_sample.head()"
   ]
  },
  {
   "cell_type": "code",
   "execution_count": null,
   "metadata": {},
   "outputs": [],
   "source": [
    "ted_sample.groupby('op_gender')['response_avg_kband'].describe()"
   ]
  },
  {
   "cell_type": "markdown",
   "metadata": {},
   "source": [
    "And once again, the google k-band doesn't really differ between genders.\n",
    "\n",
    "## Linguistic difference in gender\n",
    "\n",
    "Now let's get to some specifics! What about the content of someone's speech/writing makes it more likely for them to be male vs. female? There are some basic differences that have been noted, that I found in *Women, Men, and Language: A sociolinguistic account of gender differences in language*, by Jennifer Coates. There are a lot of differences that Coates discusses regarding gendered speak. Some only apply to actual speech, which is irrelevant in this case, and some require more exchanges other than a simple post/response. I'm gathering a short list of differences that I think would be manageable to investigate for my project:\n",
    "\n",
    "- Hedges: Hedges express uncertainty, and overall, women seem to use more hedges than men. Some examples of hedges include I think, I guess, I mean, kind of, I’m sure, you know, sort of, perhaps, etc.\n",
    "- Compliments: It was found that women give and receive more compliments than men. In a study of 484 exchanges of compliments, 51% were woman to woman, 9% were man to man, 23.1% were man to woman, and 16.5% were woman to man. This could also be related to politeness.\n",
    "- Questions: Typically, women use questions to \"avoid the role of expert,\" found in phrases such as \"do you?\", \"aren't there?\", \"isn't it?\", \"right?\", etc. On the other hand, men use questions to seek new information or introduce a new topic.\n",
    "\n",
    "Let's look at the presence of these in our file samples:"
   ]
  },
  {
   "cell_type": "code",
   "execution_count": null,
   "metadata": {},
   "outputs": [],
   "source": [
    "# list of hedges\n",
    "hedges = ['i think', 'i guess', 'i mean', 'kind of', \"i'm sure\", 'you know', 'sort of', 'perhaps']\n",
    "\n",
    "# create function\n",
    "def find_hedges(text):\n",
    "    text = text.lower()\n",
    "    num = 0\n",
    "    for hedge in hedges:\n",
    "        num = num + text.count(hedge)\n",
    "    return num"
   ]
  },
  {
   "cell_type": "code",
   "execution_count": null,
   "metadata": {},
   "outputs": [],
   "source": [
    "# test function\n",
    "print(find_hedges('I guess!'))\n",
    "print(find_hedges('I think you know that I sort of'))\n",
    "print(find_hedges(\"Perhaps I'm SURE\"))"
   ]
  },
  {
   "cell_type": "code",
   "execution_count": null,
   "metadata": {},
   "outputs": [],
   "source": [
    "# hedges in facebook congress (since we don't know responder gender, hedges for them don't really matter)\n",
    "fb_congress_sample['post_hedges'] = fb_congress_sample.post_text.map(find_hedges)\n",
    "\n",
    "fb_congress_sample.groupby('op_gender')['post_hedges'].describe()"
   ]
  },
  {
   "cell_type": "code",
   "execution_count": null,
   "metadata": {},
   "outputs": [],
   "source": [
    "# male posters with hedges\n",
    "male_hedges = fb_congress_sample[(fb_congress_sample.op_gender == 'M') & (fb_congress_sample.post_hedges != 0)]\n",
    "\n",
    "# female posters with hedges\n",
    "female_hedges = fb_congress_sample[(fb_congress_sample.op_gender == 'W') & (fb_congress_sample.post_hedges != 0)]\n",
    "\n",
    "print('percentage male posters with hedges:',\n",
    "      len(male_hedges.index) / fb_congress_sample.op_gender.value_counts()['M'])\n",
    "\n",
    "print('percentage female posters with hedges:',\n",
    "      len(female_hedges.index) / fb_congress_sample.op_gender.value_counts()['W'])"
   ]
  },
  {
   "cell_type": "markdown",
   "metadata": {},
   "source": [
    "So there seems to be a little more hedges in posts from women!"
   ]
  },
  {
   "cell_type": "code",
   "execution_count": null,
   "metadata": {},
   "outputs": [],
   "source": [
    "# hedges in facebook wiki\n",
    "fb_wiki_sample['post_hedges'] = fb_wiki_sample.post_text.map(find_hedges)\n",
    "\n",
    "fb_wiki_sample.groupby('op_gender')['post_hedges'].describe()"
   ]
  },
  {
   "cell_type": "code",
   "execution_count": null,
   "metadata": {},
   "outputs": [],
   "source": [
    "# male posters with hedges\n",
    "male_hedges = fb_wiki_sample[(fb_wiki_sample.op_gender == 'M') & (fb_wiki_sample.post_hedges != 0)]\n",
    "\n",
    "# female posters with hedges\n",
    "female_hedges = fb_wiki_sample[(fb_wiki_sample.op_gender == 'W') & (fb_wiki_sample.post_hedges != 0)]\n",
    "\n",
    "print('percentage male posters with hedges:',\n",
    "      len(male_hedges.index) / fb_wiki_sample.op_gender.value_counts()['M'])\n",
    "\n",
    "print('percentage female posters with hedges:',\n",
    "      len(female_hedges.index) / fb_wiki_sample.op_gender.value_counts()['W'])"
   ]
  },
  {
   "cell_type": "markdown",
   "metadata": {},
   "source": [
    "This time, male posters seem to have more hedges... Let's keep going."
   ]
  },
  {
   "cell_type": "code",
   "execution_count": null,
   "metadata": {},
   "outputs": [],
   "source": [
    "# hedges in fitocracy\n",
    "fitocracy_sample['post_hedges'] = fitocracy_sample.post_text.map(find_hedges)\n",
    "fitocracy_sample['response_hedges'] = fitocracy_sample.response_text.map(find_hedges)\n",
    "\n",
    "print(fitocracy_sample.groupby('op_gender')['post_hedges'].describe())\n",
    "print(fitocracy_sample.groupby('responder_gender')['response_hedges'].describe())"
   ]
  },
  {
   "cell_type": "code",
   "execution_count": null,
   "metadata": {},
   "outputs": [],
   "source": [
    "# male posters with hedges\n",
    "male_hedges_post = fitocracy_sample[(fitocracy_sample.op_gender == 'M') & (fitocracy_sample.post_hedges != 0)]\n",
    "# male responders with hedges\n",
    "male_hedges_response = fitocracy_sample[(fitocracy_sample.responder_gender == 'M') & (fitocracy_sample.response_hedges != 0)]\n",
    "\n",
    "# female posters with hedges\n",
    "female_hedges_post = fitocracy_sample[(fitocracy_sample.op_gender == 'W') & (fitocracy_sample.post_hedges != 0)]\n",
    "# female responders with hedges\n",
    "female_hedges_response = fitocracy_sample[(fitocracy_sample.responder_gender == 'W') & (fitocracy_sample.response_hedges != 0)]\n",
    "\n",
    "print('percentage male posters with hedges:',\n",
    "      len(male_hedges_post.index) / fitocracy_sample.op_gender.value_counts()['M'])\n",
    "\n",
    "print('percentage female posters with hedges:',\n",
    "      len(female_hedges_post.index) / fitocracy_sample.op_gender.value_counts()['W'])\n",
    "\n",
    "print('percentage male responders with hedges:',\n",
    "      len(male_hedges_response.index) / fitocracy_sample.responder_gender.value_counts()['M'])\n",
    "\n",
    "print('percentage female responders with hedges:',\n",
    "      len(female_hedges_response.index) / fitocracy_sample.responder_gender.value_counts()['W'])"
   ]
  },
  {
   "cell_type": "markdown",
   "metadata": {},
   "source": [
    "This time, female posters have more hedges than male posters, but male responders have more hedges than female responders. Now onto Reddit:"
   ]
  },
  {
   "cell_type": "code",
   "execution_count": null,
   "metadata": {},
   "outputs": [],
   "source": [
    "# hedges in reddit\n",
    "reddit_sample['post_hedges'] = reddit_sample.post_text.map(find_hedges)\n",
    "reddit_sample['response_hedges'] = reddit_sample.response_text.map(find_hedges)\n",
    "\n",
    "print(reddit_sample.groupby('op_gender')['post_hedges'].describe())\n",
    "print(reddit_sample.groupby('responder_gender')['response_hedges'].describe())"
   ]
  },
  {
   "cell_type": "code",
   "execution_count": null,
   "metadata": {},
   "outputs": [],
   "source": [
    "# male posters with hedges\n",
    "male_hedges_post = reddit_sample[(reddit_sample.op_gender == 'M') & (reddit_sample.post_hedges != 0)]\n",
    "# male responders with hedges\n",
    "male_hedges_response = reddit_sample[(reddit_sample.responder_gender == 'M') & (reddit_sample.response_hedges != 0)]\n",
    "\n",
    "# female posters with hedges\n",
    "female_hedges_post = reddit_sample[(reddit_sample.op_gender == 'W') & (reddit_sample.post_hedges != 0)]\n",
    "# female responders with hedges\n",
    "female_hedges_response = reddit_sample[(reddit_sample.responder_gender == 'W') & (reddit_sample.response_hedges != 0)]\n",
    "\n",
    "print('percentage male posters with hedges:',\n",
    "      len(male_hedges_post.index) / reddit_sample.op_gender.value_counts()['M'])\n",
    "\n",
    "print('percentage female posters with hedges:',\n",
    "      len(female_hedges_post.index) / reddit_sample.op_gender.value_counts()['W'])\n",
    "\n",
    "print('percentage male responders with hedges:',\n",
    "      len(male_hedges_response.index) / reddit_sample.responder_gender.value_counts()['M'])\n",
    "\n",
    "print('percentage female responders with hedges:',\n",
    "      len(female_hedges_response.index) / reddit_sample.responder_gender.value_counts()['W'])"
   ]
  },
  {
   "cell_type": "markdown",
   "metadata": {},
   "source": [
    "This is what we like to see! In both categories (poster and responder), women use more hedges. We can't do our hedge analysis on our last file (TED) because the gender isn't listed for the responder."
   ]
  },
  {
   "cell_type": "markdown",
   "metadata": {},
   "source": [
    "## Machine Learning\n",
    "Let's gather everything I want for machine learning!\n",
    "\n",
    "I have two goals:\n",
    "1. I want to analyze the text, regardless of whether it's poster or responder, and train to identify gender. To do this, I'll use my samples from before and combine them to suit my purpose."
   ]
  },
  {
   "cell_type": "code",
   "execution_count": null,
   "metadata": {},
   "outputs": [],
   "source": [
    "# we don't know gender for responder in fb congress, only gather post data\n",
    "fb_congress_posts_sample = fb_congress_sample[['op_gender', 'post_text','post_length','post_avg_slen','post_hedges']]\n",
    "#fb_congress_posts_sample.head()\n",
    "\n",
    "# we don't know gender for responder in fb wiki, only gather post data\n",
    "fb_wiki_posts_sample = fb_wiki_sample[['op_gender', 'post_text','post_length','post_avg_slen','post_hedges']]\n",
    "#fb_wiki_posts_sample.head()\n",
    "\n",
    "# we know gender for poster and responder in fitocracy\n",
    "fit_posts_sample = fitocracy_sample[['op_gender', 'post_text','post_length','post_avg_slen','post_hedges']]\n",
    "fit_responses_sample = fitocracy_sample[['responder_gender', 'response_text','response_length','response_avg_slen','response_hedges']]\n",
    "#fit_posts_sample.head()\n",
    "#fit_responses_sample.head()\n",
    "\n",
    "# we know gender for poster and some responders in reddit\n",
    "reddit_posts_sample = reddit_sample[['op_gender', 'post_text','post_length','post_avg_slen','post_hedges']]\n",
    "reddit_responses_sample = reddit_sample[reddit_sample.responder_gender != ''][['responder_gender', 'response_text','response_length','response_avg_slen','response_hedges']]\n",
    "#reddit_posts_sample.head()\n",
    "#reddit_responses_sample.head()\n",
    "\n",
    "# we don't know gender for responder in TED"
   ]
  },
  {
   "cell_type": "code",
   "execution_count": null,
   "metadata": {},
   "outputs": [],
   "source": [
    "# merge them\n",
    "\n",
    "# first, change column names\n",
    "columns = ['gender', 'text', 'text_length', 'avg_slen', 'hedges']\n",
    "fb_congress_posts_sample.columns = columns\n",
    "fb_wiki_posts_sample.columns = columns\n",
    "fit_posts_sample.columns = columns\n",
    "fit_responses_sample.columns = columns\n",
    "reddit_posts_sample.columns = columns\n",
    "reddit_responses_sample.columns = columns\n",
    "\n",
    "# add source column\n",
    "fb_congress_posts_sample['source'] = 'fb_congress_post'\n",
    "fb_wiki_posts_sample['source'] = 'fb_wiki_post'\n",
    "fit_posts_sample['source'] = 'fitocracy_post'\n",
    "fit_responses_sample['source'] = 'fitocracy_response'\n",
    "reddit_posts_sample['source'] = 'reddit_post'\n",
    "reddit_responses_sample['source'] = 'reddit_response'\n",
    "\n",
    "# facebook files will have duplicates because they have multiple responses per post\n",
    "fb_congress_posts_sample = fb_congress_posts_sample.drop_duplicates()\n",
    "fb_wiki_posts_sample = fb_wiki_posts_sample.drop_duplicates()"
   ]
  },
  {
   "cell_type": "code",
   "execution_count": null,
   "metadata": {},
   "outputs": [],
   "source": [
    "# now merge them\n",
    "all_posts_responses = pd.concat([fb_congress_posts_sample, fb_wiki_posts_sample, fit_posts_sample,\n",
    "                                 fit_responses_sample, reddit_posts_sample, reddit_responses_sample],\n",
    "                                ignore_index=True)\n",
    "\n",
    "all_posts_responses.head()"
   ]
  },
  {
   "cell_type": "code",
   "execution_count": null,
   "metadata": {},
   "outputs": [],
   "source": [
    "all_posts_responses.source.value_counts()"
   ]
  },
  {
   "cell_type": "markdown",
   "metadata": {},
   "source": [
    "Seems like it's merged well! Let's pickle it!"
   ]
  },
  {
   "cell_type": "code",
   "execution_count": null,
   "metadata": {},
   "outputs": [],
   "source": [
    "import pickle\n",
    "\n",
    "all_posts_responses.to_pickle(\"all_posts_responses.pkl\")"
   ]
  },
  {
   "cell_type": "markdown",
   "metadata": {},
   "source": [
    "2. For deeper analysis, I want to focus on when we know the gender of the OP and the responder so I can analyze how people respond to different genders. Which files will work for this?\n",
    "    - Fitocracy: genders are present for all posters/responders\n",
    "    - Reddit: genders are present for all posters and only some responders\n",
    "\n",
    "Looks like only two files. How big are these?"
   ]
  },
  {
   "cell_type": "code",
   "execution_count": null,
   "metadata": {},
   "outputs": [],
   "source": [
    "fitocracy_df.info()"
   ]
  },
  {
   "cell_type": "code",
   "execution_count": null,
   "metadata": {},
   "outputs": [],
   "source": [
    "# getting rid of when we don't know responder's gender\n",
    "# want op gender to be visible so we know the responder is aware of what gender they are replying to\n",
    "reddit_gender_visible = reddit_df[(reddit_df.responder_gender != '') & (reddit_df.op_gender_visible == True)]\n",
    "reddit_gender_visible.info()"
   ]
  },
  {
   "cell_type": "markdown",
   "metadata": {},
   "source": [
    "How should we merge these?\n",
    "\n",
    "Both have columns for post_id, op_id, op_gender, responder_id, responder_gender, post_text, and response_text. Additionally, the Reddit data also has a column for subreddit, op_gender_visible, and responder_gender_visible. These probably don't matter for what I want to do with machine learning though - I'm more interested in the actual text. So let's delete these columns from reddit_df. Let's also add a 'source' column so we can tell where they came from when it's merged:"
   ]
  },
  {
   "cell_type": "code",
   "execution_count": null,
   "metadata": {},
   "outputs": [],
   "source": [
    "fitocracy_df['source'] = 'fitocracy'\n",
    "fitocracy_df.head()"
   ]
  },
  {
   "cell_type": "code",
   "execution_count": null,
   "metadata": {},
   "outputs": [],
   "source": [
    "reddit_gender_visible = reddit_gender_visible.drop(labels=['subreddit','op_gender_visible','responder_gender_visible'], axis=1)\n",
    "reddit_gender_visible['source'] = 'reddit'\n",
    "reddit_gender_visible.head()"
   ]
  },
  {
   "cell_type": "code",
   "execution_count": null,
   "metadata": {},
   "outputs": [],
   "source": [
    "gender_visible_df = pd.concat([fitocracy_df, reddit_gender_visible], ignore_index=True)\n",
    "\n",
    "# let's drop the post id column too and just use the index as post id\n",
    "gender_visible_df.drop(labels=['post_id'], axis=1, inplace=True)\n",
    "\n",
    "gender_visible_df.head()"
   ]
  },
  {
   "cell_type": "code",
   "execution_count": null,
   "metadata": {},
   "outputs": [],
   "source": [
    "gender_visible_df.info()"
   ]
  },
  {
   "cell_type": "code",
   "execution_count": null,
   "metadata": {},
   "outputs": [],
   "source": [
    "# now let's do the same linguistic calculations to this df\n",
    "# not including k-band, because when we did it above, there were no noticeable differences between genders\n",
    "\n",
    "# tokenize...\n",
    "gender_visible_df['post_tokens'] = gender_visible_df.post_text.map(nltk.word_tokenize)\n",
    "gender_visible_df['response_tokens'] = gender_visible_df.response_text.map(nltk.word_tokenize)\n",
    "\n",
    "# ... and find length\n",
    "gender_visible_df['post_length'] = gender_visible_df.post_tokens.map(len)\n",
    "gender_visible_df['response_length'] = gender_visible_df.response_tokens.map(len)"
   ]
  },
  {
   "cell_type": "code",
   "execution_count": null,
   "metadata": {},
   "outputs": [],
   "source": [
    "# getting sentence lengths\n",
    "post_sent_count = gender_visible_df.post_text.map(lambda x: len(nltk.sent_tokenize(x)))\n",
    "response_sent_count = gender_visible_df.response_text.map(lambda x: len(nltk.sent_tokenize(x)))\n",
    "\n",
    "# find average sentence length\n",
    "post_avg_sent_length = gender_visible_df.post_length / post_sent_count\n",
    "response_avg_sent_length = gender_visible_df.response_length / response_sent_count\n",
    "\n",
    "# make new columns\n",
    "gender_visible_df['post_avg_slen'] = post_avg_sent_length\n",
    "gender_visible_df['response_avg_slen'] = response_avg_sent_length"
   ]
  },
  {
   "cell_type": "code",
   "execution_count": null,
   "metadata": {},
   "outputs": [],
   "source": [
    "# adding column for hedges\n",
    "gender_visible_df['post_hedges'] = gender_visible_df.post_text.map(find_hedges)\n",
    "gender_visible_df['response_hedges'] = gender_visible_df.response_text.map(find_hedges)\n",
    "\n",
    "gender_visible_df.head()"
   ]
  },
  {
   "cell_type": "code",
   "execution_count": null,
   "metadata": {},
   "outputs": [],
   "source": [
    "# look at some of the hedges\n",
    "samples = gender_visible_df[gender_visible_df.response_hedges != 0].sample(5)\n",
    "\n",
    "for index, row in samples.iterrows():\n",
    "    print('text:', row.response_text)\n",
    "    print('number of hedges:', row.response_hedges)\n",
    "    print('gender:', row.responder_gender)\n",
    "    print('--------------')"
   ]
  },
  {
   "cell_type": "markdown",
   "metadata": {},
   "source": [
    "Now that we've done all this work - let's pickle the dataframe! I'm going to create a new file for the machine learning and reopen the dataframe there."
   ]
  },
  {
   "cell_type": "code",
   "execution_count": null,
   "metadata": {},
   "outputs": [],
   "source": [
    "gender_visible_df.to_pickle(\"gender_visible_df.pkl\")"
   ]
  },
  {
   "cell_type": "code",
   "execution_count": null,
   "metadata": {},
   "outputs": [],
   "source": []
  }
 ],
 "metadata": {
  "kernelspec": {
   "display_name": "Python 3",
   "language": "python",
   "name": "python3"
  },
  "language_info": {
   "codemirror_mode": {
    "name": "ipython",
    "version": 3
   },
   "file_extension": ".py",
   "mimetype": "text/x-python",
   "name": "python",
   "nbconvert_exporter": "python",
   "pygments_lexer": "ipython3",
   "version": "3.7.1"
  }
 },
 "nbformat": 4,
 "nbformat_minor": 2
}
