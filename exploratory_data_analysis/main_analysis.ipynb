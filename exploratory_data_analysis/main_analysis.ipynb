{
 "cells": [
  {
   "cell_type": "markdown",
   "metadata": {},
   "source": [
    "# Analysis\n",
    "Now let's delve deeper into the analysis!\n",
    "\n",
    "## Load DataFrames"
   ]
  },
  {
   "cell_type": "code",
   "execution_count": 1,
   "metadata": {},
   "outputs": [],
   "source": [
    "# import things\n",
    "import pandas as pd\n",
    "import seaborn as sns\n",
    "import matplotlib.pyplot as plt"
   ]
  },
  {
   "cell_type": "code",
   "execution_count": 2,
   "metadata": {},
   "outputs": [],
   "source": [
    "# reading in files\n",
    "fb_congress_df = pd.read_pickle(\"fb_congress_df_part1.pkl\")\n",
    "fb_congress_df2 = pd.read_pickle(\"fb_congress_df_part2.pkl\")\n",
    "\n",
    "# merging them\n",
    "fb_congress_df = fb_congress_df.append(fb_congress_df2)"
   ]
  },
  {
   "cell_type": "code",
   "execution_count": 3,
   "metadata": {},
   "outputs": [],
   "source": [
    "# read in fb wiki\n",
    "fb_wiki_df = pd.read_pickle(\"fb_wiki_df.pkl\")"
   ]
  },
  {
   "cell_type": "code",
   "execution_count": 4,
   "metadata": {},
   "outputs": [],
   "source": [
    "# read in fitocracy\n",
    "fitocracy_df = pd.read_pickle(\"fitocracy_df.pkl\")"
   ]
  },
  {
   "cell_type": "code",
   "execution_count": 5,
   "metadata": {},
   "outputs": [],
   "source": [
    "# read in reddit\n",
    "reddit_df = pd.read_pickle(\"reddit_df.pkl\")"
   ]
  },
  {
   "cell_type": "code",
   "execution_count": 6,
   "metadata": {},
   "outputs": [],
   "source": [
    "# read in ted\n",
    "ted_responses_df = pd.read_pickle(\"ted_responses_df.pkl\")"
   ]
  },
  {
   "cell_type": "markdown",
   "metadata": {},
   "source": [
    "## Conduct basic analysis\n",
    "Some of this information will be repetition from previous files, but I want to have it all in one place here.\n",
    "\n",
    "### Analysis of Facebook Congress"
   ]
  },
  {
   "cell_type": "code",
   "execution_count": 7,
   "metadata": {},
   "outputs": [
    {
     "data": {
      "text/html": [
       "<div>\n",
       "<style scoped>\n",
       "    .dataframe tbody tr th:only-of-type {\n",
       "        vertical-align: middle;\n",
       "    }\n",
       "\n",
       "    .dataframe tbody tr th {\n",
       "        vertical-align: top;\n",
       "    }\n",
       "\n",
       "    .dataframe thead th {\n",
       "        text-align: right;\n",
       "    }\n",
       "</style>\n",
       "<table border=\"1\" class=\"dataframe\">\n",
       "  <thead>\n",
       "    <tr style=\"text-align: right;\">\n",
       "      <th></th>\n",
       "      <th>post_id</th>\n",
       "      <th>post_type</th>\n",
       "      <th>op_id</th>\n",
       "      <th>op_name</th>\n",
       "      <th>op_category</th>\n",
       "      <th>op_gender</th>\n",
       "      <th>responder_id</th>\n",
       "      <th>post_text</th>\n",
       "      <th>response_text</th>\n",
       "    </tr>\n",
       "  </thead>\n",
       "  <tbody>\n",
       "    <tr>\n",
       "      <th>0</th>\n",
       "      <td>0</td>\n",
       "      <td>video</td>\n",
       "      <td>57265377</td>\n",
       "      <td>Roger Williams</td>\n",
       "      <td>Congress_Republican</td>\n",
       "      <td>M</td>\n",
       "      <td>Jerry</td>\n",
       "      <td>Yesterday, my colleagues and I voted to protec...</td>\n",
       "      <td>Protecting birth is not the same as protecting...</td>\n",
       "    </tr>\n",
       "    <tr>\n",
       "      <th>1</th>\n",
       "      <td>0</td>\n",
       "      <td>video</td>\n",
       "      <td>57265377</td>\n",
       "      <td>Roger Williams</td>\n",
       "      <td>Congress_Republican</td>\n",
       "      <td>M</td>\n",
       "      <td>Andrea</td>\n",
       "      <td>Yesterday, my colleagues and I voted to protec...</td>\n",
       "      <td>You need to protect children and leave my body...</td>\n",
       "    </tr>\n",
       "    <tr>\n",
       "      <th>2</th>\n",
       "      <td>0</td>\n",
       "      <td>video</td>\n",
       "      <td>57265377</td>\n",
       "      <td>Roger Williams</td>\n",
       "      <td>Congress_Republican</td>\n",
       "      <td>M</td>\n",
       "      <td>Sherry</td>\n",
       "      <td>Yesterday, my colleagues and I voted to protec...</td>\n",
       "      <td>Thank you</td>\n",
       "    </tr>\n",
       "    <tr>\n",
       "      <th>3</th>\n",
       "      <td>0</td>\n",
       "      <td>video</td>\n",
       "      <td>57265377</td>\n",
       "      <td>Roger Williams</td>\n",
       "      <td>Congress_Republican</td>\n",
       "      <td>M</td>\n",
       "      <td>Bob</td>\n",
       "      <td>Yesterday, my colleagues and I voted to protec...</td>\n",
       "      <td>Thank you Roger</td>\n",
       "    </tr>\n",
       "    <tr>\n",
       "      <th>4</th>\n",
       "      <td>0</td>\n",
       "      <td>video</td>\n",
       "      <td>57265377</td>\n",
       "      <td>Roger Williams</td>\n",
       "      <td>Congress_Republican</td>\n",
       "      <td>M</td>\n",
       "      <td>Joy</td>\n",
       "      <td>Yesterday, my colleagues and I voted to protec...</td>\n",
       "      <td>Unwanted pregnancy is a sad and unfortunate si...</td>\n",
       "    </tr>\n",
       "  </tbody>\n",
       "</table>\n",
       "</div>"
      ],
      "text/plain": [
       "   post_id post_type     op_id         op_name          op_category op_gender  \\\n",
       "0        0     video  57265377  Roger Williams  Congress_Republican         M   \n",
       "1        0     video  57265377  Roger Williams  Congress_Republican         M   \n",
       "2        0     video  57265377  Roger Williams  Congress_Republican         M   \n",
       "3        0     video  57265377  Roger Williams  Congress_Republican         M   \n",
       "4        0     video  57265377  Roger Williams  Congress_Republican         M   \n",
       "\n",
       "  responder_id                                          post_text  \\\n",
       "0        Jerry  Yesterday, my colleagues and I voted to protec...   \n",
       "1       Andrea  Yesterday, my colleagues and I voted to protec...   \n",
       "2       Sherry  Yesterday, my colleagues and I voted to protec...   \n",
       "3          Bob  Yesterday, my colleagues and I voted to protec...   \n",
       "4          Joy  Yesterday, my colleagues and I voted to protec...   \n",
       "\n",
       "                                       response_text  \n",
       "0  Protecting birth is not the same as protecting...  \n",
       "1  You need to protect children and leave my body...  \n",
       "2                                          Thank you  \n",
       "3                                    Thank you Roger  \n",
       "4  Unwanted pregnancy is a sad and unfortunate si...  "
      ]
     },
     "execution_count": 7,
     "metadata": {},
     "output_type": "execute_result"
    }
   ],
   "source": [
    "fb_congress_df.head()"
   ]
  },
  {
   "cell_type": "code",
   "execution_count": 8,
   "metadata": {},
   "outputs": [
    {
     "data": {
      "text/plain": [
       "link      210499\n",
       "photo     199123\n",
       "status     87921\n",
       "video      46842\n",
       "event       3417\n",
       "music        278\n",
       "note         261\n",
       "Name: post_type, dtype: int64"
      ]
     },
     "execution_count": 8,
     "metadata": {},
     "output_type": "execute_result"
    }
   ],
   "source": [
    "unique_posts = fb_congress_df.drop_duplicates('post_id')\n",
    "\n",
    "# different post types, make sure unique for post id\n",
    "unique_posts.post_type.value_counts()"
   ]
  },
  {
   "cell_type": "code",
   "execution_count": 9,
   "metadata": {},
   "outputs": [
    {
     "data": {
      "text/plain": [
       "Congress_Republican     239909\n",
       "Congress_Democratic     158237\n",
       "                        149304\n",
       "Congress_Independent       891\n",
       "Name: op_category, dtype: int64"
      ]
     },
     "execution_count": 9,
     "metadata": {},
     "output_type": "execute_result"
    }
   ],
   "source": [
    "# different op categories, make sure unique for post id\n",
    "unique_posts.op_category.value_counts()"
   ]
  },
  {
   "cell_type": "markdown",
   "metadata": {},
   "source": [
    "Note: the ones with no category are the ones with no response corresponding to that post."
   ]
  },
  {
   "cell_type": "code",
   "execution_count": 10,
   "metadata": {},
   "outputs": [
    {
     "data": {
      "text/plain": [
       "M    413011\n",
       "W    135330\n",
       "Name: op_gender, dtype: int64"
      ]
     },
     "execution_count": 10,
     "metadata": {},
     "output_type": "execute_result"
    }
   ],
   "source": [
    "# different op genders, make sure unique for post id\n",
    "unique_posts.op_gender.value_counts()"
   ]
  },
  {
   "cell_type": "code",
   "execution_count": 11,
   "metadata": {},
   "outputs": [
    {
     "data": {
      "text/plain": [
       "25.560392164729613"
      ]
     },
     "execution_count": 11,
     "metadata": {},
     "output_type": "execute_result"
    }
   ],
   "source": [
    "# average num responses for everyone\n",
    "fb_congress_df.post_id.value_counts().mean()"
   ]
  },
  {
   "cell_type": "code",
   "execution_count": 12,
   "metadata": {},
   "outputs": [
    {
     "name": "stdout",
     "output_type": "stream",
     "text": [
      "average responses when poster is male: 25.473808203655594\n",
      "average responses when poster is female: 25.824636074780166\n"
     ]
    }
   ],
   "source": [
    "# average number of responses per gender\n",
    "\n",
    "print('average responses when poster is male:', fb_congress_df.groupby('op_gender').post_id.value_counts()['M'].mean())\n",
    "print('average responses when poster is female:', fb_congress_df.groupby('op_gender').post_id.value_counts()['W'].mean())"
   ]
  },
  {
   "cell_type": "markdown",
   "metadata": {},
   "source": [
    "### Analysis of Facebook Wiki"
   ]
  },
  {
   "cell_type": "code",
   "execution_count": 13,
   "metadata": {},
   "outputs": [
    {
     "data": {
      "text/html": [
       "<div>\n",
       "<style scoped>\n",
       "    .dataframe tbody tr th:only-of-type {\n",
       "        vertical-align: middle;\n",
       "    }\n",
       "\n",
       "    .dataframe tbody tr th {\n",
       "        vertical-align: top;\n",
       "    }\n",
       "\n",
       "    .dataframe thead th {\n",
       "        text-align: right;\n",
       "    }\n",
       "</style>\n",
       "<table border=\"1\" class=\"dataframe\">\n",
       "  <thead>\n",
       "    <tr style=\"text-align: right;\">\n",
       "      <th></th>\n",
       "      <th>post_id</th>\n",
       "      <th>post_type</th>\n",
       "      <th>op_id</th>\n",
       "      <th>op_name</th>\n",
       "      <th>op_category</th>\n",
       "      <th>op_gender</th>\n",
       "      <th>responder_id</th>\n",
       "      <th>post_text</th>\n",
       "      <th>response_text</th>\n",
       "    </tr>\n",
       "  </thead>\n",
       "  <tbody>\n",
       "    <tr>\n",
       "      <th>0</th>\n",
       "      <td>0</td>\n",
       "      <td>photo</td>\n",
       "      <td>11679984</td>\n",
       "      <td>Byron Miranda</td>\n",
       "      <td>Wikipedia_American_television_news_anchors</td>\n",
       "      <td>M</td>\n",
       "      <td>Michelle</td>\n",
       "      <td>Tornado watch in effect tonight. Be safe. Plea...</td>\n",
       "      <td>Is this watch going to make it to LaPorte county?</td>\n",
       "    </tr>\n",
       "    <tr>\n",
       "      <th>1</th>\n",
       "      <td>0</td>\n",
       "      <td>photo</td>\n",
       "      <td>11679984</td>\n",
       "      <td>Byron Miranda</td>\n",
       "      <td>Wikipedia_American_television_news_anchors</td>\n",
       "      <td>M</td>\n",
       "      <td>Melissa</td>\n",
       "      <td>Tornado watch in effect tonight. Be safe. Plea...</td>\n",
       "      <td>Anything for Wilmington area</td>\n",
       "    </tr>\n",
       "    <tr>\n",
       "      <th>2</th>\n",
       "      <td>0</td>\n",
       "      <td>photo</td>\n",
       "      <td>11679984</td>\n",
       "      <td>Byron Miranda</td>\n",
       "      <td>Wikipedia_American_television_news_anchors</td>\n",
       "      <td>M</td>\n",
       "      <td>Darlene</td>\n",
       "      <td>Tornado watch in effect tonight. Be safe. Plea...</td>\n",
       "      <td>Thanks, please keep us posted.</td>\n",
       "    </tr>\n",
       "    <tr>\n",
       "      <th>3</th>\n",
       "      <td>0</td>\n",
       "      <td>photo</td>\n",
       "      <td>11679984</td>\n",
       "      <td>Byron Miranda</td>\n",
       "      <td>Wikipedia_American_television_news_anchors</td>\n",
       "      <td>M</td>\n",
       "      <td>Cheryl</td>\n",
       "      <td>Tornado watch in effect tonight. Be safe. Plea...</td>\n",
       "      <td>Thanks Byron</td>\n",
       "    </tr>\n",
       "    <tr>\n",
       "      <th>4</th>\n",
       "      <td>0</td>\n",
       "      <td>photo</td>\n",
       "      <td>11679984</td>\n",
       "      <td>Byron Miranda</td>\n",
       "      <td>Wikipedia_American_television_news_anchors</td>\n",
       "      <td>M</td>\n",
       "      <td>Melissa</td>\n",
       "      <td>Tornado watch in effect tonight. Be safe. Plea...</td>\n",
       "      <td>[[STICKER]]</td>\n",
       "    </tr>\n",
       "  </tbody>\n",
       "</table>\n",
       "</div>"
      ],
      "text/plain": [
       "   post_id post_type     op_id        op_name  \\\n",
       "0        0     photo  11679984  Byron Miranda   \n",
       "1        0     photo  11679984  Byron Miranda   \n",
       "2        0     photo  11679984  Byron Miranda   \n",
       "3        0     photo  11679984  Byron Miranda   \n",
       "4        0     photo  11679984  Byron Miranda   \n",
       "\n",
       "                                  op_category op_gender responder_id  \\\n",
       "0  Wikipedia_American_television_news_anchors         M     Michelle   \n",
       "1  Wikipedia_American_television_news_anchors         M      Melissa   \n",
       "2  Wikipedia_American_television_news_anchors         M      Darlene   \n",
       "3  Wikipedia_American_television_news_anchors         M       Cheryl   \n",
       "4  Wikipedia_American_television_news_anchors         M      Melissa   \n",
       "\n",
       "                                           post_text  \\\n",
       "0  Tornado watch in effect tonight. Be safe. Plea...   \n",
       "1  Tornado watch in effect tonight. Be safe. Plea...   \n",
       "2  Tornado watch in effect tonight. Be safe. Plea...   \n",
       "3  Tornado watch in effect tonight. Be safe. Plea...   \n",
       "4  Tornado watch in effect tonight. Be safe. Plea...   \n",
       "\n",
       "                                       response_text  \n",
       "0  Is this watch going to make it to LaPorte county?  \n",
       "1                       Anything for Wilmington area  \n",
       "2                     Thanks, please keep us posted.  \n",
       "3                                       Thanks Byron  \n",
       "4                                        [[STICKER]]  "
      ]
     },
     "execution_count": 13,
     "metadata": {},
     "output_type": "execute_result"
    }
   ],
   "source": [
    "fb_wiki_df.head()"
   ]
  },
  {
   "cell_type": "code",
   "execution_count": 14,
   "metadata": {},
   "outputs": [
    {
     "data": {
      "text/plain": [
       "photo     61411\n",
       "link      37609\n",
       "status    33495\n",
       "video     16026\n",
       "event       859\n",
       "note         32\n",
       "music        16\n",
       "Name: post_type, dtype: int64"
      ]
     },
     "execution_count": 14,
     "metadata": {},
     "output_type": "execute_result"
    }
   ],
   "source": [
    "unique_posts = fb_wiki_df.drop_duplicates('post_id')\n",
    "\n",
    "# different post types, make sure unique for post id\n",
    "unique_posts.post_type.value_counts()"
   ]
  },
  {
   "cell_type": "code",
   "execution_count": 15,
   "metadata": {},
   "outputs": [
    {
     "data": {
      "text/plain": [
       "                                                                   31637\n",
       "Wikipedia_American_television_actresses                            22822\n",
       "Wikipedia_American_television_news_anchors                         17925\n",
       "Wikipedia_American_television_talk_show_hosts                      16607\n",
       "Wikipedia_American_female_tennis_players                           14855\n",
       "Wikipedia_American_film_actresses                                  14579\n",
       "Wikipedia_American_male_film_actors                                12304\n",
       "Wikipedia_American_television_journalists                          10285\n",
       "Wikipedia_American_male_television_actors                           3330\n",
       "Wikipedia_Women_economists                                          2945\n",
       "Wikipedia_American_male_tennis_players                               957\n",
       "Wikipedia_21st-century_American_novelists                            792\n",
       "Wikipedia_Political_analysts                                         338\n",
       "Wikipedia_Olympic_track_and_field_athletes_of_the_United_States       72\n",
       "Name: op_category, dtype: int64"
      ]
     },
     "execution_count": 15,
     "metadata": {},
     "output_type": "execute_result"
    }
   ],
   "source": [
    "# different op categories, make sure unique for post id\n",
    "unique_posts.op_category.value_counts()"
   ]
  },
  {
   "cell_type": "code",
   "execution_count": 16,
   "metadata": {},
   "outputs": [
    {
     "data": {
      "text/plain": [
       "W    99692\n",
       "M    49756\n",
       "Name: op_gender, dtype: int64"
      ]
     },
     "execution_count": 16,
     "metadata": {},
     "output_type": "execute_result"
    }
   ],
   "source": [
    "# different op genders, make sure unique for post id\n",
    "unique_posts.op_gender.value_counts()"
   ]
  },
  {
   "cell_type": "code",
   "execution_count": 17,
   "metadata": {},
   "outputs": [
    {
     "data": {
      "text/plain": [
       "71.5910350088325"
      ]
     },
     "execution_count": 17,
     "metadata": {},
     "output_type": "execute_result"
    }
   ],
   "source": [
    "# average num responses for everyone\n",
    "fb_wiki_df.post_id.value_counts().mean()"
   ]
  },
  {
   "cell_type": "code",
   "execution_count": 18,
   "metadata": {},
   "outputs": [
    {
     "name": "stdout",
     "output_type": "stream",
     "text": [
      "average responses when poster is male: 71.25723530830453\n",
      "average responses when poster is female: 71.75763351121454\n"
     ]
    }
   ],
   "source": [
    "# average number of responses per gender\n",
    "\n",
    "print('average responses when poster is male:', fb_wiki_df.groupby('op_gender').post_id.value_counts()['M'].mean())\n",
    "print('average responses when poster is female:', fb_wiki_df.groupby('op_gender').post_id.value_counts()['W'].mean())"
   ]
  },
  {
   "cell_type": "markdown",
   "metadata": {},
   "source": [
    "### Analysis of Fitocracy"
   ]
  },
  {
   "cell_type": "code",
   "execution_count": 19,
   "metadata": {},
   "outputs": [
    {
     "data": {
      "text/html": [
       "<div>\n",
       "<style scoped>\n",
       "    .dataframe tbody tr th:only-of-type {\n",
       "        vertical-align: middle;\n",
       "    }\n",
       "\n",
       "    .dataframe tbody tr th {\n",
       "        vertical-align: top;\n",
       "    }\n",
       "\n",
       "    .dataframe thead th {\n",
       "        text-align: right;\n",
       "    }\n",
       "</style>\n",
       "<table border=\"1\" class=\"dataframe\">\n",
       "  <thead>\n",
       "    <tr style=\"text-align: right;\">\n",
       "      <th></th>\n",
       "      <th>post_id</th>\n",
       "      <th>op_id</th>\n",
       "      <th>op_gender</th>\n",
       "      <th>responder_id</th>\n",
       "      <th>responder_gender</th>\n",
       "      <th>post_text</th>\n",
       "      <th>response_text</th>\n",
       "    </tr>\n",
       "  </thead>\n",
       "  <tbody>\n",
       "    <tr>\n",
       "      <th>0</th>\n",
       "      <td>0</td>\n",
       "      <td>102</td>\n",
       "      <td>W</td>\n",
       "      <td>1196122</td>\n",
       "      <td>M</td>\n",
       "      <td>Thanks for the follow!  I followed back :)  I ...</td>\n",
       "      <td>One day at a time! =]</td>\n",
       "    </tr>\n",
       "    <tr>\n",
       "      <th>1</th>\n",
       "      <td>1</td>\n",
       "      <td>104</td>\n",
       "      <td>W</td>\n",
       "      <td>5867</td>\n",
       "      <td>W</td>\n",
       "      <td>I've decided I have this crazy goal of running...</td>\n",
       "      <td>Crazy is synonymous with awesome in this case.</td>\n",
       "    </tr>\n",
       "    <tr>\n",
       "      <th>2</th>\n",
       "      <td>2</td>\n",
       "      <td>104</td>\n",
       "      <td>W</td>\n",
       "      <td>1635</td>\n",
       "      <td>M</td>\n",
       "      <td>Umm, yeah, so those are assisted pull-ups. Bef...</td>\n",
       "      <td>You can enter assisted pullups. Select pullups...</td>\n",
       "    </tr>\n",
       "    <tr>\n",
       "      <th>3</th>\n",
       "      <td>3</td>\n",
       "      <td>117</td>\n",
       "      <td>M</td>\n",
       "      <td>8520</td>\n",
       "      <td>W</td>\n",
       "      <td>dam gurl lookin mad tone in dat pp holla bb</td>\n",
       "      <td>Mirin 3% bodyfat? Yeah, you are.</td>\n",
       "    </tr>\n",
       "    <tr>\n",
       "      <th>4</th>\n",
       "      <td>4</td>\n",
       "      <td>117</td>\n",
       "      <td>M</td>\n",
       "      <td>29126</td>\n",
       "      <td>M</td>\n",
       "      <td>What's up there bear mode?</td>\n",
       "      <td>Hey! I just started a new job, so things are s...</td>\n",
       "    </tr>\n",
       "  </tbody>\n",
       "</table>\n",
       "</div>"
      ],
      "text/plain": [
       "   post_id  op_id op_gender  responder_id responder_gender  \\\n",
       "0        0    102         W       1196122                M   \n",
       "1        1    104         W          5867                W   \n",
       "2        2    104         W          1635                M   \n",
       "3        3    117         M          8520                W   \n",
       "4        4    117         M         29126                M   \n",
       "\n",
       "                                           post_text  \\\n",
       "0  Thanks for the follow!  I followed back :)  I ...   \n",
       "1  I've decided I have this crazy goal of running...   \n",
       "2  Umm, yeah, so those are assisted pull-ups. Bef...   \n",
       "3        dam gurl lookin mad tone in dat pp holla bb   \n",
       "4                         What's up there bear mode?   \n",
       "\n",
       "                                       response_text  \n",
       "0                              One day at a time! =]  \n",
       "1     Crazy is synonymous with awesome in this case.  \n",
       "2  You can enter assisted pullups. Select pullups...  \n",
       "3                   Mirin 3% bodyfat? Yeah, you are.  \n",
       "4  Hey! I just started a new job, so things are s...  "
      ]
     },
     "execution_count": 19,
     "metadata": {},
     "output_type": "execute_result"
    }
   ],
   "source": [
    "fitocracy_df.head()"
   ]
  },
  {
   "cell_type": "code",
   "execution_count": 20,
   "metadata": {},
   "outputs": [
    {
     "name": "stdout",
     "output_type": "stream",
     "text": [
      "318535\n",
      "318535\n"
     ]
    }
   ],
   "source": [
    "# make sure post id is unique again\n",
    "print(fitocracy_df.post_id.nunique())\n",
    "print(len(fitocracy_df.post_id))"
   ]
  },
  {
   "cell_type": "code",
   "execution_count": 21,
   "metadata": {},
   "outputs": [
    {
     "data": {
      "text/plain": [
       "M    173738\n",
       "W    144797\n",
       "Name: op_gender, dtype: int64"
      ]
     },
     "execution_count": 21,
     "metadata": {},
     "output_type": "execute_result"
    }
   ],
   "source": [
    "# different op genders\n",
    "fitocracy_df.op_gender.value_counts()"
   ]
  },
  {
   "cell_type": "code",
   "execution_count": 22,
   "metadata": {},
   "outputs": [
    {
     "data": {
      "text/plain": [
       "W    163315\n",
       "M    155220\n",
       "Name: responder_gender, dtype: int64"
      ]
     },
     "execution_count": 22,
     "metadata": {},
     "output_type": "execute_result"
    }
   ],
   "source": [
    "# different responder genders\n",
    "fitocracy_df.responder_gender.value_counts()"
   ]
  },
  {
   "cell_type": "code",
   "execution_count": 23,
   "metadata": {},
   "outputs": [
    {
     "data": {
      "text/plain": [
       "op_gender  responder_gender\n",
       "M          W                   94375\n",
       "           M                   79363\n",
       "W          M                   75857\n",
       "           W                   68940\n",
       "Name: responder_gender, dtype: int64"
      ]
     },
     "execution_count": 23,
     "metadata": {},
     "output_type": "execute_result"
    }
   ],
   "source": [
    "# can't do average number responses per gender - there is only one response per post\n",
    "\n",
    "# instead, look at how many males respond to males vs. females and how many females respond to males vs. females\n",
    "fitocracy_df.groupby('op_gender').responder_gender.value_counts()"
   ]
  },
  {
   "cell_type": "markdown",
   "metadata": {},
   "source": [
    "### Analysis of Reddit"
   ]
  },
  {
   "cell_type": "code",
   "execution_count": 24,
   "metadata": {},
   "outputs": [
    {
     "data": {
      "text/html": [
       "<div>\n",
       "<style scoped>\n",
       "    .dataframe tbody tr th:only-of-type {\n",
       "        vertical-align: middle;\n",
       "    }\n",
       "\n",
       "    .dataframe tbody tr th {\n",
       "        vertical-align: top;\n",
       "    }\n",
       "\n",
       "    .dataframe thead th {\n",
       "        text-align: right;\n",
       "    }\n",
       "</style>\n",
       "<table border=\"1\" class=\"dataframe\">\n",
       "  <thead>\n",
       "    <tr style=\"text-align: right;\">\n",
       "      <th></th>\n",
       "      <th>post_id</th>\n",
       "      <th>subreddit</th>\n",
       "      <th>op_id</th>\n",
       "      <th>op_gender</th>\n",
       "      <th>op_gender_visible</th>\n",
       "      <th>responder_id</th>\n",
       "      <th>responder_gender</th>\n",
       "      <th>responder_gender_visible</th>\n",
       "      <th>post_text</th>\n",
       "      <th>response_text</th>\n",
       "    </tr>\n",
       "  </thead>\n",
       "  <tbody>\n",
       "    <tr>\n",
       "      <th>0</th>\n",
       "      <td>0</td>\n",
       "      <td>2007scape</td>\n",
       "      <td>Kastoli</td>\n",
       "      <td>M</td>\n",
       "      <td>False</td>\n",
       "      <td>Thunda_Storm</td>\n",
       "      <td></td>\n",
       "      <td>unknown_gender</td>\n",
       "      <td>slayer task perhaps?</td>\n",
       "      <td>or low level. I mean hes wearing black armour ...</td>\n",
       "    </tr>\n",
       "    <tr>\n",
       "      <th>1</th>\n",
       "      <td>1</td>\n",
       "      <td>2007scape</td>\n",
       "      <td>Kastoli</td>\n",
       "      <td>M</td>\n",
       "      <td>False</td>\n",
       "      <td>Thunda_Storm</td>\n",
       "      <td></td>\n",
       "      <td>unknown_gender</td>\n",
       "      <td>Black DHide legs, possibly an initiate pure?</td>\n",
       "      <td>So... Low level</td>\n",
       "    </tr>\n",
       "    <tr>\n",
       "      <th>2</th>\n",
       "      <td>2</td>\n",
       "      <td>2007scape</td>\n",
       "      <td>DCBizzle</td>\n",
       "      <td>M</td>\n",
       "      <td>False</td>\n",
       "      <td>minixmatt</td>\n",
       "      <td></td>\n",
       "      <td>unknown_gender</td>\n",
       "      <td>Whats a tonk? lol</td>\n",
       "      <td>&lt;link&gt;  TONK, TONK</td>\n",
       "    </tr>\n",
       "    <tr>\n",
       "      <th>3</th>\n",
       "      <td>3</td>\n",
       "      <td>2007scape</td>\n",
       "      <td>ordona</td>\n",
       "      <td>M</td>\n",
       "      <td>False</td>\n",
       "      <td>Namiweso</td>\n",
       "      <td></td>\n",
       "      <td>unknown_gender</td>\n",
       "      <td>Do the Stronghold of Security for a free 10k t...</td>\n",
       "      <td>Thanks I forgot about that place! :)</td>\n",
       "    </tr>\n",
       "    <tr>\n",
       "      <th>4</th>\n",
       "      <td>4</td>\n",
       "      <td>2007scape</td>\n",
       "      <td>SlayerMaster</td>\n",
       "      <td>M</td>\n",
       "      <td>False</td>\n",
       "      <td>Quantization</td>\n",
       "      <td></td>\n",
       "      <td>unknown_gender</td>\n",
       "      <td>I cant tell if this guy just doesnt speak Engl...</td>\n",
       "      <td>Or hes just trolling.</td>\n",
       "    </tr>\n",
       "  </tbody>\n",
       "</table>\n",
       "</div>"
      ],
      "text/plain": [
       "   post_id  subreddit         op_id op_gender  op_gender_visible  \\\n",
       "0        0  2007scape       Kastoli         M              False   \n",
       "1        1  2007scape       Kastoli         M              False   \n",
       "2        2  2007scape      DCBizzle         M              False   \n",
       "3        3  2007scape        ordona         M              False   \n",
       "4        4  2007scape  SlayerMaster         M              False   \n",
       "\n",
       "   responder_id responder_gender responder_gender_visible  \\\n",
       "0  Thunda_Storm                            unknown_gender   \n",
       "1  Thunda_Storm                            unknown_gender   \n",
       "2     minixmatt                            unknown_gender   \n",
       "3      Namiweso                            unknown_gender   \n",
       "4  Quantization                            unknown_gender   \n",
       "\n",
       "                                           post_text  \\\n",
       "0                               slayer task perhaps?   \n",
       "1       Black DHide legs, possibly an initiate pure?   \n",
       "2                                  Whats a tonk? lol   \n",
       "3  Do the Stronghold of Security for a free 10k t...   \n",
       "4  I cant tell if this guy just doesnt speak Engl...   \n",
       "\n",
       "                                       response_text  \n",
       "0  or low level. I mean hes wearing black armour ...  \n",
       "1                                    So... Low level  \n",
       "2                                 <link>  TONK, TONK  \n",
       "3               Thanks I forgot about that place! :)  \n",
       "4                              Or hes just trolling.  "
      ]
     },
     "execution_count": 24,
     "metadata": {},
     "output_type": "execute_result"
    }
   ],
   "source": [
    "reddit_df.head()"
   ]
  },
  {
   "cell_type": "code",
   "execution_count": 25,
   "metadata": {},
   "outputs": [
    {
     "name": "stdout",
     "output_type": "stream",
     "text": [
      "1453512\n",
      "1453512\n"
     ]
    }
   ],
   "source": [
    "# make sure post id is unique again\n",
    "print(reddit_df.post_id.nunique())\n",
    "print(len(reddit_df.post_id))"
   ]
  },
  {
   "cell_type": "code",
   "execution_count": 26,
   "metadata": {},
   "outputs": [
    {
     "data": {
      "text/plain": [
       "AskReddit               344400\n",
       "AskMen                  133920\n",
       "politics                 46727\n",
       "funny                    44761\n",
       "pics                     42920\n",
       "relationships            34809\n",
       "AdviceAnimals            33965\n",
       "worldnews                33571\n",
       "todayilearned            32652\n",
       "nba                      32242\n",
       "gaming                   27855\n",
       "news                     27225\n",
       "nfl                      27194\n",
       "videos                   26940\n",
       "WTF                      26682\n",
       "soccer                   22315\n",
       "leagueoflegends          22151\n",
       "CasualConversation       21517\n",
       "movies                   20567\n",
       "OkCupid                  18239\n",
       "CFB                      16025\n",
       "anime                    15254\n",
       "europe                   15233\n",
       "hockey                   14949\n",
       "Fitness                  14909\n",
       "teenagers                12809\n",
       "pcmasterrace             11841\n",
       "explainlikeimfive        11270\n",
       "SquaredCircle            11249\n",
       "technology               11244\n",
       "                         ...  \n",
       "xboxone                   2932\n",
       "heroesofthestorm          2456\n",
       "marvelstudios             2319\n",
       "gonewild                  2310\n",
       "Jokes                     2251\n",
       "Warframe                  2034\n",
       "pathofexile               1771\n",
       "RocketLeague              1766\n",
       "Bitcoin                   1726\n",
       "TheSilphRoad              1650\n",
       "me_irl                    1371\n",
       "Philippines               1295\n",
       "PUBATTLEGROUNDS           1204\n",
       "NintendoSwitch            1117\n",
       "FIFA                      1014\n",
       "2007scape                  928\n",
       "rupaulsdragrace            881\n",
       "Amd                        879\n",
       "counting                   798\n",
       "FFBraveExvius              696\n",
       "FireEmblemHeroes           685\n",
       "GlobalOffensiveTrade       681\n",
       "DBZDokkanBattle            523\n",
       "Rainbow6                   477\n",
       "dankmemes                  374\n",
       "RocketLeagueExchange       363\n",
       "ethtrader                  205\n",
       "AskOuija                   117\n",
       "Ice_Poseidon                37\n",
       "SolutionGambling             2\n",
       "Name: subreddit, Length: 98, dtype: int64"
      ]
     },
     "execution_count": 26,
     "metadata": {},
     "output_type": "execute_result"
    }
   ],
   "source": [
    "# different subreddits\n",
    "reddit_df.subreddit.value_counts()"
   ]
  },
  {
   "cell_type": "code",
   "execution_count": 27,
   "metadata": {},
   "outputs": [
    {
     "data": {
      "text/plain": [
       "M    1148591\n",
       "W     304921\n",
       "Name: op_gender, dtype: int64"
      ]
     },
     "execution_count": 27,
     "metadata": {},
     "output_type": "execute_result"
    }
   ],
   "source": [
    "# different op genders\n",
    "reddit_df.op_gender.value_counts()"
   ]
  },
  {
   "cell_type": "code",
   "execution_count": 28,
   "metadata": {},
   "outputs": [
    {
     "data": {
      "text/plain": [
       "     1320290\n",
       "M     102530\n",
       "W      30692\n",
       "Name: responder_gender, dtype: int64"
      ]
     },
     "execution_count": 28,
     "metadata": {},
     "output_type": "execute_result"
    }
   ],
   "source": [
    "# different responder genders\n",
    "reddit_df.responder_gender.value_counts()\n",
    "# blank is unknown"
   ]
  },
  {
   "cell_type": "code",
   "execution_count": 29,
   "metadata": {},
   "outputs": [
    {
     "data": {
      "text/plain": [
       "op_gender  responder_gender\n",
       "M                              1045003\n",
       "           M                     80705\n",
       "           W                     22883\n",
       "W                               275287\n",
       "           M                     21825\n",
       "           W                      7809\n",
       "Name: responder_gender, dtype: int64"
      ]
     },
     "execution_count": 29,
     "metadata": {},
     "output_type": "execute_result"
    }
   ],
   "source": [
    "# look at how many males respond to males vs. females and how many females respond to males vs. females\n",
    "reddit_df.groupby('op_gender').responder_gender.value_counts()"
   ]
  },
  {
   "cell_type": "markdown",
   "metadata": {},
   "source": [
    "Let's look at male vs. female posters by subreddit and see if we can find any patterns. It was my assumption that maybe there was so much more male posters and responders was because of the prominent AskMen subreddit."
   ]
  },
  {
   "cell_type": "code",
   "execution_count": 30,
   "metadata": {},
   "outputs": [
    {
     "data": {
      "text/html": [
       "<div>\n",
       "<style scoped>\n",
       "    .dataframe tbody tr th:only-of-type {\n",
       "        vertical-align: middle;\n",
       "    }\n",
       "\n",
       "    .dataframe tbody tr th {\n",
       "        vertical-align: top;\n",
       "    }\n",
       "\n",
       "    .dataframe thead th {\n",
       "        text-align: right;\n",
       "    }\n",
       "</style>\n",
       "<table border=\"1\" class=\"dataframe\">\n",
       "  <thead>\n",
       "    <tr style=\"text-align: right;\">\n",
       "      <th>op_gender</th>\n",
       "      <th>M</th>\n",
       "      <th>W</th>\n",
       "    </tr>\n",
       "    <tr>\n",
       "      <th>subreddit</th>\n",
       "      <th></th>\n",
       "      <th></th>\n",
       "    </tr>\n",
       "  </thead>\n",
       "  <tbody>\n",
       "    <tr>\n",
       "      <th>2007scape</th>\n",
       "      <td>886.0</td>\n",
       "      <td>42.0</td>\n",
       "    </tr>\n",
       "    <tr>\n",
       "      <th>AdviceAnimals</th>\n",
       "      <td>25525.0</td>\n",
       "      <td>8440.0</td>\n",
       "    </tr>\n",
       "    <tr>\n",
       "      <th>Amd</th>\n",
       "      <td>860.0</td>\n",
       "      <td>19.0</td>\n",
       "    </tr>\n",
       "    <tr>\n",
       "      <th>AskMen</th>\n",
       "      <td>110542.0</td>\n",
       "      <td>23378.0</td>\n",
       "    </tr>\n",
       "    <tr>\n",
       "      <th>AskOuija</th>\n",
       "      <td>98.0</td>\n",
       "      <td>19.0</td>\n",
       "    </tr>\n",
       "  </tbody>\n",
       "</table>\n",
       "</div>"
      ],
      "text/plain": [
       "op_gender             M        W\n",
       "subreddit                       \n",
       "2007scape         886.0     42.0\n",
       "AdviceAnimals   25525.0   8440.0\n",
       "Amd               860.0     19.0\n",
       "AskMen         110542.0  23378.0\n",
       "AskOuija           98.0     19.0"
      ]
     },
     "execution_count": 30,
     "metadata": {},
     "output_type": "execute_result"
    }
   ],
   "source": [
    "# copying in from another file, but I thought it was important to look at again\n",
    "subgroups = reddit_df.groupby('subreddit').op_gender.value_counts()\n",
    "subgroups_df = subgroups.unstack()\n",
    "subgroups_df.head()"
   ]
  },
  {
   "cell_type": "code",
   "execution_count": 31,
   "metadata": {},
   "outputs": [
    {
     "data": {
      "image/png": "[encoded data removed]",
      "text/plain": [
       "<Figure size 1440x720 with 1 Axes>"
      ]
     },
     "metadata": {
      "needs_background": "light"
     },
     "output_type": "display_data"
    }
   ],
   "source": [
    "# graph the first 20 subreddits to get some idea\n",
    "subgroups_df[:20].plot(kind='bar', figsize=(20,10))\n",
    "plt.show()"
   ]
  },
  {
   "cell_type": "markdown",
   "metadata": {},
   "source": [
    "So just looking at a flash of the data, 'AskMen' doesn't seem to stand out as a much higher male:female ratio. It seems like most have more male. Maybe Reddit is just a male-dominated site.\n",
    "\n",
    "Are there any groups where there are more women? From the graph, it looks like the subreddit \"BigBrother\" has more female posters. Let's see what else..."
   ]
  },
  {
   "cell_type": "code",
   "execution_count": 32,
   "metadata": {},
   "outputs": [
    {
     "data": {
      "text/html": [
       "<div>\n",
       "<style scoped>\n",
       "    .dataframe tbody tr th:only-of-type {\n",
       "        vertical-align: middle;\n",
       "    }\n",
       "\n",
       "    .dataframe tbody tr th {\n",
       "        vertical-align: top;\n",
       "    }\n",
       "\n",
       "    .dataframe thead th {\n",
       "        text-align: right;\n",
       "    }\n",
       "</style>\n",
       "<table border=\"1\" class=\"dataframe\">\n",
       "  <thead>\n",
       "    <tr style=\"text-align: right;\">\n",
       "      <th>op_gender</th>\n",
       "      <th>M</th>\n",
       "      <th>W</th>\n",
       "    </tr>\n",
       "    <tr>\n",
       "      <th>subreddit</th>\n",
       "      <th></th>\n",
       "      <th></th>\n",
       "    </tr>\n",
       "  </thead>\n",
       "  <tbody>\n",
       "    <tr>\n",
       "      <th>BigBrother</th>\n",
       "      <td>3564.0</td>\n",
       "      <td>4647.0</td>\n",
       "    </tr>\n",
       "    <tr>\n",
       "      <th>aww</th>\n",
       "      <td>4400.0</td>\n",
       "      <td>4597.0</td>\n",
       "    </tr>\n",
       "    <tr>\n",
       "      <th>counting</th>\n",
       "      <td>267.0</td>\n",
       "      <td>531.0</td>\n",
       "    </tr>\n",
       "    <tr>\n",
       "      <th>relationships</th>\n",
       "      <td>10951.0</td>\n",
       "      <td>23858.0</td>\n",
       "    </tr>\n",
       "    <tr>\n",
       "      <th>rupaulsdragrace</th>\n",
       "      <td>153.0</td>\n",
       "      <td>728.0</td>\n",
       "    </tr>\n",
       "  </tbody>\n",
       "</table>\n",
       "</div>"
      ],
      "text/plain": [
       "op_gender              M        W\n",
       "subreddit                        \n",
       "BigBrother        3564.0   4647.0\n",
       "aww               4400.0   4597.0\n",
       "counting           267.0    531.0\n",
       "relationships    10951.0  23858.0\n",
       "rupaulsdragrace    153.0    728.0"
      ]
     },
     "execution_count": 32,
     "metadata": {},
     "output_type": "execute_result"
    }
   ],
   "source": [
    "subgroups_df[subgroups_df.W > subgroups_df.M]"
   ]
  },
  {
   "cell_type": "markdown",
   "metadata": {},
   "source": [
    "So with all these subreddits - there are only 5 that have more female than male posters!"
   ]
  },
  {
   "cell_type": "markdown",
   "metadata": {},
   "source": [
    "### Analysis of TED"
   ]
  },
  {
   "cell_type": "code",
   "execution_count": 33,
   "metadata": {},
   "outputs": [
    {
     "data": {
      "text/html": [
       "<div>\n",
       "<style scoped>\n",
       "    .dataframe tbody tr th:only-of-type {\n",
       "        vertical-align: middle;\n",
       "    }\n",
       "\n",
       "    .dataframe tbody tr th {\n",
       "        vertical-align: top;\n",
       "    }\n",
       "\n",
       "    .dataframe thead th {\n",
       "        text-align: right;\n",
       "    }\n",
       "</style>\n",
       "<table border=\"1\" class=\"dataframe\">\n",
       "  <thead>\n",
       "    <tr style=\"text-align: right;\">\n",
       "      <th></th>\n",
       "      <th>post_id</th>\n",
       "      <th>op_id</th>\n",
       "      <th>op_gender</th>\n",
       "      <th>responder_id</th>\n",
       "      <th>response_text</th>\n",
       "    </tr>\n",
       "  </thead>\n",
       "  <tbody>\n",
       "    <tr>\n",
       "      <th>0</th>\n",
       "      <td>0</td>\n",
       "      <td>Aimee Mullins</td>\n",
       "      <td>W</td>\n",
       "      <td>Laura</td>\n",
       "      <td>She seems like a truly amazing person, regardl...</td>\n",
       "    </tr>\n",
       "    <tr>\n",
       "      <th>1</th>\n",
       "      <td>1</td>\n",
       "      <td>Aimee Mullins</td>\n",
       "      <td>W</td>\n",
       "      <td>Ellen</td>\n",
       "      <td>Aimee's true \"disability\" is when people treat...</td>\n",
       "    </tr>\n",
       "    <tr>\n",
       "      <th>2</th>\n",
       "      <td>2</td>\n",
       "      <td>Aimee Mullins</td>\n",
       "      <td>W</td>\n",
       "      <td>Tanya</td>\n",
       "      <td>I love that she took away some of the mystery ...</td>\n",
       "    </tr>\n",
       "    <tr>\n",
       "      <th>3</th>\n",
       "      <td>3</td>\n",
       "      <td>Aimee Mullins</td>\n",
       "      <td>W</td>\n",
       "      <td>Salim</td>\n",
       "      <td>VERY inspiring indeed! I love these TED antiqu...</td>\n",
       "    </tr>\n",
       "    <tr>\n",
       "      <th>4</th>\n",
       "      <td>4</td>\n",
       "      <td>Aimee Mullins</td>\n",
       "      <td>W</td>\n",
       "      <td>Kiruba</td>\n",
       "      <td>We take running so much for granted that most ...</td>\n",
       "    </tr>\n",
       "  </tbody>\n",
       "</table>\n",
       "</div>"
      ],
      "text/plain": [
       "   post_id          op_id op_gender responder_id  \\\n",
       "0        0  Aimee Mullins         W        Laura   \n",
       "1        1  Aimee Mullins         W        Ellen   \n",
       "2        2  Aimee Mullins         W        Tanya   \n",
       "3        3  Aimee Mullins         W        Salim   \n",
       "4        4  Aimee Mullins         W       Kiruba   \n",
       "\n",
       "                                       response_text  \n",
       "0  She seems like a truly amazing person, regardl...  \n",
       "1  Aimee's true \"disability\" is when people treat...  \n",
       "2  I love that she took away some of the mystery ...  \n",
       "3  VERY inspiring indeed! I love these TED antiqu...  \n",
       "4  We take running so much for granted that most ...  "
      ]
     },
     "execution_count": 33,
     "metadata": {},
     "output_type": "execute_result"
    }
   ],
   "source": [
    "ted_responses_df.head()"
   ]
  },
  {
   "cell_type": "code",
   "execution_count": 34,
   "metadata": {},
   "outputs": [
    {
     "data": {
      "text/plain": [
       "M    144336\n",
       "W     46011\n",
       "Name: op_gender, dtype: int64"
      ]
     },
     "execution_count": 34,
     "metadata": {},
     "output_type": "execute_result"
    }
   ],
   "source": [
    "# different op genders\n",
    "ted_responses_df.op_gender.value_counts()"
   ]
  },
  {
   "cell_type": "markdown",
   "metadata": {},
   "source": [
    "Not much else to analyze here..."
   ]
  },
  {
   "cell_type": "markdown",
   "metadata": {},
   "source": [
    "## Conduct linguistic analysis\n",
    "Next, we'll look at the actual text. Let's start by conducting some simple linguistic analysis, like token count, sentence length, and TTR.\n",
    "\n",
    "### Facebook Congress linguistic analysis"
   ]
  },
  {
   "cell_type": "code",
   "execution_count": 35,
   "metadata": {},
   "outputs": [
    {
     "name": "stdout",
     "output_type": "stream",
     "text": [
      "<class 'pandas.core.frame.DataFrame'>\n",
      "Int64Index: 14015811 entries, 0 to 14015810\n",
      "Data columns (total 9 columns):\n",
      "post_id          int64\n",
      "post_type        object\n",
      "op_id            int64\n",
      "op_name          object\n",
      "op_category      object\n",
      "op_gender        object\n",
      "responder_id     object\n",
      "post_text        object\n",
      "response_text    object\n",
      "dtypes: int64(2), object(7)\n",
      "memory usage: 1.0+ GB\n"
     ]
    }
   ],
   "source": [
    "# making a smaller sample to do analysis on since it's way too big\n",
    "# how big again?\n",
    "fb_congress_df.info()"
   ]
  },
  {
   "cell_type": "code",
   "execution_count": 36,
   "metadata": {},
   "outputs": [
    {
     "data": {
      "text/plain": [
       "Congress_Republican     8886650\n",
       "Congress_Democratic     4786769\n",
       "Congress_Independent     193088\n",
       "                         149304\n",
       "Name: op_category, dtype: int64"
      ]
     },
     "execution_count": 36,
     "metadata": {},
     "output_type": "execute_result"
    }
   ],
   "source": [
    "fb_congress_df.op_category.value_counts()"
   ]
  },
  {
   "cell_type": "code",
   "execution_count": 37,
   "metadata": {},
   "outputs": [
    {
     "data": {
      "text/html": [
       "<div>\n",
       "<style scoped>\n",
       "    .dataframe tbody tr th:only-of-type {\n",
       "        vertical-align: middle;\n",
       "    }\n",
       "\n",
       "    .dataframe tbody tr th {\n",
       "        vertical-align: top;\n",
       "    }\n",
       "\n",
       "    .dataframe thead th {\n",
       "        text-align: right;\n",
       "    }\n",
       "</style>\n",
       "<table border=\"1\" class=\"dataframe\">\n",
       "  <thead>\n",
       "    <tr style=\"text-align: right;\">\n",
       "      <th></th>\n",
       "      <th>post_id</th>\n",
       "      <th>post_type</th>\n",
       "      <th>op_id</th>\n",
       "      <th>op_name</th>\n",
       "      <th>op_category</th>\n",
       "      <th>op_gender</th>\n",
       "      <th>responder_id</th>\n",
       "      <th>post_text</th>\n",
       "      <th>response_text</th>\n",
       "    </tr>\n",
       "  </thead>\n",
       "  <tbody>\n",
       "    <tr>\n",
       "      <th>126</th>\n",
       "      <td>3</td>\n",
       "      <td>video</td>\n",
       "      <td>57265377</td>\n",
       "      <td>Roger Williams</td>\n",
       "      <td>Congress_Republican</td>\n",
       "      <td>M</td>\n",
       "      <td>Jeremiah</td>\n",
       "      <td>Since President Donald J. Trump was sworn in o...</td>\n",
       "      <td>The mess created by Obama and our legislators....</td>\n",
       "    </tr>\n",
       "    <tr>\n",
       "      <th>217</th>\n",
       "      <td>6</td>\n",
       "      <td>photo</td>\n",
       "      <td>57265377</td>\n",
       "      <td>Roger Williams</td>\n",
       "      <td>Congress_Republican</td>\n",
       "      <td>M</td>\n",
       "      <td>Richard</td>\n",
       "      <td>In Texas, we honor our military heroes. #Chris...</td>\n",
       "      <td>SALUTE.</td>\n",
       "    </tr>\n",
       "    <tr>\n",
       "      <th>314</th>\n",
       "      <td>10</td>\n",
       "      <td>link</td>\n",
       "      <td>57265377</td>\n",
       "      <td>Roger Williams</td>\n",
       "      <td>Congress_Republican</td>\n",
       "      <td>M</td>\n",
       "      <td>Susan</td>\n",
       "      <td>Great news! Former President George H.W. Bush ...</td>\n",
       "      <td>Wonderful.</td>\n",
       "    </tr>\n",
       "    <tr>\n",
       "      <th>588</th>\n",
       "      <td>19</td>\n",
       "      <td>video</td>\n",
       "      <td>57265377</td>\n",
       "      <td>Roger Williams</td>\n",
       "      <td>Congress_Republican</td>\n",
       "      <td>M</td>\n",
       "      <td>Gina</td>\n",
       "      <td>Since its inception, Obamacare has been an abs...</td>\n",
       "      <td>No, the Affordable Care Act isn't failing. Pro...</td>\n",
       "    </tr>\n",
       "    <tr>\n",
       "      <th>625</th>\n",
       "      <td>19</td>\n",
       "      <td>video</td>\n",
       "      <td>57265377</td>\n",
       "      <td>Roger Williams</td>\n",
       "      <td>Congress_Republican</td>\n",
       "      <td>M</td>\n",
       "      <td>Alyssa</td>\n",
       "      <td>Since its inception, Obamacare has been an abs...</td>\n",
       "      <td>No, I do not agree.  You are removing health i...</td>\n",
       "    </tr>\n",
       "  </tbody>\n",
       "</table>\n",
       "</div>"
      ],
      "text/plain": [
       "     post_id post_type     op_id         op_name          op_category  \\\n",
       "126        3     video  57265377  Roger Williams  Congress_Republican   \n",
       "217        6     photo  57265377  Roger Williams  Congress_Republican   \n",
       "314       10      link  57265377  Roger Williams  Congress_Republican   \n",
       "588       19     video  57265377  Roger Williams  Congress_Republican   \n",
       "625       19     video  57265377  Roger Williams  Congress_Republican   \n",
       "\n",
       "    op_gender responder_id                                          post_text  \\\n",
       "126         M     Jeremiah  Since President Donald J. Trump was sworn in o...   \n",
       "217         M      Richard  In Texas, we honor our military heroes. #Chris...   \n",
       "314         M        Susan  Great news! Former President George H.W. Bush ...   \n",
       "588         M         Gina  Since its inception, Obamacare has been an abs...   \n",
       "625         M       Alyssa  Since its inception, Obamacare has been an abs...   \n",
       "\n",
       "                                         response_text  \n",
       "126  The mess created by Obama and our legislators....  \n",
       "217                                            SALUTE.  \n",
       "314                                         Wonderful.  \n",
       "588  No, the Affordable Care Act isn't failing. Pro...  \n",
       "625  No, I do not agree.  You are removing health i...  "
      ]
     },
     "execution_count": 37,
     "metadata": {},
     "output_type": "execute_result"
    }
   ],
   "source": [
    "# so there are 14M entries. That's a TON to tokenize. Let's take a sample of 50,000\n",
    "# should I do a stratified sample?\n",
    "fb_congress_sample = fb_congress_df.sample(50000)\n",
    "fb_congress_sample.sort_index(inplace=True)\n",
    "fb_congress_sample.head()"
   ]
  },
  {
   "cell_type": "code",
   "execution_count": 38,
   "metadata": {},
   "outputs": [
    {
     "name": "stdout",
     "output_type": "stream",
     "text": [
      "link      16968\n",
      "photo     14600\n",
      "status     9891\n",
      "video      8453\n",
      "event        71\n",
      "note         15\n",
      "music         2\n",
      "Name: post_type, dtype: int64\n",
      "Congress_Republican     31758\n",
      "Congress_Democratic     17053\n",
      "Congress_Independent      660\n",
      "                          529\n",
      "Name: op_category, dtype: int64\n",
      "M    37542\n",
      "W    12458\n",
      "Name: op_gender, dtype: int64\n"
     ]
    }
   ],
   "source": [
    "# make sure we still have all post types, op categories, and op genders\n",
    "print(fb_congress_sample.post_type.value_counts())\n",
    "print(fb_congress_sample.op_category.value_counts())\n",
    "print(fb_congress_sample.op_gender.value_counts())"
   ]
  },
  {
   "cell_type": "code",
   "execution_count": 39,
   "metadata": {},
   "outputs": [],
   "source": [
    "# use nltk's tokenizer\n",
    "import nltk\n",
    "\n",
    "fb_congress_sample['post_tokens'] = fb_congress_sample.post_text.map(nltk.word_tokenize)\n",
    "fb_congress_sample['response_tokens'] = fb_congress_sample.response_text.map(nltk.word_tokenize)"
   ]
  },
  {
   "cell_type": "code",
   "execution_count": 40,
   "metadata": {},
   "outputs": [
    {
     "data": {
      "text/html": [
       "<div>\n",
       "<style scoped>\n",
       "    .dataframe tbody tr th:only-of-type {\n",
       "        vertical-align: middle;\n",
       "    }\n",
       "\n",
       "    .dataframe tbody tr th {\n",
       "        vertical-align: top;\n",
       "    }\n",
       "\n",
       "    .dataframe thead th {\n",
       "        text-align: right;\n",
       "    }\n",
       "</style>\n",
       "<table border=\"1\" class=\"dataframe\">\n",
       "  <thead>\n",
       "    <tr style=\"text-align: right;\">\n",
       "      <th></th>\n",
       "      <th>post_id</th>\n",
       "      <th>post_type</th>\n",
       "      <th>op_id</th>\n",
       "      <th>op_name</th>\n",
       "      <th>op_category</th>\n",
       "      <th>op_gender</th>\n",
       "      <th>responder_id</th>\n",
       "      <th>post_text</th>\n",
       "      <th>response_text</th>\n",
       "      <th>post_tokens</th>\n",
       "      <th>response_tokens</th>\n",
       "      <th>post_length</th>\n",
       "      <th>response_length</th>\n",
       "    </tr>\n",
       "  </thead>\n",
       "  <tbody>\n",
       "    <tr>\n",
       "      <th>126</th>\n",
       "      <td>3</td>\n",
       "      <td>video</td>\n",
       "      <td>57265377</td>\n",
       "      <td>Roger Williams</td>\n",
       "      <td>Congress_Republican</td>\n",
       "      <td>M</td>\n",
       "      <td>Jeremiah</td>\n",
       "      <td>Since President Donald J. Trump was sworn in o...</td>\n",
       "      <td>The mess created by Obama and our legislators....</td>\n",
       "      <td>[Since, President, Donald, J., Trump, was, swo...</td>\n",
       "      <td>[The, mess, created, by, Obama, and, our, legi...</td>\n",
       "      <td>69</td>\n",
       "      <td>41</td>\n",
       "    </tr>\n",
       "    <tr>\n",
       "      <th>217</th>\n",
       "      <td>6</td>\n",
       "      <td>photo</td>\n",
       "      <td>57265377</td>\n",
       "      <td>Roger Williams</td>\n",
       "      <td>Congress_Republican</td>\n",
       "      <td>M</td>\n",
       "      <td>Richard</td>\n",
       "      <td>In Texas, we honor our military heroes. #Chris...</td>\n",
       "      <td>SALUTE.</td>\n",
       "      <td>[In, Texas, ,, we, honor, our, military, heroe...</td>\n",
       "      <td>[SALUTE, .]</td>\n",
       "      <td>11</td>\n",
       "      <td>2</td>\n",
       "    </tr>\n",
       "    <tr>\n",
       "      <th>314</th>\n",
       "      <td>10</td>\n",
       "      <td>link</td>\n",
       "      <td>57265377</td>\n",
       "      <td>Roger Williams</td>\n",
       "      <td>Congress_Republican</td>\n",
       "      <td>M</td>\n",
       "      <td>Susan</td>\n",
       "      <td>Great news! Former President George H.W. Bush ...</td>\n",
       "      <td>Wonderful.</td>\n",
       "      <td>[Great, news, !, Former, President, George, H....</td>\n",
       "      <td>[Wonderful, .]</td>\n",
       "      <td>16</td>\n",
       "      <td>2</td>\n",
       "    </tr>\n",
       "    <tr>\n",
       "      <th>588</th>\n",
       "      <td>19</td>\n",
       "      <td>video</td>\n",
       "      <td>57265377</td>\n",
       "      <td>Roger Williams</td>\n",
       "      <td>Congress_Republican</td>\n",
       "      <td>M</td>\n",
       "      <td>Gina</td>\n",
       "      <td>Since its inception, Obamacare has been an abs...</td>\n",
       "      <td>No, the Affordable Care Act isn't failing. Pro...</td>\n",
       "      <td>[Since, its, inception, ,, Obamacare, has, bee...</td>\n",
       "      <td>[No, ,, the, Affordable, Care, Act, is, n't, f...</td>\n",
       "      <td>28</td>\n",
       "      <td>97</td>\n",
       "    </tr>\n",
       "    <tr>\n",
       "      <th>625</th>\n",
       "      <td>19</td>\n",
       "      <td>video</td>\n",
       "      <td>57265377</td>\n",
       "      <td>Roger Williams</td>\n",
       "      <td>Congress_Republican</td>\n",
       "      <td>M</td>\n",
       "      <td>Alyssa</td>\n",
       "      <td>Since its inception, Obamacare has been an abs...</td>\n",
       "      <td>No, I do not agree.  You are removing health i...</td>\n",
       "      <td>[Since, its, inception, ,, Obamacare, has, bee...</td>\n",
       "      <td>[No, ,, I, do, not, agree, ., You, are, removi...</td>\n",
       "      <td>28</td>\n",
       "      <td>75</td>\n",
       "    </tr>\n",
       "  </tbody>\n",
       "</table>\n",
       "</div>"
      ],
      "text/plain": [
       "     post_id post_type     op_id         op_name          op_category  \\\n",
       "126        3     video  57265377  Roger Williams  Congress_Republican   \n",
       "217        6     photo  57265377  Roger Williams  Congress_Republican   \n",
       "314       10      link  57265377  Roger Williams  Congress_Republican   \n",
       "588       19     video  57265377  Roger Williams  Congress_Republican   \n",
       "625       19     video  57265377  Roger Williams  Congress_Republican   \n",
       "\n",
       "    op_gender responder_id                                          post_text  \\\n",
       "126         M     Jeremiah  Since President Donald J. Trump was sworn in o...   \n",
       "217         M      Richard  In Texas, we honor our military heroes. #Chris...   \n",
       "314         M        Susan  Great news! Former President George H.W. Bush ...   \n",
       "588         M         Gina  Since its inception, Obamacare has been an abs...   \n",
       "625         M       Alyssa  Since its inception, Obamacare has been an abs...   \n",
       "\n",
       "                                         response_text  \\\n",
       "126  The mess created by Obama and our legislators....   \n",
       "217                                            SALUTE.   \n",
       "314                                         Wonderful.   \n",
       "588  No, the Affordable Care Act isn't failing. Pro...   \n",
       "625  No, I do not agree.  You are removing health i...   \n",
       "\n",
       "                                           post_tokens  \\\n",
       "126  [Since, President, Donald, J., Trump, was, swo...   \n",
       "217  [In, Texas, ,, we, honor, our, military, heroe...   \n",
       "314  [Great, news, !, Former, President, George, H....   \n",
       "588  [Since, its, inception, ,, Obamacare, has, bee...   \n",
       "625  [Since, its, inception, ,, Obamacare, has, bee...   \n",
       "\n",
       "                                       response_tokens  post_length  \\\n",
       "126  [The, mess, created, by, Obama, and, our, legi...           69   \n",
       "217                                        [SALUTE, .]           11   \n",
       "314                                     [Wonderful, .]           16   \n",
       "588  [No, ,, the, Affordable, Care, Act, is, n't, f...           28   \n",
       "625  [No, ,, I, do, not, agree, ., You, are, removi...           28   \n",
       "\n",
       "     response_length  \n",
       "126               41  \n",
       "217                2  \n",
       "314                2  \n",
       "588               97  \n",
       "625               75  "
      ]
     },
     "execution_count": 40,
     "metadata": {},
     "output_type": "execute_result"
    }
   ],
   "source": [
    "# find text length\n",
    "fb_congress_sample['post_length'] = fb_congress_sample.post_tokens.map(len)\n",
    "fb_congress_sample['response_length'] = fb_congress_sample.response_tokens.map(len)\n",
    "\n",
    "fb_congress_sample.head()"
   ]
  },
  {
   "cell_type": "markdown",
   "metadata": {},
   "source": [
    "Let's look at length in a boxplot grouping by gender!"
   ]
  },
  {
   "cell_type": "code",
   "execution_count": 41,
   "metadata": {},
   "outputs": [
    {
     "data": {
      "text/plain": [
       "<seaborn.axisgrid.FacetGrid at 0x1a22475c18>"
      ]
     },
     "execution_count": 41,
     "metadata": {},
     "output_type": "execute_result"
    },
    {
     "data": {
      "image/png": "[encoded data removed]",
      "text/plain": [
       "<Figure size 360x360 with 1 Axes>"
      ]
     },
     "metadata": {
      "needs_background": "light"
     },
     "output_type": "display_data"
    }
   ],
   "source": [
    "sns.catplot(x='op_gender', y='post_length', kind='box', data=fb_congress_sample)"
   ]
  },
  {
   "cell_type": "code",
   "execution_count": 42,
   "metadata": {},
   "outputs": [
    {
     "data": {
      "text/plain": [
       "<seaborn.axisgrid.FacetGrid at 0x1b30374128>"
      ]
     },
     "execution_count": 42,
     "metadata": {},
     "output_type": "execute_result"
    },
    {
     "data": {
      "image/png": "[encoded data removed]",
      "text/plain": [
       "<Figure size 360x360 with 1 Axes>"
      ]
     },
     "metadata": {
      "needs_background": "light"
     },
     "output_type": "display_data"
    }
   ],
   "source": [
    "sns.catplot(x='op_gender', y='response_length', kind='box', data=fb_congress_sample)"
   ]
  },
  {
   "cell_type": "code",
   "execution_count": 43,
   "metadata": {},
   "outputs": [],
   "source": [
    "# getting sentence lengths\n",
    "post_sent_count = fb_congress_sample.post_text.map(lambda x: len(nltk.sent_tokenize(x)))\n",
    "response_sent_count = fb_congress_sample.response_text.map(lambda x: len(nltk.sent_tokenize(x)))"
   ]
  },
  {
   "cell_type": "code",
   "execution_count": 44,
   "metadata": {},
   "outputs": [],
   "source": [
    "# find average sentence length\n",
    "post_avg_sent_length = fb_congress_sample.post_length / post_sent_count\n",
    "response_avg_sent_length = fb_congress_sample.response_length / response_sent_count"
   ]
  },
  {
   "cell_type": "code",
   "execution_count": 45,
   "metadata": {},
   "outputs": [
    {
     "data": {
      "text/html": [
       "<div>\n",
       "<style scoped>\n",
       "    .dataframe tbody tr th:only-of-type {\n",
       "        vertical-align: middle;\n",
       "    }\n",
       "\n",
       "    .dataframe tbody tr th {\n",
       "        vertical-align: top;\n",
       "    }\n",
       "\n",
       "    .dataframe thead th {\n",
       "        text-align: right;\n",
       "    }\n",
       "</style>\n",
       "<table border=\"1\" class=\"dataframe\">\n",
       "  <thead>\n",
       "    <tr style=\"text-align: right;\">\n",
       "      <th></th>\n",
       "      <th>post_id</th>\n",
       "      <th>post_type</th>\n",
       "      <th>op_id</th>\n",
       "      <th>op_name</th>\n",
       "      <th>op_category</th>\n",
       "      <th>op_gender</th>\n",
       "      <th>responder_id</th>\n",
       "      <th>post_text</th>\n",
       "      <th>response_text</th>\n",
       "      <th>post_tokens</th>\n",
       "      <th>response_tokens</th>\n",
       "      <th>post_length</th>\n",
       "      <th>response_length</th>\n",
       "      <th>post_avg_slen</th>\n",
       "      <th>response_avg_slen</th>\n",
       "    </tr>\n",
       "  </thead>\n",
       "  <tbody>\n",
       "    <tr>\n",
       "      <th>126</th>\n",
       "      <td>3</td>\n",
       "      <td>video</td>\n",
       "      <td>57265377</td>\n",
       "      <td>Roger Williams</td>\n",
       "      <td>Congress_Republican</td>\n",
       "      <td>M</td>\n",
       "      <td>Jeremiah</td>\n",
       "      <td>Since President Donald J. Trump was sworn in o...</td>\n",
       "      <td>The mess created by Obama and our legislators....</td>\n",
       "      <td>[Since, President, Donald, J., Trump, was, swo...</td>\n",
       "      <td>[The, mess, created, by, Obama, and, our, legi...</td>\n",
       "      <td>69</td>\n",
       "      <td>41</td>\n",
       "      <td>13.800000</td>\n",
       "      <td>10.250000</td>\n",
       "    </tr>\n",
       "    <tr>\n",
       "      <th>217</th>\n",
       "      <td>6</td>\n",
       "      <td>photo</td>\n",
       "      <td>57265377</td>\n",
       "      <td>Roger Williams</td>\n",
       "      <td>Congress_Republican</td>\n",
       "      <td>M</td>\n",
       "      <td>Richard</td>\n",
       "      <td>In Texas, we honor our military heroes. #Chris...</td>\n",
       "      <td>SALUTE.</td>\n",
       "      <td>[In, Texas, ,, we, honor, our, military, heroe...</td>\n",
       "      <td>[SALUTE, .]</td>\n",
       "      <td>11</td>\n",
       "      <td>2</td>\n",
       "      <td>5.500000</td>\n",
       "      <td>2.000000</td>\n",
       "    </tr>\n",
       "    <tr>\n",
       "      <th>314</th>\n",
       "      <td>10</td>\n",
       "      <td>link</td>\n",
       "      <td>57265377</td>\n",
       "      <td>Roger Williams</td>\n",
       "      <td>Congress_Republican</td>\n",
       "      <td>M</td>\n",
       "      <td>Susan</td>\n",
       "      <td>Great news! Former President George H.W. Bush ...</td>\n",
       "      <td>Wonderful.</td>\n",
       "      <td>[Great, news, !, Former, President, George, H....</td>\n",
       "      <td>[Wonderful, .]</td>\n",
       "      <td>16</td>\n",
       "      <td>2</td>\n",
       "      <td>5.333333</td>\n",
       "      <td>2.000000</td>\n",
       "    </tr>\n",
       "    <tr>\n",
       "      <th>588</th>\n",
       "      <td>19</td>\n",
       "      <td>video</td>\n",
       "      <td>57265377</td>\n",
       "      <td>Roger Williams</td>\n",
       "      <td>Congress_Republican</td>\n",
       "      <td>M</td>\n",
       "      <td>Gina</td>\n",
       "      <td>Since its inception, Obamacare has been an abs...</td>\n",
       "      <td>No, the Affordable Care Act isn't failing. Pro...</td>\n",
       "      <td>[Since, its, inception, ,, Obamacare, has, bee...</td>\n",
       "      <td>[No, ,, the, Affordable, Care, Act, is, n't, f...</td>\n",
       "      <td>28</td>\n",
       "      <td>97</td>\n",
       "      <td>9.333333</td>\n",
       "      <td>16.166667</td>\n",
       "    </tr>\n",
       "    <tr>\n",
       "      <th>625</th>\n",
       "      <td>19</td>\n",
       "      <td>video</td>\n",
       "      <td>57265377</td>\n",
       "      <td>Roger Williams</td>\n",
       "      <td>Congress_Republican</td>\n",
       "      <td>M</td>\n",
       "      <td>Alyssa</td>\n",
       "      <td>Since its inception, Obamacare has been an abs...</td>\n",
       "      <td>No, I do not agree.  You are removing health i...</td>\n",
       "      <td>[Since, its, inception, ,, Obamacare, has, bee...</td>\n",
       "      <td>[No, ,, I, do, not, agree, ., You, are, removi...</td>\n",
       "      <td>28</td>\n",
       "      <td>75</td>\n",
       "      <td>9.333333</td>\n",
       "      <td>18.750000</td>\n",
       "    </tr>\n",
       "  </tbody>\n",
       "</table>\n",
       "</div>"
      ],
      "text/plain": [
       "     post_id post_type     op_id         op_name          op_category  \\\n",
       "126        3     video  57265377  Roger Williams  Congress_Republican   \n",
       "217        6     photo  57265377  Roger Williams  Congress_Republican   \n",
       "314       10      link  57265377  Roger Williams  Congress_Republican   \n",
       "588       19     video  57265377  Roger Williams  Congress_Republican   \n",
       "625       19     video  57265377  Roger Williams  Congress_Republican   \n",
       "\n",
       "    op_gender responder_id                                          post_text  \\\n",
       "126         M     Jeremiah  Since President Donald J. Trump was sworn in o...   \n",
       "217         M      Richard  In Texas, we honor our military heroes. #Chris...   \n",
       "314         M        Susan  Great news! Former President George H.W. Bush ...   \n",
       "588         M         Gina  Since its inception, Obamacare has been an abs...   \n",
       "625         M       Alyssa  Since its inception, Obamacare has been an abs...   \n",
       "\n",
       "                                         response_text  \\\n",
       "126  The mess created by Obama and our legislators....   \n",
       "217                                            SALUTE.   \n",
       "314                                         Wonderful.   \n",
       "588  No, the Affordable Care Act isn't failing. Pro...   \n",
       "625  No, I do not agree.  You are removing health i...   \n",
       "\n",
       "                                           post_tokens  \\\n",
       "126  [Since, President, Donald, J., Trump, was, swo...   \n",
       "217  [In, Texas, ,, we, honor, our, military, heroe...   \n",
       "314  [Great, news, !, Former, President, George, H....   \n",
       "588  [Since, its, inception, ,, Obamacare, has, bee...   \n",
       "625  [Since, its, inception, ,, Obamacare, has, bee...   \n",
       "\n",
       "                                       response_tokens  post_length  \\\n",
       "126  [The, mess, created, by, Obama, and, our, legi...           69   \n",
       "217                                        [SALUTE, .]           11   \n",
       "314                                     [Wonderful, .]           16   \n",
       "588  [No, ,, the, Affordable, Care, Act, is, n't, f...           28   \n",
       "625  [No, ,, I, do, not, agree, ., You, are, removi...           28   \n",
       "\n",
       "     response_length  post_avg_slen  response_avg_slen  \n",
       "126               41      13.800000          10.250000  \n",
       "217                2       5.500000           2.000000  \n",
       "314                2       5.333333           2.000000  \n",
       "588               97       9.333333          16.166667  \n",
       "625               75       9.333333          18.750000  "
      ]
     },
     "execution_count": 45,
     "metadata": {},
     "output_type": "execute_result"
    }
   ],
   "source": [
    "# make new columns\n",
    "fb_congress_sample['post_avg_slen'] = post_avg_sent_length\n",
    "fb_congress_sample['response_avg_slen'] = response_avg_sent_length\n",
    "\n",
    "fb_congress_sample.head()"
   ]
  },
  {
   "cell_type": "markdown",
   "metadata": {},
   "source": [
    "### Facebook Wiki linguistic analysis"
   ]
  },
  {
   "cell_type": "code",
   "execution_count": 46,
   "metadata": {},
   "outputs": [
    {
     "name": "stdout",
     "output_type": "stream",
     "text": [
      "<class 'pandas.core.frame.DataFrame'>\n",
      "Int64Index: 10699137 entries, 0 to 10699136\n",
      "Data columns (total 9 columns):\n",
      "post_id          int64\n",
      "post_type        object\n",
      "op_id            int64\n",
      "op_name          object\n",
      "op_category      object\n",
      "op_gender        object\n",
      "responder_id     object\n",
      "post_text        object\n",
      "response_text    object\n",
      "dtypes: int64(2), object(7)\n",
      "memory usage: 816.3+ MB\n"
     ]
    }
   ],
   "source": [
    "# how big is this one again?\n",
    "fb_wiki_df.info()"
   ]
  },
  {
   "cell_type": "code",
   "execution_count": 47,
   "metadata": {},
   "outputs": [],
   "source": [
    "# still too large for my analysis, let's reduce to 50,000 again\n",
    "fb_wiki_sample = fb_wiki_df.sample(50000)\n",
    "fb_wiki_sample.sort_index(inplace=True)"
   ]
  },
  {
   "cell_type": "code",
   "execution_count": 48,
   "metadata": {},
   "outputs": [
    {
     "data": {
      "text/html": [
       "<div>\n",
       "<style scoped>\n",
       "    .dataframe tbody tr th:only-of-type {\n",
       "        vertical-align: middle;\n",
       "    }\n",
       "\n",
       "    .dataframe tbody tr th {\n",
       "        vertical-align: top;\n",
       "    }\n",
       "\n",
       "    .dataframe thead th {\n",
       "        text-align: right;\n",
       "    }\n",
       "</style>\n",
       "<table border=\"1\" class=\"dataframe\">\n",
       "  <thead>\n",
       "    <tr style=\"text-align: right;\">\n",
       "      <th></th>\n",
       "      <th>post_id</th>\n",
       "      <th>post_type</th>\n",
       "      <th>op_id</th>\n",
       "      <th>op_name</th>\n",
       "      <th>op_category</th>\n",
       "      <th>op_gender</th>\n",
       "      <th>responder_id</th>\n",
       "      <th>post_text</th>\n",
       "      <th>response_text</th>\n",
       "      <th>post_tokens</th>\n",
       "      <th>response_tokens</th>\n",
       "      <th>post_length</th>\n",
       "      <th>response_length</th>\n",
       "    </tr>\n",
       "  </thead>\n",
       "  <tbody>\n",
       "    <tr>\n",
       "      <th>724</th>\n",
       "      <td>77</td>\n",
       "      <td>photo</td>\n",
       "      <td>11679984</td>\n",
       "      <td>Byron Miranda</td>\n",
       "      <td>Wikipedia_American_television_news_anchors</td>\n",
       "      <td>M</td>\n",
       "      <td>Connie</td>\n",
       "      <td>Storm Update:</td>\n",
       "      <td>[[STICKER]]</td>\n",
       "      <td>[Storm, Update, :]</td>\n",
       "      <td>[[, [, STICKER, ], ]]</td>\n",
       "      <td>3</td>\n",
       "      <td>5</td>\n",
       "    </tr>\n",
       "    <tr>\n",
       "      <th>951</th>\n",
       "      <td>96</td>\n",
       "      <td>photo</td>\n",
       "      <td>11679984</td>\n",
       "      <td>Byron Miranda</td>\n",
       "      <td>Wikipedia_American_television_news_anchors</td>\n",
       "      <td>M</td>\n",
       "      <td>Cheryl</td>\n",
       "      <td>Latest computer model run shows big t'storms o...</td>\n",
       "      <td>Hi Byron</td>\n",
       "      <td>[Latest, computer, model, run, shows, big, t's...</td>\n",
       "      <td>[Hi, Byron]</td>\n",
       "      <td>38</td>\n",
       "      <td>2</td>\n",
       "    </tr>\n",
       "    <tr>\n",
       "      <th>1013</th>\n",
       "      <td>103</td>\n",
       "      <td>photo</td>\n",
       "      <td>11679984</td>\n",
       "      <td>Byron Miranda</td>\n",
       "      <td>Wikipedia_American_television_news_anchors</td>\n",
       "      <td>M</td>\n",
       "      <td>Kathi</td>\n",
       "      <td></td>\n",
       "      <td>Thanks for posting this pic!  That's my daught...</td>\n",
       "      <td>[]</td>\n",
       "      <td>[Thanks, for, posting, this, pic, !, That, 's,...</td>\n",
       "      <td>0</td>\n",
       "      <td>26</td>\n",
       "    </tr>\n",
       "    <tr>\n",
       "      <th>1045</th>\n",
       "      <td>107</td>\n",
       "      <td>photo</td>\n",
       "      <td>11679984</td>\n",
       "      <td>Byron Miranda</td>\n",
       "      <td>Wikipedia_American_television_news_anchors</td>\n",
       "      <td>M</td>\n",
       "      <td>Mike</td>\n",
       "      <td>T'storms continue tonight. More rain tomorrow....</td>\n",
       "      <td>God bless you Byron, if your tasked out in the...</td>\n",
       "      <td>[T'storms, continue, tonight, ., More, rain, t...</td>\n",
       "      <td>[God, bless, you, Byron, ,, if, your, tasked, ...</td>\n",
       "      <td>11</td>\n",
       "      <td>29</td>\n",
       "    </tr>\n",
       "    <tr>\n",
       "      <th>1196</th>\n",
       "      <td>126</td>\n",
       "      <td>video</td>\n",
       "      <td>11679984</td>\n",
       "      <td>Byron Miranda</td>\n",
       "      <td>Wikipedia_American_television_news_anchors</td>\n",
       "      <td>M</td>\n",
       "      <td>Cheryl</td>\n",
       "      <td>Let it snow let it snow, and it is! Roads are ...</td>\n",
       "      <td>Thanks for the update</td>\n",
       "      <td>[Let, it, snow, let, it, snow, ,, and, it, is,...</td>\n",
       "      <td>[Thanks, for, the, update]</td>\n",
       "      <td>27</td>\n",
       "      <td>4</td>\n",
       "    </tr>\n",
       "  </tbody>\n",
       "</table>\n",
       "</div>"
      ],
      "text/plain": [
       "      post_id post_type     op_id        op_name  \\\n",
       "724        77     photo  11679984  Byron Miranda   \n",
       "951        96     photo  11679984  Byron Miranda   \n",
       "1013      103     photo  11679984  Byron Miranda   \n",
       "1045      107     photo  11679984  Byron Miranda   \n",
       "1196      126     video  11679984  Byron Miranda   \n",
       "\n",
       "                                     op_category op_gender responder_id  \\\n",
       "724   Wikipedia_American_television_news_anchors         M       Connie   \n",
       "951   Wikipedia_American_television_news_anchors         M       Cheryl   \n",
       "1013  Wikipedia_American_television_news_anchors         M        Kathi   \n",
       "1045  Wikipedia_American_television_news_anchors         M         Mike   \n",
       "1196  Wikipedia_American_television_news_anchors         M       Cheryl   \n",
       "\n",
       "                                              post_text  \\\n",
       "724                                       Storm Update:   \n",
       "951   Latest computer model run shows big t'storms o...   \n",
       "1013                                                      \n",
       "1045  T'storms continue tonight. More rain tomorrow....   \n",
       "1196  Let it snow let it snow, and it is! Roads are ...   \n",
       "\n",
       "                                          response_text  \\\n",
       "724                                         [[STICKER]]   \n",
       "951                                            Hi Byron   \n",
       "1013  Thanks for posting this pic!  That's my daught...   \n",
       "1045  God bless you Byron, if your tasked out in the...   \n",
       "1196                              Thanks for the update   \n",
       "\n",
       "                                            post_tokens  \\\n",
       "724                                  [Storm, Update, :]   \n",
       "951   [Latest, computer, model, run, shows, big, t's...   \n",
       "1013                                                 []   \n",
       "1045  [T'storms, continue, tonight, ., More, rain, t...   \n",
       "1196  [Let, it, snow, let, it, snow, ,, and, it, is,...   \n",
       "\n",
       "                                        response_tokens  post_length  \\\n",
       "724                               [[, [, STICKER, ], ]]            3   \n",
       "951                                         [Hi, Byron]           38   \n",
       "1013  [Thanks, for, posting, this, pic, !, That, 's,...            0   \n",
       "1045  [God, bless, you, Byron, ,, if, your, tasked, ...           11   \n",
       "1196                         [Thanks, for, the, update]           27   \n",
       "\n",
       "      response_length  \n",
       "724                 5  \n",
       "951                 2  \n",
       "1013               26  \n",
       "1045               29  \n",
       "1196                4  "
      ]
     },
     "execution_count": 48,
     "metadata": {},
     "output_type": "execute_result"
    }
   ],
   "source": [
    "# tokenize...\n",
    "fb_wiki_sample['post_tokens'] = fb_wiki_sample.post_text.map(nltk.word_tokenize)\n",
    "fb_wiki_sample['response_tokens'] = fb_wiki_sample.response_text.map(nltk.word_tokenize)\n",
    "\n",
    "# ... and find length\n",
    "fb_wiki_sample['post_length'] = fb_wiki_sample.post_tokens.map(len)\n",
    "fb_wiki_sample['response_length'] = fb_wiki_sample.response_tokens.map(len)\n",
    "\n",
    "fb_wiki_sample.head()"
   ]
  },
  {
   "cell_type": "code",
   "execution_count": 49,
   "metadata": {},
   "outputs": [
    {
     "data": {
      "text/plain": [
       "<seaborn.axisgrid.FacetGrid at 0x1ad2b0f198>"
      ]
     },
     "execution_count": 49,
     "metadata": {},
     "output_type": "execute_result"
    },
    {
     "data": {
      "image/png": "[encoded data removed]",
      "text/plain": [
       "<Figure size 360x360 with 1 Axes>"
      ]
     },
     "metadata": {
      "needs_background": "light"
     },
     "output_type": "display_data"
    }
   ],
   "source": [
    "sns.catplot(x='op_gender', y='post_length', kind='box', data=fb_wiki_sample)"
   ]
  },
  {
   "cell_type": "code",
   "execution_count": 50,
   "metadata": {},
   "outputs": [
    {
     "data": {
      "text/plain": [
       "<seaborn.axisgrid.FacetGrid at 0x1b333c0cc0>"
      ]
     },
     "execution_count": 50,
     "metadata": {},
     "output_type": "execute_result"
    },
    {
     "data": {
      "image/png": "[encoded data removed]",
      "text/plain": [
       "<Figure size 360x360 with 1 Axes>"
      ]
     },
     "metadata": {
      "needs_background": "light"
     },
     "output_type": "display_data"
    }
   ],
   "source": [
    "sns.catplot(x='op_gender', y='response_length', kind='box', data=fb_congress_sample)"
   ]
  },
  {
   "cell_type": "code",
   "execution_count": 51,
   "metadata": {},
   "outputs": [],
   "source": [
    "# getting sentence lengths\n",
    "post_sent_count = fb_wiki_sample.post_text.map(lambda x: len(nltk.sent_tokenize(x)))\n",
    "response_sent_count = fb_wiki_sample.response_text.map(lambda x: len(nltk.sent_tokenize(x)))"
   ]
  },
  {
   "cell_type": "code",
   "execution_count": 52,
   "metadata": {},
   "outputs": [],
   "source": [
    "# find average sentence length\n",
    "post_avg_sent_length = fb_wiki_sample.post_length / post_sent_count\n",
    "response_avg_sent_length = fb_wiki_sample.response_length / response_sent_count"
   ]
  },
  {
   "cell_type": "code",
   "execution_count": 53,
   "metadata": {},
   "outputs": [
    {
     "data": {
      "text/html": [
       "<div>\n",
       "<style scoped>\n",
       "    .dataframe tbody tr th:only-of-type {\n",
       "        vertical-align: middle;\n",
       "    }\n",
       "\n",
       "    .dataframe tbody tr th {\n",
       "        vertical-align: top;\n",
       "    }\n",
       "\n",
       "    .dataframe thead th {\n",
       "        text-align: right;\n",
       "    }\n",
       "</style>\n",
       "<table border=\"1\" class=\"dataframe\">\n",
       "  <thead>\n",
       "    <tr style=\"text-align: right;\">\n",
       "      <th></th>\n",
       "      <th>post_id</th>\n",
       "      <th>post_type</th>\n",
       "      <th>op_id</th>\n",
       "      <th>op_name</th>\n",
       "      <th>op_category</th>\n",
       "      <th>op_gender</th>\n",
       "      <th>responder_id</th>\n",
       "      <th>post_text</th>\n",
       "      <th>response_text</th>\n",
       "      <th>post_tokens</th>\n",
       "      <th>response_tokens</th>\n",
       "      <th>post_length</th>\n",
       "      <th>response_length</th>\n",
       "      <th>post_avg_slen</th>\n",
       "      <th>response_avg_slen</th>\n",
       "    </tr>\n",
       "  </thead>\n",
       "  <tbody>\n",
       "    <tr>\n",
       "      <th>724</th>\n",
       "      <td>77</td>\n",
       "      <td>photo</td>\n",
       "      <td>11679984</td>\n",
       "      <td>Byron Miranda</td>\n",
       "      <td>Wikipedia_American_television_news_anchors</td>\n",
       "      <td>M</td>\n",
       "      <td>Connie</td>\n",
       "      <td>Storm Update:</td>\n",
       "      <td>[[STICKER]]</td>\n",
       "      <td>[Storm, Update, :]</td>\n",
       "      <td>[[, [, STICKER, ], ]]</td>\n",
       "      <td>3</td>\n",
       "      <td>5</td>\n",
       "      <td>3.000000</td>\n",
       "      <td>5.000000</td>\n",
       "    </tr>\n",
       "    <tr>\n",
       "      <th>951</th>\n",
       "      <td>96</td>\n",
       "      <td>photo</td>\n",
       "      <td>11679984</td>\n",
       "      <td>Byron Miranda</td>\n",
       "      <td>Wikipedia_American_television_news_anchors</td>\n",
       "      <td>M</td>\n",
       "      <td>Cheryl</td>\n",
       "      <td>Latest computer model run shows big t'storms o...</td>\n",
       "      <td>Hi Byron</td>\n",
       "      <td>[Latest, computer, model, run, shows, big, t's...</td>\n",
       "      <td>[Hi, Byron]</td>\n",
       "      <td>38</td>\n",
       "      <td>2</td>\n",
       "      <td>9.500000</td>\n",
       "      <td>2.000000</td>\n",
       "    </tr>\n",
       "    <tr>\n",
       "      <th>1013</th>\n",
       "      <td>103</td>\n",
       "      <td>photo</td>\n",
       "      <td>11679984</td>\n",
       "      <td>Byron Miranda</td>\n",
       "      <td>Wikipedia_American_television_news_anchors</td>\n",
       "      <td>M</td>\n",
       "      <td>Kathi</td>\n",
       "      <td></td>\n",
       "      <td>Thanks for posting this pic!  That's my daught...</td>\n",
       "      <td>[]</td>\n",
       "      <td>[Thanks, for, posting, this, pic, !, That, 's,...</td>\n",
       "      <td>0</td>\n",
       "      <td>26</td>\n",
       "      <td>NaN</td>\n",
       "      <td>6.500000</td>\n",
       "    </tr>\n",
       "    <tr>\n",
       "      <th>1045</th>\n",
       "      <td>107</td>\n",
       "      <td>photo</td>\n",
       "      <td>11679984</td>\n",
       "      <td>Byron Miranda</td>\n",
       "      <td>Wikipedia_American_television_news_anchors</td>\n",
       "      <td>M</td>\n",
       "      <td>Mike</td>\n",
       "      <td>T'storms continue tonight. More rain tomorrow....</td>\n",
       "      <td>God bless you Byron, if your tasked out in the...</td>\n",
       "      <td>[T'storms, continue, tonight, ., More, rain, t...</td>\n",
       "      <td>[God, bless, you, Byron, ,, if, your, tasked, ...</td>\n",
       "      <td>11</td>\n",
       "      <td>29</td>\n",
       "      <td>3.666667</td>\n",
       "      <td>9.666667</td>\n",
       "    </tr>\n",
       "    <tr>\n",
       "      <th>1196</th>\n",
       "      <td>126</td>\n",
       "      <td>video</td>\n",
       "      <td>11679984</td>\n",
       "      <td>Byron Miranda</td>\n",
       "      <td>Wikipedia_American_television_news_anchors</td>\n",
       "      <td>M</td>\n",
       "      <td>Cheryl</td>\n",
       "      <td>Let it snow let it snow, and it is! Roads are ...</td>\n",
       "      <td>Thanks for the update</td>\n",
       "      <td>[Let, it, snow, let, it, snow, ,, and, it, is,...</td>\n",
       "      <td>[Thanks, for, the, update]</td>\n",
       "      <td>27</td>\n",
       "      <td>4</td>\n",
       "      <td>9.000000</td>\n",
       "      <td>4.000000</td>\n",
       "    </tr>\n",
       "  </tbody>\n",
       "</table>\n",
       "</div>"
      ],
      "text/plain": [
       "      post_id post_type     op_id        op_name  \\\n",
       "724        77     photo  11679984  Byron Miranda   \n",
       "951        96     photo  11679984  Byron Miranda   \n",
       "1013      103     photo  11679984  Byron Miranda   \n",
       "1045      107     photo  11679984  Byron Miranda   \n",
       "1196      126     video  11679984  Byron Miranda   \n",
       "\n",
       "                                     op_category op_gender responder_id  \\\n",
       "724   Wikipedia_American_television_news_anchors         M       Connie   \n",
       "951   Wikipedia_American_television_news_anchors         M       Cheryl   \n",
       "1013  Wikipedia_American_television_news_anchors         M        Kathi   \n",
       "1045  Wikipedia_American_television_news_anchors         M         Mike   \n",
       "1196  Wikipedia_American_television_news_anchors         M       Cheryl   \n",
       "\n",
       "                                              post_text  \\\n",
       "724                                       Storm Update:   \n",
       "951   Latest computer model run shows big t'storms o...   \n",
       "1013                                                      \n",
       "1045  T'storms continue tonight. More rain tomorrow....   \n",
       "1196  Let it snow let it snow, and it is! Roads are ...   \n",
       "\n",
       "                                          response_text  \\\n",
       "724                                         [[STICKER]]   \n",
       "951                                            Hi Byron   \n",
       "1013  Thanks for posting this pic!  That's my daught...   \n",
       "1045  God bless you Byron, if your tasked out in the...   \n",
       "1196                              Thanks for the update   \n",
       "\n",
       "                                            post_tokens  \\\n",
       "724                                  [Storm, Update, :]   \n",
       "951   [Latest, computer, model, run, shows, big, t's...   \n",
       "1013                                                 []   \n",
       "1045  [T'storms, continue, tonight, ., More, rain, t...   \n",
       "1196  [Let, it, snow, let, it, snow, ,, and, it, is,...   \n",
       "\n",
       "                                        response_tokens  post_length  \\\n",
       "724                               [[, [, STICKER, ], ]]            3   \n",
       "951                                         [Hi, Byron]           38   \n",
       "1013  [Thanks, for, posting, this, pic, !, That, 's,...            0   \n",
       "1045  [God, bless, you, Byron, ,, if, your, tasked, ...           11   \n",
       "1196                         [Thanks, for, the, update]           27   \n",
       "\n",
       "      response_length  post_avg_slen  response_avg_slen  \n",
       "724                 5       3.000000           5.000000  \n",
       "951                 2       9.500000           2.000000  \n",
       "1013               26            NaN           6.500000  \n",
       "1045               29       3.666667           9.666667  \n",
       "1196                4       9.000000           4.000000  "
      ]
     },
     "execution_count": 53,
     "metadata": {},
     "output_type": "execute_result"
    }
   ],
   "source": [
    "# make new columns\n",
    "fb_wiki_sample['post_avg_slen'] = post_avg_sent_length\n",
    "fb_wiki_sample['response_avg_slen'] = response_avg_sent_length\n",
    "\n",
    "fb_wiki_sample.head()"
   ]
  },
  {
   "cell_type": "markdown",
   "metadata": {},
   "source": [
    "### Fitocracy linguistic analysis"
   ]
  },
  {
   "cell_type": "code",
   "execution_count": 54,
   "metadata": {},
   "outputs": [
    {
     "name": "stdout",
     "output_type": "stream",
     "text": [
      "<class 'pandas.core.frame.DataFrame'>\n",
      "Int64Index: 318535 entries, 0 to 318534\n",
      "Data columns (total 7 columns):\n",
      "post_id             318535 non-null int64\n",
      "op_id               318535 non-null int64\n",
      "op_gender           318535 non-null object\n",
      "responder_id        318535 non-null int64\n",
      "responder_gender    318535 non-null object\n",
      "post_text           318535 non-null object\n",
      "response_text       318535 non-null object\n",
      "dtypes: int64(3), object(4)\n",
      "memory usage: 19.4+ MB\n"
     ]
    }
   ],
   "source": [
    "# how big is this?\n",
    "fitocracy_df.info()"
   ]
  },
  {
   "cell_type": "code",
   "execution_count": 55,
   "metadata": {},
   "outputs": [
    {
     "data": {
      "text/html": [
       "<div>\n",
       "<style scoped>\n",
       "    .dataframe tbody tr th:only-of-type {\n",
       "        vertical-align: middle;\n",
       "    }\n",
       "\n",
       "    .dataframe tbody tr th {\n",
       "        vertical-align: top;\n",
       "    }\n",
       "\n",
       "    .dataframe thead th {\n",
       "        text-align: right;\n",
       "    }\n",
       "</style>\n",
       "<table border=\"1\" class=\"dataframe\">\n",
       "  <thead>\n",
       "    <tr style=\"text-align: right;\">\n",
       "      <th></th>\n",
       "      <th>post_id</th>\n",
       "      <th>op_id</th>\n",
       "      <th>op_gender</th>\n",
       "      <th>responder_id</th>\n",
       "      <th>responder_gender</th>\n",
       "      <th>post_text</th>\n",
       "      <th>response_text</th>\n",
       "    </tr>\n",
       "  </thead>\n",
       "  <tbody>\n",
       "    <tr>\n",
       "      <th>4</th>\n",
       "      <td>4</td>\n",
       "      <td>117</td>\n",
       "      <td>M</td>\n",
       "      <td>29126</td>\n",
       "      <td>M</td>\n",
       "      <td>What's up there bear mode?</td>\n",
       "      <td>Hey! I just started a new job, so things are s...</td>\n",
       "    </tr>\n",
       "    <tr>\n",
       "      <th>5</th>\n",
       "      <td>5</td>\n",
       "      <td>117</td>\n",
       "      <td>M</td>\n",
       "      <td>322</td>\n",
       "      <td>M</td>\n",
       "      <td>Where have you been?</td>\n",
       "      <td>Still lifting, HAES?</td>\n",
       "    </tr>\n",
       "    <tr>\n",
       "      <th>19</th>\n",
       "      <td>19</td>\n",
       "      <td>117</td>\n",
       "      <td>M</td>\n",
       "      <td>3477</td>\n",
       "      <td>M</td>\n",
       "      <td>Ermahgerd, parhps!</td>\n",
       "      <td>I know, I've been slackin!</td>\n",
       "    </tr>\n",
       "    <tr>\n",
       "      <th>25</th>\n",
       "      <td>25</td>\n",
       "      <td>117</td>\n",
       "      <td>M</td>\n",
       "      <td>26833</td>\n",
       "      <td>M</td>\n",
       "      <td>&gt; in the rack, doin ma squatz&gt; trainer working...</td>\n",
       "      <td>Everyone has more interesting gym adventures t...</td>\n",
       "    </tr>\n",
       "    <tr>\n",
       "      <th>28</th>\n",
       "      <td>28</td>\n",
       "      <td>117</td>\n",
       "      <td>M</td>\n",
       "      <td>26833</td>\n",
       "      <td>M</td>\n",
       "      <td>Sorry, no, fuck no. Of all the tasty treats do...</td>\n",
       "      <td>You don't like doughnuts because... Catholic? ...</td>\n",
       "    </tr>\n",
       "  </tbody>\n",
       "</table>\n",
       "</div>"
      ],
      "text/plain": [
       "    post_id  op_id op_gender  responder_id responder_gender  \\\n",
       "4         4    117         M         29126                M   \n",
       "5         5    117         M           322                M   \n",
       "19       19    117         M          3477                M   \n",
       "25       25    117         M         26833                M   \n",
       "28       28    117         M         26833                M   \n",
       "\n",
       "                                            post_text  \\\n",
       "4                          What's up there bear mode?   \n",
       "5                                Where have you been?   \n",
       "19                                 Ermahgerd, parhps!   \n",
       "25  > in the rack, doin ma squatz> trainer working...   \n",
       "28  Sorry, no, fuck no. Of all the tasty treats do...   \n",
       "\n",
       "                                        response_text  \n",
       "4   Hey! I just started a new job, so things are s...  \n",
       "5                                Still lifting, HAES?  \n",
       "19                         I know, I've been slackin!  \n",
       "25  Everyone has more interesting gym adventures t...  \n",
       "28  You don't like doughnuts because... Catholic? ...  "
      ]
     },
     "execution_count": 55,
     "metadata": {},
     "output_type": "execute_result"
    }
   ],
   "source": [
    "# again reduce to 50,000\n",
    "fitocracy_sample = fitocracy_df.sample(50000)\n",
    "fitocracy_sample.sort_index(inplace=True)\n",
    "\n",
    "fitocracy_sample.head()"
   ]
  },
  {
   "cell_type": "markdown",
   "metadata": {},
   "source": [
    "So now we have both op gender and responder gender. I want to figure out how to put all of this in a box plot together for easier visualization... look into this. For now, moving on."
   ]
  },
  {
   "cell_type": "code",
   "execution_count": 56,
   "metadata": {},
   "outputs": [
    {
     "data": {
      "text/html": [
       "<div>\n",
       "<style scoped>\n",
       "    .dataframe tbody tr th:only-of-type {\n",
       "        vertical-align: middle;\n",
       "    }\n",
       "\n",
       "    .dataframe tbody tr th {\n",
       "        vertical-align: top;\n",
       "    }\n",
       "\n",
       "    .dataframe thead th {\n",
       "        text-align: right;\n",
       "    }\n",
       "</style>\n",
       "<table border=\"1\" class=\"dataframe\">\n",
       "  <thead>\n",
       "    <tr style=\"text-align: right;\">\n",
       "      <th></th>\n",
       "      <th>post_id</th>\n",
       "      <th>op_id</th>\n",
       "      <th>op_gender</th>\n",
       "      <th>responder_id</th>\n",
       "      <th>responder_gender</th>\n",
       "      <th>post_text</th>\n",
       "      <th>response_text</th>\n",
       "      <th>post_tokens</th>\n",
       "      <th>response_tokens</th>\n",
       "      <th>post_length</th>\n",
       "      <th>response_length</th>\n",
       "    </tr>\n",
       "  </thead>\n",
       "  <tbody>\n",
       "    <tr>\n",
       "      <th>4</th>\n",
       "      <td>4</td>\n",
       "      <td>117</td>\n",
       "      <td>M</td>\n",
       "      <td>29126</td>\n",
       "      <td>M</td>\n",
       "      <td>What's up there bear mode?</td>\n",
       "      <td>Hey! I just started a new job, so things are s...</td>\n",
       "      <td>[What, 's, up, there, bear, mode, ?]</td>\n",
       "      <td>[Hey, !, I, just, started, a, new, job, ,, so,...</td>\n",
       "      <td>7</td>\n",
       "      <td>26</td>\n",
       "    </tr>\n",
       "    <tr>\n",
       "      <th>5</th>\n",
       "      <td>5</td>\n",
       "      <td>117</td>\n",
       "      <td>M</td>\n",
       "      <td>322</td>\n",
       "      <td>M</td>\n",
       "      <td>Where have you been?</td>\n",
       "      <td>Still lifting, HAES?</td>\n",
       "      <td>[Where, have, you, been, ?]</td>\n",
       "      <td>[Still, lifting, ,, HAES, ?]</td>\n",
       "      <td>5</td>\n",
       "      <td>5</td>\n",
       "    </tr>\n",
       "    <tr>\n",
       "      <th>19</th>\n",
       "      <td>19</td>\n",
       "      <td>117</td>\n",
       "      <td>M</td>\n",
       "      <td>3477</td>\n",
       "      <td>M</td>\n",
       "      <td>Ermahgerd, parhps!</td>\n",
       "      <td>I know, I've been slackin!</td>\n",
       "      <td>[Ermahgerd, ,, parhps, !]</td>\n",
       "      <td>[I, know, ,, I, 've, been, slackin, !]</td>\n",
       "      <td>4</td>\n",
       "      <td>8</td>\n",
       "    </tr>\n",
       "    <tr>\n",
       "      <th>25</th>\n",
       "      <td>25</td>\n",
       "      <td>117</td>\n",
       "      <td>M</td>\n",
       "      <td>26833</td>\n",
       "      <td>M</td>\n",
       "      <td>&gt; in the rack, doin ma squatz&gt; trainer working...</td>\n",
       "      <td>Everyone has more interesting gym adventures t...</td>\n",
       "      <td>[&gt;, in, the, rack, ,, doin, ma, squatz, &gt;, tra...</td>\n",
       "      <td>[Everyone, has, more, interesting, gym, advent...</td>\n",
       "      <td>101</td>\n",
       "      <td>11</td>\n",
       "    </tr>\n",
       "    <tr>\n",
       "      <th>28</th>\n",
       "      <td>28</td>\n",
       "      <td>117</td>\n",
       "      <td>M</td>\n",
       "      <td>26833</td>\n",
       "      <td>M</td>\n",
       "      <td>Sorry, no, fuck no. Of all the tasty treats do...</td>\n",
       "      <td>You don't like doughnuts because... Catholic? ...</td>\n",
       "      <td>[Sorry, ,, no, ,, fuck, no, ., Of, all, the, t...</td>\n",
       "      <td>[You, do, n't, like, doughnuts, because, ..., ...</td>\n",
       "      <td>45</td>\n",
       "      <td>12</td>\n",
       "    </tr>\n",
       "  </tbody>\n",
       "</table>\n",
       "</div>"
      ],
      "text/plain": [
       "    post_id  op_id op_gender  responder_id responder_gender  \\\n",
       "4         4    117         M         29126                M   \n",
       "5         5    117         M           322                M   \n",
       "19       19    117         M          3477                M   \n",
       "25       25    117         M         26833                M   \n",
       "28       28    117         M         26833                M   \n",
       "\n",
       "                                            post_text  \\\n",
       "4                          What's up there bear mode?   \n",
       "5                                Where have you been?   \n",
       "19                                 Ermahgerd, parhps!   \n",
       "25  > in the rack, doin ma squatz> trainer working...   \n",
       "28  Sorry, no, fuck no. Of all the tasty treats do...   \n",
       "\n",
       "                                        response_text  \\\n",
       "4   Hey! I just started a new job, so things are s...   \n",
       "5                                Still lifting, HAES?   \n",
       "19                         I know, I've been slackin!   \n",
       "25  Everyone has more interesting gym adventures t...   \n",
       "28  You don't like doughnuts because... Catholic? ...   \n",
       "\n",
       "                                          post_tokens  \\\n",
       "4                [What, 's, up, there, bear, mode, ?]   \n",
       "5                         [Where, have, you, been, ?]   \n",
       "19                          [Ermahgerd, ,, parhps, !]   \n",
       "25  [>, in, the, rack, ,, doin, ma, squatz, >, tra...   \n",
       "28  [Sorry, ,, no, ,, fuck, no, ., Of, all, the, t...   \n",
       "\n",
       "                                      response_tokens  post_length  \\\n",
       "4   [Hey, !, I, just, started, a, new, job, ,, so,...            7   \n",
       "5                        [Still, lifting, ,, HAES, ?]            5   \n",
       "19             [I, know, ,, I, 've, been, slackin, !]            4   \n",
       "25  [Everyone, has, more, interesting, gym, advent...          101   \n",
       "28  [You, do, n't, like, doughnuts, because, ..., ...           45   \n",
       "\n",
       "    response_length  \n",
       "4                26  \n",
       "5                 5  \n",
       "19                8  \n",
       "25               11  \n",
       "28               12  "
      ]
     },
     "execution_count": 56,
     "metadata": {},
     "output_type": "execute_result"
    }
   ],
   "source": [
    "# tokenize...\n",
    "fitocracy_sample['post_tokens'] = fitocracy_sample.post_text.map(nltk.word_tokenize)\n",
    "fitocracy_sample['response_tokens'] = fitocracy_sample.response_text.map(nltk.word_tokenize)\n",
    "\n",
    "# ... and find length\n",
    "fitocracy_sample['post_length'] = fitocracy_sample.post_tokens.map(len)\n",
    "fitocracy_sample['response_length'] = fitocracy_sample.response_tokens.map(len)\n",
    "\n",
    "fitocracy_sample.head()"
   ]
  },
  {
   "cell_type": "code",
   "execution_count": 57,
   "metadata": {},
   "outputs": [],
   "source": [
    "# getting sentence lengths\n",
    "post_sent_count = fitocracy_sample.post_text.map(lambda x: len(nltk.sent_tokenize(x)))\n",
    "response_sent_count = fitocracy_sample.response_text.map(lambda x: len(nltk.sent_tokenize(x)))"
   ]
  },
  {
   "cell_type": "code",
   "execution_count": 58,
   "metadata": {},
   "outputs": [],
   "source": [
    "# find average sentence length\n",
    "post_avg_sent_length = fitocracy_sample.post_length / post_sent_count\n",
    "response_avg_sent_length = fitocracy_sample.response_length / response_sent_count"
   ]
  },
  {
   "cell_type": "code",
   "execution_count": 59,
   "metadata": {},
   "outputs": [
    {
     "data": {
      "text/html": [
       "<div>\n",
       "<style scoped>\n",
       "    .dataframe tbody tr th:only-of-type {\n",
       "        vertical-align: middle;\n",
       "    }\n",
       "\n",
       "    .dataframe tbody tr th {\n",
       "        vertical-align: top;\n",
       "    }\n",
       "\n",
       "    .dataframe thead th {\n",
       "        text-align: right;\n",
       "    }\n",
       "</style>\n",
       "<table border=\"1\" class=\"dataframe\">\n",
       "  <thead>\n",
       "    <tr style=\"text-align: right;\">\n",
       "      <th></th>\n",
       "      <th>post_id</th>\n",
       "      <th>op_id</th>\n",
       "      <th>op_gender</th>\n",
       "      <th>responder_id</th>\n",
       "      <th>responder_gender</th>\n",
       "      <th>post_text</th>\n",
       "      <th>response_text</th>\n",
       "      <th>post_tokens</th>\n",
       "      <th>response_tokens</th>\n",
       "      <th>post_length</th>\n",
       "      <th>response_length</th>\n",
       "      <th>post_avg_slen</th>\n",
       "      <th>response_avg_slen</th>\n",
       "    </tr>\n",
       "  </thead>\n",
       "  <tbody>\n",
       "    <tr>\n",
       "      <th>4</th>\n",
       "      <td>4</td>\n",
       "      <td>117</td>\n",
       "      <td>M</td>\n",
       "      <td>29126</td>\n",
       "      <td>M</td>\n",
       "      <td>What's up there bear mode?</td>\n",
       "      <td>Hey! I just started a new job, so things are s...</td>\n",
       "      <td>[What, 's, up, there, bear, mode, ?]</td>\n",
       "      <td>[Hey, !, I, just, started, a, new, job, ,, so,...</td>\n",
       "      <td>7</td>\n",
       "      <td>26</td>\n",
       "      <td>7.00</td>\n",
       "      <td>8.666667</td>\n",
       "    </tr>\n",
       "    <tr>\n",
       "      <th>5</th>\n",
       "      <td>5</td>\n",
       "      <td>117</td>\n",
       "      <td>M</td>\n",
       "      <td>322</td>\n",
       "      <td>M</td>\n",
       "      <td>Where have you been?</td>\n",
       "      <td>Still lifting, HAES?</td>\n",
       "      <td>[Where, have, you, been, ?]</td>\n",
       "      <td>[Still, lifting, ,, HAES, ?]</td>\n",
       "      <td>5</td>\n",
       "      <td>5</td>\n",
       "      <td>5.00</td>\n",
       "      <td>5.000000</td>\n",
       "    </tr>\n",
       "    <tr>\n",
       "      <th>19</th>\n",
       "      <td>19</td>\n",
       "      <td>117</td>\n",
       "      <td>M</td>\n",
       "      <td>3477</td>\n",
       "      <td>M</td>\n",
       "      <td>Ermahgerd, parhps!</td>\n",
       "      <td>I know, I've been slackin!</td>\n",
       "      <td>[Ermahgerd, ,, parhps, !]</td>\n",
       "      <td>[I, know, ,, I, 've, been, slackin, !]</td>\n",
       "      <td>4</td>\n",
       "      <td>8</td>\n",
       "      <td>4.00</td>\n",
       "      <td>8.000000</td>\n",
       "    </tr>\n",
       "    <tr>\n",
       "      <th>25</th>\n",
       "      <td>25</td>\n",
       "      <td>117</td>\n",
       "      <td>M</td>\n",
       "      <td>26833</td>\n",
       "      <td>M</td>\n",
       "      <td>&gt; in the rack, doin ma squatz&gt; trainer working...</td>\n",
       "      <td>Everyone has more interesting gym adventures t...</td>\n",
       "      <td>[&gt;, in, the, rack, ,, doin, ma, squatz, &gt;, tra...</td>\n",
       "      <td>[Everyone, has, more, interesting, gym, advent...</td>\n",
       "      <td>101</td>\n",
       "      <td>11</td>\n",
       "      <td>50.50</td>\n",
       "      <td>5.500000</td>\n",
       "    </tr>\n",
       "    <tr>\n",
       "      <th>28</th>\n",
       "      <td>28</td>\n",
       "      <td>117</td>\n",
       "      <td>M</td>\n",
       "      <td>26833</td>\n",
       "      <td>M</td>\n",
       "      <td>Sorry, no, fuck no. Of all the tasty treats do...</td>\n",
       "      <td>You don't like doughnuts because... Catholic? ...</td>\n",
       "      <td>[Sorry, ,, no, ,, fuck, no, ., Of, all, the, t...</td>\n",
       "      <td>[You, do, n't, like, doughnuts, because, ..., ...</td>\n",
       "      <td>45</td>\n",
       "      <td>12</td>\n",
       "      <td>11.25</td>\n",
       "      <td>6.000000</td>\n",
       "    </tr>\n",
       "  </tbody>\n",
       "</table>\n",
       "</div>"
      ],
      "text/plain": [
       "    post_id  op_id op_gender  responder_id responder_gender  \\\n",
       "4         4    117         M         29126                M   \n",
       "5         5    117         M           322                M   \n",
       "19       19    117         M          3477                M   \n",
       "25       25    117         M         26833                M   \n",
       "28       28    117         M         26833                M   \n",
       "\n",
       "                                            post_text  \\\n",
       "4                          What's up there bear mode?   \n",
       "5                                Where have you been?   \n",
       "19                                 Ermahgerd, parhps!   \n",
       "25  > in the rack, doin ma squatz> trainer working...   \n",
       "28  Sorry, no, fuck no. Of all the tasty treats do...   \n",
       "\n",
       "                                        response_text  \\\n",
       "4   Hey! I just started a new job, so things are s...   \n",
       "5                                Still lifting, HAES?   \n",
       "19                         I know, I've been slackin!   \n",
       "25  Everyone has more interesting gym adventures t...   \n",
       "28  You don't like doughnuts because... Catholic? ...   \n",
       "\n",
       "                                          post_tokens  \\\n",
       "4                [What, 's, up, there, bear, mode, ?]   \n",
       "5                         [Where, have, you, been, ?]   \n",
       "19                          [Ermahgerd, ,, parhps, !]   \n",
       "25  [>, in, the, rack, ,, doin, ma, squatz, >, tra...   \n",
       "28  [Sorry, ,, no, ,, fuck, no, ., Of, all, the, t...   \n",
       "\n",
       "                                      response_tokens  post_length  \\\n",
       "4   [Hey, !, I, just, started, a, new, job, ,, so,...            7   \n",
       "5                        [Still, lifting, ,, HAES, ?]            5   \n",
       "19             [I, know, ,, I, 've, been, slackin, !]            4   \n",
       "25  [Everyone, has, more, interesting, gym, advent...          101   \n",
       "28  [You, do, n't, like, doughnuts, because, ..., ...           45   \n",
       "\n",
       "    response_length  post_avg_slen  response_avg_slen  \n",
       "4                26           7.00           8.666667  \n",
       "5                 5           5.00           5.000000  \n",
       "19                8           4.00           8.000000  \n",
       "25               11          50.50           5.500000  \n",
       "28               12          11.25           6.000000  "
      ]
     },
     "execution_count": 59,
     "metadata": {},
     "output_type": "execute_result"
    }
   ],
   "source": [
    "# make new columns\n",
    "fitocracy_sample['post_avg_slen'] = post_avg_sent_length\n",
    "fitocracy_sample['response_avg_slen'] = response_avg_sent_length\n",
    "\n",
    "fitocracy_sample.head()"
   ]
  },
  {
   "cell_type": "markdown",
   "metadata": {},
   "source": [
    "### Reddit linguistic analysis"
   ]
  },
  {
   "cell_type": "code",
   "execution_count": 60,
   "metadata": {},
   "outputs": [
    {
     "name": "stdout",
     "output_type": "stream",
     "text": [
      "<class 'pandas.core.frame.DataFrame'>\n",
      "Int64Index: 1453512 entries, 0 to 1453511\n",
      "Data columns (total 10 columns):\n",
      "post_id                     1453512 non-null int64\n",
      "subreddit                   1453512 non-null object\n",
      "op_id                       1453512 non-null object\n",
      "op_gender                   1453512 non-null object\n",
      "op_gender_visible           1453512 non-null bool\n",
      "responder_id                1453512 non-null object\n",
      "responder_gender            1453512 non-null object\n",
      "responder_gender_visible    1453512 non-null object\n",
      "post_text                   1453512 non-null object\n",
      "response_text               1453512 non-null object\n",
      "dtypes: bool(1), int64(1), object(8)\n",
      "memory usage: 112.3+ MB\n"
     ]
    }
   ],
   "source": [
    "# how big is this?\n",
    "reddit_df.info()"
   ]
  },
  {
   "cell_type": "code",
   "execution_count": 61,
   "metadata": {},
   "outputs": [
    {
     "data": {
      "text/html": [
       "<div>\n",
       "<style scoped>\n",
       "    .dataframe tbody tr th:only-of-type {\n",
       "        vertical-align: middle;\n",
       "    }\n",
       "\n",
       "    .dataframe tbody tr th {\n",
       "        vertical-align: top;\n",
       "    }\n",
       "\n",
       "    .dataframe thead th {\n",
       "        text-align: right;\n",
       "    }\n",
       "</style>\n",
       "<table border=\"1\" class=\"dataframe\">\n",
       "  <thead>\n",
       "    <tr style=\"text-align: right;\">\n",
       "      <th></th>\n",
       "      <th>post_id</th>\n",
       "      <th>subreddit</th>\n",
       "      <th>op_id</th>\n",
       "      <th>op_gender</th>\n",
       "      <th>op_gender_visible</th>\n",
       "      <th>responder_id</th>\n",
       "      <th>responder_gender</th>\n",
       "      <th>responder_gender_visible</th>\n",
       "      <th>post_text</th>\n",
       "      <th>response_text</th>\n",
       "    </tr>\n",
       "  </thead>\n",
       "  <tbody>\n",
       "    <tr>\n",
       "      <th>9</th>\n",
       "      <td>9</td>\n",
       "      <td>2007scape</td>\n",
       "      <td>DCBizzle</td>\n",
       "      <td>M</td>\n",
       "      <td>False</td>\n",
       "      <td>cooledcannon</td>\n",
       "      <td></td>\n",
       "      <td>unknown_gender</td>\n",
       "      <td>I know what a Milf is, whats a Filk? lol  Edit...</td>\n",
       "      <td>dont worry, i made the exact same mistake you ...</td>\n",
       "    </tr>\n",
       "    <tr>\n",
       "      <th>50</th>\n",
       "      <td>50</td>\n",
       "      <td>2007scape</td>\n",
       "      <td>CalzRob</td>\n",
       "      <td>M</td>\n",
       "      <td>False</td>\n",
       "      <td>BiggeWreck</td>\n",
       "      <td></td>\n",
       "      <td>unknown_gender</td>\n",
       "      <td>Ive had one that was 4 steps and one that had 10</td>\n",
       "      <td>alright thanks man i appreciate the feedback j...</td>\n",
       "    </tr>\n",
       "    <tr>\n",
       "      <th>65</th>\n",
       "      <td>65</td>\n",
       "      <td>2007scape</td>\n",
       "      <td>SmellySlutSocket</td>\n",
       "      <td>M</td>\n",
       "      <td>False</td>\n",
       "      <td>MishaMikado</td>\n",
       "      <td></td>\n",
       "      <td>unknown_gender</td>\n",
       "      <td>Anyone care to explain?</td>\n",
       "      <td>Erin the Duck in falador park, everybody hated...</td>\n",
       "    </tr>\n",
       "    <tr>\n",
       "      <th>68</th>\n",
       "      <td>68</td>\n",
       "      <td>2007scape</td>\n",
       "      <td>Guarono</td>\n",
       "      <td>M</td>\n",
       "      <td>False</td>\n",
       "      <td>RStom</td>\n",
       "      <td></td>\n",
       "      <td>unknown_gender</td>\n",
       "      <td>BRRIIIIIIIIICCKCKSQQUUAAAAAADD</td>\n",
       "      <td>WOCKA</td>\n",
       "    </tr>\n",
       "    <tr>\n",
       "      <th>122</th>\n",
       "      <td>122</td>\n",
       "      <td>2007scape</td>\n",
       "      <td>mysocksalwaysmatch</td>\n",
       "      <td>M</td>\n",
       "      <td>False</td>\n",
       "      <td>Old-School-Lover</td>\n",
       "      <td></td>\n",
       "      <td>unknown_gender</td>\n",
       "      <td>I thought the 20% accuracy hit all with range,...</td>\n",
       "      <td>That is correct I just explained it crappily. ...</td>\n",
       "    </tr>\n",
       "  </tbody>\n",
       "</table>\n",
       "</div>"
      ],
      "text/plain": [
       "     post_id  subreddit               op_id op_gender  op_gender_visible  \\\n",
       "9          9  2007scape            DCBizzle         M              False   \n",
       "50        50  2007scape             CalzRob         M              False   \n",
       "65        65  2007scape    SmellySlutSocket         M              False   \n",
       "68        68  2007scape             Guarono         M              False   \n",
       "122      122  2007scape  mysocksalwaysmatch         M              False   \n",
       "\n",
       "         responder_id responder_gender responder_gender_visible  \\\n",
       "9        cooledcannon                            unknown_gender   \n",
       "50         BiggeWreck                            unknown_gender   \n",
       "65        MishaMikado                            unknown_gender   \n",
       "68              RStom                            unknown_gender   \n",
       "122  Old-School-Lover                            unknown_gender   \n",
       "\n",
       "                                             post_text  \\\n",
       "9    I know what a Milf is, whats a Filk? lol  Edit...   \n",
       "50    Ive had one that was 4 steps and one that had 10   \n",
       "65                            Anyone care to explain?    \n",
       "68                      BRRIIIIIIIIICCKCKSQQUUAAAAAADD   \n",
       "122  I thought the 20% accuracy hit all with range,...   \n",
       "\n",
       "                                         response_text  \n",
       "9    dont worry, i made the exact same mistake you ...  \n",
       "50   alright thanks man i appreciate the feedback j...  \n",
       "65   Erin the Duck in falador park, everybody hated...  \n",
       "68                                               WOCKA  \n",
       "122  That is correct I just explained it crappily. ...  "
      ]
     },
     "execution_count": 61,
     "metadata": {},
     "output_type": "execute_result"
    }
   ],
   "source": [
    "# reduce to 50,000 again\n",
    "reddit_sample = reddit_df.sample(50000)\n",
    "reddit_sample.sort_index(inplace=True)\n",
    "\n",
    "reddit_sample.head()"
   ]
  },
  {
   "cell_type": "code",
   "execution_count": 62,
   "metadata": {},
   "outputs": [
    {
     "data": {
      "text/html": [
       "<div>\n",
       "<style scoped>\n",
       "    .dataframe tbody tr th:only-of-type {\n",
       "        vertical-align: middle;\n",
       "    }\n",
       "\n",
       "    .dataframe tbody tr th {\n",
       "        vertical-align: top;\n",
       "    }\n",
       "\n",
       "    .dataframe thead th {\n",
       "        text-align: right;\n",
       "    }\n",
       "</style>\n",
       "<table border=\"1\" class=\"dataframe\">\n",
       "  <thead>\n",
       "    <tr style=\"text-align: right;\">\n",
       "      <th></th>\n",
       "      <th>post_id</th>\n",
       "      <th>subreddit</th>\n",
       "      <th>op_id</th>\n",
       "      <th>op_gender</th>\n",
       "      <th>op_gender_visible</th>\n",
       "      <th>responder_id</th>\n",
       "      <th>responder_gender</th>\n",
       "      <th>responder_gender_visible</th>\n",
       "      <th>post_text</th>\n",
       "      <th>response_text</th>\n",
       "      <th>post_tokens</th>\n",
       "      <th>response_tokens</th>\n",
       "      <th>post_length</th>\n",
       "      <th>response_length</th>\n",
       "    </tr>\n",
       "  </thead>\n",
       "  <tbody>\n",
       "    <tr>\n",
       "      <th>9</th>\n",
       "      <td>9</td>\n",
       "      <td>2007scape</td>\n",
       "      <td>DCBizzle</td>\n",
       "      <td>M</td>\n",
       "      <td>False</td>\n",
       "      <td>cooledcannon</td>\n",
       "      <td></td>\n",
       "      <td>unknown_gender</td>\n",
       "      <td>I know what a Milf is, whats a Filk? lol  Edit...</td>\n",
       "      <td>dont worry, i made the exact same mistake you ...</td>\n",
       "      <td>[I, know, what, a, Milf, is, ,, whats, a, Filk...</td>\n",
       "      <td>[dont, worry, ,, i, made, the, exact, same, mi...</td>\n",
       "      <td>19</td>\n",
       "      <td>12</td>\n",
       "    </tr>\n",
       "    <tr>\n",
       "      <th>50</th>\n",
       "      <td>50</td>\n",
       "      <td>2007scape</td>\n",
       "      <td>CalzRob</td>\n",
       "      <td>M</td>\n",
       "      <td>False</td>\n",
       "      <td>BiggeWreck</td>\n",
       "      <td></td>\n",
       "      <td>unknown_gender</td>\n",
       "      <td>Ive had one that was 4 steps and one that had 10</td>\n",
       "      <td>alright thanks man i appreciate the feedback j...</td>\n",
       "      <td>[Ive, had, one, that, was, 4, steps, and, one,...</td>\n",
       "      <td>[alright, thanks, man, i, appreciate, the, fee...</td>\n",
       "      <td>12</td>\n",
       "      <td>17</td>\n",
       "    </tr>\n",
       "    <tr>\n",
       "      <th>65</th>\n",
       "      <td>65</td>\n",
       "      <td>2007scape</td>\n",
       "      <td>SmellySlutSocket</td>\n",
       "      <td>M</td>\n",
       "      <td>False</td>\n",
       "      <td>MishaMikado</td>\n",
       "      <td></td>\n",
       "      <td>unknown_gender</td>\n",
       "      <td>Anyone care to explain?</td>\n",
       "      <td>Erin the Duck in falador park, everybody hated...</td>\n",
       "      <td>[Anyone, care, to, explain, ?]</td>\n",
       "      <td>[Erin, the, Duck, in, falador, park, ,, everyb...</td>\n",
       "      <td>5</td>\n",
       "      <td>19</td>\n",
       "    </tr>\n",
       "    <tr>\n",
       "      <th>68</th>\n",
       "      <td>68</td>\n",
       "      <td>2007scape</td>\n",
       "      <td>Guarono</td>\n",
       "      <td>M</td>\n",
       "      <td>False</td>\n",
       "      <td>RStom</td>\n",
       "      <td></td>\n",
       "      <td>unknown_gender</td>\n",
       "      <td>BRRIIIIIIIIICCKCKSQQUUAAAAAADD</td>\n",
       "      <td>WOCKA</td>\n",
       "      <td>[BRRIIIIIIIIICCKCKSQQUUAAAAAADD]</td>\n",
       "      <td>[WOCKA]</td>\n",
       "      <td>1</td>\n",
       "      <td>1</td>\n",
       "    </tr>\n",
       "    <tr>\n",
       "      <th>122</th>\n",
       "      <td>122</td>\n",
       "      <td>2007scape</td>\n",
       "      <td>mysocksalwaysmatch</td>\n",
       "      <td>M</td>\n",
       "      <td>False</td>\n",
       "      <td>Old-School-Lover</td>\n",
       "      <td></td>\n",
       "      <td>unknown_gender</td>\n",
       "      <td>I thought the 20% accuracy hit all with range,...</td>\n",
       "      <td>That is correct I just explained it crappily. ...</td>\n",
       "      <td>[I, thought, the, 20, %, accuracy, hit, all, w...</td>\n",
       "      <td>[That, is, correct, I, just, explained, it, cr...</td>\n",
       "      <td>23</td>\n",
       "      <td>20</td>\n",
       "    </tr>\n",
       "  </tbody>\n",
       "</table>\n",
       "</div>"
      ],
      "text/plain": [
       "     post_id  subreddit               op_id op_gender  op_gender_visible  \\\n",
       "9          9  2007scape            DCBizzle         M              False   \n",
       "50        50  2007scape             CalzRob         M              False   \n",
       "65        65  2007scape    SmellySlutSocket         M              False   \n",
       "68        68  2007scape             Guarono         M              False   \n",
       "122      122  2007scape  mysocksalwaysmatch         M              False   \n",
       "\n",
       "         responder_id responder_gender responder_gender_visible  \\\n",
       "9        cooledcannon                            unknown_gender   \n",
       "50         BiggeWreck                            unknown_gender   \n",
       "65        MishaMikado                            unknown_gender   \n",
       "68              RStom                            unknown_gender   \n",
       "122  Old-School-Lover                            unknown_gender   \n",
       "\n",
       "                                             post_text  \\\n",
       "9    I know what a Milf is, whats a Filk? lol  Edit...   \n",
       "50    Ive had one that was 4 steps and one that had 10   \n",
       "65                            Anyone care to explain?    \n",
       "68                      BRRIIIIIIIIICCKCKSQQUUAAAAAADD   \n",
       "122  I thought the 20% accuracy hit all with range,...   \n",
       "\n",
       "                                         response_text  \\\n",
       "9    dont worry, i made the exact same mistake you ...   \n",
       "50   alright thanks man i appreciate the feedback j...   \n",
       "65   Erin the Duck in falador park, everybody hated...   \n",
       "68                                               WOCKA   \n",
       "122  That is correct I just explained it crappily. ...   \n",
       "\n",
       "                                           post_tokens  \\\n",
       "9    [I, know, what, a, Milf, is, ,, whats, a, Filk...   \n",
       "50   [Ive, had, one, that, was, 4, steps, and, one,...   \n",
       "65                      [Anyone, care, to, explain, ?]   \n",
       "68                    [BRRIIIIIIIIICCKCKSQQUUAAAAAADD]   \n",
       "122  [I, thought, the, 20, %, accuracy, hit, all, w...   \n",
       "\n",
       "                                       response_tokens  post_length  \\\n",
       "9    [dont, worry, ,, i, made, the, exact, same, mi...           19   \n",
       "50   [alright, thanks, man, i, appreciate, the, fee...           12   \n",
       "65   [Erin, the, Duck, in, falador, park, ,, everyb...            5   \n",
       "68                                             [WOCKA]            1   \n",
       "122  [That, is, correct, I, just, explained, it, cr...           23   \n",
       "\n",
       "     response_length  \n",
       "9                 12  \n",
       "50                17  \n",
       "65                19  \n",
       "68                 1  \n",
       "122               20  "
      ]
     },
     "execution_count": 62,
     "metadata": {},
     "output_type": "execute_result"
    }
   ],
   "source": [
    "# tokenize...\n",
    "reddit_sample['post_tokens'] = reddit_sample.post_text.map(nltk.word_tokenize)\n",
    "reddit_sample['response_tokens'] = reddit_sample.response_text.map(nltk.word_tokenize)\n",
    "\n",
    "# ... and find length\n",
    "reddit_sample['post_length'] = reddit_sample.post_tokens.map(len)\n",
    "reddit_sample['response_length'] = reddit_sample.response_tokens.map(len)\n",
    "\n",
    "reddit_sample.head()"
   ]
  },
  {
   "cell_type": "code",
   "execution_count": 63,
   "metadata": {},
   "outputs": [
    {
     "data": {
      "text/plain": [
       "<seaborn.axisgrid.FacetGrid at 0x1aa070ec50>"
      ]
     },
     "execution_count": 63,
     "metadata": {},
     "output_type": "execute_result"
    },
    {
     "data": {
      "image/png": "[encoded data removed]",
      "text/plain": [
       "<Figure size 360x360 with 1 Axes>"
      ]
     },
     "metadata": {
      "needs_background": "light"
     },
     "output_type": "display_data"
    }
   ],
   "source": [
    "sns.catplot(x='op_gender', y='post_length', kind='box', data=reddit_sample)"
   ]
  },
  {
   "cell_type": "code",
   "execution_count": 64,
   "metadata": {},
   "outputs": [
    {
     "data": {
      "text/plain": [
       "<seaborn.axisgrid.FacetGrid at 0x1b346a2fd0>"
      ]
     },
     "execution_count": 64,
     "metadata": {},
     "output_type": "execute_result"
    },
    {
     "data": {
      "image/png": "[encoded data removed]",
      "text/plain": [
       "<Figure size 360x360 with 1 Axes>"
      ]
     },
     "metadata": {
      "needs_background": "light"
     },
     "output_type": "display_data"
    }
   ],
   "source": [
    "sns.catplot(x='op_gender', y='response_length', kind='box', data=reddit_sample)"
   ]
  },
  {
   "cell_type": "code",
   "execution_count": 65,
   "metadata": {},
   "outputs": [],
   "source": [
    "# getting sentence lengths\n",
    "post_sent_count = reddit_sample.post_text.map(lambda x: len(nltk.sent_tokenize(x)))\n",
    "response_sent_count = reddit_sample.response_text.map(lambda x: len(nltk.sent_tokenize(x)))"
   ]
  },
  {
   "cell_type": "code",
   "execution_count": 66,
   "metadata": {},
   "outputs": [],
   "source": [
    "# find average sentence length\n",
    "post_avg_sent_length = reddit_sample.post_length / post_sent_count\n",
    "response_avg_sent_length = reddit_sample.response_length / response_sent_count"
   ]
  },
  {
   "cell_type": "code",
   "execution_count": 67,
   "metadata": {},
   "outputs": [
    {
     "data": {
      "text/html": [
       "<div>\n",
       "<style scoped>\n",
       "    .dataframe tbody tr th:only-of-type {\n",
       "        vertical-align: middle;\n",
       "    }\n",
       "\n",
       "    .dataframe tbody tr th {\n",
       "        vertical-align: top;\n",
       "    }\n",
       "\n",
       "    .dataframe thead th {\n",
       "        text-align: right;\n",
       "    }\n",
       "</style>\n",
       "<table border=\"1\" class=\"dataframe\">\n",
       "  <thead>\n",
       "    <tr style=\"text-align: right;\">\n",
       "      <th></th>\n",
       "      <th>post_id</th>\n",
       "      <th>subreddit</th>\n",
       "      <th>op_id</th>\n",
       "      <th>op_gender</th>\n",
       "      <th>op_gender_visible</th>\n",
       "      <th>responder_id</th>\n",
       "      <th>responder_gender</th>\n",
       "      <th>responder_gender_visible</th>\n",
       "      <th>post_text</th>\n",
       "      <th>response_text</th>\n",
       "      <th>post_tokens</th>\n",
       "      <th>response_tokens</th>\n",
       "      <th>post_length</th>\n",
       "      <th>response_length</th>\n",
       "      <th>post_avg_slen</th>\n",
       "      <th>response_avg_slen</th>\n",
       "    </tr>\n",
       "  </thead>\n",
       "  <tbody>\n",
       "    <tr>\n",
       "      <th>9</th>\n",
       "      <td>9</td>\n",
       "      <td>2007scape</td>\n",
       "      <td>DCBizzle</td>\n",
       "      <td>M</td>\n",
       "      <td>False</td>\n",
       "      <td>cooledcannon</td>\n",
       "      <td></td>\n",
       "      <td>unknown_gender</td>\n",
       "      <td>I know what a Milf is, whats a Filk? lol  Edit...</td>\n",
       "      <td>dont worry, i made the exact same mistake you ...</td>\n",
       "      <td>[I, know, what, a, Milf, is, ,, whats, a, Filk...</td>\n",
       "      <td>[dont, worry, ,, i, made, the, exact, same, mi...</td>\n",
       "      <td>19</td>\n",
       "      <td>12</td>\n",
       "      <td>9.5</td>\n",
       "      <td>12.0</td>\n",
       "    </tr>\n",
       "    <tr>\n",
       "      <th>50</th>\n",
       "      <td>50</td>\n",
       "      <td>2007scape</td>\n",
       "      <td>CalzRob</td>\n",
       "      <td>M</td>\n",
       "      <td>False</td>\n",
       "      <td>BiggeWreck</td>\n",
       "      <td></td>\n",
       "      <td>unknown_gender</td>\n",
       "      <td>Ive had one that was 4 steps and one that had 10</td>\n",
       "      <td>alright thanks man i appreciate the feedback j...</td>\n",
       "      <td>[Ive, had, one, that, was, 4, steps, and, one,...</td>\n",
       "      <td>[alright, thanks, man, i, appreciate, the, fee...</td>\n",
       "      <td>12</td>\n",
       "      <td>17</td>\n",
       "      <td>12.0</td>\n",
       "      <td>17.0</td>\n",
       "    </tr>\n",
       "    <tr>\n",
       "      <th>65</th>\n",
       "      <td>65</td>\n",
       "      <td>2007scape</td>\n",
       "      <td>SmellySlutSocket</td>\n",
       "      <td>M</td>\n",
       "      <td>False</td>\n",
       "      <td>MishaMikado</td>\n",
       "      <td></td>\n",
       "      <td>unknown_gender</td>\n",
       "      <td>Anyone care to explain?</td>\n",
       "      <td>Erin the Duck in falador park, everybody hated...</td>\n",
       "      <td>[Anyone, care, to, explain, ?]</td>\n",
       "      <td>[Erin, the, Duck, in, falador, park, ,, everyb...</td>\n",
       "      <td>5</td>\n",
       "      <td>19</td>\n",
       "      <td>5.0</td>\n",
       "      <td>19.0</td>\n",
       "    </tr>\n",
       "    <tr>\n",
       "      <th>68</th>\n",
       "      <td>68</td>\n",
       "      <td>2007scape</td>\n",
       "      <td>Guarono</td>\n",
       "      <td>M</td>\n",
       "      <td>False</td>\n",
       "      <td>RStom</td>\n",
       "      <td></td>\n",
       "      <td>unknown_gender</td>\n",
       "      <td>BRRIIIIIIIIICCKCKSQQUUAAAAAADD</td>\n",
       "      <td>WOCKA</td>\n",
       "      <td>[BRRIIIIIIIIICCKCKSQQUUAAAAAADD]</td>\n",
       "      <td>[WOCKA]</td>\n",
       "      <td>1</td>\n",
       "      <td>1</td>\n",
       "      <td>1.0</td>\n",
       "      <td>1.0</td>\n",
       "    </tr>\n",
       "    <tr>\n",
       "      <th>122</th>\n",
       "      <td>122</td>\n",
       "      <td>2007scape</td>\n",
       "      <td>mysocksalwaysmatch</td>\n",
       "      <td>M</td>\n",
       "      <td>False</td>\n",
       "      <td>Old-School-Lover</td>\n",
       "      <td></td>\n",
       "      <td>unknown_gender</td>\n",
       "      <td>I thought the 20% accuracy hit all with range,...</td>\n",
       "      <td>That is correct I just explained it crappily. ...</td>\n",
       "      <td>[I, thought, the, 20, %, accuracy, hit, all, w...</td>\n",
       "      <td>[That, is, correct, I, just, explained, it, cr...</td>\n",
       "      <td>23</td>\n",
       "      <td>20</td>\n",
       "      <td>23.0</td>\n",
       "      <td>10.0</td>\n",
       "    </tr>\n",
       "  </tbody>\n",
       "</table>\n",
       "</div>"
      ],
      "text/plain": [
       "     post_id  subreddit               op_id op_gender  op_gender_visible  \\\n",
       "9          9  2007scape            DCBizzle         M              False   \n",
       "50        50  2007scape             CalzRob         M              False   \n",
       "65        65  2007scape    SmellySlutSocket         M              False   \n",
       "68        68  2007scape             Guarono         M              False   \n",
       "122      122  2007scape  mysocksalwaysmatch         M              False   \n",
       "\n",
       "         responder_id responder_gender responder_gender_visible  \\\n",
       "9        cooledcannon                            unknown_gender   \n",
       "50         BiggeWreck                            unknown_gender   \n",
       "65        MishaMikado                            unknown_gender   \n",
       "68              RStom                            unknown_gender   \n",
       "122  Old-School-Lover                            unknown_gender   \n",
       "\n",
       "                                             post_text  \\\n",
       "9    I know what a Milf is, whats a Filk? lol  Edit...   \n",
       "50    Ive had one that was 4 steps and one that had 10   \n",
       "65                            Anyone care to explain?    \n",
       "68                      BRRIIIIIIIIICCKCKSQQUUAAAAAADD   \n",
       "122  I thought the 20% accuracy hit all with range,...   \n",
       "\n",
       "                                         response_text  \\\n",
       "9    dont worry, i made the exact same mistake you ...   \n",
       "50   alright thanks man i appreciate the feedback j...   \n",
       "65   Erin the Duck in falador park, everybody hated...   \n",
       "68                                               WOCKA   \n",
       "122  That is correct I just explained it crappily. ...   \n",
       "\n",
       "                                           post_tokens  \\\n",
       "9    [I, know, what, a, Milf, is, ,, whats, a, Filk...   \n",
       "50   [Ive, had, one, that, was, 4, steps, and, one,...   \n",
       "65                      [Anyone, care, to, explain, ?]   \n",
       "68                    [BRRIIIIIIIIICCKCKSQQUUAAAAAADD]   \n",
       "122  [I, thought, the, 20, %, accuracy, hit, all, w...   \n",
       "\n",
       "                                       response_tokens  post_length  \\\n",
       "9    [dont, worry, ,, i, made, the, exact, same, mi...           19   \n",
       "50   [alright, thanks, man, i, appreciate, the, fee...           12   \n",
       "65   [Erin, the, Duck, in, falador, park, ,, everyb...            5   \n",
       "68                                             [WOCKA]            1   \n",
       "122  [That, is, correct, I, just, explained, it, cr...           23   \n",
       "\n",
       "     response_length  post_avg_slen  response_avg_slen  \n",
       "9                 12            9.5               12.0  \n",
       "50                17           12.0               17.0  \n",
       "65                19            5.0               19.0  \n",
       "68                 1            1.0                1.0  \n",
       "122               20           23.0               10.0  "
      ]
     },
     "execution_count": 67,
     "metadata": {},
     "output_type": "execute_result"
    }
   ],
   "source": [
    "# make new columns\n",
    "reddit_sample['post_avg_slen'] = post_avg_sent_length\n",
    "reddit_sample['response_avg_slen'] = response_avg_sent_length\n",
    "\n",
    "reddit_sample.head()"
   ]
  },
  {
   "cell_type": "markdown",
   "metadata": {},
   "source": [
    "### TED linguistic analysis"
   ]
  },
  {
   "cell_type": "code",
   "execution_count": 68,
   "metadata": {},
   "outputs": [
    {
     "name": "stdout",
     "output_type": "stream",
     "text": [
      "<class 'pandas.core.frame.DataFrame'>\n",
      "Int64Index: 190347 entries, 0 to 190413\n",
      "Data columns (total 5 columns):\n",
      "post_id          190347 non-null int64\n",
      "op_id            190347 non-null object\n",
      "op_gender        190347 non-null object\n",
      "responder_id     190347 non-null object\n",
      "response_text    190347 non-null object\n",
      "dtypes: int64(1), object(4)\n",
      "memory usage: 8.7+ MB\n"
     ]
    }
   ],
   "source": [
    "# how big is this?\n",
    "ted_responses_df.info()"
   ]
  },
  {
   "cell_type": "code",
   "execution_count": 69,
   "metadata": {},
   "outputs": [],
   "source": [
    "# reduce again for consistency (though I think this would be possible to handle anyways)\n",
    "ted_sample = ted_responses_df.sample(50000)\n",
    "ted_sample.sort_index(inplace=True)"
   ]
  },
  {
   "cell_type": "code",
   "execution_count": 70,
   "metadata": {},
   "outputs": [
    {
     "data": {
      "text/html": [
       "<div>\n",
       "<style scoped>\n",
       "    .dataframe tbody tr th:only-of-type {\n",
       "        vertical-align: middle;\n",
       "    }\n",
       "\n",
       "    .dataframe tbody tr th {\n",
       "        vertical-align: top;\n",
       "    }\n",
       "\n",
       "    .dataframe thead th {\n",
       "        text-align: right;\n",
       "    }\n",
       "</style>\n",
       "<table border=\"1\" class=\"dataframe\">\n",
       "  <thead>\n",
       "    <tr style=\"text-align: right;\">\n",
       "      <th></th>\n",
       "      <th>post_id</th>\n",
       "      <th>op_id</th>\n",
       "      <th>op_gender</th>\n",
       "      <th>responder_id</th>\n",
       "      <th>response_text</th>\n",
       "      <th>response_tokens</th>\n",
       "      <th>response_length</th>\n",
       "    </tr>\n",
       "  </thead>\n",
       "  <tbody>\n",
       "    <tr>\n",
       "      <th>2</th>\n",
       "      <td>2</td>\n",
       "      <td>Aimee Mullins</td>\n",
       "      <td>W</td>\n",
       "      <td>Tanya</td>\n",
       "      <td>I love that she took away some of the mystery ...</td>\n",
       "      <td>[I, love, that, she, took, away, some, of, the...</td>\n",
       "      <td>19</td>\n",
       "    </tr>\n",
       "    <tr>\n",
       "      <th>3</th>\n",
       "      <td>3</td>\n",
       "      <td>Aimee Mullins</td>\n",
       "      <td>W</td>\n",
       "      <td>Salim</td>\n",
       "      <td>VERY inspiring indeed! I love these TED antiqu...</td>\n",
       "      <td>[VERY, inspiring, indeed, !, I, love, these, T...</td>\n",
       "      <td>27</td>\n",
       "    </tr>\n",
       "    <tr>\n",
       "      <th>5</th>\n",
       "      <td>5</td>\n",
       "      <td>Aimee Mullins</td>\n",
       "      <td>W</td>\n",
       "      <td>andrew</td>\n",
       "      <td>Brilliant Aimee.   I'm not an amputee but I'm ...</td>\n",
       "      <td>[Brilliant, Aimee, ., I, 'm, not, an, amputee,...</td>\n",
       "      <td>53</td>\n",
       "    </tr>\n",
       "    <tr>\n",
       "      <th>7</th>\n",
       "      <td>7</td>\n",
       "      <td>Aimee Mullins</td>\n",
       "      <td>W</td>\n",
       "      <td>Jim</td>\n",
       "      <td>I was in the audience in 1998 when Aimee made ...</td>\n",
       "      <td>[I, was, in, the, audience, in, 1998, when, Ai...</td>\n",
       "      <td>93</td>\n",
       "    </tr>\n",
       "    <tr>\n",
       "      <th>8</th>\n",
       "      <td>8</td>\n",
       "      <td>Aimee Mullins</td>\n",
       "      <td>W</td>\n",
       "      <td>saeid</td>\n",
       "      <td>You are just such an extremely confident and c...</td>\n",
       "      <td>[You, are, just, such, an, extremely, confiden...</td>\n",
       "      <td>22</td>\n",
       "    </tr>\n",
       "  </tbody>\n",
       "</table>\n",
       "</div>"
      ],
      "text/plain": [
       "   post_id          op_id op_gender responder_id  \\\n",
       "2        2  Aimee Mullins         W        Tanya   \n",
       "3        3  Aimee Mullins         W        Salim   \n",
       "5        5  Aimee Mullins         W       andrew   \n",
       "7        7  Aimee Mullins         W          Jim   \n",
       "8        8  Aimee Mullins         W        saeid   \n",
       "\n",
       "                                       response_text  \\\n",
       "2  I love that she took away some of the mystery ...   \n",
       "3  VERY inspiring indeed! I love these TED antiqu...   \n",
       "5  Brilliant Aimee.   I'm not an amputee but I'm ...   \n",
       "7  I was in the audience in 1998 when Aimee made ...   \n",
       "8  You are just such an extremely confident and c...   \n",
       "\n",
       "                                     response_tokens  response_length  \n",
       "2  [I, love, that, she, took, away, some, of, the...               19  \n",
       "3  [VERY, inspiring, indeed, !, I, love, these, T...               27  \n",
       "5  [Brilliant, Aimee, ., I, 'm, not, an, amputee,...               53  \n",
       "7  [I, was, in, the, audience, in, 1998, when, Ai...               93  \n",
       "8  [You, are, just, such, an, extremely, confiden...               22  "
      ]
     },
     "execution_count": 70,
     "metadata": {},
     "output_type": "execute_result"
    }
   ],
   "source": [
    "# tokenize...\n",
    "ted_sample['response_tokens'] = ted_sample.response_text.map(nltk.word_tokenize)\n",
    "\n",
    "# ... and find length\n",
    "ted_sample['response_length'] = ted_sample.response_tokens.map(len)\n",
    "\n",
    "ted_sample.head()"
   ]
  },
  {
   "cell_type": "code",
   "execution_count": 71,
   "metadata": {},
   "outputs": [
    {
     "data": {
      "text/plain": [
       "<seaborn.axisgrid.FacetGrid at 0x1b42da7908>"
      ]
     },
     "execution_count": 71,
     "metadata": {},
     "output_type": "execute_result"
    },
    {
     "data": {
      "image/png": "[encoded data removed]",
      "text/plain": [
       "<Figure size 360x360 with 1 Axes>"
      ]
     },
     "metadata": {
      "needs_background": "light"
     },
     "output_type": "display_data"
    }
   ],
   "source": [
    "sns.catplot(x='op_gender', y='response_length', kind='box', data=ted_sample)"
   ]
  },
  {
   "cell_type": "code",
   "execution_count": 72,
   "metadata": {},
   "outputs": [],
   "source": [
    "# getting sentence lengths\n",
    "response_sent_count = ted_sample.response_text.map(lambda x: len(nltk.sent_tokenize(x)))"
   ]
  },
  {
   "cell_type": "code",
   "execution_count": 73,
   "metadata": {},
   "outputs": [],
   "source": [
    "# find average sentence length\n",
    "response_avg_sent_length = ted_sample.response_length / response_sent_count"
   ]
  },
  {
   "cell_type": "code",
   "execution_count": 74,
   "metadata": {},
   "outputs": [
    {
     "data": {
      "text/html": [
       "<div>\n",
       "<style scoped>\n",
       "    .dataframe tbody tr th:only-of-type {\n",
       "        vertical-align: middle;\n",
       "    }\n",
       "\n",
       "    .dataframe tbody tr th {\n",
       "        vertical-align: top;\n",
       "    }\n",
       "\n",
       "    .dataframe thead th {\n",
       "        text-align: right;\n",
       "    }\n",
       "</style>\n",
       "<table border=\"1\" class=\"dataframe\">\n",
       "  <thead>\n",
       "    <tr style=\"text-align: right;\">\n",
       "      <th></th>\n",
       "      <th>post_id</th>\n",
       "      <th>op_id</th>\n",
       "      <th>op_gender</th>\n",
       "      <th>responder_id</th>\n",
       "      <th>response_text</th>\n",
       "      <th>response_tokens</th>\n",
       "      <th>response_length</th>\n",
       "      <th>response_avg_slen</th>\n",
       "    </tr>\n",
       "  </thead>\n",
       "  <tbody>\n",
       "    <tr>\n",
       "      <th>2</th>\n",
       "      <td>2</td>\n",
       "      <td>Aimee Mullins</td>\n",
       "      <td>W</td>\n",
       "      <td>Tanya</td>\n",
       "      <td>I love that she took away some of the mystery ...</td>\n",
       "      <td>[I, love, that, she, took, away, some, of, the...</td>\n",
       "      <td>19</td>\n",
       "      <td>19.000000</td>\n",
       "    </tr>\n",
       "    <tr>\n",
       "      <th>3</th>\n",
       "      <td>3</td>\n",
       "      <td>Aimee Mullins</td>\n",
       "      <td>W</td>\n",
       "      <td>Salim</td>\n",
       "      <td>VERY inspiring indeed! I love these TED antiqu...</td>\n",
       "      <td>[VERY, inspiring, indeed, !, I, love, these, T...</td>\n",
       "      <td>27</td>\n",
       "      <td>13.500000</td>\n",
       "    </tr>\n",
       "    <tr>\n",
       "      <th>5</th>\n",
       "      <td>5</td>\n",
       "      <td>Aimee Mullins</td>\n",
       "      <td>W</td>\n",
       "      <td>andrew</td>\n",
       "      <td>Brilliant Aimee.   I'm not an amputee but I'm ...</td>\n",
       "      <td>[Brilliant, Aimee, ., I, 'm, not, an, amputee,...</td>\n",
       "      <td>53</td>\n",
       "      <td>13.250000</td>\n",
       "    </tr>\n",
       "    <tr>\n",
       "      <th>7</th>\n",
       "      <td>7</td>\n",
       "      <td>Aimee Mullins</td>\n",
       "      <td>W</td>\n",
       "      <td>Jim</td>\n",
       "      <td>I was in the audience in 1998 when Aimee made ...</td>\n",
       "      <td>[I, was, in, the, audience, in, 1998, when, Ai...</td>\n",
       "      <td>93</td>\n",
       "      <td>13.285714</td>\n",
       "    </tr>\n",
       "    <tr>\n",
       "      <th>8</th>\n",
       "      <td>8</td>\n",
       "      <td>Aimee Mullins</td>\n",
       "      <td>W</td>\n",
       "      <td>saeid</td>\n",
       "      <td>You are just such an extremely confident and c...</td>\n",
       "      <td>[You, are, just, such, an, extremely, confiden...</td>\n",
       "      <td>22</td>\n",
       "      <td>11.000000</td>\n",
       "    </tr>\n",
       "  </tbody>\n",
       "</table>\n",
       "</div>"
      ],
      "text/plain": [
       "   post_id          op_id op_gender responder_id  \\\n",
       "2        2  Aimee Mullins         W        Tanya   \n",
       "3        3  Aimee Mullins         W        Salim   \n",
       "5        5  Aimee Mullins         W       andrew   \n",
       "7        7  Aimee Mullins         W          Jim   \n",
       "8        8  Aimee Mullins         W        saeid   \n",
       "\n",
       "                                       response_text  \\\n",
       "2  I love that she took away some of the mystery ...   \n",
       "3  VERY inspiring indeed! I love these TED antiqu...   \n",
       "5  Brilliant Aimee.   I'm not an amputee but I'm ...   \n",
       "7  I was in the audience in 1998 when Aimee made ...   \n",
       "8  You are just such an extremely confident and c...   \n",
       "\n",
       "                                     response_tokens  response_length  \\\n",
       "2  [I, love, that, she, took, away, some, of, the...               19   \n",
       "3  [VERY, inspiring, indeed, !, I, love, these, T...               27   \n",
       "5  [Brilliant, Aimee, ., I, 'm, not, an, amputee,...               53   \n",
       "7  [I, was, in, the, audience, in, 1998, when, Ai...               93   \n",
       "8  [You, are, just, such, an, extremely, confiden...               22   \n",
       "\n",
       "   response_avg_slen  \n",
       "2          19.000000  \n",
       "3          13.500000  \n",
       "5          13.250000  \n",
       "7          13.285714  \n",
       "8          11.000000  "
      ]
     },
     "execution_count": 74,
     "metadata": {},
     "output_type": "execute_result"
    }
   ],
   "source": [
    "# make new column\n",
    "ted_sample['response_avg_slen'] = response_avg_sent_length\n",
    "\n",
    "ted_sample.head()"
   ]
  },
  {
   "cell_type": "code",
   "execution_count": null,
   "metadata": {},
   "outputs": [],
   "source": []
  }
 ],
 "metadata": {
  "kernelspec": {
   "display_name": "Python 3",
   "language": "python",
   "name": "python3"
  },
  "language_info": {
   "codemirror_mode": {
    "name": "ipython",
    "version": 3
   },
   "file_extension": ".py",
   "mimetype": "text/x-python",
   "name": "python",
   "nbconvert_exporter": "python",
   "pygments_lexer": "ipython3",
   "version": "3.7.1"
  }
 },
 "nbformat": 4,
 "nbformat_minor": 2
}
