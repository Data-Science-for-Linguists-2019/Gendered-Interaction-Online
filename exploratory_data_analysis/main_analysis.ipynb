{
 "cells": [
  {
   "cell_type": "markdown",
   "metadata": {},
   "source": [
    "# Analysis\n",
    "Now let's delve deeper into the analysis!\n",
    "\n",
    "## Load DataFrames"
   ]
  },
  {
   "cell_type": "code",
   "execution_count": 1,
   "metadata": {},
   "outputs": [],
   "source": [
    "# import things\n",
    "import pandas as pd"
   ]
  },
  {
   "cell_type": "code",
   "execution_count": 40,
   "metadata": {},
   "outputs": [],
   "source": [
    "# reading in files\n",
    "fb_congress_df = pd.read_pickle(\"fb_congress_df_part1.pkl\")\n",
    "fb_congress_df2 = pd.read_pickle(\"fb_congress_df_part2.pkl\")\n",
    "\n",
    "# merging them\n",
    "fb_congress_df = fb_congress_df.append(fb_congress_df2)"
   ]
  },
  {
   "cell_type": "code",
   "execution_count": 41,
   "metadata": {},
   "outputs": [],
   "source": [
    "# read in fb wiki\n",
    "fb_wiki_df = pd.read_pickle(\"fb_wiki_df.pkl\")"
   ]
  },
  {
   "cell_type": "code",
   "execution_count": 43,
   "metadata": {},
   "outputs": [],
   "source": [
    "# read in fitocracy\n",
    "fitocracy_df = pd.read_pickle(\"fitocracy_df.pkl\")"
   ]
  },
  {
   "cell_type": "code",
   "execution_count": 45,
   "metadata": {},
   "outputs": [],
   "source": [
    "# read in reddit\n",
    "reddit_df = pd.read_pickle(\"reddit_df.pkl\")"
   ]
  },
  {
   "cell_type": "code",
   "execution_count": 46,
   "metadata": {},
   "outputs": [],
   "source": [
    "# read in ted\n",
    "ted_responses_df = pd.read_pickle(\"ted_responses_df.pkl\")"
   ]
  },
  {
   "cell_type": "markdown",
   "metadata": {},
   "source": [
    "## Conduct basic analysis\n",
    "Some of this information will be repetition from previous files, but I want to have it all in one place here.\n",
    "\n",
    "### Analysis of Facebook Congress"
   ]
  },
  {
   "cell_type": "code",
   "execution_count": 39,
   "metadata": {},
   "outputs": [
    {
     "data": {
      "text/html": [
       "<div>\n",
       "<style scoped>\n",
       "    .dataframe tbody tr th:only-of-type {\n",
       "        vertical-align: middle;\n",
       "    }\n",
       "\n",
       "    .dataframe tbody tr th {\n",
       "        vertical-align: top;\n",
       "    }\n",
       "\n",
       "    .dataframe thead th {\n",
       "        text-align: right;\n",
       "    }\n",
       "</style>\n",
       "<table border=\"1\" class=\"dataframe\">\n",
       "  <thead>\n",
       "    <tr style=\"text-align: right;\">\n",
       "      <th></th>\n",
       "      <th>post_id</th>\n",
       "      <th>post_type</th>\n",
       "      <th>op_id</th>\n",
       "      <th>op_name</th>\n",
       "      <th>op_category</th>\n",
       "      <th>op_gender</th>\n",
       "      <th>responder_id</th>\n",
       "      <th>post_text</th>\n",
       "      <th>response_text</th>\n",
       "    </tr>\n",
       "  </thead>\n",
       "  <tbody>\n",
       "    <tr>\n",
       "      <th>0</th>\n",
       "      <td>0</td>\n",
       "      <td>video</td>\n",
       "      <td>57265377</td>\n",
       "      <td>Roger Williams</td>\n",
       "      <td>Congress_Republican</td>\n",
       "      <td>M</td>\n",
       "      <td>Jerry</td>\n",
       "      <td>Yesterday, my colleagues and I voted to protec...</td>\n",
       "      <td>Protecting birth is not the same as protecting...</td>\n",
       "    </tr>\n",
       "    <tr>\n",
       "      <th>1</th>\n",
       "      <td>0</td>\n",
       "      <td>video</td>\n",
       "      <td>57265377</td>\n",
       "      <td>Roger Williams</td>\n",
       "      <td>Congress_Republican</td>\n",
       "      <td>M</td>\n",
       "      <td>Andrea</td>\n",
       "      <td>Yesterday, my colleagues and I voted to protec...</td>\n",
       "      <td>You need to protect children and leave my body...</td>\n",
       "    </tr>\n",
       "    <tr>\n",
       "      <th>2</th>\n",
       "      <td>0</td>\n",
       "      <td>video</td>\n",
       "      <td>57265377</td>\n",
       "      <td>Roger Williams</td>\n",
       "      <td>Congress_Republican</td>\n",
       "      <td>M</td>\n",
       "      <td>Sherry</td>\n",
       "      <td>Yesterday, my colleagues and I voted to protec...</td>\n",
       "      <td>Thank you</td>\n",
       "    </tr>\n",
       "    <tr>\n",
       "      <th>3</th>\n",
       "      <td>0</td>\n",
       "      <td>video</td>\n",
       "      <td>57265377</td>\n",
       "      <td>Roger Williams</td>\n",
       "      <td>Congress_Republican</td>\n",
       "      <td>M</td>\n",
       "      <td>Bob</td>\n",
       "      <td>Yesterday, my colleagues and I voted to protec...</td>\n",
       "      <td>Thank you Roger</td>\n",
       "    </tr>\n",
       "    <tr>\n",
       "      <th>4</th>\n",
       "      <td>0</td>\n",
       "      <td>video</td>\n",
       "      <td>57265377</td>\n",
       "      <td>Roger Williams</td>\n",
       "      <td>Congress_Republican</td>\n",
       "      <td>M</td>\n",
       "      <td>Joy</td>\n",
       "      <td>Yesterday, my colleagues and I voted to protec...</td>\n",
       "      <td>Unwanted pregnancy is a sad and unfortunate si...</td>\n",
       "    </tr>\n",
       "  </tbody>\n",
       "</table>\n",
       "</div>"
      ],
      "text/plain": [
       "   post_id post_type     op_id         op_name          op_category op_gender  \\\n",
       "0        0     video  57265377  Roger Williams  Congress_Republican         M   \n",
       "1        0     video  57265377  Roger Williams  Congress_Republican         M   \n",
       "2        0     video  57265377  Roger Williams  Congress_Republican         M   \n",
       "3        0     video  57265377  Roger Williams  Congress_Republican         M   \n",
       "4        0     video  57265377  Roger Williams  Congress_Republican         M   \n",
       "\n",
       "  responder_id                                          post_text  \\\n",
       "0        Jerry  Yesterday, my colleagues and I voted to protec...   \n",
       "1       Andrea  Yesterday, my colleagues and I voted to protec...   \n",
       "2       Sherry  Yesterday, my colleagues and I voted to protec...   \n",
       "3          Bob  Yesterday, my colleagues and I voted to protec...   \n",
       "4          Joy  Yesterday, my colleagues and I voted to protec...   \n",
       "\n",
       "                                       response_text  \n",
       "0  Protecting birth is not the same as protecting...  \n",
       "1  You need to protect children and leave my body...  \n",
       "2                                          Thank you  \n",
       "3                                    Thank you Roger  \n",
       "4  Unwanted pregnancy is a sad and unfortunate si...  "
      ]
     },
     "execution_count": 39,
     "metadata": {},
     "output_type": "execute_result"
    }
   ],
   "source": [
    "fb_congress_df.head()"
   ]
  },
  {
   "cell_type": "code",
   "execution_count": 14,
   "metadata": {},
   "outputs": [
    {
     "data": {
      "text/plain": [
       "link      210499\n",
       "photo     199123\n",
       "status     87921\n",
       "video      46842\n",
       "event       3417\n",
       "music        278\n",
       "note         261\n",
       "Name: post_type, dtype: int64"
      ]
     },
     "execution_count": 14,
     "metadata": {},
     "output_type": "execute_result"
    }
   ],
   "source": [
    "unique_posts = fb_congress_df.drop_duplicates('post_id')\n",
    "\n",
    "# different post types, make sure unique for post id\n",
    "unique_posts.post_type.value_counts()"
   ]
  },
  {
   "cell_type": "code",
   "execution_count": 15,
   "metadata": {},
   "outputs": [
    {
     "data": {
      "text/plain": [
       "Congress_Republican     239909\n",
       "Congress_Democratic     158237\n",
       "                        149304\n",
       "Congress_Independent       891\n",
       "Name: op_category, dtype: int64"
      ]
     },
     "execution_count": 15,
     "metadata": {},
     "output_type": "execute_result"
    }
   ],
   "source": [
    "# different op categories, make sure unique for post id\n",
    "unique_posts.op_category.value_counts()"
   ]
  },
  {
   "cell_type": "code",
   "execution_count": 16,
   "metadata": {},
   "outputs": [
    {
     "data": {
      "text/plain": [
       "M    413011\n",
       "W    135330\n",
       "Name: op_gender, dtype: int64"
      ]
     },
     "execution_count": 16,
     "metadata": {},
     "output_type": "execute_result"
    }
   ],
   "source": [
    "# different op genders, make sure unique for post id\n",
    "unique_posts.op_gender.value_counts()"
   ]
  },
  {
   "cell_type": "code",
   "execution_count": 21,
   "metadata": {},
   "outputs": [
    {
     "data": {
      "text/plain": [
       "25.560392164729613"
      ]
     },
     "execution_count": 21,
     "metadata": {},
     "output_type": "execute_result"
    }
   ],
   "source": [
    "# average num responses for everyone\n",
    "fb_congress_df.post_id.value_counts().mean()"
   ]
  },
  {
   "cell_type": "code",
   "execution_count": 31,
   "metadata": {},
   "outputs": [
    {
     "name": "stdout",
     "output_type": "stream",
     "text": [
      "average responses when poster is male: 25.473808203655594\n",
      "average responses when poster is female: 25.824636074780166\n"
     ]
    }
   ],
   "source": [
    "# average number of responses per gender\n",
    "\n",
    "print('average responses when poster is male:', fb_congress_df.groupby('op_gender').post_id.value_counts()['M'].mean())\n",
    "print('average responses when poster is female:', fb_congress_df.groupby('op_gender').post_id.value_counts()['W'].mean())"
   ]
  },
  {
   "cell_type": "markdown",
   "metadata": {},
   "source": [
    "### Analysis of Facebook Wiki"
   ]
  },
  {
   "cell_type": "code",
   "execution_count": 42,
   "metadata": {},
   "outputs": [
    {
     "data": {
      "text/html": [
       "<div>\n",
       "<style scoped>\n",
       "    .dataframe tbody tr th:only-of-type {\n",
       "        vertical-align: middle;\n",
       "    }\n",
       "\n",
       "    .dataframe tbody tr th {\n",
       "        vertical-align: top;\n",
       "    }\n",
       "\n",
       "    .dataframe thead th {\n",
       "        text-align: right;\n",
       "    }\n",
       "</style>\n",
       "<table border=\"1\" class=\"dataframe\">\n",
       "  <thead>\n",
       "    <tr style=\"text-align: right;\">\n",
       "      <th></th>\n",
       "      <th>post_id</th>\n",
       "      <th>post_type</th>\n",
       "      <th>op_id</th>\n",
       "      <th>op_name</th>\n",
       "      <th>op_category</th>\n",
       "      <th>op_gender</th>\n",
       "      <th>responder_id</th>\n",
       "      <th>post_text</th>\n",
       "      <th>response_text</th>\n",
       "    </tr>\n",
       "  </thead>\n",
       "  <tbody>\n",
       "    <tr>\n",
       "      <th>0</th>\n",
       "      <td>0</td>\n",
       "      <td>photo</td>\n",
       "      <td>11679984</td>\n",
       "      <td>Byron Miranda</td>\n",
       "      <td>Wikipedia_American_television_news_anchors</td>\n",
       "      <td>M</td>\n",
       "      <td>Michelle</td>\n",
       "      <td>Tornado watch in effect tonight. Be safe. Plea...</td>\n",
       "      <td>Is this watch going to make it to LaPorte county?</td>\n",
       "    </tr>\n",
       "    <tr>\n",
       "      <th>1</th>\n",
       "      <td>0</td>\n",
       "      <td>photo</td>\n",
       "      <td>11679984</td>\n",
       "      <td>Byron Miranda</td>\n",
       "      <td>Wikipedia_American_television_news_anchors</td>\n",
       "      <td>M</td>\n",
       "      <td>Melissa</td>\n",
       "      <td>Tornado watch in effect tonight. Be safe. Plea...</td>\n",
       "      <td>Anything for Wilmington area</td>\n",
       "    </tr>\n",
       "    <tr>\n",
       "      <th>2</th>\n",
       "      <td>0</td>\n",
       "      <td>photo</td>\n",
       "      <td>11679984</td>\n",
       "      <td>Byron Miranda</td>\n",
       "      <td>Wikipedia_American_television_news_anchors</td>\n",
       "      <td>M</td>\n",
       "      <td>Darlene</td>\n",
       "      <td>Tornado watch in effect tonight. Be safe. Plea...</td>\n",
       "      <td>Thanks, please keep us posted.</td>\n",
       "    </tr>\n",
       "    <tr>\n",
       "      <th>3</th>\n",
       "      <td>0</td>\n",
       "      <td>photo</td>\n",
       "      <td>11679984</td>\n",
       "      <td>Byron Miranda</td>\n",
       "      <td>Wikipedia_American_television_news_anchors</td>\n",
       "      <td>M</td>\n",
       "      <td>Cheryl</td>\n",
       "      <td>Tornado watch in effect tonight. Be safe. Plea...</td>\n",
       "      <td>Thanks Byron</td>\n",
       "    </tr>\n",
       "    <tr>\n",
       "      <th>4</th>\n",
       "      <td>0</td>\n",
       "      <td>photo</td>\n",
       "      <td>11679984</td>\n",
       "      <td>Byron Miranda</td>\n",
       "      <td>Wikipedia_American_television_news_anchors</td>\n",
       "      <td>M</td>\n",
       "      <td>Melissa</td>\n",
       "      <td>Tornado watch in effect tonight. Be safe. Plea...</td>\n",
       "      <td>[[STICKER]]</td>\n",
       "    </tr>\n",
       "  </tbody>\n",
       "</table>\n",
       "</div>"
      ],
      "text/plain": [
       "   post_id post_type     op_id        op_name  \\\n",
       "0        0     photo  11679984  Byron Miranda   \n",
       "1        0     photo  11679984  Byron Miranda   \n",
       "2        0     photo  11679984  Byron Miranda   \n",
       "3        0     photo  11679984  Byron Miranda   \n",
       "4        0     photo  11679984  Byron Miranda   \n",
       "\n",
       "                                  op_category op_gender responder_id  \\\n",
       "0  Wikipedia_American_television_news_anchors         M     Michelle   \n",
       "1  Wikipedia_American_television_news_anchors         M      Melissa   \n",
       "2  Wikipedia_American_television_news_anchors         M      Darlene   \n",
       "3  Wikipedia_American_television_news_anchors         M       Cheryl   \n",
       "4  Wikipedia_American_television_news_anchors         M      Melissa   \n",
       "\n",
       "                                           post_text  \\\n",
       "0  Tornado watch in effect tonight. Be safe. Plea...   \n",
       "1  Tornado watch in effect tonight. Be safe. Plea...   \n",
       "2  Tornado watch in effect tonight. Be safe. Plea...   \n",
       "3  Tornado watch in effect tonight. Be safe. Plea...   \n",
       "4  Tornado watch in effect tonight. Be safe. Plea...   \n",
       "\n",
       "                                       response_text  \n",
       "0  Is this watch going to make it to LaPorte county?  \n",
       "1                       Anything for Wilmington area  \n",
       "2                     Thanks, please keep us posted.  \n",
       "3                                       Thanks Byron  \n",
       "4                                        [[STICKER]]  "
      ]
     },
     "execution_count": 42,
     "metadata": {},
     "output_type": "execute_result"
    }
   ],
   "source": [
    "fb_wiki_df.head()"
   ]
  },
  {
   "cell_type": "code",
   "execution_count": 32,
   "metadata": {},
   "outputs": [
    {
     "data": {
      "text/plain": [
       "photo     61411\n",
       "link      37609\n",
       "status    33495\n",
       "video     16026\n",
       "event       859\n",
       "note         32\n",
       "music        16\n",
       "Name: post_type, dtype: int64"
      ]
     },
     "execution_count": 32,
     "metadata": {},
     "output_type": "execute_result"
    }
   ],
   "source": [
    "unique_posts = fb_wiki_df.drop_duplicates('post_id')\n",
    "\n",
    "# different post types, make sure unique for post id\n",
    "unique_posts.post_type.value_counts()"
   ]
  },
  {
   "cell_type": "code",
   "execution_count": 33,
   "metadata": {},
   "outputs": [
    {
     "data": {
      "text/plain": [
       "                                                                   31637\n",
       "Wikipedia_American_television_actresses                            22822\n",
       "Wikipedia_American_television_news_anchors                         17925\n",
       "Wikipedia_American_television_talk_show_hosts                      16607\n",
       "Wikipedia_American_female_tennis_players                           14855\n",
       "Wikipedia_American_film_actresses                                  14579\n",
       "Wikipedia_American_male_film_actors                                12304\n",
       "Wikipedia_American_television_journalists                          10285\n",
       "Wikipedia_American_male_television_actors                           3330\n",
       "Wikipedia_Women_economists                                          2945\n",
       "Wikipedia_American_male_tennis_players                               957\n",
       "Wikipedia_21st-century_American_novelists                            792\n",
       "Wikipedia_Political_analysts                                         338\n",
       "Wikipedia_Olympic_track_and_field_athletes_of_the_United_States       72\n",
       "Name: op_category, dtype: int64"
      ]
     },
     "execution_count": 33,
     "metadata": {},
     "output_type": "execute_result"
    }
   ],
   "source": [
    "# different op categories, make sure unique for post id\n",
    "unique_posts.op_category.value_counts()"
   ]
  },
  {
   "cell_type": "code",
   "execution_count": 34,
   "metadata": {},
   "outputs": [
    {
     "data": {
      "text/plain": [
       "W    99692\n",
       "M    49756\n",
       "Name: op_gender, dtype: int64"
      ]
     },
     "execution_count": 34,
     "metadata": {},
     "output_type": "execute_result"
    }
   ],
   "source": [
    "# different op genders, make sure unique for post id\n",
    "unique_posts.op_gender.value_counts()"
   ]
  },
  {
   "cell_type": "code",
   "execution_count": 35,
   "metadata": {},
   "outputs": [
    {
     "data": {
      "text/plain": [
       "71.5910350088325"
      ]
     },
     "execution_count": 35,
     "metadata": {},
     "output_type": "execute_result"
    }
   ],
   "source": [
    "# average num responses for everyone\n",
    "fb_wiki_df.post_id.value_counts().mean()"
   ]
  },
  {
   "cell_type": "code",
   "execution_count": 37,
   "metadata": {},
   "outputs": [
    {
     "name": "stdout",
     "output_type": "stream",
     "text": [
      "average responses when poster is male: 71.25723530830453\n",
      "average responses when poster is female: 71.75763351121454\n"
     ]
    }
   ],
   "source": [
    "# average number of responses per gender\n",
    "\n",
    "print('average responses when poster is male:', fb_wiki_df.groupby('op_gender').post_id.value_counts()['M'].mean())\n",
    "print('average responses when poster is female:', fb_wiki_df.groupby('op_gender').post_id.value_counts()['W'].mean())"
   ]
  },
  {
   "cell_type": "markdown",
   "metadata": {},
   "source": [
    "### Analysis of Fitocracy"
   ]
  },
  {
   "cell_type": "code",
   "execution_count": 44,
   "metadata": {},
   "outputs": [
    {
     "data": {
      "text/html": [
       "<div>\n",
       "<style scoped>\n",
       "    .dataframe tbody tr th:only-of-type {\n",
       "        vertical-align: middle;\n",
       "    }\n",
       "\n",
       "    .dataframe tbody tr th {\n",
       "        vertical-align: top;\n",
       "    }\n",
       "\n",
       "    .dataframe thead th {\n",
       "        text-align: right;\n",
       "    }\n",
       "</style>\n",
       "<table border=\"1\" class=\"dataframe\">\n",
       "  <thead>\n",
       "    <tr style=\"text-align: right;\">\n",
       "      <th></th>\n",
       "      <th>post_id</th>\n",
       "      <th>op_id</th>\n",
       "      <th>op_gender</th>\n",
       "      <th>responder_id</th>\n",
       "      <th>responder_gender</th>\n",
       "      <th>post_text</th>\n",
       "      <th>response_text</th>\n",
       "    </tr>\n",
       "  </thead>\n",
       "  <tbody>\n",
       "    <tr>\n",
       "      <th>0</th>\n",
       "      <td>0</td>\n",
       "      <td>102</td>\n",
       "      <td>W</td>\n",
       "      <td>1196122</td>\n",
       "      <td>M</td>\n",
       "      <td>Thanks for the follow!  I followed back :)  I ...</td>\n",
       "      <td>One day at a time! =]</td>\n",
       "    </tr>\n",
       "    <tr>\n",
       "      <th>1</th>\n",
       "      <td>1</td>\n",
       "      <td>104</td>\n",
       "      <td>W</td>\n",
       "      <td>5867</td>\n",
       "      <td>W</td>\n",
       "      <td>I've decided I have this crazy goal of running...</td>\n",
       "      <td>Crazy is synonymous with awesome in this case.</td>\n",
       "    </tr>\n",
       "    <tr>\n",
       "      <th>2</th>\n",
       "      <td>2</td>\n",
       "      <td>104</td>\n",
       "      <td>W</td>\n",
       "      <td>1635</td>\n",
       "      <td>M</td>\n",
       "      <td>Umm, yeah, so those are assisted pull-ups. Bef...</td>\n",
       "      <td>You can enter assisted pullups. Select pullups...</td>\n",
       "    </tr>\n",
       "    <tr>\n",
       "      <th>3</th>\n",
       "      <td>3</td>\n",
       "      <td>117</td>\n",
       "      <td>M</td>\n",
       "      <td>8520</td>\n",
       "      <td>W</td>\n",
       "      <td>dam gurl lookin mad tone in dat pp holla bb</td>\n",
       "      <td>Mirin 3% bodyfat? Yeah, you are.</td>\n",
       "    </tr>\n",
       "    <tr>\n",
       "      <th>4</th>\n",
       "      <td>4</td>\n",
       "      <td>117</td>\n",
       "      <td>M</td>\n",
       "      <td>29126</td>\n",
       "      <td>M</td>\n",
       "      <td>What's up there bear mode?</td>\n",
       "      <td>Hey! I just started a new job, so things are s...</td>\n",
       "    </tr>\n",
       "  </tbody>\n",
       "</table>\n",
       "</div>"
      ],
      "text/plain": [
       "   post_id  op_id op_gender  responder_id responder_gender  \\\n",
       "0        0    102         W       1196122                M   \n",
       "1        1    104         W          5867                W   \n",
       "2        2    104         W          1635                M   \n",
       "3        3    117         M          8520                W   \n",
       "4        4    117         M         29126                M   \n",
       "\n",
       "                                           post_text  \\\n",
       "0  Thanks for the follow!  I followed back :)  I ...   \n",
       "1  I've decided I have this crazy goal of running...   \n",
       "2  Umm, yeah, so those are assisted pull-ups. Bef...   \n",
       "3        dam gurl lookin mad tone in dat pp holla bb   \n",
       "4                         What's up there bear mode?   \n",
       "\n",
       "                                       response_text  \n",
       "0                              One day at a time! =]  \n",
       "1     Crazy is synonymous with awesome in this case.  \n",
       "2  You can enter assisted pullups. Select pullups...  \n",
       "3                   Mirin 3% bodyfat? Yeah, you are.  \n",
       "4  Hey! I just started a new job, so things are s...  "
      ]
     },
     "execution_count": 44,
     "metadata": {},
     "output_type": "execute_result"
    }
   ],
   "source": [
    "fitocracy_df.head()"
   ]
  },
  {
   "cell_type": "code",
   "execution_count": 38,
   "metadata": {},
   "outputs": [
    {
     "name": "stdout",
     "output_type": "stream",
     "text": [
      "318535\n",
      "318535\n"
     ]
    }
   ],
   "source": [
    "# make sure post id is unique again\n",
    "print(fitocracy_df.post_id.nunique())\n",
    "print(len(fitocracy_df.post_id))"
   ]
  },
  {
   "cell_type": "code",
   "execution_count": 47,
   "metadata": {},
   "outputs": [
    {
     "data": {
      "text/plain": [
       "M    173738\n",
       "W    144797\n",
       "Name: op_gender, dtype: int64"
      ]
     },
     "execution_count": 47,
     "metadata": {},
     "output_type": "execute_result"
    }
   ],
   "source": [
    "# different op genders\n",
    "fitocracy_df.op_gender.value_counts()"
   ]
  },
  {
   "cell_type": "code",
   "execution_count": 48,
   "metadata": {},
   "outputs": [
    {
     "data": {
      "text/plain": [
       "W    163315\n",
       "M    155220\n",
       "Name: responder_gender, dtype: int64"
      ]
     },
     "execution_count": 48,
     "metadata": {},
     "output_type": "execute_result"
    }
   ],
   "source": [
    "# different responder genders\n",
    "fitocracy_df.responder_gender.value_counts()"
   ]
  },
  {
   "cell_type": "code",
   "execution_count": 52,
   "metadata": {},
   "outputs": [
    {
     "data": {
      "text/plain": [
       "op_gender  responder_gender\n",
       "M          W                   94375\n",
       "           M                   79363\n",
       "W          M                   75857\n",
       "           W                   68940\n",
       "Name: responder_gender, dtype: int64"
      ]
     },
     "execution_count": 52,
     "metadata": {},
     "output_type": "execute_result"
    }
   ],
   "source": [
    "# can't do average number responses per gender - there is only one response per post\n",
    "\n",
    "# instead, look at how many males respond to males vs. females and how many females respond to males vs. females\n",
    "fitocracy_df.groupby('op_gender').responder_gender.value_counts()"
   ]
  },
  {
   "cell_type": "markdown",
   "metadata": {},
   "source": [
    "### Analysis of Reddit"
   ]
  },
  {
   "cell_type": "code",
   "execution_count": 53,
   "metadata": {},
   "outputs": [
    {
     "data": {
      "text/html": [
       "<div>\n",
       "<style scoped>\n",
       "    .dataframe tbody tr th:only-of-type {\n",
       "        vertical-align: middle;\n",
       "    }\n",
       "\n",
       "    .dataframe tbody tr th {\n",
       "        vertical-align: top;\n",
       "    }\n",
       "\n",
       "    .dataframe thead th {\n",
       "        text-align: right;\n",
       "    }\n",
       "</style>\n",
       "<table border=\"1\" class=\"dataframe\">\n",
       "  <thead>\n",
       "    <tr style=\"text-align: right;\">\n",
       "      <th></th>\n",
       "      <th>post_id</th>\n",
       "      <th>subreddit</th>\n",
       "      <th>op_id</th>\n",
       "      <th>op_gender</th>\n",
       "      <th>op_gender_visible</th>\n",
       "      <th>responder_id</th>\n",
       "      <th>responder_gender</th>\n",
       "      <th>responder_gender_visible</th>\n",
       "      <th>post_text</th>\n",
       "      <th>response_text</th>\n",
       "    </tr>\n",
       "  </thead>\n",
       "  <tbody>\n",
       "    <tr>\n",
       "      <th>0</th>\n",
       "      <td>0</td>\n",
       "      <td>2007scape</td>\n",
       "      <td>Kastoli</td>\n",
       "      <td>M</td>\n",
       "      <td>False</td>\n",
       "      <td>Thunda_Storm</td>\n",
       "      <td></td>\n",
       "      <td>unknown_gender</td>\n",
       "      <td>slayer task perhaps?</td>\n",
       "      <td>or low level. I mean hes wearing black armour ...</td>\n",
       "    </tr>\n",
       "    <tr>\n",
       "      <th>1</th>\n",
       "      <td>1</td>\n",
       "      <td>2007scape</td>\n",
       "      <td>Kastoli</td>\n",
       "      <td>M</td>\n",
       "      <td>False</td>\n",
       "      <td>Thunda_Storm</td>\n",
       "      <td></td>\n",
       "      <td>unknown_gender</td>\n",
       "      <td>Black DHide legs, possibly an initiate pure?</td>\n",
       "      <td>So... Low level</td>\n",
       "    </tr>\n",
       "    <tr>\n",
       "      <th>2</th>\n",
       "      <td>2</td>\n",
       "      <td>2007scape</td>\n",
       "      <td>DCBizzle</td>\n",
       "      <td>M</td>\n",
       "      <td>False</td>\n",
       "      <td>minixmatt</td>\n",
       "      <td></td>\n",
       "      <td>unknown_gender</td>\n",
       "      <td>Whats a tonk? lol</td>\n",
       "      <td>&lt;link&gt;  TONK, TONK</td>\n",
       "    </tr>\n",
       "    <tr>\n",
       "      <th>3</th>\n",
       "      <td>3</td>\n",
       "      <td>2007scape</td>\n",
       "      <td>ordona</td>\n",
       "      <td>M</td>\n",
       "      <td>False</td>\n",
       "      <td>Namiweso</td>\n",
       "      <td></td>\n",
       "      <td>unknown_gender</td>\n",
       "      <td>Do the Stronghold of Security for a free 10k t...</td>\n",
       "      <td>Thanks I forgot about that place! :)</td>\n",
       "    </tr>\n",
       "    <tr>\n",
       "      <th>4</th>\n",
       "      <td>4</td>\n",
       "      <td>2007scape</td>\n",
       "      <td>SlayerMaster</td>\n",
       "      <td>M</td>\n",
       "      <td>False</td>\n",
       "      <td>Quantization</td>\n",
       "      <td></td>\n",
       "      <td>unknown_gender</td>\n",
       "      <td>I cant tell if this guy just doesnt speak Engl...</td>\n",
       "      <td>Or hes just trolling.</td>\n",
       "    </tr>\n",
       "  </tbody>\n",
       "</table>\n",
       "</div>"
      ],
      "text/plain": [
       "   post_id  subreddit         op_id op_gender  op_gender_visible  \\\n",
       "0        0  2007scape       Kastoli         M              False   \n",
       "1        1  2007scape       Kastoli         M              False   \n",
       "2        2  2007scape      DCBizzle         M              False   \n",
       "3        3  2007scape        ordona         M              False   \n",
       "4        4  2007scape  SlayerMaster         M              False   \n",
       "\n",
       "   responder_id responder_gender responder_gender_visible  \\\n",
       "0  Thunda_Storm                            unknown_gender   \n",
       "1  Thunda_Storm                            unknown_gender   \n",
       "2     minixmatt                            unknown_gender   \n",
       "3      Namiweso                            unknown_gender   \n",
       "4  Quantization                            unknown_gender   \n",
       "\n",
       "                                           post_text  \\\n",
       "0                               slayer task perhaps?   \n",
       "1       Black DHide legs, possibly an initiate pure?   \n",
       "2                                  Whats a tonk? lol   \n",
       "3  Do the Stronghold of Security for a free 10k t...   \n",
       "4  I cant tell if this guy just doesnt speak Engl...   \n",
       "\n",
       "                                       response_text  \n",
       "0  or low level. I mean hes wearing black armour ...  \n",
       "1                                    So... Low level  \n",
       "2                                 <link>  TONK, TONK  \n",
       "3               Thanks I forgot about that place! :)  \n",
       "4                              Or hes just trolling.  "
      ]
     },
     "execution_count": 53,
     "metadata": {},
     "output_type": "execute_result"
    }
   ],
   "source": [
    "reddit_df.head()"
   ]
  },
  {
   "cell_type": "code",
   "execution_count": 54,
   "metadata": {},
   "outputs": [
    {
     "name": "stdout",
     "output_type": "stream",
     "text": [
      "1453512\n",
      "1453512\n"
     ]
    }
   ],
   "source": [
    "# make sure post id is unique again\n",
    "print(reddit_df.post_id.nunique())\n",
    "print(len(reddit_df.post_id))"
   ]
  },
  {
   "cell_type": "code",
   "execution_count": 55,
   "metadata": {},
   "outputs": [
    {
     "data": {
      "text/plain": [
       "AskReddit               344400\n",
       "AskMen                  133920\n",
       "politics                 46727\n",
       "funny                    44761\n",
       "pics                     42920\n",
       "relationships            34809\n",
       "AdviceAnimals            33965\n",
       "worldnews                33571\n",
       "todayilearned            32652\n",
       "nba                      32242\n",
       "gaming                   27855\n",
       "news                     27225\n",
       "nfl                      27194\n",
       "videos                   26940\n",
       "WTF                      26682\n",
       "soccer                   22315\n",
       "leagueoflegends          22151\n",
       "CasualConversation       21517\n",
       "movies                   20567\n",
       "OkCupid                  18239\n",
       "CFB                      16025\n",
       "anime                    15254\n",
       "europe                   15233\n",
       "hockey                   14949\n",
       "Fitness                  14909\n",
       "teenagers                12809\n",
       "pcmasterrace             11841\n",
       "explainlikeimfive        11270\n",
       "SquaredCircle            11249\n",
       "technology               11244\n",
       "                         ...  \n",
       "xboxone                   2932\n",
       "heroesofthestorm          2456\n",
       "marvelstudios             2319\n",
       "gonewild                  2310\n",
       "Jokes                     2251\n",
       "Warframe                  2034\n",
       "pathofexile               1771\n",
       "RocketLeague              1766\n",
       "Bitcoin                   1726\n",
       "TheSilphRoad              1650\n",
       "me_irl                    1371\n",
       "Philippines               1295\n",
       "PUBATTLEGROUNDS           1204\n",
       "NintendoSwitch            1117\n",
       "FIFA                      1014\n",
       "2007scape                  928\n",
       "rupaulsdragrace            881\n",
       "Amd                        879\n",
       "counting                   798\n",
       "FFBraveExvius              696\n",
       "FireEmblemHeroes           685\n",
       "GlobalOffensiveTrade       681\n",
       "DBZDokkanBattle            523\n",
       "Rainbow6                   477\n",
       "dankmemes                  374\n",
       "RocketLeagueExchange       363\n",
       "ethtrader                  205\n",
       "AskOuija                   117\n",
       "Ice_Poseidon                37\n",
       "SolutionGambling             2\n",
       "Name: subreddit, Length: 98, dtype: int64"
      ]
     },
     "execution_count": 55,
     "metadata": {},
     "output_type": "execute_result"
    }
   ],
   "source": [
    "# different subreddits\n",
    "reddit_df.subreddit.value_counts()"
   ]
  },
  {
   "cell_type": "code",
   "execution_count": 56,
   "metadata": {},
   "outputs": [
    {
     "data": {
      "text/plain": [
       "M    1148591\n",
       "W     304921\n",
       "Name: op_gender, dtype: int64"
      ]
     },
     "execution_count": 56,
     "metadata": {},
     "output_type": "execute_result"
    }
   ],
   "source": [
    "# different op genders\n",
    "reddit_df.op_gender.value_counts()"
   ]
  },
  {
   "cell_type": "code",
   "execution_count": 58,
   "metadata": {},
   "outputs": [
    {
     "data": {
      "text/plain": [
       "     1320290\n",
       "M     102530\n",
       "W      30692\n",
       "Name: responder_gender, dtype: int64"
      ]
     },
     "execution_count": 58,
     "metadata": {},
     "output_type": "execute_result"
    }
   ],
   "source": [
    "# different responder genders\n",
    "reddit_df.responder_gender.value_counts()\n",
    "# blank is unknown"
   ]
  },
  {
   "cell_type": "code",
   "execution_count": 59,
   "metadata": {},
   "outputs": [
    {
     "data": {
      "text/plain": [
       "op_gender  responder_gender\n",
       "M                              1045003\n",
       "           M                     80705\n",
       "           W                     22883\n",
       "W                               275287\n",
       "           M                     21825\n",
       "           W                      7809\n",
       "Name: responder_gender, dtype: int64"
      ]
     },
     "execution_count": 59,
     "metadata": {},
     "output_type": "execute_result"
    }
   ],
   "source": [
    "# look at how many males respond to males vs. females and how many females respond to males vs. females\n",
    "reddit_df.groupby('op_gender').responder_gender.value_counts()"
   ]
  },
  {
   "cell_type": "markdown",
   "metadata": {},
   "source": [
    "### Analysis of TED"
   ]
  },
  {
   "cell_type": "code",
   "execution_count": 60,
   "metadata": {},
   "outputs": [
    {
     "data": {
      "text/html": [
       "<div>\n",
       "<style scoped>\n",
       "    .dataframe tbody tr th:only-of-type {\n",
       "        vertical-align: middle;\n",
       "    }\n",
       "\n",
       "    .dataframe tbody tr th {\n",
       "        vertical-align: top;\n",
       "    }\n",
       "\n",
       "    .dataframe thead th {\n",
       "        text-align: right;\n",
       "    }\n",
       "</style>\n",
       "<table border=\"1\" class=\"dataframe\">\n",
       "  <thead>\n",
       "    <tr style=\"text-align: right;\">\n",
       "      <th></th>\n",
       "      <th>post_id</th>\n",
       "      <th>op_id</th>\n",
       "      <th>op_gender</th>\n",
       "      <th>responder_id</th>\n",
       "      <th>response_text</th>\n",
       "    </tr>\n",
       "  </thead>\n",
       "  <tbody>\n",
       "    <tr>\n",
       "      <th>0</th>\n",
       "      <td>0</td>\n",
       "      <td>Aimee Mullins</td>\n",
       "      <td>W</td>\n",
       "      <td>Laura</td>\n",
       "      <td>She seems like a truly amazing person, regardl...</td>\n",
       "    </tr>\n",
       "    <tr>\n",
       "      <th>1</th>\n",
       "      <td>1</td>\n",
       "      <td>Aimee Mullins</td>\n",
       "      <td>W</td>\n",
       "      <td>Ellen</td>\n",
       "      <td>Aimee's true \"disability\" is when people treat...</td>\n",
       "    </tr>\n",
       "    <tr>\n",
       "      <th>2</th>\n",
       "      <td>2</td>\n",
       "      <td>Aimee Mullins</td>\n",
       "      <td>W</td>\n",
       "      <td>Tanya</td>\n",
       "      <td>I love that she took away some of the mystery ...</td>\n",
       "    </tr>\n",
       "    <tr>\n",
       "      <th>3</th>\n",
       "      <td>3</td>\n",
       "      <td>Aimee Mullins</td>\n",
       "      <td>W</td>\n",
       "      <td>Salim</td>\n",
       "      <td>VERY inspiring indeed! I love these TED antiqu...</td>\n",
       "    </tr>\n",
       "    <tr>\n",
       "      <th>4</th>\n",
       "      <td>4</td>\n",
       "      <td>Aimee Mullins</td>\n",
       "      <td>W</td>\n",
       "      <td>Kiruba</td>\n",
       "      <td>We take running so much for granted that most ...</td>\n",
       "    </tr>\n",
       "  </tbody>\n",
       "</table>\n",
       "</div>"
      ],
      "text/plain": [
       "   post_id          op_id op_gender responder_id  \\\n",
       "0        0  Aimee Mullins         W        Laura   \n",
       "1        1  Aimee Mullins         W        Ellen   \n",
       "2        2  Aimee Mullins         W        Tanya   \n",
       "3        3  Aimee Mullins         W        Salim   \n",
       "4        4  Aimee Mullins         W       Kiruba   \n",
       "\n",
       "                                       response_text  \n",
       "0  She seems like a truly amazing person, regardl...  \n",
       "1  Aimee's true \"disability\" is when people treat...  \n",
       "2  I love that she took away some of the mystery ...  \n",
       "3  VERY inspiring indeed! I love these TED antiqu...  \n",
       "4  We take running so much for granted that most ...  "
      ]
     },
     "execution_count": 60,
     "metadata": {},
     "output_type": "execute_result"
    }
   ],
   "source": [
    "ted_responses_df.head()"
   ]
  },
  {
   "cell_type": "code",
   "execution_count": 62,
   "metadata": {},
   "outputs": [
    {
     "data": {
      "text/plain": [
       "M    144336\n",
       "W     46011\n",
       "Name: op_gender, dtype: int64"
      ]
     },
     "execution_count": 62,
     "metadata": {},
     "output_type": "execute_result"
    }
   ],
   "source": [
    "# different op genders\n",
    "ted_responses_df.op_gender.value_counts()"
   ]
  },
  {
   "cell_type": "markdown",
   "metadata": {},
   "source": [
    "Not much else to analyze here..."
   ]
  },
  {
   "cell_type": "code",
   "execution_count": null,
   "metadata": {},
   "outputs": [],
   "source": []
  }
 ],
 "metadata": {
  "kernelspec": {
   "display_name": "Python 3",
   "language": "python",
   "name": "python3"
  },
  "language_info": {
   "codemirror_mode": {
    "name": "ipython",
    "version": 3
   },
   "file_extension": ".py",
   "mimetype": "text/x-python",
   "name": "python",
   "nbconvert_exporter": "python",
   "pygments_lexer": "ipython3",
   "version": "3.7.1"
  }
 },
 "nbformat": 4,
 "nbformat_minor": 2
}
