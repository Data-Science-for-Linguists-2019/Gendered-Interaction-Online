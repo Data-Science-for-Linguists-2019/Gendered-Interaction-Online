{
 "cells": [
  {
   "cell_type": "markdown",
   "metadata": {},
   "source": [
    "# Exploring RtGender"
   ]
  },
  {
   "cell_type": "code",
   "execution_count": 1,
   "metadata": {},
   "outputs": [],
   "source": [
    "# import things\n",
    "import pandas as pd\n",
    "import numpy as np\n",
    "import seaborn as sns\n",
    "import matplotlib.pyplot as plt\n",
    "import nltk\n",
    "from scipy import stats"
   ]
  },
  {
   "cell_type": "code",
   "execution_count": 2,
   "metadata": {},
   "outputs": [
    {
     "name": "stdout",
     "output_type": "stream",
     "text": [
      "(548341, 5)\n"
     ]
    },
    {
     "data": {
      "text/html": [
       "<div>\n",
       "<style scoped>\n",
       "    .dataframe tbody tr th:only-of-type {\n",
       "        vertical-align: middle;\n",
       "    }\n",
       "\n",
       "    .dataframe tbody tr th {\n",
       "        vertical-align: top;\n",
       "    }\n",
       "\n",
       "    .dataframe thead th {\n",
       "        text-align: right;\n",
       "    }\n",
       "</style>\n",
       "<table border=\"1\" class=\"dataframe\">\n",
       "  <thead>\n",
       "    <tr style=\"text-align: right;\">\n",
       "      <th></th>\n",
       "      <th>op_id</th>\n",
       "      <th>op_gender</th>\n",
       "      <th>post_id</th>\n",
       "      <th>post_text</th>\n",
       "      <th>post_type</th>\n",
       "    </tr>\n",
       "  </thead>\n",
       "  <tbody>\n",
       "    <tr>\n",
       "      <th>0</th>\n",
       "      <td>57265377</td>\n",
       "      <td>M</td>\n",
       "      <td>0</td>\n",
       "      <td>Yesterday, my colleagues and I voted to protec...</td>\n",
       "      <td>video</td>\n",
       "    </tr>\n",
       "    <tr>\n",
       "      <th>1</th>\n",
       "      <td>57265377</td>\n",
       "      <td>M</td>\n",
       "      <td>1</td>\n",
       "      <td>Roses are red...and so is Texas. Let's keep it...</td>\n",
       "      <td>video</td>\n",
       "    </tr>\n",
       "    <tr>\n",
       "      <th>2</th>\n",
       "      <td>57265377</td>\n",
       "      <td>M</td>\n",
       "      <td>2</td>\n",
       "      <td>#TBT to this classic video. #DonkeyWhisperer</td>\n",
       "      <td>video</td>\n",
       "    </tr>\n",
       "    <tr>\n",
       "      <th>3</th>\n",
       "      <td>57265377</td>\n",
       "      <td>M</td>\n",
       "      <td>3</td>\n",
       "      <td>Since President Donald J. Trump was sworn in o...</td>\n",
       "      <td>video</td>\n",
       "    </tr>\n",
       "    <tr>\n",
       "      <th>4</th>\n",
       "      <td>57265377</td>\n",
       "      <td>M</td>\n",
       "      <td>4</td>\n",
       "      <td>Remembering our 40th president today. LIKE to ...</td>\n",
       "      <td>video</td>\n",
       "    </tr>\n",
       "  </tbody>\n",
       "</table>\n",
       "</div>"
      ],
      "text/plain": [
       "      op_id op_gender  post_id  \\\n",
       "0  57265377         M        0   \n",
       "1  57265377         M        1   \n",
       "2  57265377         M        2   \n",
       "3  57265377         M        3   \n",
       "4  57265377         M        4   \n",
       "\n",
       "                                           post_text post_type  \n",
       "0  Yesterday, my colleagues and I voted to protec...     video  \n",
       "1  Roses are red...and so is Texas. Let's keep it...     video  \n",
       "2       #TBT to this classic video. #DonkeyWhisperer     video  \n",
       "3  Since President Donald J. Trump was sworn in o...     video  \n",
       "4  Remembering our 40th president today. LIKE to ...     video  "
      ]
     },
     "execution_count": 2,
     "metadata": {},
     "output_type": "execute_result"
    }
   ],
   "source": [
    "# set corpus directory\n",
    "root = \"/Users/katie/Documents/Data_Science/Gendered-Interaction-Online/private/rtgender/\"\n",
    "\n",
    "fb_congress_posts = pd.read_csv(root + 'facebook_congress_posts.csv')\n",
    "print(fb_congress_posts.shape)\n",
    "fb_congress_posts.head()"
   ]
  },
  {
   "cell_type": "code",
   "execution_count": 3,
   "metadata": {},
   "outputs": [
    {
     "name": "stdout",
     "output_type": "stream",
     "text": [
      "<class 'pandas.core.frame.DataFrame'>\n",
      "RangeIndex: 548341 entries, 0 to 548340\n",
      "Data columns (total 5 columns):\n",
      "op_id        548341 non-null int64\n",
      "op_gender    548341 non-null object\n",
      "post_id      548341 non-null int64\n",
      "post_text    510135 non-null object\n",
      "post_type    548341 non-null object\n",
      "dtypes: int64(2), object(3)\n",
      "memory usage: 20.9+ MB\n"
     ]
    }
   ],
   "source": [
    "fb_congress_posts.info()"
   ]
  },
  {
   "cell_type": "markdown",
   "metadata": {},
   "source": [
    "There are some null values in post_text... let's take a look."
   ]
  },
  {
   "cell_type": "code",
   "execution_count": 4,
   "metadata": {},
   "outputs": [
    {
     "data": {
      "text/html": [
       "<div>\n",
       "<style scoped>\n",
       "    .dataframe tbody tr th:only-of-type {\n",
       "        vertical-align: middle;\n",
       "    }\n",
       "\n",
       "    .dataframe tbody tr th {\n",
       "        vertical-align: top;\n",
       "    }\n",
       "\n",
       "    .dataframe thead th {\n",
       "        text-align: right;\n",
       "    }\n",
       "</style>\n",
       "<table border=\"1\" class=\"dataframe\">\n",
       "  <thead>\n",
       "    <tr style=\"text-align: right;\">\n",
       "      <th></th>\n",
       "      <th>op_id</th>\n",
       "      <th>op_gender</th>\n",
       "      <th>post_id</th>\n",
       "      <th>post_text</th>\n",
       "      <th>post_type</th>\n",
       "    </tr>\n",
       "  </thead>\n",
       "  <tbody>\n",
       "    <tr>\n",
       "      <th>27</th>\n",
       "      <td>57265377</td>\n",
       "      <td>M</td>\n",
       "      <td>27</td>\n",
       "      <td>NaN</td>\n",
       "      <td>video</td>\n",
       "    </tr>\n",
       "    <tr>\n",
       "      <th>55</th>\n",
       "      <td>57265377</td>\n",
       "      <td>M</td>\n",
       "      <td>55</td>\n",
       "      <td>NaN</td>\n",
       "      <td>photo</td>\n",
       "    </tr>\n",
       "    <tr>\n",
       "      <th>91</th>\n",
       "      <td>57265377</td>\n",
       "      <td>M</td>\n",
       "      <td>91</td>\n",
       "      <td>NaN</td>\n",
       "      <td>photo</td>\n",
       "    </tr>\n",
       "    <tr>\n",
       "      <th>95</th>\n",
       "      <td>57265377</td>\n",
       "      <td>M</td>\n",
       "      <td>95</td>\n",
       "      <td>NaN</td>\n",
       "      <td>link</td>\n",
       "    </tr>\n",
       "    <tr>\n",
       "      <th>128</th>\n",
       "      <td>57265377</td>\n",
       "      <td>M</td>\n",
       "      <td>128</td>\n",
       "      <td>NaN</td>\n",
       "      <td>photo</td>\n",
       "    </tr>\n",
       "  </tbody>\n",
       "</table>\n",
       "</div>"
      ],
      "text/plain": [
       "        op_id op_gender  post_id post_text post_type\n",
       "27   57265377         M       27       NaN     video\n",
       "55   57265377         M       55       NaN     photo\n",
       "91   57265377         M       91       NaN     photo\n",
       "95   57265377         M       95       NaN      link\n",
       "128  57265377         M      128       NaN     photo"
      ]
     },
     "execution_count": 4,
     "metadata": {},
     "output_type": "execute_result"
    }
   ],
   "source": [
    "null_posts = fb_congress_posts[fb_congress_posts.post_text.isnull()]\n",
    "null_posts.head()"
   ]
  },
  {
   "cell_type": "markdown",
   "metadata": {},
   "source": [
    "What kind of post types are there no text involved?"
   ]
  },
  {
   "cell_type": "code",
   "execution_count": 5,
   "metadata": {},
   "outputs": [
    {
     "data": {
      "text/plain": [
       "link      17085\n",
       "photo     15526\n",
       "video      3734\n",
       "event      1766\n",
       "note         43\n",
       "status       31\n",
       "music        21\n",
       "Name: post_type, dtype: int64"
      ]
     },
     "execution_count": 5,
     "metadata": {},
     "output_type": "execute_result"
    }
   ],
   "source": [
    "null_posts.post_type.value_counts()"
   ]
  },
  {
   "cell_type": "code",
   "execution_count": 6,
   "metadata": {},
   "outputs": [
    {
     "data": {
      "text/html": [
       "<div>\n",
       "<style scoped>\n",
       "    .dataframe tbody tr th:only-of-type {\n",
       "        vertical-align: middle;\n",
       "    }\n",
       "\n",
       "    .dataframe tbody tr th {\n",
       "        vertical-align: top;\n",
       "    }\n",
       "\n",
       "    .dataframe thead th {\n",
       "        text-align: right;\n",
       "    }\n",
       "</style>\n",
       "<table border=\"1\" class=\"dataframe\">\n",
       "  <thead>\n",
       "    <tr style=\"text-align: right;\">\n",
       "      <th></th>\n",
       "      <th>op_id</th>\n",
       "      <th>op_gender</th>\n",
       "      <th>post_id</th>\n",
       "      <th>post_text</th>\n",
       "      <th>post_type</th>\n",
       "    </tr>\n",
       "  </thead>\n",
       "  <tbody>\n",
       "    <tr>\n",
       "      <th>416996</th>\n",
       "      <td>98364166</td>\n",
       "      <td>M</td>\n",
       "      <td>416996</td>\n",
       "      <td>NaN</td>\n",
       "      <td>status</td>\n",
       "    </tr>\n",
       "  </tbody>\n",
       "</table>\n",
       "</div>"
      ],
      "text/plain": [
       "           op_id op_gender  post_id post_text post_type\n",
       "416996  98364166         M   416996       NaN    status"
      ]
     },
     "execution_count": 6,
     "metadata": {},
     "output_type": "execute_result"
    }
   ],
   "source": [
    "null_posts[null_posts.post_type == 'status'].sample()"
   ]
  },
  {
   "cell_type": "markdown",
   "metadata": {},
   "source": [
    "Hm... how do you post an empty status? Not really sure. But this pretty much gives us no information, except for the gender of the original poster.\n",
    "\n",
    "Anyways, let's replace the null values with an empty string."
   ]
  },
  {
   "cell_type": "code",
   "execution_count": 7,
   "metadata": {},
   "outputs": [
    {
     "name": "stdout",
     "output_type": "stream",
     "text": [
      "<class 'pandas.core.frame.DataFrame'>\n",
      "RangeIndex: 548341 entries, 0 to 548340\n",
      "Data columns (total 5 columns):\n",
      "op_id        548341 non-null int64\n",
      "op_gender    548341 non-null object\n",
      "post_id      548341 non-null int64\n",
      "post_text    548341 non-null object\n",
      "post_type    548341 non-null object\n",
      "dtypes: int64(2), object(3)\n",
      "memory usage: 20.9+ MB\n"
     ]
    }
   ],
   "source": [
    "fb_congress_posts.post_text.fillna('', inplace=True)\n",
    "fb_congress_posts.info()"
   ]
  },
  {
   "cell_type": "markdown",
   "metadata": {},
   "source": [
    "Yay, looks good.\n",
    "\n",
    "How many unique posters are there?"
   ]
  },
  {
   "cell_type": "code",
   "execution_count": 8,
   "metadata": {},
   "outputs": [
    {
     "data": {
      "text/plain": [
       "61839194    4853\n",
       "18876566    4846\n",
       "29687946    4108\n",
       "36875843    4040\n",
       "50863205    3939\n",
       "42989017    3855\n",
       "66658382    3837\n",
       "95597578    3795\n",
       "10532564    3681\n",
       "79121728    3659\n",
       "42443414    3599\n",
       "44866489    3531\n",
       "70760728    3466\n",
       "91600525    3430\n",
       "347502      3401\n",
       "73726010    3371\n",
       "63776107    3299\n",
       "40220308    3297\n",
       "32185537    3276\n",
       "83432188    3164\n",
       "60329137    3140\n",
       "50909248    3125\n",
       "72264613    3119\n",
       "23706532    3108\n",
       "56883970    3015\n",
       "73169587    2990\n",
       "77914417    2960\n",
       "71417411    2924\n",
       "4584091     2902\n",
       "8879946     2900\n",
       "            ... \n",
       "54086639     173\n",
       "61999298     169\n",
       "39491026     133\n",
       "43061204     112\n",
       "96418867     100\n",
       "12142782      95\n",
       "86681682      89\n",
       "84331141      87\n",
       "87147344      86\n",
       "3812062       83\n",
       "64875568      81\n",
       "85181735      80\n",
       "98364166      79\n",
       "64366485      72\n",
       "20975602      63\n",
       "76269753      59\n",
       "74629159      58\n",
       "86585451      55\n",
       "54661425      52\n",
       "87791089      51\n",
       "15741954      46\n",
       "41427210      45\n",
       "11268555      38\n",
       "74761634      31\n",
       "25231270      28\n",
       "45584113      17\n",
       "78379937      15\n",
       "44683265      13\n",
       "806092         9\n",
       "58288189       1\n",
       "Name: op_id, Length: 407, dtype: int64"
      ]
     },
     "execution_count": 8,
     "metadata": {},
     "output_type": "execute_result"
    }
   ],
   "source": [
    "fb_congress_posts.op_id.value_counts()"
   ]
  },
  {
   "cell_type": "code",
   "execution_count": 9,
   "metadata": {},
   "outputs": [
    {
     "data": {
      "text/plain": [
       "407"
      ]
     },
     "execution_count": 9,
     "metadata": {},
     "output_type": "execute_result"
    }
   ],
   "source": [
    "fb_congress_posts.op_id.nunique()"
   ]
  },
  {
   "cell_type": "markdown",
   "metadata": {},
   "source": [
    "Let's see male vs. female posters... It'd be nice if it were about even."
   ]
  },
  {
   "cell_type": "code",
   "execution_count": 10,
   "metadata": {},
   "outputs": [
    {
     "data": {
      "text/plain": [
       "M    413011\n",
       "W    135330\n",
       "Name: op_gender, dtype: int64"
      ]
     },
     "execution_count": 10,
     "metadata": {},
     "output_type": "execute_result"
    }
   ],
   "source": [
    "fb_congress_posts.op_gender.value_counts()"
   ]
  },
  {
   "cell_type": "code",
   "execution_count": 11,
   "metadata": {},
   "outputs": [
    {
     "data": {
      "text/plain": [
       "link      210499\n",
       "photo     199123\n",
       "status     87921\n",
       "video      46842\n",
       "event       3417\n",
       "music        278\n",
       "note         261\n",
       "Name: post_type, dtype: int64"
      ]
     },
     "execution_count": 11,
     "metadata": {},
     "output_type": "execute_result"
    }
   ],
   "source": [
    "fb_congress_posts.post_type.value_counts()"
   ]
  },
  {
   "cell_type": "markdown",
   "metadata": {},
   "source": [
    "Let's now look at the corresponding response file:"
   ]
  },
  {
   "cell_type": "code",
   "execution_count": 12,
   "metadata": {},
   "outputs": [
    {
     "name": "stdout",
     "output_type": "stream",
     "text": [
      "(13866507, 7)\n"
     ]
    },
    {
     "data": {
      "text/html": [
       "<div>\n",
       "<style scoped>\n",
       "    .dataframe tbody tr th:only-of-type {\n",
       "        vertical-align: middle;\n",
       "    }\n",
       "\n",
       "    .dataframe tbody tr th {\n",
       "        vertical-align: top;\n",
       "    }\n",
       "\n",
       "    .dataframe thead th {\n",
       "        text-align: right;\n",
       "    }\n",
       "</style>\n",
       "<table border=\"1\" class=\"dataframe\">\n",
       "  <thead>\n",
       "    <tr style=\"text-align: right;\">\n",
       "      <th></th>\n",
       "      <th>op_id</th>\n",
       "      <th>op_gender</th>\n",
       "      <th>post_id</th>\n",
       "      <th>responder_id</th>\n",
       "      <th>response_text</th>\n",
       "      <th>op_name</th>\n",
       "      <th>op_category</th>\n",
       "    </tr>\n",
       "  </thead>\n",
       "  <tbody>\n",
       "    <tr>\n",
       "      <th>0</th>\n",
       "      <td>57265377</td>\n",
       "      <td>M</td>\n",
       "      <td>0</td>\n",
       "      <td>Jerry</td>\n",
       "      <td>Protecting birth is not the same as protecting...</td>\n",
       "      <td>Roger Williams</td>\n",
       "      <td>Congress_Republican</td>\n",
       "    </tr>\n",
       "    <tr>\n",
       "      <th>1</th>\n",
       "      <td>57265377</td>\n",
       "      <td>M</td>\n",
       "      <td>0</td>\n",
       "      <td>Andrea</td>\n",
       "      <td>You need to protect children and leave my body...</td>\n",
       "      <td>Roger Williams</td>\n",
       "      <td>Congress_Republican</td>\n",
       "    </tr>\n",
       "    <tr>\n",
       "      <th>2</th>\n",
       "      <td>57265377</td>\n",
       "      <td>M</td>\n",
       "      <td>0</td>\n",
       "      <td>Sherry</td>\n",
       "      <td>Thank you</td>\n",
       "      <td>Roger Williams</td>\n",
       "      <td>Congress_Republican</td>\n",
       "    </tr>\n",
       "    <tr>\n",
       "      <th>3</th>\n",
       "      <td>57265377</td>\n",
       "      <td>M</td>\n",
       "      <td>0</td>\n",
       "      <td>Bob</td>\n",
       "      <td>Thank you Roger</td>\n",
       "      <td>Roger Williams</td>\n",
       "      <td>Congress_Republican</td>\n",
       "    </tr>\n",
       "    <tr>\n",
       "      <th>4</th>\n",
       "      <td>57265377</td>\n",
       "      <td>M</td>\n",
       "      <td>0</td>\n",
       "      <td>Joy</td>\n",
       "      <td>Unwanted pregnancy is a sad and unfortunate si...</td>\n",
       "      <td>Roger Williams</td>\n",
       "      <td>Congress_Republican</td>\n",
       "    </tr>\n",
       "  </tbody>\n",
       "</table>\n",
       "</div>"
      ],
      "text/plain": [
       "      op_id op_gender  post_id responder_id  \\\n",
       "0  57265377         M        0        Jerry   \n",
       "1  57265377         M        0       Andrea   \n",
       "2  57265377         M        0       Sherry   \n",
       "3  57265377         M        0          Bob   \n",
       "4  57265377         M        0          Joy   \n",
       "\n",
       "                                       response_text         op_name  \\\n",
       "0  Protecting birth is not the same as protecting...  Roger Williams   \n",
       "1  You need to protect children and leave my body...  Roger Williams   \n",
       "2                                          Thank you  Roger Williams   \n",
       "3                                    Thank you Roger  Roger Williams   \n",
       "4  Unwanted pregnancy is a sad and unfortunate si...  Roger Williams   \n",
       "\n",
       "           op_category  \n",
       "0  Congress_Republican  \n",
       "1  Congress_Republican  \n",
       "2  Congress_Republican  \n",
       "3  Congress_Republican  \n",
       "4  Congress_Republican  "
      ]
     },
     "execution_count": 12,
     "metadata": {},
     "output_type": "execute_result"
    }
   ],
   "source": [
    "fb_congress_responses = pd.read_csv(root + 'facebook_congress_responses.csv')\n",
    "print(fb_congress_responses.shape)\n",
    "fb_congress_responses.head()"
   ]
  },
  {
   "cell_type": "markdown",
   "metadata": {},
   "source": [
    "Okay... so how is this set up? Looks like I should match this to the original poster from the first data frame by op_id and post_id. Also, this doesn't contain gender - but contains names. Can do something with that."
   ]
  },
  {
   "cell_type": "code",
   "execution_count": 13,
   "metadata": {},
   "outputs": [
    {
     "name": "stdout",
     "output_type": "stream",
     "text": [
      "<class 'pandas.core.frame.DataFrame'>\n",
      "RangeIndex: 13866507 entries, 0 to 13866506\n",
      "Data columns (total 7 columns):\n",
      "op_id            int64\n",
      "op_gender        object\n",
      "post_id          int64\n",
      "responder_id     object\n",
      "response_text    object\n",
      "op_name          object\n",
      "op_category      object\n",
      "dtypes: int64(2), object(5)\n",
      "memory usage: 740.6+ MB\n"
     ]
    }
   ],
   "source": [
    "fb_congress_responses.info()"
   ]
  },
  {
   "cell_type": "markdown",
   "metadata": {},
   "source": [
    "Let's see how many responses for the IDs..."
   ]
  },
  {
   "cell_type": "code",
   "execution_count": 14,
   "metadata": {},
   "outputs": [
    {
     "data": {
      "text/plain": [
       "29687946    1293804\n",
       "83458649     816417\n",
       "46506154     632376\n",
       "94031602     509791\n",
       "95597578     498077\n",
       "99469231     301337\n",
       "53513040     234747\n",
       "10174826     220292\n",
       "39757514     212866\n",
       "61839194     206575\n",
       "18759563     192314\n",
       "56371090     177483\n",
       "85385501     175593\n",
       "81592736     172578\n",
       "65476274     166634\n",
       "42138413     151895\n",
       "86569077     150081\n",
       "91600525     149529\n",
       "60239508     148538\n",
       "69918698     138155\n",
       "83432188     136436\n",
       "11077114     132133\n",
       "87491774     131931\n",
       "48284422     126863\n",
       "7212873      124219\n",
       "57265377     114580\n",
       "76508222     110755\n",
       "86386775     108080\n",
       "65473098      99662\n",
       "8266906       95934\n",
       "             ...   \n",
       "54661425        810\n",
       "64875568        808\n",
       "41098373        779\n",
       "86681682        774\n",
       "7840915         694\n",
       "25231270        543\n",
       "41427210        534\n",
       "87147344        504\n",
       "17310           498\n",
       "86585451        497\n",
       "12142782        483\n",
       "39491026        452\n",
       "85181735        422\n",
       "98364166        399\n",
       "37869252        391\n",
       "62218886        382\n",
       "30043764        375\n",
       "20975602        359\n",
       "180984          350\n",
       "74761634        350\n",
       "30182281        282\n",
       "37834233        281\n",
       "87791089        202\n",
       "63816275        161\n",
       "15741954        141\n",
       "52706712        138\n",
       "71601875         72\n",
       "78379937         24\n",
       "806092           24\n",
       "44683265          1\n",
       "Name: op_id, Length: 402, dtype: int64"
      ]
     },
     "execution_count": 14,
     "metadata": {},
     "output_type": "execute_result"
    }
   ],
   "source": [
    "fb_congress_responses.op_id.value_counts()"
   ]
  },
  {
   "cell_type": "markdown",
   "metadata": {},
   "source": [
    "Looks like there are 402 unique IDs."
   ]
  },
  {
   "cell_type": "code",
   "execution_count": 15,
   "metadata": {},
   "outputs": [
    {
     "data": {
      "text/plain": [
       "402"
      ]
     },
     "execution_count": 15,
     "metadata": {},
     "output_type": "execute_result"
    }
   ],
   "source": [
    "fb_congress_responses.op_id.nunique()"
   ]
  },
  {
   "cell_type": "markdown",
   "metadata": {},
   "source": [
    "Hm... so there are 5 less than the posts. Does this mean 5 posters don't have responses? Something to further analyze later...\n",
    "\n",
    "For now, let's check out some other files."
   ]
  },
  {
   "cell_type": "code",
   "execution_count": 16,
   "metadata": {},
   "outputs": [
    {
     "name": "stdout",
     "output_type": "stream",
     "text": [
      "(149448, 5)\n"
     ]
    },
    {
     "data": {
      "text/html": [
       "<div>\n",
       "<style scoped>\n",
       "    .dataframe tbody tr th:only-of-type {\n",
       "        vertical-align: middle;\n",
       "    }\n",
       "\n",
       "    .dataframe tbody tr th {\n",
       "        vertical-align: top;\n",
       "    }\n",
       "\n",
       "    .dataframe thead th {\n",
       "        text-align: right;\n",
       "    }\n",
       "</style>\n",
       "<table border=\"1\" class=\"dataframe\">\n",
       "  <thead>\n",
       "    <tr style=\"text-align: right;\">\n",
       "      <th></th>\n",
       "      <th>op_id</th>\n",
       "      <th>op_gender</th>\n",
       "      <th>post_id</th>\n",
       "      <th>post_text</th>\n",
       "      <th>post_type</th>\n",
       "    </tr>\n",
       "  </thead>\n",
       "  <tbody>\n",
       "    <tr>\n",
       "      <th>0</th>\n",
       "      <td>11679984</td>\n",
       "      <td>M</td>\n",
       "      <td>0</td>\n",
       "      <td>Tornado watch in effect tonight. Be safe. Plea...</td>\n",
       "      <td>photo</td>\n",
       "    </tr>\n",
       "    <tr>\n",
       "      <th>1</th>\n",
       "      <td>11679984</td>\n",
       "      <td>M</td>\n",
       "      <td>1</td>\n",
       "      <td>NaN</td>\n",
       "      <td>photo</td>\n",
       "    </tr>\n",
       "    <tr>\n",
       "      <th>2</th>\n",
       "      <td>11679984</td>\n",
       "      <td>M</td>\n",
       "      <td>2</td>\n",
       "      <td>Temps warming up for the holiday weekend! I wi...</td>\n",
       "      <td>photo</td>\n",
       "    </tr>\n",
       "    <tr>\n",
       "      <th>3</th>\n",
       "      <td>11679984</td>\n",
       "      <td>M</td>\n",
       "      <td>3</td>\n",
       "      <td>Showers heading this way ..</td>\n",
       "      <td>photo</td>\n",
       "    </tr>\n",
       "    <tr>\n",
       "      <th>4</th>\n",
       "      <td>11679984</td>\n",
       "      <td>M</td>\n",
       "      <td>4</td>\n",
       "      <td>Storm potential update...feel free to share th...</td>\n",
       "      <td>photo</td>\n",
       "    </tr>\n",
       "  </tbody>\n",
       "</table>\n",
       "</div>"
      ],
      "text/plain": [
       "      op_id op_gender  post_id  \\\n",
       "0  11679984         M        0   \n",
       "1  11679984         M        1   \n",
       "2  11679984         M        2   \n",
       "3  11679984         M        3   \n",
       "4  11679984         M        4   \n",
       "\n",
       "                                           post_text post_type  \n",
       "0  Tornado watch in effect tonight. Be safe. Plea...     photo  \n",
       "1                                                NaN     photo  \n",
       "2  Temps warming up for the holiday weekend! I wi...     photo  \n",
       "3                        Showers heading this way ..     photo  \n",
       "4  Storm potential update...feel free to share th...     photo  "
      ]
     },
     "execution_count": 16,
     "metadata": {},
     "output_type": "execute_result"
    }
   ],
   "source": [
    "fb_wiki_posts = pd.read_csv(root + 'facebook_wiki_posts.csv')\n",
    "print(fb_wiki_posts.shape)\n",
    "fb_wiki_posts.head()"
   ]
  },
  {
   "cell_type": "code",
   "execution_count": 17,
   "metadata": {},
   "outputs": [
    {
     "name": "stdout",
     "output_type": "stream",
     "text": [
      "<class 'pandas.core.frame.DataFrame'>\n",
      "RangeIndex: 149448 entries, 0 to 149447\n",
      "Data columns (total 5 columns):\n",
      "op_id        149448 non-null int64\n",
      "op_gender    149448 non-null object\n",
      "post_id      149448 non-null int64\n",
      "post_text    133017 non-null object\n",
      "post_type    149448 non-null object\n",
      "dtypes: int64(2), object(3)\n",
      "memory usage: 5.7+ MB\n"
     ]
    }
   ],
   "source": [
    "fb_wiki_posts.info()"
   ]
  },
  {
   "cell_type": "code",
   "execution_count": 18,
   "metadata": {},
   "outputs": [
    {
     "data": {
      "text/plain": [
       "W    99692\n",
       "M    49756\n",
       "Name: op_gender, dtype: int64"
      ]
     },
     "execution_count": 18,
     "metadata": {},
     "output_type": "execute_result"
    }
   ],
   "source": [
    "fb_wiki_posts.op_gender.value_counts()"
   ]
  },
  {
   "cell_type": "markdown",
   "metadata": {},
   "source": [
    "So this one actually has a lot more female than male posters. How many unique posters are there?"
   ]
  },
  {
   "cell_type": "code",
   "execution_count": 19,
   "metadata": {},
   "outputs": [
    {
     "data": {
      "text/plain": [
       "66833072    8446\n",
       "40564507    7809\n",
       "86899837    7463\n",
       "98249750    6857\n",
       "62514781    6170\n",
       "12913141    5735\n",
       "95717050    5586\n",
       "22847849    5151\n",
       "92735495    4900\n",
       "30863532    4280\n",
       "65335637    4011\n",
       "5513521     3701\n",
       "8009768     3411\n",
       "84499674    3331\n",
       "30328617    3159\n",
       "21510115    2975\n",
       "64889247    2695\n",
       "5711509     2365\n",
       "14149394    2350\n",
       "75738195    2350\n",
       "30174049    2302\n",
       "50380881    2081\n",
       "58282588    2027\n",
       "90770262    1906\n",
       "52814927    1817\n",
       "73963222    1721\n",
       "58317139    1654\n",
       "56374656    1633\n",
       "36013471    1570\n",
       "82700793    1543\n",
       "            ... \n",
       "63882247     211\n",
       "86744690     205\n",
       "38831413     196\n",
       "34662643     188\n",
       "81171619     183\n",
       "5234181      175\n",
       "21919722     172\n",
       "70415190     151\n",
       "17738392     146\n",
       "21367951     141\n",
       "62984185     118\n",
       "58022699     112\n",
       "70331604     109\n",
       "17376695     101\n",
       "97759749      84\n",
       "57630420      83\n",
       "11918400      73\n",
       "221856        58\n",
       "10073053      54\n",
       "3359164       51\n",
       "59979483      47\n",
       "5523958       45\n",
       "59949828      43\n",
       "77326767      42\n",
       "56211787      41\n",
       "11049347      21\n",
       "34901522      16\n",
       "43015334      14\n",
       "71302229       6\n",
       "12873086       2\n",
       "Name: op_id, Length: 105, dtype: int64"
      ]
     },
     "execution_count": 19,
     "metadata": {},
     "output_type": "execute_result"
    }
   ],
   "source": [
    "fb_wiki_posts.op_id.value_counts()"
   ]
  },
  {
   "cell_type": "code",
   "execution_count": 20,
   "metadata": {},
   "outputs": [
    {
     "data": {
      "text/plain": [
       "105"
      ]
     },
     "execution_count": 20,
     "metadata": {},
     "output_type": "execute_result"
    }
   ],
   "source": [
    "fb_wiki_posts.op_id.nunique()"
   ]
  },
  {
   "cell_type": "markdown",
   "metadata": {},
   "source": [
    "Now let's look at the corresponding response file."
   ]
  },
  {
   "cell_type": "code",
   "execution_count": 21,
   "metadata": {},
   "outputs": [
    {
     "name": "stdout",
     "output_type": "stream",
     "text": [
      "(10667500, 7)\n"
     ]
    },
    {
     "data": {
      "text/html": [
       "<div>\n",
       "<style scoped>\n",
       "    .dataframe tbody tr th:only-of-type {\n",
       "        vertical-align: middle;\n",
       "    }\n",
       "\n",
       "    .dataframe tbody tr th {\n",
       "        vertical-align: top;\n",
       "    }\n",
       "\n",
       "    .dataframe thead th {\n",
       "        text-align: right;\n",
       "    }\n",
       "</style>\n",
       "<table border=\"1\" class=\"dataframe\">\n",
       "  <thead>\n",
       "    <tr style=\"text-align: right;\">\n",
       "      <th></th>\n",
       "      <th>op_id</th>\n",
       "      <th>op_gender</th>\n",
       "      <th>post_id</th>\n",
       "      <th>responder_id</th>\n",
       "      <th>response_text</th>\n",
       "      <th>op_name</th>\n",
       "      <th>op_category</th>\n",
       "    </tr>\n",
       "  </thead>\n",
       "  <tbody>\n",
       "    <tr>\n",
       "      <th>0</th>\n",
       "      <td>11679984</td>\n",
       "      <td>M</td>\n",
       "      <td>0</td>\n",
       "      <td>Michelle</td>\n",
       "      <td>Is this watch going to make it to LaPorte county?</td>\n",
       "      <td>Byron Miranda</td>\n",
       "      <td>Wikipedia_American_television_news_anchors</td>\n",
       "    </tr>\n",
       "    <tr>\n",
       "      <th>1</th>\n",
       "      <td>11679984</td>\n",
       "      <td>M</td>\n",
       "      <td>0</td>\n",
       "      <td>Melissa</td>\n",
       "      <td>Anything for Wilmington area</td>\n",
       "      <td>Byron Miranda</td>\n",
       "      <td>Wikipedia_American_television_news_anchors</td>\n",
       "    </tr>\n",
       "    <tr>\n",
       "      <th>2</th>\n",
       "      <td>11679984</td>\n",
       "      <td>M</td>\n",
       "      <td>0</td>\n",
       "      <td>Darlene</td>\n",
       "      <td>Thanks, please keep us posted.</td>\n",
       "      <td>Byron Miranda</td>\n",
       "      <td>Wikipedia_American_television_news_anchors</td>\n",
       "    </tr>\n",
       "    <tr>\n",
       "      <th>3</th>\n",
       "      <td>11679984</td>\n",
       "      <td>M</td>\n",
       "      <td>0</td>\n",
       "      <td>Cheryl</td>\n",
       "      <td>Thanks Byron</td>\n",
       "      <td>Byron Miranda</td>\n",
       "      <td>Wikipedia_American_television_news_anchors</td>\n",
       "    </tr>\n",
       "    <tr>\n",
       "      <th>4</th>\n",
       "      <td>11679984</td>\n",
       "      <td>M</td>\n",
       "      <td>0</td>\n",
       "      <td>Melissa</td>\n",
       "      <td>[[STICKER]]</td>\n",
       "      <td>Byron Miranda</td>\n",
       "      <td>Wikipedia_American_television_news_anchors</td>\n",
       "    </tr>\n",
       "  </tbody>\n",
       "</table>\n",
       "</div>"
      ],
      "text/plain": [
       "      op_id op_gender  post_id responder_id  \\\n",
       "0  11679984         M        0     Michelle   \n",
       "1  11679984         M        0      Melissa   \n",
       "2  11679984         M        0      Darlene   \n",
       "3  11679984         M        0       Cheryl   \n",
       "4  11679984         M        0      Melissa   \n",
       "\n",
       "                                       response_text        op_name  \\\n",
       "0  Is this watch going to make it to LaPorte county?  Byron Miranda   \n",
       "1                       Anything for Wilmington area  Byron Miranda   \n",
       "2                     Thanks, please keep us posted.  Byron Miranda   \n",
       "3                                       Thanks Byron  Byron Miranda   \n",
       "4                                        [[STICKER]]  Byron Miranda   \n",
       "\n",
       "                                  op_category  \n",
       "0  Wikipedia_American_television_news_anchors  \n",
       "1  Wikipedia_American_television_news_anchors  \n",
       "2  Wikipedia_American_television_news_anchors  \n",
       "3  Wikipedia_American_television_news_anchors  \n",
       "4  Wikipedia_American_television_news_anchors  "
      ]
     },
     "execution_count": 21,
     "metadata": {},
     "output_type": "execute_result"
    }
   ],
   "source": [
    "fb_wiki_responses = pd.read_csv(root + 'facebook_wiki_responses.csv')\n",
    "print(fb_wiki_responses.shape)\n",
    "fb_wiki_responses.head()"
   ]
  },
  {
   "cell_type": "code",
   "execution_count": 22,
   "metadata": {},
   "outputs": [
    {
     "name": "stdout",
     "output_type": "stream",
     "text": [
      "<class 'pandas.core.frame.DataFrame'>\n",
      "RangeIndex: 10667500 entries, 0 to 10667499\n",
      "Data columns (total 7 columns):\n",
      "op_id            int64\n",
      "op_gender        object\n",
      "post_id          int64\n",
      "responder_id     object\n",
      "response_text    object\n",
      "op_name          object\n",
      "op_category      object\n",
      "dtypes: int64(2), object(5)\n",
      "memory usage: 569.7+ MB\n"
     ]
    }
   ],
   "source": [
    "fb_wiki_responses.info()"
   ]
  },
  {
   "cell_type": "markdown",
   "metadata": {},
   "source": [
    "Again, look at value counts for original poster and make sure it looks matched up."
   ]
  },
  {
   "cell_type": "code",
   "execution_count": 23,
   "metadata": {},
   "outputs": [
    {
     "data": {
      "text/plain": [
       "95717050    1554417\n",
       "66833072     758646\n",
       "70331604     699847\n",
       "92735495     682232\n",
       "22847849     646658\n",
       "59871832     556719\n",
       "11139544     470412\n",
       "21510115     439934\n",
       "49470449     425541\n",
       "58317139     335267\n",
       "40564507     331120\n",
       "36013471     295517\n",
       "75738195     271862\n",
       "65335637     261343\n",
       "30863532     239733\n",
       "84499674     224620\n",
       "98249750     188368\n",
       "62514781     188320\n",
       "86899837     162085\n",
       "82700793     161064\n",
       "14149394     157724\n",
       "5234181      144474\n",
       "99847210     127078\n",
       "66740241     108241\n",
       "8009768       94014\n",
       "12913141      81674\n",
       "99348719      76669\n",
       "77274779      73170\n",
       "52814927      70252\n",
       "73963222      66469\n",
       "             ...   \n",
       "97759749       1200\n",
       "63882247       1054\n",
       "43859861       1043\n",
       "17376695       1009\n",
       "71497803        957\n",
       "17500695        812\n",
       "3359164         729\n",
       "221856          727\n",
       "64933705        651\n",
       "43015334        583\n",
       "58282588        443\n",
       "3282887         430\n",
       "34662643        428\n",
       "71302229        407\n",
       "25681318        394\n",
       "84963110        363\n",
       "56211787        355\n",
       "59979483        307\n",
       "57630420        292\n",
       "21367951        244\n",
       "62984185        232\n",
       "58022699        202\n",
       "12873086        116\n",
       "34901522        114\n",
       "77326767        109\n",
       "59949828         51\n",
       "11918400         46\n",
       "11049347         39\n",
       "17738392         35\n",
       "5523958          28\n",
       "Name: op_id, Length: 105, dtype: int64"
      ]
     },
     "execution_count": 23,
     "metadata": {},
     "output_type": "execute_result"
    }
   ],
   "source": [
    "fb_wiki_responses.op_id.value_counts()"
   ]
  },
  {
   "cell_type": "code",
   "execution_count": 24,
   "metadata": {},
   "outputs": [
    {
     "data": {
      "text/plain": [
       "105"
      ]
     },
     "execution_count": 24,
     "metadata": {},
     "output_type": "execute_result"
    }
   ],
   "source": [
    "fb_wiki_responses.op_id.nunique()"
   ]
  },
  {
   "cell_type": "markdown",
   "metadata": {},
   "source": [
    "Okay, so this time it matches.\n",
    "\n",
    "Overall, both Facebook file pairs are formatted similarly, so this is relatively intuitive for processing. I think it would be a good idea to combine them in some way (put op information in the response file? That may seem like the easiest way).\n",
    "\n",
    "Next, let's examine the format of the fitocracy files!"
   ]
  },
  {
   "cell_type": "code",
   "execution_count": 25,
   "metadata": {},
   "outputs": [
    {
     "name": "stdout",
     "output_type": "stream",
     "text": [
      "(318535, 4)\n"
     ]
    },
    {
     "data": {
      "text/html": [
       "<div>\n",
       "<style scoped>\n",
       "    .dataframe tbody tr th:only-of-type {\n",
       "        vertical-align: middle;\n",
       "    }\n",
       "\n",
       "    .dataframe tbody tr th {\n",
       "        vertical-align: top;\n",
       "    }\n",
       "\n",
       "    .dataframe thead th {\n",
       "        text-align: right;\n",
       "    }\n",
       "</style>\n",
       "<table border=\"1\" class=\"dataframe\">\n",
       "  <thead>\n",
       "    <tr style=\"text-align: right;\">\n",
       "      <th></th>\n",
       "      <th>op_id</th>\n",
       "      <th>op_gender</th>\n",
       "      <th>post_id</th>\n",
       "      <th>post_text</th>\n",
       "    </tr>\n",
       "  </thead>\n",
       "  <tbody>\n",
       "    <tr>\n",
       "      <th>0</th>\n",
       "      <td>102</td>\n",
       "      <td>W</td>\n",
       "      <td>0</td>\n",
       "      <td>Thanks for the follow!  I followed back :)  I ...</td>\n",
       "    </tr>\n",
       "    <tr>\n",
       "      <th>1</th>\n",
       "      <td>104</td>\n",
       "      <td>W</td>\n",
       "      <td>1</td>\n",
       "      <td>I've decided I have this crazy goal of running...</td>\n",
       "    </tr>\n",
       "    <tr>\n",
       "      <th>2</th>\n",
       "      <td>104</td>\n",
       "      <td>W</td>\n",
       "      <td>2</td>\n",
       "      <td>Umm, yeah, so those are assisted pull-ups. Bef...</td>\n",
       "    </tr>\n",
       "    <tr>\n",
       "      <th>3</th>\n",
       "      <td>117</td>\n",
       "      <td>M</td>\n",
       "      <td>3</td>\n",
       "      <td>dam gurl lookin mad tone in dat pp holla bb</td>\n",
       "    </tr>\n",
       "    <tr>\n",
       "      <th>4</th>\n",
       "      <td>117</td>\n",
       "      <td>M</td>\n",
       "      <td>4</td>\n",
       "      <td>What's up there bear mode?</td>\n",
       "    </tr>\n",
       "  </tbody>\n",
       "</table>\n",
       "</div>"
      ],
      "text/plain": [
       "   op_id op_gender  post_id                                          post_text\n",
       "0    102         W        0  Thanks for the follow!  I followed back :)  I ...\n",
       "1    104         W        1  I've decided I have this crazy goal of running...\n",
       "2    104         W        2  Umm, yeah, so those are assisted pull-ups. Bef...\n",
       "3    117         M        3        dam gurl lookin mad tone in dat pp holla bb\n",
       "4    117         M        4                         What's up there bear mode?"
      ]
     },
     "execution_count": 25,
     "metadata": {},
     "output_type": "execute_result"
    }
   ],
   "source": [
    "fit_posts = pd.read_csv(root + 'fitocracy_posts.csv')\n",
    "print(fit_posts.shape)\n",
    "fit_posts.head()"
   ]
  },
  {
   "cell_type": "code",
   "execution_count": 26,
   "metadata": {},
   "outputs": [
    {
     "name": "stdout",
     "output_type": "stream",
     "text": [
      "<class 'pandas.core.frame.DataFrame'>\n",
      "RangeIndex: 318535 entries, 0 to 318534\n",
      "Data columns (total 4 columns):\n",
      "op_id        318535 non-null int64\n",
      "op_gender    318535 non-null object\n",
      "post_id      318535 non-null int64\n",
      "post_text    318535 non-null object\n",
      "dtypes: int64(2), object(2)\n",
      "memory usage: 9.7+ MB\n"
     ]
    }
   ],
   "source": [
    "fit_posts.info()"
   ]
  },
  {
   "cell_type": "markdown",
   "metadata": {},
   "source": [
    "Hooray - no nulls!"
   ]
  },
  {
   "cell_type": "code",
   "execution_count": 27,
   "metadata": {},
   "outputs": [
    {
     "data": {
      "text/plain": [
       "M    173738\n",
       "W    144797\n",
       "Name: op_gender, dtype: int64"
      ]
     },
     "execution_count": 27,
     "metadata": {},
     "output_type": "execute_result"
    }
   ],
   "source": [
    "fit_posts.op_gender.value_counts()"
   ]
  },
  {
   "cell_type": "markdown",
   "metadata": {},
   "source": [
    "So this one is a lot closer to equal male vs. female posters."
   ]
  },
  {
   "cell_type": "code",
   "execution_count": 28,
   "metadata": {},
   "outputs": [
    {
     "data": {
      "text/plain": [
       "400474     293\n",
       "330199     272\n",
       "1470475    260\n",
       "152482     251\n",
       "89636      245\n",
       "1035972    229\n",
       "1741536    207\n",
       "815817     201\n",
       "122603     198\n",
       "459750     197\n",
       "890201     194\n",
       "388503     193\n",
       "236376     191\n",
       "1093027    191\n",
       "46521      190\n",
       "225333     189\n",
       "1789805    189\n",
       "288539     188\n",
       "133039     187\n",
       "586059     181\n",
       "410588     180\n",
       "330033     178\n",
       "457987     173\n",
       "772249     172\n",
       "686374     170\n",
       "691928     168\n",
       "497913     167\n",
       "510843     167\n",
       "1221806    166\n",
       "1389448    164\n",
       "          ... \n",
       "395074       1\n",
       "1482577      1\n",
       "1478414      1\n",
       "972632       1\n",
       "978690       1\n",
       "192223       1\n",
       "991073       1\n",
       "1007465      1\n",
       "505716       1\n",
       "1032053      1\n",
       "1562488      1\n",
       "1054592      1\n",
       "915260       1\n",
       "1582465      1\n",
       "1421111      1\n",
       "1388327      1\n",
       "868133       1\n",
       "309012       1\n",
       "272134       1\n",
       "278277       1\n",
       "790275       1\n",
       "1312514      1\n",
       "1317345      1\n",
       "1316608      1\n",
       "777977       1\n",
       "243444       1\n",
       "233203       1\n",
       "749295       1\n",
       "202464       1\n",
       "1445185      1\n",
       "Name: op_id, Length: 99930, dtype: int64"
      ]
     },
     "execution_count": 28,
     "metadata": {},
     "output_type": "execute_result"
    }
   ],
   "source": [
    "fit_posts.op_id.value_counts()"
   ]
  },
  {
   "cell_type": "markdown",
   "metadata": {},
   "source": [
    "This has a lot more unique posters though!"
   ]
  },
  {
   "cell_type": "code",
   "execution_count": 29,
   "metadata": {},
   "outputs": [
    {
     "data": {
      "text/plain": [
       "99930"
      ]
     },
     "execution_count": 29,
     "metadata": {},
     "output_type": "execute_result"
    }
   ],
   "source": [
    "fit_posts.op_id.nunique()"
   ]
  },
  {
   "cell_type": "markdown",
   "metadata": {},
   "source": [
    "Let's look at the corresponding response file:"
   ]
  },
  {
   "cell_type": "code",
   "execution_count": 30,
   "metadata": {},
   "outputs": [
    {
     "name": "stdout",
     "output_type": "stream",
     "text": [
      "(318535, 6)\n"
     ]
    },
    {
     "data": {
      "text/html": [
       "<div>\n",
       "<style scoped>\n",
       "    .dataframe tbody tr th:only-of-type {\n",
       "        vertical-align: middle;\n",
       "    }\n",
       "\n",
       "    .dataframe tbody tr th {\n",
       "        vertical-align: top;\n",
       "    }\n",
       "\n",
       "    .dataframe thead th {\n",
       "        text-align: right;\n",
       "    }\n",
       "</style>\n",
       "<table border=\"1\" class=\"dataframe\">\n",
       "  <thead>\n",
       "    <tr style=\"text-align: right;\">\n",
       "      <th></th>\n",
       "      <th>op_id</th>\n",
       "      <th>op_gender</th>\n",
       "      <th>post_id</th>\n",
       "      <th>responder_id</th>\n",
       "      <th>response_text</th>\n",
       "      <th>responder_gender</th>\n",
       "    </tr>\n",
       "  </thead>\n",
       "  <tbody>\n",
       "    <tr>\n",
       "      <th>0</th>\n",
       "      <td>102</td>\n",
       "      <td>W</td>\n",
       "      <td>0</td>\n",
       "      <td>1196122</td>\n",
       "      <td>One day at a time! =]</td>\n",
       "      <td>M</td>\n",
       "    </tr>\n",
       "    <tr>\n",
       "      <th>1</th>\n",
       "      <td>104</td>\n",
       "      <td>W</td>\n",
       "      <td>1</td>\n",
       "      <td>5867</td>\n",
       "      <td>Crazy is synonymous with awesome in this case.</td>\n",
       "      <td>W</td>\n",
       "    </tr>\n",
       "    <tr>\n",
       "      <th>2</th>\n",
       "      <td>104</td>\n",
       "      <td>W</td>\n",
       "      <td>2</td>\n",
       "      <td>1635</td>\n",
       "      <td>You can enter assisted pullups. Select pullups...</td>\n",
       "      <td>M</td>\n",
       "    </tr>\n",
       "    <tr>\n",
       "      <th>3</th>\n",
       "      <td>117</td>\n",
       "      <td>M</td>\n",
       "      <td>3</td>\n",
       "      <td>8520</td>\n",
       "      <td>Mirin 3% bodyfat? Yeah, you are.</td>\n",
       "      <td>W</td>\n",
       "    </tr>\n",
       "    <tr>\n",
       "      <th>4</th>\n",
       "      <td>117</td>\n",
       "      <td>M</td>\n",
       "      <td>4</td>\n",
       "      <td>29126</td>\n",
       "      <td>Hey! I just started a new job, so things are s...</td>\n",
       "      <td>M</td>\n",
       "    </tr>\n",
       "  </tbody>\n",
       "</table>\n",
       "</div>"
      ],
      "text/plain": [
       "   op_id op_gender  post_id  responder_id  \\\n",
       "0    102         W        0       1196122   \n",
       "1    104         W        1          5867   \n",
       "2    104         W        2          1635   \n",
       "3    117         M        3          8520   \n",
       "4    117         M        4         29126   \n",
       "\n",
       "                                       response_text responder_gender  \n",
       "0                              One day at a time! =]                M  \n",
       "1     Crazy is synonymous with awesome in this case.                W  \n",
       "2  You can enter assisted pullups. Select pullups...                M  \n",
       "3                   Mirin 3% bodyfat? Yeah, you are.                W  \n",
       "4  Hey! I just started a new job, so things are s...                M  "
      ]
     },
     "execution_count": 30,
     "metadata": {},
     "output_type": "execute_result"
    }
   ],
   "source": [
    "fit_responses = pd.read_csv(root + 'fitocracy_responses.csv')\n",
    "print(fit_responses.shape)\n",
    "fit_responses.head()"
   ]
  },
  {
   "cell_type": "markdown",
   "metadata": {},
   "source": [
    "Yay - we finally have a responder gender! Let's see if they're listed for everyone?!"
   ]
  },
  {
   "cell_type": "code",
   "execution_count": 31,
   "metadata": {},
   "outputs": [
    {
     "name": "stdout",
     "output_type": "stream",
     "text": [
      "<class 'pandas.core.frame.DataFrame'>\n",
      "RangeIndex: 318535 entries, 0 to 318534\n",
      "Data columns (total 6 columns):\n",
      "op_id               318535 non-null int64\n",
      "op_gender           318535 non-null object\n",
      "post_id             318535 non-null int64\n",
      "responder_id        318535 non-null int64\n",
      "response_text       318535 non-null object\n",
      "responder_gender    318535 non-null object\n",
      "dtypes: int64(3), object(3)\n",
      "memory usage: 14.6+ MB\n"
     ]
    }
   ],
   "source": [
    "fit_responses.info()"
   ]
  },
  {
   "cell_type": "markdown",
   "metadata": {},
   "source": [
    "Wow... looks great.\n",
    "\n",
    "Let's look at count of gender of responders:"
   ]
  },
  {
   "cell_type": "code",
   "execution_count": 32,
   "metadata": {},
   "outputs": [
    {
     "data": {
      "text/plain": [
       "W    163315\n",
       "M    155220\n",
       "Name: responder_gender, dtype: int64"
      ]
     },
     "execution_count": 32,
     "metadata": {},
     "output_type": "execute_result"
    }
   ],
   "source": [
    "fit_responses.responder_gender.value_counts()"
   ]
  },
  {
   "cell_type": "markdown",
   "metadata": {},
   "source": [
    "Cool - this is pretty equal too!\n",
    "\n",
    "Lastly, let's check unique op IDs:"
   ]
  },
  {
   "cell_type": "code",
   "execution_count": 33,
   "metadata": {},
   "outputs": [
    {
     "data": {
      "text/plain": [
       "400474     293\n",
       "330199     272\n",
       "1470475    260\n",
       "152482     251\n",
       "89636      245\n",
       "1035972    229\n",
       "1741536    207\n",
       "815817     201\n",
       "122603     198\n",
       "459750     197\n",
       "890201     194\n",
       "388503     193\n",
       "236376     191\n",
       "1093027    191\n",
       "46521      190\n",
       "225333     189\n",
       "1789805    189\n",
       "288539     188\n",
       "133039     187\n",
       "586059     181\n",
       "410588     180\n",
       "330033     178\n",
       "457987     173\n",
       "772249     172\n",
       "686374     170\n",
       "691928     168\n",
       "497913     167\n",
       "510843     167\n",
       "1221806    166\n",
       "1389448    164\n",
       "          ... \n",
       "395074       1\n",
       "1482577      1\n",
       "1478414      1\n",
       "972632       1\n",
       "978690       1\n",
       "192223       1\n",
       "991073       1\n",
       "1007465      1\n",
       "505716       1\n",
       "1032053      1\n",
       "1562488      1\n",
       "1054592      1\n",
       "915260       1\n",
       "1582465      1\n",
       "1421111      1\n",
       "1388327      1\n",
       "868133       1\n",
       "309012       1\n",
       "272134       1\n",
       "278277       1\n",
       "790275       1\n",
       "1312514      1\n",
       "1317345      1\n",
       "1316608      1\n",
       "777977       1\n",
       "243444       1\n",
       "233203       1\n",
       "749295       1\n",
       "202464       1\n",
       "1445185      1\n",
       "Name: op_id, Length: 99930, dtype: int64"
      ]
     },
     "execution_count": 33,
     "metadata": {},
     "output_type": "execute_result"
    }
   ],
   "source": [
    "fit_responses.op_id.value_counts()"
   ]
  },
  {
   "cell_type": "markdown",
   "metadata": {},
   "source": [
    "Hm... so is there only one response per post? Something to further examine...\n",
    "\n",
    "Oh yeah, we can also check for unique responder IDs in this one."
   ]
  },
  {
   "cell_type": "code",
   "execution_count": 34,
   "metadata": {},
   "outputs": [
    {
     "data": {
      "text/plain": [
       "7715       46850\n",
       "55233       2056\n",
       "2           1703\n",
       "138433      1446\n",
       "30515       1177\n",
       "423         1144\n",
       "48152        919\n",
       "1632002      880\n",
       "762071       880\n",
       "574324       805\n",
       "769476       635\n",
       "1264637      583\n",
       "402367       544\n",
       "202791       511\n",
       "846800       502\n",
       "11020        486\n",
       "786107       479\n",
       "591842       475\n",
       "106217       457\n",
       "1351285      441\n",
       "488456       433\n",
       "130842       425\n",
       "126959       417\n",
       "1181251      411\n",
       "569952       408\n",
       "153926       400\n",
       "1341322      391\n",
       "556615       389\n",
       "180892       387\n",
       "256771       387\n",
       "           ...  \n",
       "1044549        1\n",
       "171058         1\n",
       "1083562        1\n",
       "30900          1\n",
       "528569         1\n",
       "633684         1\n",
       "1004171        1\n",
       "1132841        1\n",
       "141566         1\n",
       "1039002        1\n",
       "143613         1\n",
       "131323         1\n",
       "449210         1\n",
       "455359         1\n",
       "330432         1\n",
       "856771         1\n",
       "1208565        1\n",
       "803561         1\n",
       "316155         1\n",
       "708833         1\n",
       "1250051        1\n",
       "1276116        1\n",
       "219344         1\n",
       "783135         1\n",
       "672553         1\n",
       "152363         1\n",
       "243916         1\n",
       "1296578        1\n",
       "8383           1\n",
       "526335         1\n",
       "Name: responder_id, Length: 51761, dtype: int64"
      ]
     },
     "execution_count": 34,
     "metadata": {},
     "output_type": "execute_result"
    }
   ],
   "source": [
    "fit_responses.responder_id.value_counts()"
   ]
  },
  {
   "cell_type": "markdown",
   "metadata": {},
   "source": [
    "So certain people respond a LOT!\n",
    "\n",
    "Again, with these files, it might be nice to put together the op information into the response file. It will feel much more unified.\n",
    "\n",
    "Next, we'll move onto Reddit."
   ]
  },
  {
   "cell_type": "code",
   "execution_count": 35,
   "metadata": {},
   "outputs": [
    {
     "name": "stdout",
     "output_type": "stream",
     "text": [
      "(1453512, 6)\n"
     ]
    },
    {
     "data": {
      "text/html": [
       "<div>\n",
       "<style scoped>\n",
       "    .dataframe tbody tr th:only-of-type {\n",
       "        vertical-align: middle;\n",
       "    }\n",
       "\n",
       "    .dataframe tbody tr th {\n",
       "        vertical-align: top;\n",
       "    }\n",
       "\n",
       "    .dataframe thead th {\n",
       "        text-align: right;\n",
       "    }\n",
       "</style>\n",
       "<table border=\"1\" class=\"dataframe\">\n",
       "  <thead>\n",
       "    <tr style=\"text-align: right;\">\n",
       "      <th></th>\n",
       "      <th>op_id</th>\n",
       "      <th>op_gender</th>\n",
       "      <th>post_id</th>\n",
       "      <th>post_text</th>\n",
       "      <th>subreddit</th>\n",
       "      <th>op_gender_visible</th>\n",
       "    </tr>\n",
       "  </thead>\n",
       "  <tbody>\n",
       "    <tr>\n",
       "      <th>0</th>\n",
       "      <td>Kastoli</td>\n",
       "      <td>M</td>\n",
       "      <td>0</td>\n",
       "      <td>slayer task perhaps?</td>\n",
       "      <td>2007scape</td>\n",
       "      <td>False</td>\n",
       "    </tr>\n",
       "    <tr>\n",
       "      <th>1</th>\n",
       "      <td>Kastoli</td>\n",
       "      <td>M</td>\n",
       "      <td>1</td>\n",
       "      <td>Black DHide legs, possibly an initiate pure?</td>\n",
       "      <td>2007scape</td>\n",
       "      <td>False</td>\n",
       "    </tr>\n",
       "    <tr>\n",
       "      <th>2</th>\n",
       "      <td>DCBizzle</td>\n",
       "      <td>M</td>\n",
       "      <td>2</td>\n",
       "      <td>Whats a tonk? lol</td>\n",
       "      <td>2007scape</td>\n",
       "      <td>False</td>\n",
       "    </tr>\n",
       "    <tr>\n",
       "      <th>3</th>\n",
       "      <td>ordona</td>\n",
       "      <td>M</td>\n",
       "      <td>3</td>\n",
       "      <td>Do the Stronghold of Security for a free 10k t...</td>\n",
       "      <td>2007scape</td>\n",
       "      <td>False</td>\n",
       "    </tr>\n",
       "    <tr>\n",
       "      <th>4</th>\n",
       "      <td>SlayerMaster</td>\n",
       "      <td>M</td>\n",
       "      <td>4</td>\n",
       "      <td>I cant tell if this guy just doesnt speak Engl...</td>\n",
       "      <td>2007scape</td>\n",
       "      <td>False</td>\n",
       "    </tr>\n",
       "  </tbody>\n",
       "</table>\n",
       "</div>"
      ],
      "text/plain": [
       "          op_id op_gender  post_id  \\\n",
       "0       Kastoli         M        0   \n",
       "1       Kastoli         M        1   \n",
       "2      DCBizzle         M        2   \n",
       "3        ordona         M        3   \n",
       "4  SlayerMaster         M        4   \n",
       "\n",
       "                                           post_text  subreddit  \\\n",
       "0                               slayer task perhaps?  2007scape   \n",
       "1       Black DHide legs, possibly an initiate pure?  2007scape   \n",
       "2                                  Whats a tonk? lol  2007scape   \n",
       "3  Do the Stronghold of Security for a free 10k t...  2007scape   \n",
       "4  I cant tell if this guy just doesnt speak Engl...  2007scape   \n",
       "\n",
       "   op_gender_visible  \n",
       "0              False  \n",
       "1              False  \n",
       "2              False  \n",
       "3              False  \n",
       "4              False  "
      ]
     },
     "execution_count": 35,
     "metadata": {},
     "output_type": "execute_result"
    }
   ],
   "source": [
    "reddit_posts = pd.read_csv(root + 'reddit_posts.csv')\n",
    "print(reddit_posts.shape)\n",
    "reddit_posts.head()"
   ]
  },
  {
   "cell_type": "code",
   "execution_count": 36,
   "metadata": {},
   "outputs": [
    {
     "name": "stdout",
     "output_type": "stream",
     "text": [
      "<class 'pandas.core.frame.DataFrame'>\n",
      "RangeIndex: 1453512 entries, 0 to 1453511\n",
      "Data columns (total 6 columns):\n",
      "op_id                1453512 non-null object\n",
      "op_gender            1453512 non-null object\n",
      "post_id              1453512 non-null int64\n",
      "post_text            1453512 non-null object\n",
      "subreddit            1453512 non-null object\n",
      "op_gender_visible    1453512 non-null bool\n",
      "dtypes: bool(1), int64(1), object(4)\n",
      "memory usage: 56.8+ MB\n"
     ]
    }
   ],
   "source": [
    "reddit_posts.info()"
   ]
  },
  {
   "cell_type": "markdown",
   "metadata": {},
   "source": [
    "Again - no nulls!\n",
    "\n",
    "Interesting... a new category called op_gender_visible. I'll have to read into this, but I'm assuming this means whether or not their gender is visible to the responder."
   ]
  },
  {
   "cell_type": "code",
   "execution_count": 37,
   "metadata": {},
   "outputs": [
    {
     "data": {
      "text/plain": [
       "M    1148591\n",
       "W     304921\n",
       "Name: op_gender, dtype: int64"
      ]
     },
     "execution_count": 37,
     "metadata": {},
     "output_type": "execute_result"
    }
   ],
   "source": [
    "reddit_posts.op_gender.value_counts()"
   ]
  },
  {
   "cell_type": "markdown",
   "metadata": {},
   "source": [
    "Way more male!"
   ]
  },
  {
   "cell_type": "code",
   "execution_count": 38,
   "metadata": {},
   "outputs": [
    {
     "data": {
      "text/plain": [
       "False    1318037\n",
       "True      135475\n",
       "Name: op_gender_visible, dtype: int64"
      ]
     },
     "execution_count": 38,
     "metadata": {},
     "output_type": "execute_result"
    }
   ],
   "source": [
    "reddit_posts.op_gender_visible.value_counts()"
   ]
  },
  {
   "cell_type": "code",
   "execution_count": 39,
   "metadata": {},
   "outputs": [
    {
     "data": {
      "text/plain": [
       "Apostolate              4823\n",
       "MrManicMarty            3605\n",
       "ThereIsAThingForThat    3022\n",
       "codeverity              2743\n",
       "crowdedconfirm          2260\n",
       "Osiris32                2095\n",
       "Cdtco                   2044\n",
       "xNicolex                1976\n",
       "ExternalTangents        1940\n",
       "argv_minus_one          1920\n",
       "StabbyPants             1819\n",
       "kingeryck               1815\n",
       "Kelsig                  1689\n",
       "latticusnon             1673\n",
       "DreadfulRauw            1630\n",
       "naryn                   1593\n",
       "joethesaint             1565\n",
       "Ajaxx6                  1512\n",
       "Asks_Politely           1483\n",
       "Atheist101              1447\n",
       "I_Enjoy_Taffy           1432\n",
       "TheExtremistModerate    1404\n",
       "BitchinTechnology       1382\n",
       "IIHURRlCANEII           1381\n",
       "nickachu_               1372\n",
       "Magnon                  1335\n",
       "Herdnerfer              1305\n",
       "UnholyDemigod           1264\n",
       "silverionmox            1255\n",
       "ABoutDeSouffle          1247\n",
       "                        ... \n",
       "thelastintheworld          1\n",
       "Emerenthie                 1\n",
       "medaox                     1\n",
       "vasovagalprincess          1\n",
       "bqk178                     1\n",
       "Xenologer                  1\n",
       "smellslikelibrary          1\n",
       "skiphopjump                1\n",
       "chikachikaaulit            1\n",
       "mycatmademedoit            1\n",
       "Longandstrong              1\n",
       "aaylasecura                1\n",
       "Virtus_Regina              1\n",
       "lethaldevotion             1\n",
       "Mild-Squidge               1\n",
       "AzraelUaDuibhne            1\n",
       "youlookroughboo            1\n",
       "sistergnarly               1\n",
       "MononobeNoFuto             1\n",
       "justkittenaround           1\n",
       "owleaf                     1\n",
       "Do_not_over_tighten        1\n",
       "patery                     1\n",
       "darkwingdame               1\n",
       "dinosaurbogeys             1\n",
       "LethalBacon                1\n",
       "Quijana                    1\n",
       "varg104                    1\n",
       "paperseverywhere           1\n",
       "bumbleguff                 1\n",
       "Name: op_id, Length: 30126, dtype: int64"
      ]
     },
     "execution_count": 39,
     "metadata": {},
     "output_type": "execute_result"
    }
   ],
   "source": [
    "reddit_posts.op_id.value_counts()"
   ]
  },
  {
   "cell_type": "code",
   "execution_count": 40,
   "metadata": {},
   "outputs": [
    {
     "data": {
      "text/plain": [
       "AskReddit               344400\n",
       "AskMen                  133920\n",
       "politics                 46727\n",
       "funny                    44761\n",
       "pics                     42920\n",
       "relationships            34809\n",
       "AdviceAnimals            33965\n",
       "worldnews                33571\n",
       "todayilearned            32652\n",
       "nba                      32242\n",
       "gaming                   27855\n",
       "news                     27225\n",
       "nfl                      27194\n",
       "videos                   26940\n",
       "WTF                      26682\n",
       "soccer                   22315\n",
       "leagueoflegends          22151\n",
       "CasualConversation       21517\n",
       "movies                   20567\n",
       "OkCupid                  18239\n",
       "CFB                      16025\n",
       "anime                    15254\n",
       "europe                   15233\n",
       "hockey                   14949\n",
       "Fitness                  14909\n",
       "teenagers                12809\n",
       "pcmasterrace             11841\n",
       "explainlikeimfive        11270\n",
       "SquaredCircle            11249\n",
       "technology               11244\n",
       "                         ...  \n",
       "xboxone                   2932\n",
       "heroesofthestorm          2456\n",
       "marvelstudios             2319\n",
       "gonewild                  2310\n",
       "Jokes                     2251\n",
       "Warframe                  2034\n",
       "pathofexile               1771\n",
       "RocketLeague              1766\n",
       "Bitcoin                   1726\n",
       "TheSilphRoad              1650\n",
       "me_irl                    1371\n",
       "Philippines               1295\n",
       "PUBATTLEGROUNDS           1204\n",
       "NintendoSwitch            1117\n",
       "FIFA                      1014\n",
       "2007scape                  928\n",
       "rupaulsdragrace            881\n",
       "Amd                        879\n",
       "counting                   798\n",
       "FFBraveExvius              696\n",
       "FireEmblemHeroes           685\n",
       "GlobalOffensiveTrade       681\n",
       "DBZDokkanBattle            523\n",
       "Rainbow6                   477\n",
       "dankmemes                  374\n",
       "RocketLeagueExchange       363\n",
       "ethtrader                  205\n",
       "AskOuija                   117\n",
       "Ice_Poseidon                37\n",
       "SolutionGambling             2\n",
       "Name: subreddit, Length: 98, dtype: int64"
      ]
     },
     "execution_count": 40,
     "metadata": {},
     "output_type": "execute_result"
    }
   ],
   "source": [
    "reddit_posts.subreddit.value_counts()"
   ]
  },
  {
   "cell_type": "markdown",
   "metadata": {},
   "source": [
    "I think the fact that the subreddit \"AskMen\" has the second highest value count has a lot to do with why there are way more male posters! Let's look at the dankmemes column just for fun..."
   ]
  },
  {
   "cell_type": "code",
   "execution_count": 41,
   "metadata": {},
   "outputs": [
    {
     "data": {
      "text/html": [
       "<div>\n",
       "<style scoped>\n",
       "    .dataframe tbody tr th:only-of-type {\n",
       "        vertical-align: middle;\n",
       "    }\n",
       "\n",
       "    .dataframe tbody tr th {\n",
       "        vertical-align: top;\n",
       "    }\n",
       "\n",
       "    .dataframe thead th {\n",
       "        text-align: right;\n",
       "    }\n",
       "</style>\n",
       "<table border=\"1\" class=\"dataframe\">\n",
       "  <thead>\n",
       "    <tr style=\"text-align: right;\">\n",
       "      <th></th>\n",
       "      <th>op_id</th>\n",
       "      <th>op_gender</th>\n",
       "      <th>post_id</th>\n",
       "      <th>post_text</th>\n",
       "      <th>subreddit</th>\n",
       "      <th>op_gender_visible</th>\n",
       "    </tr>\n",
       "  </thead>\n",
       "  <tbody>\n",
       "    <tr>\n",
       "      <th>643510</th>\n",
       "      <td>lepruhkon</td>\n",
       "      <td>M</td>\n",
       "      <td>643510</td>\n",
       "      <td>u cant hav my upspooks</td>\n",
       "      <td>dankmemes</td>\n",
       "      <td>False</td>\n",
       "    </tr>\n",
       "    <tr>\n",
       "      <th>643511</th>\n",
       "      <td>Hot_Beef_Injection</td>\n",
       "      <td>M</td>\n",
       "      <td>643511</td>\n",
       "      <td>10/10 post</td>\n",
       "      <td>dankmemes</td>\n",
       "      <td>False</td>\n",
       "    </tr>\n",
       "    <tr>\n",
       "      <th>643512</th>\n",
       "      <td>Hot_Beef_Injection</td>\n",
       "      <td>M</td>\n",
       "      <td>643512</td>\n",
       "      <td>No I was being serious, I thought it was great...</td>\n",
       "      <td>dankmemes</td>\n",
       "      <td>False</td>\n",
       "    </tr>\n",
       "    <tr>\n",
       "      <th>643513</th>\n",
       "      <td>CosmicPube</td>\n",
       "      <td>W</td>\n",
       "      <td>643513</td>\n",
       "      <td>Are you kidding me?</td>\n",
       "      <td>dankmemes</td>\n",
       "      <td>False</td>\n",
       "    </tr>\n",
       "    <tr>\n",
       "      <th>643514</th>\n",
       "      <td>Hot_Beef_Injection</td>\n",
       "      <td>M</td>\n",
       "      <td>643514</td>\n",
       "      <td>O shit here comes that froggo</td>\n",
       "      <td>dankmemes</td>\n",
       "      <td>False</td>\n",
       "    </tr>\n",
       "  </tbody>\n",
       "</table>\n",
       "</div>"
      ],
      "text/plain": [
       "                     op_id op_gender  post_id  \\\n",
       "643510           lepruhkon         M   643510   \n",
       "643511  Hot_Beef_Injection         M   643511   \n",
       "643512  Hot_Beef_Injection         M   643512   \n",
       "643513          CosmicPube         W   643513   \n",
       "643514  Hot_Beef_Injection         M   643514   \n",
       "\n",
       "                                                post_text  subreddit  \\\n",
       "643510                             u cant hav my upspooks  dankmemes   \n",
       "643511                                         10/10 post  dankmemes   \n",
       "643512  No I was being serious, I thought it was great...  dankmemes   \n",
       "643513                                Are you kidding me?  dankmemes   \n",
       "643514                      O shit here comes that froggo  dankmemes   \n",
       "\n",
       "        op_gender_visible  \n",
       "643510              False  \n",
       "643511              False  \n",
       "643512              False  \n",
       "643513              False  \n",
       "643514              False  "
      ]
     },
     "execution_count": 41,
     "metadata": {},
     "output_type": "execute_result"
    }
   ],
   "source": [
    "reddit_posts[reddit_posts.subreddit == 'dankmemes'].head()"
   ]
  },
  {
   "cell_type": "markdown",
   "metadata": {},
   "source": [
    "...And the corresponding response file:"
   ]
  },
  {
   "cell_type": "code",
   "execution_count": 42,
   "metadata": {},
   "outputs": [
    {
     "name": "stdout",
     "output_type": "stream",
     "text": [
      "(1453512, 8)\n"
     ]
    },
    {
     "data": {
      "text/html": [
       "<div>\n",
       "<style scoped>\n",
       "    .dataframe tbody tr th:only-of-type {\n",
       "        vertical-align: middle;\n",
       "    }\n",
       "\n",
       "    .dataframe tbody tr th {\n",
       "        vertical-align: top;\n",
       "    }\n",
       "\n",
       "    .dataframe thead th {\n",
       "        text-align: right;\n",
       "    }\n",
       "</style>\n",
       "<table border=\"1\" class=\"dataframe\">\n",
       "  <thead>\n",
       "    <tr style=\"text-align: right;\">\n",
       "      <th></th>\n",
       "      <th>op_id</th>\n",
       "      <th>op_gender</th>\n",
       "      <th>post_id</th>\n",
       "      <th>responder_id</th>\n",
       "      <th>response_text</th>\n",
       "      <th>subreddit</th>\n",
       "      <th>responder_gender</th>\n",
       "      <th>responder_gender_visible</th>\n",
       "    </tr>\n",
       "  </thead>\n",
       "  <tbody>\n",
       "    <tr>\n",
       "      <th>0</th>\n",
       "      <td>Kastoli</td>\n",
       "      <td>M</td>\n",
       "      <td>0</td>\n",
       "      <td>Thunda_Storm</td>\n",
       "      <td>or low level. I mean hes wearing black armour ...</td>\n",
       "      <td>2007scape</td>\n",
       "      <td>NaN</td>\n",
       "      <td>unknown_gender</td>\n",
       "    </tr>\n",
       "    <tr>\n",
       "      <th>1</th>\n",
       "      <td>Kastoli</td>\n",
       "      <td>M</td>\n",
       "      <td>1</td>\n",
       "      <td>Thunda_Storm</td>\n",
       "      <td>So... Low level</td>\n",
       "      <td>2007scape</td>\n",
       "      <td>NaN</td>\n",
       "      <td>unknown_gender</td>\n",
       "    </tr>\n",
       "    <tr>\n",
       "      <th>2</th>\n",
       "      <td>DCBizzle</td>\n",
       "      <td>M</td>\n",
       "      <td>2</td>\n",
       "      <td>minixmatt</td>\n",
       "      <td>&lt;link&gt;  TONK, TONK</td>\n",
       "      <td>2007scape</td>\n",
       "      <td>NaN</td>\n",
       "      <td>unknown_gender</td>\n",
       "    </tr>\n",
       "    <tr>\n",
       "      <th>3</th>\n",
       "      <td>ordona</td>\n",
       "      <td>M</td>\n",
       "      <td>3</td>\n",
       "      <td>Namiweso</td>\n",
       "      <td>Thanks I forgot about that place! :)</td>\n",
       "      <td>2007scape</td>\n",
       "      <td>NaN</td>\n",
       "      <td>unknown_gender</td>\n",
       "    </tr>\n",
       "    <tr>\n",
       "      <th>4</th>\n",
       "      <td>SlayerMaster</td>\n",
       "      <td>M</td>\n",
       "      <td>4</td>\n",
       "      <td>Quantization</td>\n",
       "      <td>Or hes just trolling.</td>\n",
       "      <td>2007scape</td>\n",
       "      <td>NaN</td>\n",
       "      <td>unknown_gender</td>\n",
       "    </tr>\n",
       "  </tbody>\n",
       "</table>\n",
       "</div>"
      ],
      "text/plain": [
       "          op_id op_gender  post_id  responder_id  \\\n",
       "0       Kastoli         M        0  Thunda_Storm   \n",
       "1       Kastoli         M        1  Thunda_Storm   \n",
       "2      DCBizzle         M        2     minixmatt   \n",
       "3        ordona         M        3      Namiweso   \n",
       "4  SlayerMaster         M        4  Quantization   \n",
       "\n",
       "                                       response_text  subreddit  \\\n",
       "0  or low level. I mean hes wearing black armour ...  2007scape   \n",
       "1                                    So... Low level  2007scape   \n",
       "2                                 <link>  TONK, TONK  2007scape   \n",
       "3               Thanks I forgot about that place! :)  2007scape   \n",
       "4                              Or hes just trolling.  2007scape   \n",
       "\n",
       "  responder_gender responder_gender_visible  \n",
       "0              NaN           unknown_gender  \n",
       "1              NaN           unknown_gender  \n",
       "2              NaN           unknown_gender  \n",
       "3              NaN           unknown_gender  \n",
       "4              NaN           unknown_gender  "
      ]
     },
     "execution_count": 42,
     "metadata": {},
     "output_type": "execute_result"
    }
   ],
   "source": [
    "reddit_responses = pd.read_csv(root + 'reddit_responses.csv')\n",
    "print(reddit_responses.shape)\n",
    "reddit_responses.head()"
   ]
  },
  {
   "cell_type": "code",
   "execution_count": 43,
   "metadata": {},
   "outputs": [
    {
     "name": "stdout",
     "output_type": "stream",
     "text": [
      "<class 'pandas.core.frame.DataFrame'>\n",
      "RangeIndex: 1453512 entries, 0 to 1453511\n",
      "Data columns (total 8 columns):\n",
      "op_id                       1453512 non-null object\n",
      "op_gender                   1453512 non-null object\n",
      "post_id                     1453512 non-null int64\n",
      "responder_id                1453512 non-null object\n",
      "response_text               1453512 non-null object\n",
      "subreddit                   1453512 non-null object\n",
      "responder_gender            133222 non-null object\n",
      "responder_gender_visible    1453512 non-null object\n",
      "dtypes: int64(1), object(7)\n",
      "memory usage: 88.7+ MB\n"
     ]
    }
   ],
   "source": [
    "reddit_responses.info()"
   ]
  },
  {
   "cell_type": "markdown",
   "metadata": {},
   "source": [
    "So the responder gender is only visible 133222 times. The rest of the data is not null."
   ]
  },
  {
   "cell_type": "code",
   "execution_count": 44,
   "metadata": {},
   "outputs": [
    {
     "data": {
      "text/plain": [
       "M    102530\n",
       "W     30692\n",
       "Name: responder_gender, dtype: int64"
      ]
     },
     "execution_count": 44,
     "metadata": {},
     "output_type": "execute_result"
    }
   ],
   "source": [
    "reddit_responses.responder_gender.value_counts()"
   ]
  },
  {
   "cell_type": "markdown",
   "metadata": {},
   "source": [
    "Again... a lot more male. I wonder how many of these responders were replying to a post where the gender of the poster is visible? Something to look at... This will be easier once the dataframes are combined though."
   ]
  },
  {
   "cell_type": "code",
   "execution_count": 45,
   "metadata": {},
   "outputs": [
    {
     "data": {
      "text/plain": [
       "Apostolate              4823\n",
       "MrManicMarty            3605\n",
       "ThereIsAThingForThat    3022\n",
       "codeverity              2743\n",
       "crowdedconfirm          2260\n",
       "Osiris32                2095\n",
       "Cdtco                   2044\n",
       "xNicolex                1976\n",
       "ExternalTangents        1940\n",
       "argv_minus_one          1920\n",
       "StabbyPants             1819\n",
       "kingeryck               1815\n",
       "Kelsig                  1689\n",
       "latticusnon             1673\n",
       "DreadfulRauw            1630\n",
       "naryn                   1593\n",
       "joethesaint             1565\n",
       "Ajaxx6                  1512\n",
       "Asks_Politely           1483\n",
       "Atheist101              1447\n",
       "I_Enjoy_Taffy           1432\n",
       "TheExtremistModerate    1404\n",
       "BitchinTechnology       1382\n",
       "IIHURRlCANEII           1381\n",
       "nickachu_               1372\n",
       "Magnon                  1335\n",
       "Herdnerfer              1305\n",
       "UnholyDemigod           1264\n",
       "silverionmox            1255\n",
       "ABoutDeSouffle          1247\n",
       "                        ... \n",
       "thelastintheworld          1\n",
       "Emerenthie                 1\n",
       "medaox                     1\n",
       "vasovagalprincess          1\n",
       "bqk178                     1\n",
       "Xenologer                  1\n",
       "smellslikelibrary          1\n",
       "skiphopjump                1\n",
       "chikachikaaulit            1\n",
       "mycatmademedoit            1\n",
       "Longandstrong              1\n",
       "aaylasecura                1\n",
       "Virtus_Regina              1\n",
       "lethaldevotion             1\n",
       "Mild-Squidge               1\n",
       "AzraelUaDuibhne            1\n",
       "youlookroughboo            1\n",
       "sistergnarly               1\n",
       "MononobeNoFuto             1\n",
       "justkittenaround           1\n",
       "owleaf                     1\n",
       "Do_not_over_tighten        1\n",
       "patery                     1\n",
       "darkwingdame               1\n",
       "dinosaurbogeys             1\n",
       "LethalBacon                1\n",
       "Quijana                    1\n",
       "varg104                    1\n",
       "paperseverywhere           1\n",
       "bumbleguff                 1\n",
       "Name: op_id, Length: 30126, dtype: int64"
      ]
     },
     "execution_count": 45,
     "metadata": {},
     "output_type": "execute_result"
    }
   ],
   "source": [
    "reddit_responses.op_id.value_counts()"
   ]
  },
  {
   "cell_type": "markdown",
   "metadata": {},
   "source": [
    "Cool - this seems to be matched up with the post file.\n",
    "\n",
    "Lastly, let's look at the TED response file:"
   ]
  },
  {
   "cell_type": "code",
   "execution_count": 46,
   "metadata": {},
   "outputs": [
    {
     "name": "stdout",
     "output_type": "stream",
     "text": [
      "(190414, 5)\n"
     ]
    },
    {
     "data": {
      "text/html": [
       "<div>\n",
       "<style scoped>\n",
       "    .dataframe tbody tr th:only-of-type {\n",
       "        vertical-align: middle;\n",
       "    }\n",
       "\n",
       "    .dataframe tbody tr th {\n",
       "        vertical-align: top;\n",
       "    }\n",
       "\n",
       "    .dataframe thead th {\n",
       "        text-align: right;\n",
       "    }\n",
       "</style>\n",
       "<table border=\"1\" class=\"dataframe\">\n",
       "  <thead>\n",
       "    <tr style=\"text-align: right;\">\n",
       "      <th></th>\n",
       "      <th>op_id</th>\n",
       "      <th>op_gender</th>\n",
       "      <th>post_id</th>\n",
       "      <th>responder_id</th>\n",
       "      <th>response_text</th>\n",
       "    </tr>\n",
       "  </thead>\n",
       "  <tbody>\n",
       "    <tr>\n",
       "      <th>0</th>\n",
       "      <td>Aimee Mullins</td>\n",
       "      <td>W</td>\n",
       "      <td>0</td>\n",
       "      <td>Laura</td>\n",
       "      <td>She seems like a truly amazing person, regardl...</td>\n",
       "    </tr>\n",
       "    <tr>\n",
       "      <th>1</th>\n",
       "      <td>Aimee Mullins</td>\n",
       "      <td>W</td>\n",
       "      <td>1</td>\n",
       "      <td>Ellen</td>\n",
       "      <td>Aimee's true \"disability\" is when people treat...</td>\n",
       "    </tr>\n",
       "    <tr>\n",
       "      <th>2</th>\n",
       "      <td>Aimee Mullins</td>\n",
       "      <td>W</td>\n",
       "      <td>2</td>\n",
       "      <td>Tanya</td>\n",
       "      <td>I love that she took away some of the mystery ...</td>\n",
       "    </tr>\n",
       "    <tr>\n",
       "      <th>3</th>\n",
       "      <td>Aimee Mullins</td>\n",
       "      <td>W</td>\n",
       "      <td>3</td>\n",
       "      <td>Salim</td>\n",
       "      <td>VERY inspiring indeed! I love these TED antiqu...</td>\n",
       "    </tr>\n",
       "    <tr>\n",
       "      <th>4</th>\n",
       "      <td>Aimee Mullins</td>\n",
       "      <td>W</td>\n",
       "      <td>4</td>\n",
       "      <td>Kiruba</td>\n",
       "      <td>We take running so much for granted that most ...</td>\n",
       "    </tr>\n",
       "  </tbody>\n",
       "</table>\n",
       "</div>"
      ],
      "text/plain": [
       "           op_id op_gender  post_id responder_id  \\\n",
       "0  Aimee Mullins         W        0        Laura   \n",
       "1  Aimee Mullins         W        1        Ellen   \n",
       "2  Aimee Mullins         W        2        Tanya   \n",
       "3  Aimee Mullins         W        3        Salim   \n",
       "4  Aimee Mullins         W        4       Kiruba   \n",
       "\n",
       "                                       response_text  \n",
       "0  She seems like a truly amazing person, regardl...  \n",
       "1  Aimee's true \"disability\" is when people treat...  \n",
       "2  I love that she took away some of the mystery ...  \n",
       "3  VERY inspiring indeed! I love these TED antiqu...  \n",
       "4  We take running so much for granted that most ...  "
      ]
     },
     "execution_count": 46,
     "metadata": {},
     "output_type": "execute_result"
    }
   ],
   "source": [
    "ted_responses = pd.read_csv(root + 'ted_responses.csv')\n",
    "print(ted_responses.shape)\n",
    "ted_responses.head()"
   ]
  },
  {
   "cell_type": "code",
   "execution_count": 47,
   "metadata": {},
   "outputs": [
    {
     "name": "stdout",
     "output_type": "stream",
     "text": [
      "<class 'pandas.core.frame.DataFrame'>\n",
      "RangeIndex: 190414 entries, 0 to 190413\n",
      "Data columns (total 5 columns):\n",
      "op_id            190347 non-null object\n",
      "op_gender        190347 non-null object\n",
      "post_id          190414 non-null int64\n",
      "responder_id     190413 non-null object\n",
      "response_text    190414 non-null object\n",
      "dtypes: int64(1), object(4)\n",
      "memory usage: 7.3+ MB\n"
     ]
    }
   ],
   "source": [
    "ted_responses.info()"
   ]
  },
  {
   "cell_type": "markdown",
   "metadata": {},
   "source": [
    "Okay so we have some nulls in op_id, op_gender, and just one from responder_id."
   ]
  },
  {
   "cell_type": "code",
   "execution_count": 48,
   "metadata": {},
   "outputs": [
    {
     "data": {
      "text/plain": [
       "M    144336\n",
       "W     46011\n",
       "Name: op_gender, dtype: int64"
      ]
     },
     "execution_count": 48,
     "metadata": {},
     "output_type": "execute_result"
    }
   ],
   "source": [
    "ted_responses.op_gender.value_counts()"
   ]
  },
  {
   "cell_type": "markdown",
   "metadata": {},
   "source": [
    "A lot more male.\n",
    "\n",
    "Again, similar to the Facebook files, this doesn't contain the gender of the responder, only their name. We can run some sort of gender identifier on it though (doesn't nltk have something?)"
   ]
  },
  {
   "cell_type": "code",
   "execution_count": 49,
   "metadata": {},
   "outputs": [
    {
     "data": {
      "text/plain": [
       "Ken Robinson                                                                                     3598\n",
       "Richard Dawkins                                                                                  2651\n",
       "Jill Bolte Taylor                                                                                1806\n",
       "Amy Cuddy                                                                                        1481\n",
       "Brené Brown                                                                                      1440\n",
       "Simon Sinek                                                                                      1335\n",
       "Hans Rosling                                                                                     1334\n",
       "Elizabeth Gilbert                                                                                1285\n",
       "Dan Dennett                                                                                      1130\n",
       "Bill Gates                                                                                       1106\n",
       "Jane McGonigal                                                                                   1005\n",
       "Pranav Mistry                                                                                     944\n",
       "Sam Harris                                                                                        872\n",
       "Dan Gilbert                                                                                       800\n",
       "Monica Lewinsky                                                                                   796\n",
       "Alain de Botton                                                                                   778\n",
       "Louie Schwartzberg                                                                                774\n",
       "Arthur Benjamin                                                                                   773\n",
       "Susan Cain                                                                                        738\n",
       "Julian Treasure                                                                                   726\n",
       "Clay Shirky                                                                                       725\n",
       "Sugata Mitra                                                                                      716\n",
       "Marco Tempest                                                                                     682\n",
       "Michael Specter                                                                                   679\n",
       "Lesley Hazleton                                                                                   679\n",
       "Andrew Solomon                                                                                    675\n",
       "Dan Pallotta                                                                                      660\n",
       "Rory Sutherland                                                                                   652\n",
       "Lawrence Lessig                                                                                   650\n",
       "Dan Pink                                                                                          649\n",
       "                                                                                                 ... \n",
       "Magda Sayeg                                                                                        17\n",
       "Rob Forbes                                                                                         16\n",
       "Bruce McCall                                                                                       16\n",
       "Robert Muggah                                                                                      16\n",
       "Mary Bassett                                                                                       16\n",
       "Thomas P. Campbell                                                                                 16\n",
       "Daniel Pauly                                                                                       16\n",
       "Jill Heinerth                                                                                      16\n",
       "Fredy Peccerelli                                                                                   15\n",
       "Robin Murphy                                                                                       15\n",
       "Barbara Block                                                                                      15\n",
       "James Forbes                                                                                       15\n",
       "David Gruber                                                                                       15\n",
       "Ben Wellington                                                                                     15\n",
       "Auke Ijspeert                                                                                      15\n",
       "Gregory Heyworth                                                                                   15\n",
       "Tasso Azevedo                                                                                      14\n",
       "Laura Robinson                                                                                     14\n",
       "Paul Snelgrove                                                                                     14\n",
       "Ben Katchor                                                                                        13\n",
       "Barat Ali Batoor                                                                                   13\n",
       "Marisa Fick-Jordan                                                                                 12\n",
       "Pardis Sabeti                                                                                      12\n",
       "Keith Bellows                                                                                      12\n",
       "David Rockwell                                                                                     11\n",
       "Knut Haanaes                                                                                       11\n",
       "Mathias Jud                                                                                        10\n",
       "Audrey Choi                                                                                         7\n",
       "talks, TEDx, business, cities, collaboration, communication, consumerism, culture, technology       1\n",
       "talks, TEDx, business, creativity, culture, design, technology, work                                1\n",
       "Name: op_id, Length: 1422, dtype: int64"
      ]
     },
     "execution_count": 49,
     "metadata": {},
     "output_type": "execute_result"
    }
   ],
   "source": [
    "ted_responses.op_id.value_counts()"
   ]
  },
  {
   "cell_type": "markdown",
   "metadata": {},
   "source": [
    "What are these weird last ones? Let's replace the NaN values with an empty string for now, so we can take a look:"
   ]
  },
  {
   "cell_type": "code",
   "execution_count": 50,
   "metadata": {},
   "outputs": [
    {
     "name": "stdout",
     "output_type": "stream",
     "text": [
      "<class 'pandas.core.frame.DataFrame'>\n",
      "RangeIndex: 190414 entries, 0 to 190413\n",
      "Data columns (total 5 columns):\n",
      "op_id            190414 non-null object\n",
      "op_gender        190414 non-null object\n",
      "post_id          190414 non-null int64\n",
      "responder_id     190414 non-null object\n",
      "response_text    190414 non-null object\n",
      "dtypes: int64(1), object(4)\n",
      "memory usage: 7.3+ MB\n"
     ]
    }
   ],
   "source": [
    "ted_responses.fillna('', inplace=True)\n",
    "ted_responses.info()"
   ]
  },
  {
   "cell_type": "code",
   "execution_count": 51,
   "metadata": {},
   "outputs": [
    {
     "data": {
      "text/html": [
       "<div>\n",
       "<style scoped>\n",
       "    .dataframe tbody tr th:only-of-type {\n",
       "        vertical-align: middle;\n",
       "    }\n",
       "\n",
       "    .dataframe tbody tr th {\n",
       "        vertical-align: top;\n",
       "    }\n",
       "\n",
       "    .dataframe thead th {\n",
       "        text-align: right;\n",
       "    }\n",
       "</style>\n",
       "<table border=\"1\" class=\"dataframe\">\n",
       "  <thead>\n",
       "    <tr style=\"text-align: right;\">\n",
       "      <th></th>\n",
       "      <th>op_id</th>\n",
       "      <th>op_gender</th>\n",
       "      <th>post_id</th>\n",
       "      <th>responder_id</th>\n",
       "      <th>response_text</th>\n",
       "    </tr>\n",
       "  </thead>\n",
       "  <tbody>\n",
       "    <tr>\n",
       "      <th>13018</th>\n",
       "      <td>talks, TEDx, business, cities, collaboration, ...</td>\n",
       "      <td></td>\n",
       "      <td>13018</td>\n",
       "      <td>1291</td>\n",
       "      <td>Rachel Botsman</td>\n",
       "    </tr>\n",
       "    <tr>\n",
       "      <th>167977</th>\n",
       "      <td>talks, TEDx, business, creativity, culture, de...</td>\n",
       "      <td></td>\n",
       "      <td>167977</td>\n",
       "      <td>1304</td>\n",
       "      <td>Jason Fried</td>\n",
       "    </tr>\n",
       "  </tbody>\n",
       "</table>\n",
       "</div>"
      ],
      "text/plain": [
       "                                                    op_id op_gender  post_id  \\\n",
       "13018   talks, TEDx, business, cities, collaboration, ...              13018   \n",
       "167977  talks, TEDx, business, creativity, culture, de...             167977   \n",
       "\n",
       "       responder_id   response_text  \n",
       "13018          1291  Rachel Botsman  \n",
       "167977         1304     Jason Fried  "
      ]
     },
     "execution_count": 51,
     "metadata": {},
     "output_type": "execute_result"
    }
   ],
   "source": [
    "ted_responses[ted_responses.op_id.str.startswith('talks')]"
   ]
  },
  {
   "cell_type": "markdown",
   "metadata": {},
   "source": [
    "Hm... don't really know what's going on here.\n",
    "\n",
    "So that's the basics of the files. I really want to put them together (at least, the post/response pairs) to make it easier to see the relations between poster and responder. I think it would also be interesting to apply a name classifier on the facebook files and also do some sort of machine learning to attempt to classify the poster's gender.\n",
    "\n",
    "Additionally, I can look at general differences between groups, as well as between genders and gender poster/responder pairs. I definitely need to do some reading up on sociolinguistics and the original report that goes along with this data set.\n",
    "\n",
    "Oh yeah - I also wanted to take a quick look at the annotated file to see if I wanted to use it."
   ]
  },
  {
   "cell_type": "code",
   "execution_count": 52,
   "metadata": {},
   "outputs": [
    {
     "name": "stdout",
     "output_type": "stream",
     "text": [
      "(15352, 6)\n"
     ]
    },
    {
     "data": {
      "text/html": [
       "<div>\n",
       "<style scoped>\n",
       "    .dataframe tbody tr th:only-of-type {\n",
       "        vertical-align: middle;\n",
       "    }\n",
       "\n",
       "    .dataframe tbody tr th {\n",
       "        vertical-align: top;\n",
       "    }\n",
       "\n",
       "    .dataframe thead th {\n",
       "        text-align: right;\n",
       "    }\n",
       "</style>\n",
       "<table border=\"1\" class=\"dataframe\">\n",
       "  <thead>\n",
       "    <tr style=\"text-align: right;\">\n",
       "      <th></th>\n",
       "      <th>source</th>\n",
       "      <th>op_gender</th>\n",
       "      <th>post_text</th>\n",
       "      <th>response_text</th>\n",
       "      <th>sentiment</th>\n",
       "      <th>relevance</th>\n",
       "    </tr>\n",
       "  </thead>\n",
       "  <tbody>\n",
       "    <tr>\n",
       "      <th>0</th>\n",
       "      <td>facebook_wiki</td>\n",
       "      <td>W</td>\n",
       "      <td>Stopped by Fashion Week and got to hang with A...</td>\n",
       "      <td>You are Both Sweet Ashley Tisdale and Lauren C...</td>\n",
       "      <td>Positive</td>\n",
       "      <td>Poster</td>\n",
       "    </tr>\n",
       "    <tr>\n",
       "      <th>1</th>\n",
       "      <td>facebook_wiki</td>\n",
       "      <td>M</td>\n",
       "      <td>Well guys, real progress is happening. I'm 50 ...</td>\n",
       "      <td>Give us the first page to read. ONE PAGE.</td>\n",
       "      <td>Mixed</td>\n",
       "      <td>Content</td>\n",
       "    </tr>\n",
       "    <tr>\n",
       "      <th>2</th>\n",
       "      <td>facebook_wiki</td>\n",
       "      <td>W</td>\n",
       "      <td>Tonight is going to be a good night #PerfectMo...</td>\n",
       "      <td>this is my city was there 2 weeks a go</td>\n",
       "      <td>Neutral</td>\n",
       "      <td>Content</td>\n",
       "    </tr>\n",
       "    <tr>\n",
       "      <th>3</th>\n",
       "      <td>facebook_wiki</td>\n",
       "      <td>M</td>\n",
       "      <td>I know grandma Gilmore is real proud of you ht...</td>\n",
       "      <td>if grizzly Adams had a beard.</td>\n",
       "      <td>Neutral</td>\n",
       "      <td>Content</td>\n",
       "    </tr>\n",
       "    <tr>\n",
       "      <th>4</th>\n",
       "      <td>facebook_wiki</td>\n",
       "      <td>W</td>\n",
       "      <td>#NEWS to KNOW this AM - Mayor Emanuel will mak...</td>\n",
       "      <td>Good morning Lourdes, have a great day! Great ...</td>\n",
       "      <td>Positive</td>\n",
       "      <td>Irrelevant</td>\n",
       "    </tr>\n",
       "  </tbody>\n",
       "</table>\n",
       "</div>"
      ],
      "text/plain": [
       "          source op_gender                                          post_text  \\\n",
       "0  facebook_wiki         W  Stopped by Fashion Week and got to hang with A...   \n",
       "1  facebook_wiki         M  Well guys, real progress is happening. I'm 50 ...   \n",
       "2  facebook_wiki         W  Tonight is going to be a good night #PerfectMo...   \n",
       "3  facebook_wiki         M  I know grandma Gilmore is real proud of you ht...   \n",
       "4  facebook_wiki         W  #NEWS to KNOW this AM - Mayor Emanuel will mak...   \n",
       "\n",
       "                                       response_text sentiment   relevance  \n",
       "0  You are Both Sweet Ashley Tisdale and Lauren C...  Positive      Poster  \n",
       "1          Give us the first page to read. ONE PAGE.     Mixed     Content  \n",
       "2             this is my city was there 2 weeks a go   Neutral     Content  \n",
       "3                      if grizzly Adams had a beard.   Neutral     Content  \n",
       "4  Good morning Lourdes, have a great day! Great ...  Positive  Irrelevant  "
      ]
     },
     "execution_count": 52,
     "metadata": {},
     "output_type": "execute_result"
    }
   ],
   "source": [
    "annotations = pd.read_csv(root + 'annotations.csv')\n",
    "print(annotations.shape)\n",
    "annotations.head()"
   ]
  },
  {
   "cell_type": "code",
   "execution_count": 55,
   "metadata": {},
   "outputs": [
    {
     "name": "stdout",
     "output_type": "stream",
     "text": [
      "<class 'pandas.core.frame.DataFrame'>\n",
      "RangeIndex: 15352 entries, 0 to 15351\n",
      "Data columns (total 6 columns):\n",
      "source           15352 non-null object\n",
      "op_gender        15352 non-null object\n",
      "post_text        15352 non-null object\n",
      "response_text    15350 non-null object\n",
      "sentiment        15352 non-null object\n",
      "relevance        15352 non-null object\n",
      "dtypes: object(6)\n",
      "memory usage: 719.7+ KB\n"
     ]
    }
   ],
   "source": [
    "annotations.info()"
   ]
  },
  {
   "cell_type": "markdown",
   "metadata": {},
   "source": [
    "No nulls - this is a very clean DataFrame since they made it to fit their specific needs. I'm not sure if I will use this, since it's specific to their project."
   ]
  },
  {
   "cell_type": "code",
   "execution_count": 56,
   "metadata": {},
   "outputs": [
    {
     "data": {
      "text/plain": [
       "facebook_congress    4180\n",
       "fitocracy            2904\n",
       "facebook_wiki        2884\n",
       "reddit               2732\n",
       "ted                  2652\n",
       "Name: source, dtype: int64"
      ]
     },
     "execution_count": 56,
     "metadata": {},
     "output_type": "execute_result"
    }
   ],
   "source": [
    "# look where these posts are from...\n",
    "annotations.source.value_counts()"
   ]
  },
  {
   "cell_type": "code",
   "execution_count": 57,
   "metadata": {},
   "outputs": [
    {
     "data": {
      "text/plain": [
       "M    7793\n",
       "W    7559\n",
       "Name: op_gender, dtype: int64"
      ]
     },
     "execution_count": 57,
     "metadata": {},
     "output_type": "execute_result"
    }
   ],
   "source": [
    "# look at genders\n",
    "annotations.op_gender.value_counts()"
   ]
  },
  {
   "cell_type": "code",
   "execution_count": 58,
   "metadata": {},
   "outputs": [
    {
     "data": {
      "text/plain": [
       "Positive    7507\n",
       "Neutral     3750\n",
       "Negative    2539\n",
       "Mixed       1556\n",
       "Name: sentiment, dtype: int64"
      ]
     },
     "execution_count": 58,
     "metadata": {},
     "output_type": "execute_result"
    }
   ],
   "source": [
    "# look at types of sentiment\n",
    "annotations.sentiment.value_counts()"
   ]
  },
  {
   "cell_type": "code",
   "execution_count": 64,
   "metadata": {},
   "outputs": [
    {
     "data": {
      "text/html": [
       "<div>\n",
       "<style scoped>\n",
       "    .dataframe tbody tr th:only-of-type {\n",
       "        vertical-align: middle;\n",
       "    }\n",
       "\n",
       "    .dataframe tbody tr th {\n",
       "        vertical-align: top;\n",
       "    }\n",
       "\n",
       "    .dataframe thead th {\n",
       "        text-align: right;\n",
       "    }\n",
       "</style>\n",
       "<table border=\"1\" class=\"dataframe\">\n",
       "  <thead>\n",
       "    <tr style=\"text-align: right;\">\n",
       "      <th></th>\n",
       "      <th>source</th>\n",
       "      <th>op_gender</th>\n",
       "      <th>post_text</th>\n",
       "      <th>response_text</th>\n",
       "      <th>sentiment</th>\n",
       "      <th>relevance</th>\n",
       "    </tr>\n",
       "  </thead>\n",
       "  <tbody>\n",
       "    <tr>\n",
       "      <th>1</th>\n",
       "      <td>facebook_wiki</td>\n",
       "      <td>M</td>\n",
       "      <td>Well guys, real progress is happening. I'm 50 ...</td>\n",
       "      <td>Give us the first page to read. ONE PAGE.</td>\n",
       "      <td>Mixed</td>\n",
       "      <td>Content</td>\n",
       "    </tr>\n",
       "    <tr>\n",
       "      <th>29</th>\n",
       "      <td>facebook_wiki</td>\n",
       "      <td>W</td>\n",
       "      <td>Welcome to the momma club, Vika!! A new world ...</td>\n",
       "      <td>Alle guten Wnsche an Mutter und Kind aus Deuts...</td>\n",
       "      <td>Mixed</td>\n",
       "      <td>Irrelevant</td>\n",
       "    </tr>\n",
       "    <tr>\n",
       "      <th>31</th>\n",
       "      <td>facebook_wiki</td>\n",
       "      <td>W</td>\n",
       "      <td>#maybeineedgas #justsayin</td>\n",
       "      <td>WGN must not pay very well.</td>\n",
       "      <td>Mixed</td>\n",
       "      <td>ContentPoster</td>\n",
       "    </tr>\n",
       "    <tr>\n",
       "      <th>79</th>\n",
       "      <td>facebook_wiki</td>\n",
       "      <td>M</td>\n",
       "      <td>No new #2brokegirls again tonight (all new nex...</td>\n",
       "      <td>I'll just take the original thanks</td>\n",
       "      <td>Mixed</td>\n",
       "      <td>Content</td>\n",
       "    </tr>\n",
       "    <tr>\n",
       "      <th>93</th>\n",
       "      <td>facebook_wiki</td>\n",
       "      <td>W</td>\n",
       "      <td>It's #MusicMonday and I am loving this song! S...</td>\n",
       "      <td>That means a lot coming from you....</td>\n",
       "      <td>Mixed</td>\n",
       "      <td>ContentPoster</td>\n",
       "    </tr>\n",
       "    <tr>\n",
       "      <th>99</th>\n",
       "      <td>facebook_wiki</td>\n",
       "      <td>M</td>\n",
       "      <td>Will Huckabee run in 2016? Here's what his dau...</td>\n",
       "      <td>The Democrats hope so!! Tear them GOP up!! haha!</td>\n",
       "      <td>Mixed</td>\n",
       "      <td>Content</td>\n",
       "    </tr>\n",
       "    <tr>\n",
       "      <th>110</th>\n",
       "      <td>facebook_wiki</td>\n",
       "      <td>M</td>\n",
       "      <td>Happy New Day from just outside the Time Warne...</td>\n",
       "      <td>I miss you on Good Morning America its not the...</td>\n",
       "      <td>Mixed</td>\n",
       "      <td>Poster</td>\n",
       "    </tr>\n",
       "    <tr>\n",
       "      <th>124</th>\n",
       "      <td>facebook_wiki</td>\n",
       "      <td>M</td>\n",
       "      <td>Walker Stalker convention in Atlanta</td>\n",
       "      <td>Ron T. Young they turned out good...I need the...</td>\n",
       "      <td>Mixed</td>\n",
       "      <td>Content</td>\n",
       "    </tr>\n",
       "    <tr>\n",
       "      <th>126</th>\n",
       "      <td>facebook_wiki</td>\n",
       "      <td>M</td>\n",
       "      <td>Wow. A priest? Really? ALL SAINTS movie, Nashv...</td>\n",
       "      <td>Forgive me, Father for I have sinned.</td>\n",
       "      <td>Mixed</td>\n",
       "      <td>Content</td>\n",
       "    </tr>\n",
       "    <tr>\n",
       "      <th>129</th>\n",
       "      <td>facebook_wiki</td>\n",
       "      <td>W</td>\n",
       "      <td>Cover of the Miami Herald today! I may need to...</td>\n",
       "      <td>Maddison check this out!! www.h9water.com/CTH ...</td>\n",
       "      <td>Mixed</td>\n",
       "      <td>Irrelevant</td>\n",
       "    </tr>\n",
       "  </tbody>\n",
       "</table>\n",
       "</div>"
      ],
      "text/plain": [
       "            source op_gender  \\\n",
       "1    facebook_wiki         M   \n",
       "29   facebook_wiki         W   \n",
       "31   facebook_wiki         W   \n",
       "79   facebook_wiki         M   \n",
       "93   facebook_wiki         W   \n",
       "99   facebook_wiki         M   \n",
       "110  facebook_wiki         M   \n",
       "124  facebook_wiki         M   \n",
       "126  facebook_wiki         M   \n",
       "129  facebook_wiki         W   \n",
       "\n",
       "                                             post_text  \\\n",
       "1    Well guys, real progress is happening. I'm 50 ...   \n",
       "29   Welcome to the momma club, Vika!! A new world ...   \n",
       "31                           #maybeineedgas #justsayin   \n",
       "79   No new #2brokegirls again tonight (all new nex...   \n",
       "93   It's #MusicMonday and I am loving this song! S...   \n",
       "99   Will Huckabee run in 2016? Here's what his dau...   \n",
       "110  Happy New Day from just outside the Time Warne...   \n",
       "124               Walker Stalker convention in Atlanta   \n",
       "126  Wow. A priest? Really? ALL SAINTS movie, Nashv...   \n",
       "129  Cover of the Miami Herald today! I may need to...   \n",
       "\n",
       "                                         response_text sentiment  \\\n",
       "1            Give us the first page to read. ONE PAGE.     Mixed   \n",
       "29   Alle guten Wnsche an Mutter und Kind aus Deuts...     Mixed   \n",
       "31                         WGN must not pay very well.     Mixed   \n",
       "79                  I'll just take the original thanks     Mixed   \n",
       "93                That means a lot coming from you....     Mixed   \n",
       "99    The Democrats hope so!! Tear them GOP up!! haha!     Mixed   \n",
       "110  I miss you on Good Morning America its not the...     Mixed   \n",
       "124  Ron T. Young they turned out good...I need the...     Mixed   \n",
       "126              Forgive me, Father for I have sinned.     Mixed   \n",
       "129  Maddison check this out!! www.h9water.com/CTH ...     Mixed   \n",
       "\n",
       "         relevance  \n",
       "1          Content  \n",
       "29      Irrelevant  \n",
       "31   ContentPoster  \n",
       "79         Content  \n",
       "93   ContentPoster  \n",
       "99         Content  \n",
       "110         Poster  \n",
       "124        Content  \n",
       "126        Content  \n",
       "129     Irrelevant  "
      ]
     },
     "execution_count": 64,
     "metadata": {},
     "output_type": "execute_result"
    }
   ],
   "source": [
    "# what do they mean by mixed? Let's see\n",
    "annotations[annotations.sentiment == 'Mixed'].head(10)"
   ]
  },
  {
   "cell_type": "code",
   "execution_count": 65,
   "metadata": {},
   "outputs": [
    {
     "data": {
      "text/plain": [
       "'Ron T. Young they turned out good...I need them on a jpeg thing, my people did them for me at Staples but they missed a couple I wanted and my computer was trip pen and wouldnt allow me to save them'"
      ]
     },
     "execution_count": 65,
     "metadata": {},
     "output_type": "execute_result"
    }
   ],
   "source": [
    "annotations.iloc[124].response_text"
   ]
  },
  {
   "cell_type": "code",
   "execution_count": 66,
   "metadata": {},
   "outputs": [
    {
     "data": {
      "text/plain": [
       "Content          8106\n",
       "ContentPoster    3127\n",
       "Poster           2316\n",
       "Irrelevant       1803\n",
       "Name: relevance, dtype: int64"
      ]
     },
     "execution_count": 66,
     "metadata": {},
     "output_type": "execute_result"
    }
   ],
   "source": [
    "# look at relevance\n",
    "annotations.relevance.value_counts()"
   ]
  },
  {
   "cell_type": "markdown",
   "metadata": {},
   "source": [
    "Not really sure what the different categories mean here... Can further examine paper that goes along with this.\n",
    "\n",
    "I at least understand the \"irrelevant\" category - let's take a look."
   ]
  },
  {
   "cell_type": "code",
   "execution_count": 67,
   "metadata": {},
   "outputs": [
    {
     "data": {
      "text/html": [
       "<div>\n",
       "<style scoped>\n",
       "    .dataframe tbody tr th:only-of-type {\n",
       "        vertical-align: middle;\n",
       "    }\n",
       "\n",
       "    .dataframe tbody tr th {\n",
       "        vertical-align: top;\n",
       "    }\n",
       "\n",
       "    .dataframe thead th {\n",
       "        text-align: right;\n",
       "    }\n",
       "</style>\n",
       "<table border=\"1\" class=\"dataframe\">\n",
       "  <thead>\n",
       "    <tr style=\"text-align: right;\">\n",
       "      <th></th>\n",
       "      <th>source</th>\n",
       "      <th>op_gender</th>\n",
       "      <th>post_text</th>\n",
       "      <th>response_text</th>\n",
       "      <th>sentiment</th>\n",
       "      <th>relevance</th>\n",
       "    </tr>\n",
       "  </thead>\n",
       "  <tbody>\n",
       "    <tr>\n",
       "      <th>4</th>\n",
       "      <td>facebook_wiki</td>\n",
       "      <td>W</td>\n",
       "      <td>#NEWS to KNOW this AM - Mayor Emanuel will mak...</td>\n",
       "      <td>Good morning Lourdes, have a great day! Great ...</td>\n",
       "      <td>Positive</td>\n",
       "      <td>Irrelevant</td>\n",
       "    </tr>\n",
       "    <tr>\n",
       "      <th>11</th>\n",
       "      <td>facebook_wiki</td>\n",
       "      <td>M</td>\n",
       "      <td>Anchoring New Day from Paris - it's been one y...</td>\n",
       "      <td>Poor Chris, you look so jet lagged.</td>\n",
       "      <td>Neutral</td>\n",
       "      <td>Irrelevant</td>\n",
       "    </tr>\n",
       "    <tr>\n",
       "      <th>16</th>\n",
       "      <td>facebook_wiki</td>\n",
       "      <td>W</td>\n",
       "      <td>Best #makeup from the Golden Globes according ...</td>\n",
       "      <td>Just Click The Link https://youtu.be/ZD4jv21Gj...</td>\n",
       "      <td>Neutral</td>\n",
       "      <td>Irrelevant</td>\n",
       "    </tr>\n",
       "    <tr>\n",
       "      <th>29</th>\n",
       "      <td>facebook_wiki</td>\n",
       "      <td>W</td>\n",
       "      <td>Welcome to the momma club, Vika!! A new world ...</td>\n",
       "      <td>Alle guten Wnsche an Mutter und Kind aus Deuts...</td>\n",
       "      <td>Mixed</td>\n",
       "      <td>Irrelevant</td>\n",
       "    </tr>\n",
       "    <tr>\n",
       "      <th>33</th>\n",
       "      <td>facebook_wiki</td>\n",
       "      <td>M</td>\n",
       "      <td>www.nextcontenders.com</td>\n",
       "      <td>big animal big idiot</td>\n",
       "      <td>Negative</td>\n",
       "      <td>Irrelevant</td>\n",
       "    </tr>\n",
       "  </tbody>\n",
       "</table>\n",
       "</div>"
      ],
      "text/plain": [
       "           source op_gender  \\\n",
       "4   facebook_wiki         W   \n",
       "11  facebook_wiki         M   \n",
       "16  facebook_wiki         W   \n",
       "29  facebook_wiki         W   \n",
       "33  facebook_wiki         M   \n",
       "\n",
       "                                            post_text  \\\n",
       "4   #NEWS to KNOW this AM - Mayor Emanuel will mak...   \n",
       "11  Anchoring New Day from Paris - it's been one y...   \n",
       "16  Best #makeup from the Golden Globes according ...   \n",
       "29  Welcome to the momma club, Vika!! A new world ...   \n",
       "33                             www.nextcontenders.com   \n",
       "\n",
       "                                        response_text sentiment   relevance  \n",
       "4   Good morning Lourdes, have a great day! Great ...  Positive  Irrelevant  \n",
       "11                Poor Chris, you look so jet lagged.   Neutral  Irrelevant  \n",
       "16  Just Click The Link https://youtu.be/ZD4jv21Gj...   Neutral  Irrelevant  \n",
       "29  Alle guten Wnsche an Mutter und Kind aus Deuts...     Mixed  Irrelevant  \n",
       "33                               big animal big idiot  Negative  Irrelevant  "
      ]
     },
     "execution_count": 67,
     "metadata": {},
     "output_type": "execute_result"
    }
   ],
   "source": [
    "annotations[annotations.relevance == 'Irrelevant'].head()"
   ]
  },
  {
   "cell_type": "code",
   "execution_count": 70,
   "metadata": {},
   "outputs": [
    {
     "name": "stdout",
     "output_type": "stream",
     "text": [
      "post: #NEWS to KNOW this AM - Mayor Emanuel will make a special address today on police accountability...The third suspect in last month's #Paris attacks has been identified...#Teachers start voting today on a possible strike.\n",
      "\n",
      "response: Good morning Lourdes, have a great day! Great Christmas card photo also!\n"
     ]
    }
   ],
   "source": [
    "print('post:', annotations.iloc[4].post_text)\n",
    "print()\n",
    "print('response:', annotations.iloc[4].response_text)"
   ]
  },
  {
   "cell_type": "code",
   "execution_count": null,
   "metadata": {},
   "outputs": [],
   "source": []
  }
 ],
 "metadata": {
  "kernelspec": {
   "display_name": "Python 3",
   "language": "python",
   "name": "python3"
  },
  "language_info": {
   "codemirror_mode": {
    "name": "ipython",
    "version": 3
   },
   "file_extension": ".py",
   "mimetype": "text/x-python",
   "name": "python",
   "nbconvert_exporter": "python",
   "pygments_lexer": "ipython3",
   "version": "3.7.1"
  }
 },
 "nbformat": 4,
 "nbformat_minor": 2
}
