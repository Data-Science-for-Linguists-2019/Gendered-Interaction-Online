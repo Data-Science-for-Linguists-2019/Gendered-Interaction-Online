{
 "cells": [
  {
   "cell_type": "markdown",
   "metadata": {},
   "source": [
    "# Gender x Gender Analysis\n",
    "\n",
    "From the main analysis file, we have found some specifics of Gender x Gender in the use of hedges, but let's just try to examine some specific words just for fun! I will be basing this off of the [study](https://nlp.stanford.edu/robvoigt/rtgender/rtgender.pdf) that this data is from, where they did something similar.\n",
    "\n",
    "For this quick analysis, I'm going to examine some \"stereotypical\" words that I think people may use when interacting with different genders."
   ]
  },
  {
   "cell_type": "code",
   "execution_count": 1,
   "metadata": {},
   "outputs": [],
   "source": [
    "# import things\n",
    "import pickle\n",
    "import pandas as pd\n",
    "import numpy as np\n",
    "import seaborn as sns\n",
    "import matplotlib.pyplot as plt"
   ]
  },
  {
   "cell_type": "code",
   "execution_count": 2,
   "metadata": {},
   "outputs": [
    {
     "data": {
      "text/html": [
       "<div>\n",
       "<style scoped>\n",
       "    .dataframe tbody tr th:only-of-type {\n",
       "        vertical-align: middle;\n",
       "    }\n",
       "\n",
       "    .dataframe tbody tr th {\n",
       "        vertical-align: top;\n",
       "    }\n",
       "\n",
       "    .dataframe thead th {\n",
       "        text-align: right;\n",
       "    }\n",
       "</style>\n",
       "<table border=\"1\" class=\"dataframe\">\n",
       "  <thead>\n",
       "    <tr style=\"text-align: right;\">\n",
       "      <th></th>\n",
       "      <th>op_id</th>\n",
       "      <th>op_gender</th>\n",
       "      <th>responder_id</th>\n",
       "      <th>responder_gender</th>\n",
       "      <th>post_text</th>\n",
       "      <th>response_text</th>\n",
       "      <th>source</th>\n",
       "      <th>post_tokens</th>\n",
       "      <th>response_tokens</th>\n",
       "      <th>post_length</th>\n",
       "      <th>response_length</th>\n",
       "      <th>post_avg_slen</th>\n",
       "      <th>response_avg_slen</th>\n",
       "      <th>post_hedges</th>\n",
       "      <th>response_hedges</th>\n",
       "      <th>post_questions</th>\n",
       "      <th>response_questions</th>\n",
       "    </tr>\n",
       "  </thead>\n",
       "  <tbody>\n",
       "    <tr>\n",
       "      <th>182769</th>\n",
       "      <td>735740</td>\n",
       "      <td>M</td>\n",
       "      <td>7715</td>\n",
       "      <td>W</td>\n",
       "      <td>just joined the Stronglifts group!</td>\n",
       "      <td>Hello! Welcome to the site; Fitocracy is a gre...</td>\n",
       "      <td>fitocracy</td>\n",
       "      <td>[just, joined, the, Stronglifts, group, !]</td>\n",
       "      <td>[Hello, !, Welcome, to, the, site, ;, Fitocrac...</td>\n",
       "      <td>6</td>\n",
       "      <td>95</td>\n",
       "      <td>6.0</td>\n",
       "      <td>47.5</td>\n",
       "      <td>0</td>\n",
       "      <td>0</td>\n",
       "      <td>0</td>\n",
       "      <td>0</td>\n",
       "    </tr>\n",
       "    <tr>\n",
       "      <th>18905</th>\n",
       "      <td>46772</td>\n",
       "      <td>W</td>\n",
       "      <td>99844</td>\n",
       "      <td>M</td>\n",
       "      <td>Starting to hate burpees lol XD</td>\n",
       "      <td>starting? lol</td>\n",
       "      <td>fitocracy</td>\n",
       "      <td>[Starting, to, hate, burpees, lol, XD]</td>\n",
       "      <td>[starting, ?, lol]</td>\n",
       "      <td>6</td>\n",
       "      <td>3</td>\n",
       "      <td>6.0</td>\n",
       "      <td>1.5</td>\n",
       "      <td>0</td>\n",
       "      <td>0</td>\n",
       "      <td>0</td>\n",
       "      <td>0</td>\n",
       "    </tr>\n",
       "    <tr>\n",
       "      <th>44073</th>\n",
       "      <td>119576</td>\n",
       "      <td>W</td>\n",
       "      <td>1386156</td>\n",
       "      <td>M</td>\n",
       "      <td>hello new fito-friend!</td>\n",
       "      <td>hello there! nice PP!</td>\n",
       "      <td>fitocracy</td>\n",
       "      <td>[hello, new, fito-friend, !]</td>\n",
       "      <td>[hello, there, !, nice, PP, !]</td>\n",
       "      <td>4</td>\n",
       "      <td>6</td>\n",
       "      <td>4.0</td>\n",
       "      <td>3.0</td>\n",
       "      <td>0</td>\n",
       "      <td>0</td>\n",
       "      <td>0</td>\n",
       "      <td>0</td>\n",
       "    </tr>\n",
       "    <tr>\n",
       "      <th>172693</th>\n",
       "      <td>687335</td>\n",
       "      <td>M</td>\n",
       "      <td>681539</td>\n",
       "      <td>M</td>\n",
       "      <td>just joined the WTF - Welcome to Fitocracy group!</td>\n",
       "      <td>welcome brotha</td>\n",
       "      <td>fitocracy</td>\n",
       "      <td>[just, joined, the, WTF, -, Welcome, to, Fitoc...</td>\n",
       "      <td>[welcome, brotha]</td>\n",
       "      <td>10</td>\n",
       "      <td>2</td>\n",
       "      <td>10.0</td>\n",
       "      <td>2.0</td>\n",
       "      <td>0</td>\n",
       "      <td>0</td>\n",
       "      <td>0</td>\n",
       "      <td>0</td>\n",
       "    </tr>\n",
       "    <tr>\n",
       "      <th>41901</th>\n",
       "      <td>114314</td>\n",
       "      <td>M</td>\n",
       "      <td>425205</td>\n",
       "      <td>M</td>\n",
       "      <td>Hey Handsome, Sent you PM.</td>\n",
       "      <td>wow. handsome indeed</td>\n",
       "      <td>fitocracy</td>\n",
       "      <td>[Hey, Handsome, ,, Sent, you, PM, .]</td>\n",
       "      <td>[wow, ., handsome, indeed]</td>\n",
       "      <td>7</td>\n",
       "      <td>4</td>\n",
       "      <td>7.0</td>\n",
       "      <td>2.0</td>\n",
       "      <td>0</td>\n",
       "      <td>0</td>\n",
       "      <td>0</td>\n",
       "      <td>0</td>\n",
       "    </tr>\n",
       "  </tbody>\n",
       "</table>\n",
       "</div>"
      ],
      "text/plain": [
       "         op_id op_gender responder_id responder_gender  \\\n",
       "182769  735740         M         7715                W   \n",
       "18905    46772         W        99844                M   \n",
       "44073   119576         W      1386156                M   \n",
       "172693  687335         M       681539                M   \n",
       "41901   114314         M       425205                M   \n",
       "\n",
       "                                                post_text  \\\n",
       "182769                 just joined the Stronglifts group!   \n",
       "18905                     Starting to hate burpees lol XD   \n",
       "44073                              hello new fito-friend!   \n",
       "172693  just joined the WTF - Welcome to Fitocracy group!   \n",
       "41901                          Hey Handsome, Sent you PM.   \n",
       "\n",
       "                                            response_text     source  \\\n",
       "182769  Hello! Welcome to the site; Fitocracy is a gre...  fitocracy   \n",
       "18905                                       starting? lol  fitocracy   \n",
       "44073                               hello there! nice PP!  fitocracy   \n",
       "172693                                     welcome brotha  fitocracy   \n",
       "41901                                wow. handsome indeed  fitocracy   \n",
       "\n",
       "                                              post_tokens  \\\n",
       "182769         [just, joined, the, Stronglifts, group, !]   \n",
       "18905              [Starting, to, hate, burpees, lol, XD]   \n",
       "44073                        [hello, new, fito-friend, !]   \n",
       "172693  [just, joined, the, WTF, -, Welcome, to, Fitoc...   \n",
       "41901                [Hey, Handsome, ,, Sent, you, PM, .]   \n",
       "\n",
       "                                          response_tokens  post_length  \\\n",
       "182769  [Hello, !, Welcome, to, the, site, ;, Fitocrac...            6   \n",
       "18905                                  [starting, ?, lol]            6   \n",
       "44073                      [hello, there, !, nice, PP, !]            4   \n",
       "172693                                  [welcome, brotha]           10   \n",
       "41901                          [wow, ., handsome, indeed]            7   \n",
       "\n",
       "        response_length  post_avg_slen  response_avg_slen  post_hedges  \\\n",
       "182769               95            6.0               47.5            0   \n",
       "18905                 3            6.0                1.5            0   \n",
       "44073                 6            4.0                3.0            0   \n",
       "172693                2           10.0                2.0            0   \n",
       "41901                 4            7.0                2.0            0   \n",
       "\n",
       "        response_hedges  post_questions  response_questions  \n",
       "182769                0               0                   0  \n",
       "18905                 0               0                   0  \n",
       "44073                 0               0                   0  \n",
       "172693                0               0                   0  \n",
       "41901                 0               0                   0  "
      ]
     },
     "execution_count": 2,
     "metadata": {},
     "output_type": "execute_result"
    }
   ],
   "source": [
    "# look at df from when we know both genders\n",
    "# made up of fitocracy and some reddit\n",
    "gender_visible_df = pd.read_pickle(\"gender_visible_df.pkl\")\n",
    "gender_visible_df.sample(5)"
   ]
  },
  {
   "cell_type": "code",
   "execution_count": 3,
   "metadata": {},
   "outputs": [],
   "source": [
    "# get rid of duplicates again from automated posts and common posts\n",
    "gender_visible_df.drop_duplicates(subset=['post_text','response_text'], keep=False, inplace=True)"
   ]
  },
  {
   "cell_type": "code",
   "execution_count": 4,
   "metadata": {},
   "outputs": [],
   "source": [
    "# stereotypical language\n",
    "m_to_m = ['bro','dude','man']\n",
    "f_to_f = ['girl','girly','girlie','chica'] # somewhat problematic... not as many that I can think of"
   ]
  },
  {
   "cell_type": "markdown",
   "metadata": {},
   "source": [
    "### Male to male"
   ]
  },
  {
   "cell_type": "code",
   "execution_count": 5,
   "metadata": {},
   "outputs": [],
   "source": [
    "def find_mtom(text):\n",
    "    text = text.lower()\n",
    "    if any(word in text for word in m_to_m):\n",
    "        return 1\n",
    "    else:\n",
    "        return 0\n",
    "    \n",
    "gender_visible_df['m_to_m'] = gender_visible_df.response_text.map(find_mtom)"
   ]
  },
  {
   "cell_type": "code",
   "execution_count": 6,
   "metadata": {},
   "outputs": [
    {
     "data": {
      "text/html": [
       "<div>\n",
       "<style scoped>\n",
       "    .dataframe tbody tr th:only-of-type {\n",
       "        vertical-align: middle;\n",
       "    }\n",
       "\n",
       "    .dataframe tbody tr th {\n",
       "        vertical-align: top;\n",
       "    }\n",
       "\n",
       "    .dataframe thead th {\n",
       "        text-align: right;\n",
       "    }\n",
       "</style>\n",
       "<table border=\"1\" class=\"dataframe\">\n",
       "  <thead>\n",
       "    <tr style=\"text-align: right;\">\n",
       "      <th></th>\n",
       "      <th></th>\n",
       "      <th>count</th>\n",
       "      <th>mean</th>\n",
       "      <th>std</th>\n",
       "      <th>min</th>\n",
       "      <th>25%</th>\n",
       "      <th>50%</th>\n",
       "      <th>75%</th>\n",
       "      <th>max</th>\n",
       "    </tr>\n",
       "    <tr>\n",
       "      <th>op_gender</th>\n",
       "      <th>responder_gender</th>\n",
       "      <th></th>\n",
       "      <th></th>\n",
       "      <th></th>\n",
       "      <th></th>\n",
       "      <th></th>\n",
       "      <th></th>\n",
       "      <th></th>\n",
       "      <th></th>\n",
       "    </tr>\n",
       "  </thead>\n",
       "  <tbody>\n",
       "    <tr>\n",
       "      <th rowspan=\"2\" valign=\"top\">M</th>\n",
       "      <th>M</th>\n",
       "      <td>124907.0</td>\n",
       "      <td>0.132643</td>\n",
       "      <td>0.339190</td>\n",
       "      <td>0.0</td>\n",
       "      <td>0.0</td>\n",
       "      <td>0.0</td>\n",
       "      <td>0.0</td>\n",
       "      <td>1.0</td>\n",
       "    </tr>\n",
       "    <tr>\n",
       "      <th>W</th>\n",
       "      <td>84324.0</td>\n",
       "      <td>0.051480</td>\n",
       "      <td>0.220976</td>\n",
       "      <td>0.0</td>\n",
       "      <td>0.0</td>\n",
       "      <td>0.0</td>\n",
       "      <td>0.0</td>\n",
       "      <td>1.0</td>\n",
       "    </tr>\n",
       "    <tr>\n",
       "      <th rowspan=\"2\" valign=\"top\">W</th>\n",
       "      <th>M</th>\n",
       "      <td>85059.0</td>\n",
       "      <td>0.043981</td>\n",
       "      <td>0.205055</td>\n",
       "      <td>0.0</td>\n",
       "      <td>0.0</td>\n",
       "      <td>0.0</td>\n",
       "      <td>0.0</td>\n",
       "      <td>1.0</td>\n",
       "    </tr>\n",
       "    <tr>\n",
       "      <th>W</th>\n",
       "      <td>47298.0</td>\n",
       "      <td>0.031080</td>\n",
       "      <td>0.173535</td>\n",
       "      <td>0.0</td>\n",
       "      <td>0.0</td>\n",
       "      <td>0.0</td>\n",
       "      <td>0.0</td>\n",
       "      <td>1.0</td>\n",
       "    </tr>\n",
       "  </tbody>\n",
       "</table>\n",
       "</div>"
      ],
      "text/plain": [
       "                               count      mean       std  min  25%  50%  75%  \\\n",
       "op_gender responder_gender                                                     \n",
       "M         M                 124907.0  0.132643  0.339190  0.0  0.0  0.0  0.0   \n",
       "          W                  84324.0  0.051480  0.220976  0.0  0.0  0.0  0.0   \n",
       "W         M                  85059.0  0.043981  0.205055  0.0  0.0  0.0  0.0   \n",
       "          W                  47298.0  0.031080  0.173535  0.0  0.0  0.0  0.0   \n",
       "\n",
       "                            max  \n",
       "op_gender responder_gender       \n",
       "M         M                 1.0  \n",
       "          W                 1.0  \n",
       "W         M                 1.0  \n",
       "          W                 1.0  "
      ]
     },
     "execution_count": 6,
     "metadata": {},
     "output_type": "execute_result"
    }
   ],
   "source": [
    "gender_visible_df.groupby(['op_gender', 'responder_gender']).m_to_m.describe()"
   ]
  },
  {
   "cell_type": "code",
   "execution_count": 7,
   "metadata": {},
   "outputs": [
    {
     "data": {
      "image/png": "[encoded data removed]",
      "text/plain": [
       "<Figure size 432x288 with 1 Axes>"
      ]
     },
     "metadata": {
      "needs_background": "light"
     },
     "output_type": "display_data"
    }
   ],
   "source": [
    "gender_visible_df.groupby(['op_gender', 'responder_gender']).m_to_m.mean().plot(kind='bar',\n",
    "                                        title='Occurrences of stereotypical male-to-male language')\n",
    "plt.show()"
   ]
  },
  {
   "cell_type": "markdown",
   "metadata": {},
   "source": [
    "As we can see, 'bro', 'dude', and 'man' are much more widely used in a male-to-male context.\n",
    "\n",
    "### Female to female"
   ]
  },
  {
   "cell_type": "code",
   "execution_count": 8,
   "metadata": {},
   "outputs": [],
   "source": [
    "def find_ftof(text):\n",
    "    text = text.lower()\n",
    "    if any(word in text for word in f_to_f):\n",
    "        return 1\n",
    "    else:\n",
    "        return 0\n",
    "\n",
    "gender_visible_df['f_to_f'] = gender_visible_df.response_text.map(find_ftof)"
   ]
  },
  {
   "cell_type": "code",
   "execution_count": 9,
   "metadata": {},
   "outputs": [
    {
     "data": {
      "text/html": [
       "<div>\n",
       "<style scoped>\n",
       "    .dataframe tbody tr th:only-of-type {\n",
       "        vertical-align: middle;\n",
       "    }\n",
       "\n",
       "    .dataframe tbody tr th {\n",
       "        vertical-align: top;\n",
       "    }\n",
       "\n",
       "    .dataframe thead th {\n",
       "        text-align: right;\n",
       "    }\n",
       "</style>\n",
       "<table border=\"1\" class=\"dataframe\">\n",
       "  <thead>\n",
       "    <tr style=\"text-align: right;\">\n",
       "      <th></th>\n",
       "      <th></th>\n",
       "      <th>count</th>\n",
       "      <th>mean</th>\n",
       "      <th>std</th>\n",
       "      <th>min</th>\n",
       "      <th>25%</th>\n",
       "      <th>50%</th>\n",
       "      <th>75%</th>\n",
       "      <th>max</th>\n",
       "    </tr>\n",
       "    <tr>\n",
       "      <th>op_gender</th>\n",
       "      <th>responder_gender</th>\n",
       "      <th></th>\n",
       "      <th></th>\n",
       "      <th></th>\n",
       "      <th></th>\n",
       "      <th></th>\n",
       "      <th></th>\n",
       "      <th></th>\n",
       "      <th></th>\n",
       "    </tr>\n",
       "  </thead>\n",
       "  <tbody>\n",
       "    <tr>\n",
       "      <th rowspan=\"2\" valign=\"top\">M</th>\n",
       "      <th>M</th>\n",
       "      <td>124907.0</td>\n",
       "      <td>0.022865</td>\n",
       "      <td>0.149474</td>\n",
       "      <td>0.0</td>\n",
       "      <td>0.0</td>\n",
       "      <td>0.0</td>\n",
       "      <td>0.0</td>\n",
       "      <td>1.0</td>\n",
       "    </tr>\n",
       "    <tr>\n",
       "      <th>W</th>\n",
       "      <td>84324.0</td>\n",
       "      <td>0.013887</td>\n",
       "      <td>0.117022</td>\n",
       "      <td>0.0</td>\n",
       "      <td>0.0</td>\n",
       "      <td>0.0</td>\n",
       "      <td>0.0</td>\n",
       "      <td>1.0</td>\n",
       "    </tr>\n",
       "    <tr>\n",
       "      <th rowspan=\"2\" valign=\"top\">W</th>\n",
       "      <th>M</th>\n",
       "      <td>85059.0</td>\n",
       "      <td>0.018423</td>\n",
       "      <td>0.134474</td>\n",
       "      <td>0.0</td>\n",
       "      <td>0.0</td>\n",
       "      <td>0.0</td>\n",
       "      <td>0.0</td>\n",
       "      <td>1.0</td>\n",
       "    </tr>\n",
       "    <tr>\n",
       "      <th>W</th>\n",
       "      <td>47298.0</td>\n",
       "      <td>0.018204</td>\n",
       "      <td>0.133689</td>\n",
       "      <td>0.0</td>\n",
       "      <td>0.0</td>\n",
       "      <td>0.0</td>\n",
       "      <td>0.0</td>\n",
       "      <td>1.0</td>\n",
       "    </tr>\n",
       "  </tbody>\n",
       "</table>\n",
       "</div>"
      ],
      "text/plain": [
       "                               count      mean       std  min  25%  50%  75%  \\\n",
       "op_gender responder_gender                                                     \n",
       "M         M                 124907.0  0.022865  0.149474  0.0  0.0  0.0  0.0   \n",
       "          W                  84324.0  0.013887  0.117022  0.0  0.0  0.0  0.0   \n",
       "W         M                  85059.0  0.018423  0.134474  0.0  0.0  0.0  0.0   \n",
       "          W                  47298.0  0.018204  0.133689  0.0  0.0  0.0  0.0   \n",
       "\n",
       "                            max  \n",
       "op_gender responder_gender       \n",
       "M         M                 1.0  \n",
       "          W                 1.0  \n",
       "W         M                 1.0  \n",
       "          W                 1.0  "
      ]
     },
     "execution_count": 9,
     "metadata": {},
     "output_type": "execute_result"
    }
   ],
   "source": [
    "gender_visible_df.groupby(['op_gender', 'responder_gender']).f_to_f.describe()"
   ]
  },
  {
   "cell_type": "code",
   "execution_count": 10,
   "metadata": {},
   "outputs": [
    {
     "data": {
      "image/png": "[encoded data removed]",
      "text/plain": [
       "<Figure size 432x288 with 1 Axes>"
      ]
     },
     "metadata": {
      "needs_background": "light"
     },
     "output_type": "display_data"
    }
   ],
   "source": [
    "gender_visible_df.groupby(['op_gender', 'responder_gender']).f_to_f.mean().plot(kind='bar')\n",
    "plt.show()"
   ]
  },
  {
   "cell_type": "markdown",
   "metadata": {},
   "source": [
    "Hm... these aren't really the results I'd like to see. Why are male responders using this seemingly female-to-female language so much more? Maybe they're using the word \"girl\" to talk about girls instead of address people as girls."
   ]
  },
  {
   "cell_type": "code",
   "execution_count": 11,
   "metadata": {},
   "outputs": [
    {
     "name": "stdout",
     "output_type": "stream",
     "text": [
      "Have you seen the one where they do the Skesis?!? It took everything I had not to fangirl squee during that episode...\n",
      "\n",
      "Only if you have problems lasting.  Id rather cum in a girl than in my hand. \n",
      "\n",
      "Even if the kid may not be his, it sounds like he really loves his little girl because he raised her. Blood or not doesnt matter. A DNA test is such a bad idea because he could end up losing all visitation rights if he turns out he isnt the father, and I am pretty sure that would hurt the OP even more.  Also, from the sound of this lady, if there was any chance that he wasnt the father, she would have demanded a DNA test.\n",
      "\n"
     ]
    }
   ],
   "source": [
    "sample = gender_visible_df[(gender_visible_df.f_to_f == 1) &\n",
    "                           (gender_visible_df.responder_gender == 'M')].sample(3)\n",
    "\n",
    "for entry in sample.response_text:\n",
    "    print(entry)\n",
    "    print()"
   ]
  },
  {
   "cell_type": "markdown",
   "metadata": {},
   "source": [
    "Yes, they don't really seem to be addressing people as girl. Let's get rid of this:"
   ]
  },
  {
   "cell_type": "code",
   "execution_count": 12,
   "metadata": {},
   "outputs": [
    {
     "data": {
      "text/html": [
       "<div>\n",
       "<style scoped>\n",
       "    .dataframe tbody tr th:only-of-type {\n",
       "        vertical-align: middle;\n",
       "    }\n",
       "\n",
       "    .dataframe tbody tr th {\n",
       "        vertical-align: top;\n",
       "    }\n",
       "\n",
       "    .dataframe thead th {\n",
       "        text-align: right;\n",
       "    }\n",
       "</style>\n",
       "<table border=\"1\" class=\"dataframe\">\n",
       "  <thead>\n",
       "    <tr style=\"text-align: right;\">\n",
       "      <th></th>\n",
       "      <th></th>\n",
       "      <th>count</th>\n",
       "      <th>mean</th>\n",
       "      <th>std</th>\n",
       "      <th>min</th>\n",
       "      <th>25%</th>\n",
       "      <th>50%</th>\n",
       "      <th>75%</th>\n",
       "      <th>max</th>\n",
       "    </tr>\n",
       "    <tr>\n",
       "      <th>op_gender</th>\n",
       "      <th>responder_gender</th>\n",
       "      <th></th>\n",
       "      <th></th>\n",
       "      <th></th>\n",
       "      <th></th>\n",
       "      <th></th>\n",
       "      <th></th>\n",
       "      <th></th>\n",
       "      <th></th>\n",
       "    </tr>\n",
       "  </thead>\n",
       "  <tbody>\n",
       "    <tr>\n",
       "      <th rowspan=\"2\" valign=\"top\">M</th>\n",
       "      <th>M</th>\n",
       "      <td>124907.0</td>\n",
       "      <td>0.000769</td>\n",
       "      <td>0.027713</td>\n",
       "      <td>0.0</td>\n",
       "      <td>0.0</td>\n",
       "      <td>0.0</td>\n",
       "      <td>0.0</td>\n",
       "      <td>1.0</td>\n",
       "    </tr>\n",
       "    <tr>\n",
       "      <th>W</th>\n",
       "      <td>84324.0</td>\n",
       "      <td>0.000688</td>\n",
       "      <td>0.026218</td>\n",
       "      <td>0.0</td>\n",
       "      <td>0.0</td>\n",
       "      <td>0.0</td>\n",
       "      <td>0.0</td>\n",
       "      <td>1.0</td>\n",
       "    </tr>\n",
       "    <tr>\n",
       "      <th rowspan=\"2\" valign=\"top\">W</th>\n",
       "      <th>M</th>\n",
       "      <td>85059.0</td>\n",
       "      <td>0.000988</td>\n",
       "      <td>0.031410</td>\n",
       "      <td>0.0</td>\n",
       "      <td>0.0</td>\n",
       "      <td>0.0</td>\n",
       "      <td>0.0</td>\n",
       "      <td>1.0</td>\n",
       "    </tr>\n",
       "    <tr>\n",
       "      <th>W</th>\n",
       "      <td>47298.0</td>\n",
       "      <td>0.002262</td>\n",
       "      <td>0.047510</td>\n",
       "      <td>0.0</td>\n",
       "      <td>0.0</td>\n",
       "      <td>0.0</td>\n",
       "      <td>0.0</td>\n",
       "      <td>1.0</td>\n",
       "    </tr>\n",
       "  </tbody>\n",
       "</table>\n",
       "</div>"
      ],
      "text/plain": [
       "                               count      mean       std  min  25%  50%  75%  \\\n",
       "op_gender responder_gender                                                     \n",
       "M         M                 124907.0  0.000769  0.027713  0.0  0.0  0.0  0.0   \n",
       "          W                  84324.0  0.000688  0.026218  0.0  0.0  0.0  0.0   \n",
       "W         M                  85059.0  0.000988  0.031410  0.0  0.0  0.0  0.0   \n",
       "          W                  47298.0  0.002262  0.047510  0.0  0.0  0.0  0.0   \n",
       "\n",
       "                            max  \n",
       "op_gender responder_gender       \n",
       "M         M                 1.0  \n",
       "          W                 1.0  \n",
       "W         M                 1.0  \n",
       "          W                 1.0  "
      ]
     },
     "execution_count": 12,
     "metadata": {},
     "output_type": "execute_result"
    }
   ],
   "source": [
    "f_to_f = ['girly','girlie','chica']\n",
    "gender_visible_df['f_to_f'] = gender_visible_df.response_text.map(find_ftof)\n",
    "gender_visible_df.groupby(['op_gender', 'responder_gender']).f_to_f.describe()"
   ]
  },
  {
   "cell_type": "code",
   "execution_count": 13,
   "metadata": {},
   "outputs": [
    {
     "data": {
      "image/png": "[encoded data removed]",
      "text/plain": [
       "<Figure size 432x288 with 1 Axes>"
      ]
     },
     "metadata": {
      "needs_background": "light"
     },
     "output_type": "display_data"
    }
   ],
   "source": [
    "gender_visible_df.groupby(['op_gender', 'responder_gender']).f_to_f.mean().plot(kind='bar',\n",
    "                                            title='Occurrences of stereotypical female-to-female language')\n",
    "plt.show()"
   ]
  },
  {
   "cell_type": "markdown",
   "metadata": {},
   "source": [
    "So now there's way less occurrences of this female-to-female language, but it at least makes sense now.\n",
    "\n",
    "### Examining random words\n",
    "\n",
    "How about something like \"beautiful\"?"
   ]
  },
  {
   "cell_type": "code",
   "execution_count": 14,
   "metadata": {},
   "outputs": [
    {
     "data": {
      "image/png": "[encoded data removed]",
      "text/plain": [
       "<Figure size 432x288 with 1 Axes>"
      ]
     },
     "metadata": {
      "needs_background": "light"
     },
     "output_type": "display_data"
    },
    {
     "data": {
      "text/plain": [
       "op_gender  responder_gender\n",
       "M          M                   0.001465\n",
       "           W                   0.002526\n",
       "W          M                   0.003151\n",
       "           W                   0.004440\n",
       "dtype: float64"
      ]
     },
     "execution_count": 14,
     "metadata": {},
     "output_type": "execute_result"
    }
   ],
   "source": [
    "beautiful = gender_visible_df[gender_visible_df.response_text.str.contains('beautiful', case=False)]\n",
    "\n",
    "# need to divide to normalize\n",
    "(beautiful.groupby(['op_gender','responder_gender']).size() /\n",
    " gender_visible_df.groupby(['op_gender','responder_gender']).size()).plot(kind='bar',\n",
    "                                                                          title='Occurrences of \"beautiful\"')\n",
    "plt.show()\n",
    "\n",
    "(beautiful.groupby(['op_gender','responder_gender']).size() /\n",
    " gender_visible_df.groupby(['op_gender','responder_gender']).size())"
   ]
  },
  {
   "cell_type": "markdown",
   "metadata": {},
   "source": [
    "So it women call other women beautiful the most.\n",
    "\n",
    "Who uses \"sexy\"?"
   ]
  },
  {
   "cell_type": "code",
   "execution_count": 15,
   "metadata": {},
   "outputs": [
    {
     "data": {
      "image/png": "[encoded data removed]",
      "text/plain": [
       "<Figure size 432x288 with 1 Axes>"
      ]
     },
     "metadata": {
      "needs_background": "light"
     },
     "output_type": "display_data"
    },
    {
     "data": {
      "text/plain": [
       "op_gender  responder_gender\n",
       "M          M                   0.001505\n",
       "           W                   0.001921\n",
       "W          M                   0.002116\n",
       "           W                   0.001163\n",
       "dtype: float64"
      ]
     },
     "execution_count": 15,
     "metadata": {},
     "output_type": "execute_result"
    }
   ],
   "source": [
    "sexy = gender_visible_df[gender_visible_df.response_text.str.contains('sexy', case=False)]\n",
    "\n",
    "# need to divide to normalize\n",
    "(sexy.groupby(['op_gender','responder_gender']).size() /\n",
    " gender_visible_df.groupby(['op_gender','responder_gender']).size()).plot(kind='bar',\n",
    "                                                                          title='Occurrences of \"sexy\"')\n",
    "plt.show()\n",
    "\n",
    "(sexy.groupby(['op_gender','responder_gender']).size() /\n",
    " gender_visible_df.groupby(['op_gender','responder_gender']).size())"
   ]
  },
  {
   "cell_type": "markdown",
   "metadata": {},
   "source": [
    "This time, the most is male to female.\n",
    "\n",
    "How about saying \"good job\"?"
   ]
  },
  {
   "cell_type": "code",
   "execution_count": 16,
   "metadata": {},
   "outputs": [
    {
     "data": {
      "image/png": "[encoded data removed]",
      "text/plain": [
       "<Figure size 432x288 with 1 Axes>"
      ]
     },
     "metadata": {
      "needs_background": "light"
     },
     "output_type": "display_data"
    },
    {
     "data": {
      "text/plain": [
       "op_gender  responder_gender\n",
       "M          M                   0.001505\n",
       "           W                   0.001921\n",
       "W          M                   0.002116\n",
       "           W                   0.001163\n",
       "dtype: float64"
      ]
     },
     "execution_count": 16,
     "metadata": {},
     "output_type": "execute_result"
    }
   ],
   "source": [
    "good_job = gender_visible_df[gender_visible_df.response_text.str.contains('good job', case=False)]\n",
    "\n",
    "# need to divide to normalize\n",
    "(good_job.groupby(['op_gender','responder_gender']).size() /\n",
    " gender_visible_df.groupby(['op_gender','responder_gender']).size()).plot(kind='bar',\n",
    "                                                                          title='Occurrences of \"good job\"')\n",
    "plt.show()\n",
    "\n",
    "(sexy.groupby(['op_gender','responder_gender']).size() /\n",
    " gender_visible_df.groupby(['op_gender','responder_gender']).size())"
   ]
  },
  {
   "cell_type": "markdown",
   "metadata": {},
   "source": [
    "This time, the highest proportion is male to female, followed closely by female to female."
   ]
  },
  {
   "cell_type": "code",
   "execution_count": null,
   "metadata": {},
   "outputs": [],
   "source": []
  }
 ],
 "metadata": {
  "kernelspec": {
   "display_name": "Python 3",
   "language": "python",
   "name": "python3"
  },
  "language_info": {
   "codemirror_mode": {
    "name": "ipython",
    "version": 3
   },
   "file_extension": ".py",
   "mimetype": "text/x-python",
   "name": "python",
   "nbconvert_exporter": "python",
   "pygments_lexer": "ipython3",
   "version": "3.7.1"
  }
 },
 "nbformat": 4,
 "nbformat_minor": 2
}
