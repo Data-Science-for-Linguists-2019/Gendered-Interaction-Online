{
 "cells": [
  {
   "cell_type": "markdown",
   "metadata": {},
   "source": [
    "# Gender x Gender Analysis\n",
    "\n",
    "From the main analysis file, we have found some specifics of Gender x Gender in the use of hedges, but let's just try to examine some specific words just for fun! I will be basing this off of the [study](https://nlp.stanford.edu/robvoigt/rtgender/rtgender.pdf) that this data is from, where they did something similar.\n",
    "\n",
    "For this quick analysis, I'm going to examine some \"stereotypical\" words that I think people may use when interacting with different genders."
   ]
  },
  {
   "cell_type": "code",
   "execution_count": 1,
   "metadata": {},
   "outputs": [],
   "source": [
    "# import things\n",
    "import pickle\n",
    "import pandas as pd\n",
    "import numpy as np\n",
    "import seaborn as sns\n",
    "import matplotlib.pyplot as plt"
   ]
  },
  {
   "cell_type": "code",
   "execution_count": 2,
   "metadata": {},
   "outputs": [
    {
     "data": {
      "text/html": [
       "<div>\n",
       "<style scoped>\n",
       "    .dataframe tbody tr th:only-of-type {\n",
       "        vertical-align: middle;\n",
       "    }\n",
       "\n",
       "    .dataframe tbody tr th {\n",
       "        vertical-align: top;\n",
       "    }\n",
       "\n",
       "    .dataframe thead th {\n",
       "        text-align: right;\n",
       "    }\n",
       "</style>\n",
       "<table border=\"1\" class=\"dataframe\">\n",
       "  <thead>\n",
       "    <tr style=\"text-align: right;\">\n",
       "      <th></th>\n",
       "      <th>op_id</th>\n",
       "      <th>op_gender</th>\n",
       "      <th>responder_id</th>\n",
       "      <th>responder_gender</th>\n",
       "      <th>post_text</th>\n",
       "      <th>response_text</th>\n",
       "      <th>source</th>\n",
       "      <th>post_tokens</th>\n",
       "      <th>response_tokens</th>\n",
       "      <th>post_length</th>\n",
       "      <th>response_length</th>\n",
       "      <th>post_avg_slen</th>\n",
       "      <th>response_avg_slen</th>\n",
       "      <th>post_hedges</th>\n",
       "      <th>response_hedges</th>\n",
       "      <th>post_questions</th>\n",
       "      <th>response_questions</th>\n",
       "    </tr>\n",
       "  </thead>\n",
       "  <tbody>\n",
       "    <tr>\n",
       "      <th>335749</th>\n",
       "      <td>J_Mallory</td>\n",
       "      <td>M</td>\n",
       "      <td>Exactly_what_I_think</td>\n",
       "      <td>M</td>\n",
       "      <td>I agreed with you up until paternity confirmat...</td>\n",
       "      <td>Why should the man have no way of determining ...</td>\n",
       "      <td>reddit</td>\n",
       "      <td>[I, agreed, with, you, up, until, paternity, c...</td>\n",
       "      <td>[Why, should, the, man, have, no, way, of, det...</td>\n",
       "      <td>49</td>\n",
       "      <td>57</td>\n",
       "      <td>24.500000</td>\n",
       "      <td>14.25</td>\n",
       "      <td>0</td>\n",
       "      <td>0</td>\n",
       "      <td>0</td>\n",
       "      <td>0</td>\n",
       "    </tr>\n",
       "    <tr>\n",
       "      <th>24877</th>\n",
       "      <td>61228</td>\n",
       "      <td>M</td>\n",
       "      <td>39582</td>\n",
       "      <td>M</td>\n",
       "      <td>Hwy man, When are you going to post your next ...</td>\n",
       "      <td>Hey*</td>\n",
       "      <td>fitocracy</td>\n",
       "      <td>[Hwy, man, ,, When, are, you, going, to, post,...</td>\n",
       "      <td>[Hey*]</td>\n",
       "      <td>13</td>\n",
       "      <td>1</td>\n",
       "      <td>13.000000</td>\n",
       "      <td>1.00</td>\n",
       "      <td>0</td>\n",
       "      <td>0</td>\n",
       "      <td>0</td>\n",
       "      <td>0</td>\n",
       "    </tr>\n",
       "    <tr>\n",
       "      <th>336065</th>\n",
       "      <td>kandoras</td>\n",
       "      <td>M</td>\n",
       "      <td>allthe_gundams</td>\n",
       "      <td>M</td>\n",
       "      <td>Turns out it was the property of the SSgt in c...</td>\n",
       "      <td>Figures.</td>\n",
       "      <td>reddit</td>\n",
       "      <td>[Turns, out, it, was, the, property, of, the, ...</td>\n",
       "      <td>[Figures, .]</td>\n",
       "      <td>73</td>\n",
       "      <td>2</td>\n",
       "      <td>24.333333</td>\n",
       "      <td>2.00</td>\n",
       "      <td>0</td>\n",
       "      <td>0</td>\n",
       "      <td>0</td>\n",
       "      <td>0</td>\n",
       "    </tr>\n",
       "    <tr>\n",
       "      <th>228176</th>\n",
       "      <td>1018874</td>\n",
       "      <td>W</td>\n",
       "      <td>1646457</td>\n",
       "      <td>W</td>\n",
       "      <td>Thanks for the follow! Following right back lo...</td>\n",
       "      <td>Thanks! Great to see so many women on here kic...</td>\n",
       "      <td>fitocracy</td>\n",
       "      <td>[Thanks, for, the, follow, !, Following, right...</td>\n",
       "      <td>[Thanks, !, Great, to, see, so, many, women, o...</td>\n",
       "      <td>27</td>\n",
       "      <td>13</td>\n",
       "      <td>9.000000</td>\n",
       "      <td>6.50</td>\n",
       "      <td>0</td>\n",
       "      <td>0</td>\n",
       "      <td>0</td>\n",
       "      <td>0</td>\n",
       "    </tr>\n",
       "    <tr>\n",
       "      <th>80886</th>\n",
       "      <td>256801</td>\n",
       "      <td>W</td>\n",
       "      <td>256535</td>\n",
       "      <td>W</td>\n",
       "      <td>You're going to be awesome. Let me know if you...</td>\n",
       "      <td>I am trying to go up to the I-center mwf to wa...</td>\n",
       "      <td>fitocracy</td>\n",
       "      <td>[You, 're, going, to, be, awesome, ., Let, me,...</td>\n",
       "      <td>[I, am, trying, to, go, up, to, the, I-center,...</td>\n",
       "      <td>46</td>\n",
       "      <td>29</td>\n",
       "      <td>11.500000</td>\n",
       "      <td>29.00</td>\n",
       "      <td>0</td>\n",
       "      <td>0</td>\n",
       "      <td>0</td>\n",
       "      <td>0</td>\n",
       "    </tr>\n",
       "  </tbody>\n",
       "</table>\n",
       "</div>"
      ],
      "text/plain": [
       "            op_id op_gender          responder_id responder_gender  \\\n",
       "335749  J_Mallory         M  Exactly_what_I_think                M   \n",
       "24877       61228         M                 39582                M   \n",
       "336065   kandoras         M        allthe_gundams                M   \n",
       "228176    1018874         W               1646457                W   \n",
       "80886      256801         W                256535                W   \n",
       "\n",
       "                                                post_text  \\\n",
       "335749  I agreed with you up until paternity confirmat...   \n",
       "24877   Hwy man, When are you going to post your next ...   \n",
       "336065  Turns out it was the property of the SSgt in c...   \n",
       "228176  Thanks for the follow! Following right back lo...   \n",
       "80886   You're going to be awesome. Let me know if you...   \n",
       "\n",
       "                                            response_text     source  \\\n",
       "335749  Why should the man have no way of determining ...     reddit   \n",
       "24877                                                Hey*  fitocracy   \n",
       "336065                                           Figures.     reddit   \n",
       "228176  Thanks! Great to see so many women on here kic...  fitocracy   \n",
       "80886   I am trying to go up to the I-center mwf to wa...  fitocracy   \n",
       "\n",
       "                                              post_tokens  \\\n",
       "335749  [I, agreed, with, you, up, until, paternity, c...   \n",
       "24877   [Hwy, man, ,, When, are, you, going, to, post,...   \n",
       "336065  [Turns, out, it, was, the, property, of, the, ...   \n",
       "228176  [Thanks, for, the, follow, !, Following, right...   \n",
       "80886   [You, 're, going, to, be, awesome, ., Let, me,...   \n",
       "\n",
       "                                          response_tokens  post_length  \\\n",
       "335749  [Why, should, the, man, have, no, way, of, det...           49   \n",
       "24877                                              [Hey*]           13   \n",
       "336065                                       [Figures, .]           73   \n",
       "228176  [Thanks, !, Great, to, see, so, many, women, o...           27   \n",
       "80886   [I, am, trying, to, go, up, to, the, I-center,...           46   \n",
       "\n",
       "        response_length  post_avg_slen  response_avg_slen  post_hedges  \\\n",
       "335749               57      24.500000              14.25            0   \n",
       "24877                 1      13.000000               1.00            0   \n",
       "336065                2      24.333333               2.00            0   \n",
       "228176               13       9.000000               6.50            0   \n",
       "80886                29      11.500000              29.00            0   \n",
       "\n",
       "        response_hedges  post_questions  response_questions  \n",
       "335749                0               0                   0  \n",
       "24877                 0               0                   0  \n",
       "336065                0               0                   0  \n",
       "228176                0               0                   0  \n",
       "80886                 0               0                   0  "
      ]
     },
     "execution_count": 2,
     "metadata": {},
     "output_type": "execute_result"
    }
   ],
   "source": [
    "# look at df from when we know both genders\n",
    "# made up of fitocracy and some reddit\n",
    "gender_visible_df = pd.read_pickle(\"gender_visible_df.pkl\")\n",
    "gender_visible_df.sample(5)"
   ]
  },
  {
   "cell_type": "code",
   "execution_count": 3,
   "metadata": {},
   "outputs": [],
   "source": [
    "# stereotypical language\n",
    "m_to_m = ['bro','dude','man']\n",
    "f_to_f = ['girl','girly','girlie','chica'] # somewhat problematic... not as many that I can think of"
   ]
  },
  {
   "cell_type": "markdown",
   "metadata": {},
   "source": [
    "### Male to male"
   ]
  },
  {
   "cell_type": "code",
   "execution_count": 4,
   "metadata": {},
   "outputs": [],
   "source": [
    "def find_mtom(text):\n",
    "    text = text.lower()\n",
    "    if any(word in text for word in m_to_m):\n",
    "        return 1\n",
    "    else:\n",
    "        return 0\n",
    "    \n",
    "gender_visible_df['m_to_m'] = gender_visible_df.response_text.map(find_mtom)"
   ]
  },
  {
   "cell_type": "code",
   "execution_count": 5,
   "metadata": {},
   "outputs": [
    {
     "data": {
      "text/html": [
       "<div>\n",
       "<style scoped>\n",
       "    .dataframe tbody tr th:only-of-type {\n",
       "        vertical-align: middle;\n",
       "    }\n",
       "\n",
       "    .dataframe tbody tr th {\n",
       "        vertical-align: top;\n",
       "    }\n",
       "\n",
       "    .dataframe thead th {\n",
       "        text-align: right;\n",
       "    }\n",
       "</style>\n",
       "<table border=\"1\" class=\"dataframe\">\n",
       "  <thead>\n",
       "    <tr style=\"text-align: right;\">\n",
       "      <th></th>\n",
       "      <th></th>\n",
       "      <th>count</th>\n",
       "      <th>mean</th>\n",
       "      <th>std</th>\n",
       "      <th>min</th>\n",
       "      <th>25%</th>\n",
       "      <th>50%</th>\n",
       "      <th>75%</th>\n",
       "      <th>max</th>\n",
       "    </tr>\n",
       "    <tr>\n",
       "      <th>op_gender</th>\n",
       "      <th>responder_gender</th>\n",
       "      <th></th>\n",
       "      <th></th>\n",
       "      <th></th>\n",
       "      <th></th>\n",
       "      <th></th>\n",
       "      <th></th>\n",
       "      <th></th>\n",
       "      <th></th>\n",
       "    </tr>\n",
       "  </thead>\n",
       "  <tbody>\n",
       "    <tr>\n",
       "      <th rowspan=\"2\" valign=\"top\">M</th>\n",
       "      <th>M</th>\n",
       "      <td>129264.0</td>\n",
       "      <td>0.129332</td>\n",
       "      <td>0.335569</td>\n",
       "      <td>0.0</td>\n",
       "      <td>0.0</td>\n",
       "      <td>0.0</td>\n",
       "      <td>0.0</td>\n",
       "      <td>1.0</td>\n",
       "    </tr>\n",
       "    <tr>\n",
       "      <th>W</th>\n",
       "      <td>108075.0</td>\n",
       "      <td>0.040546</td>\n",
       "      <td>0.197237</td>\n",
       "      <td>0.0</td>\n",
       "      <td>0.0</td>\n",
       "      <td>0.0</td>\n",
       "      <td>0.0</td>\n",
       "      <td>1.0</td>\n",
       "    </tr>\n",
       "    <tr>\n",
       "      <th rowspan=\"2\" valign=\"top\">W</th>\n",
       "      <th>M</th>\n",
       "      <td>88375.0</td>\n",
       "      <td>0.042818</td>\n",
       "      <td>0.202447</td>\n",
       "      <td>0.0</td>\n",
       "      <td>0.0</td>\n",
       "      <td>0.0</td>\n",
       "      <td>0.0</td>\n",
       "      <td>1.0</td>\n",
       "    </tr>\n",
       "    <tr>\n",
       "      <th>W</th>\n",
       "      <td>71052.0</td>\n",
       "      <td>0.020900</td>\n",
       "      <td>0.143051</td>\n",
       "      <td>0.0</td>\n",
       "      <td>0.0</td>\n",
       "      <td>0.0</td>\n",
       "      <td>0.0</td>\n",
       "      <td>1.0</td>\n",
       "    </tr>\n",
       "  </tbody>\n",
       "</table>\n",
       "</div>"
      ],
      "text/plain": [
       "                               count      mean       std  min  25%  50%  75%  \\\n",
       "op_gender responder_gender                                                     \n",
       "M         M                 129264.0  0.129332  0.335569  0.0  0.0  0.0  0.0   \n",
       "          W                 108075.0  0.040546  0.197237  0.0  0.0  0.0  0.0   \n",
       "W         M                  88375.0  0.042818  0.202447  0.0  0.0  0.0  0.0   \n",
       "          W                  71052.0  0.020900  0.143051  0.0  0.0  0.0  0.0   \n",
       "\n",
       "                            max  \n",
       "op_gender responder_gender       \n",
       "M         M                 1.0  \n",
       "          W                 1.0  \n",
       "W         M                 1.0  \n",
       "          W                 1.0  "
      ]
     },
     "execution_count": 5,
     "metadata": {},
     "output_type": "execute_result"
    }
   ],
   "source": [
    "gender_visible_df.groupby(['op_gender', 'responder_gender']).m_to_m.describe()"
   ]
  },
  {
   "cell_type": "code",
   "execution_count": 6,
   "metadata": {},
   "outputs": [
    {
     "data": {
      "image/png": "[encoded data removed]",
      "text/plain": [
       "<Figure size 432x288 with 1 Axes>"
      ]
     },
     "metadata": {
      "needs_background": "light"
     },
     "output_type": "display_data"
    }
   ],
   "source": [
    "gender_visible_df.groupby(['op_gender', 'responder_gender']).m_to_m.mean().plot(kind='bar',\n",
    "                                        title='Occurrences of stereotypical male-to-male language')\n",
    "plt.show()"
   ]
  },
  {
   "cell_type": "markdown",
   "metadata": {},
   "source": [
    "As we can see, 'bro', 'dude', and 'man' are much more widely used in a male-to-male context.\n",
    "\n",
    "### Female to female"
   ]
  },
  {
   "cell_type": "code",
   "execution_count": 7,
   "metadata": {},
   "outputs": [],
   "source": [
    "def find_ftof(text):\n",
    "    text = text.lower()\n",
    "    if any(word in text for word in f_to_f):\n",
    "        return 1\n",
    "    else:\n",
    "        return 0\n",
    "\n",
    "gender_visible_df['f_to_f'] = gender_visible_df.response_text.map(find_ftof)"
   ]
  },
  {
   "cell_type": "code",
   "execution_count": 8,
   "metadata": {},
   "outputs": [
    {
     "data": {
      "text/html": [
       "<div>\n",
       "<style scoped>\n",
       "    .dataframe tbody tr th:only-of-type {\n",
       "        vertical-align: middle;\n",
       "    }\n",
       "\n",
       "    .dataframe tbody tr th {\n",
       "        vertical-align: top;\n",
       "    }\n",
       "\n",
       "    .dataframe thead th {\n",
       "        text-align: right;\n",
       "    }\n",
       "</style>\n",
       "<table border=\"1\" class=\"dataframe\">\n",
       "  <thead>\n",
       "    <tr style=\"text-align: right;\">\n",
       "      <th></th>\n",
       "      <th></th>\n",
       "      <th>count</th>\n",
       "      <th>mean</th>\n",
       "      <th>std</th>\n",
       "      <th>min</th>\n",
       "      <th>25%</th>\n",
       "      <th>50%</th>\n",
       "      <th>75%</th>\n",
       "      <th>max</th>\n",
       "    </tr>\n",
       "    <tr>\n",
       "      <th>op_gender</th>\n",
       "      <th>responder_gender</th>\n",
       "      <th></th>\n",
       "      <th></th>\n",
       "      <th></th>\n",
       "      <th></th>\n",
       "      <th></th>\n",
       "      <th></th>\n",
       "      <th></th>\n",
       "      <th></th>\n",
       "    </tr>\n",
       "  </thead>\n",
       "  <tbody>\n",
       "    <tr>\n",
       "      <th rowspan=\"2\" valign=\"top\">M</th>\n",
       "      <th>M</th>\n",
       "      <td>129264.0</td>\n",
       "      <td>0.022148</td>\n",
       "      <td>0.147167</td>\n",
       "      <td>0.0</td>\n",
       "      <td>0.0</td>\n",
       "      <td>0.0</td>\n",
       "      <td>0.0</td>\n",
       "      <td>1.0</td>\n",
       "    </tr>\n",
       "    <tr>\n",
       "      <th>W</th>\n",
       "      <td>108075.0</td>\n",
       "      <td>0.010844</td>\n",
       "      <td>0.103570</td>\n",
       "      <td>0.0</td>\n",
       "      <td>0.0</td>\n",
       "      <td>0.0</td>\n",
       "      <td>0.0</td>\n",
       "      <td>1.0</td>\n",
       "    </tr>\n",
       "    <tr>\n",
       "      <th rowspan=\"2\" valign=\"top\">W</th>\n",
       "      <th>M</th>\n",
       "      <td>88375.0</td>\n",
       "      <td>0.017878</td>\n",
       "      <td>0.132510</td>\n",
       "      <td>0.0</td>\n",
       "      <td>0.0</td>\n",
       "      <td>0.0</td>\n",
       "      <td>0.0</td>\n",
       "      <td>1.0</td>\n",
       "    </tr>\n",
       "    <tr>\n",
       "      <th>W</th>\n",
       "      <td>71052.0</td>\n",
       "      <td>0.012245</td>\n",
       "      <td>0.109976</td>\n",
       "      <td>0.0</td>\n",
       "      <td>0.0</td>\n",
       "      <td>0.0</td>\n",
       "      <td>0.0</td>\n",
       "      <td>1.0</td>\n",
       "    </tr>\n",
       "  </tbody>\n",
       "</table>\n",
       "</div>"
      ],
      "text/plain": [
       "                               count      mean       std  min  25%  50%  75%  \\\n",
       "op_gender responder_gender                                                     \n",
       "M         M                 129264.0  0.022148  0.147167  0.0  0.0  0.0  0.0   \n",
       "          W                 108075.0  0.010844  0.103570  0.0  0.0  0.0  0.0   \n",
       "W         M                  88375.0  0.017878  0.132510  0.0  0.0  0.0  0.0   \n",
       "          W                  71052.0  0.012245  0.109976  0.0  0.0  0.0  0.0   \n",
       "\n",
       "                            max  \n",
       "op_gender responder_gender       \n",
       "M         M                 1.0  \n",
       "          W                 1.0  \n",
       "W         M                 1.0  \n",
       "          W                 1.0  "
      ]
     },
     "execution_count": 8,
     "metadata": {},
     "output_type": "execute_result"
    }
   ],
   "source": [
    "gender_visible_df.groupby(['op_gender', 'responder_gender']).f_to_f.describe()"
   ]
  },
  {
   "cell_type": "code",
   "execution_count": 9,
   "metadata": {},
   "outputs": [
    {
     "data": {
      "image/png": "[encoded data removed]",
      "text/plain": [
       "<Figure size 432x288 with 1 Axes>"
      ]
     },
     "metadata": {
      "needs_background": "light"
     },
     "output_type": "display_data"
    }
   ],
   "source": [
    "gender_visible_df.groupby(['op_gender', 'responder_gender']).f_to_f.mean().plot(kind='bar')\n",
    "plt.show()"
   ]
  },
  {
   "cell_type": "markdown",
   "metadata": {},
   "source": [
    "Hm... these aren't really the results I'd like to see. Why are male responders using this seemingly female-to-female language so much more? Maybe they're using the word \"girl\" to talk about girls instead of address people as girls."
   ]
  },
  {
   "cell_type": "code",
   "execution_count": 10,
   "metadata": {},
   "outputs": [
    {
     "name": "stdout",
     "output_type": "stream",
     "text": [
      "YEAH TAKE THAT GIRLS WE DONT WANT YOUR COOTIES\n",
      "\n",
      "Good luck on your road to recovery! Take things slow and listen to your body. You GOT this girl!\n",
      "\n",
      "Hey girl hey!\n",
      "\n"
     ]
    }
   ],
   "source": [
    "sample = gender_visible_df[(gender_visible_df.f_to_f == 1) &\n",
    "                           (gender_visible_df.responder_gender == 'M')].sample(3)\n",
    "\n",
    "for entry in sample.response_text:\n",
    "    print(entry)\n",
    "    print()"
   ]
  },
  {
   "cell_type": "markdown",
   "metadata": {},
   "source": [
    "Yes, they don't really seem to be addressing people as girl. Let's get rid of this:"
   ]
  },
  {
   "cell_type": "code",
   "execution_count": 11,
   "metadata": {},
   "outputs": [
    {
     "data": {
      "text/html": [
       "<div>\n",
       "<style scoped>\n",
       "    .dataframe tbody tr th:only-of-type {\n",
       "        vertical-align: middle;\n",
       "    }\n",
       "\n",
       "    .dataframe tbody tr th {\n",
       "        vertical-align: top;\n",
       "    }\n",
       "\n",
       "    .dataframe thead th {\n",
       "        text-align: right;\n",
       "    }\n",
       "</style>\n",
       "<table border=\"1\" class=\"dataframe\">\n",
       "  <thead>\n",
       "    <tr style=\"text-align: right;\">\n",
       "      <th></th>\n",
       "      <th></th>\n",
       "      <th>count</th>\n",
       "      <th>mean</th>\n",
       "      <th>std</th>\n",
       "      <th>min</th>\n",
       "      <th>25%</th>\n",
       "      <th>50%</th>\n",
       "      <th>75%</th>\n",
       "      <th>max</th>\n",
       "    </tr>\n",
       "    <tr>\n",
       "      <th>op_gender</th>\n",
       "      <th>responder_gender</th>\n",
       "      <th></th>\n",
       "      <th></th>\n",
       "      <th></th>\n",
       "      <th></th>\n",
       "      <th></th>\n",
       "      <th></th>\n",
       "      <th></th>\n",
       "      <th></th>\n",
       "    </tr>\n",
       "  </thead>\n",
       "  <tbody>\n",
       "    <tr>\n",
       "      <th rowspan=\"2\" valign=\"top\">M</th>\n",
       "      <th>M</th>\n",
       "      <td>129264.0</td>\n",
       "      <td>0.000743</td>\n",
       "      <td>0.027242</td>\n",
       "      <td>0.0</td>\n",
       "      <td>0.0</td>\n",
       "      <td>0.0</td>\n",
       "      <td>0.0</td>\n",
       "      <td>1.0</td>\n",
       "    </tr>\n",
       "    <tr>\n",
       "      <th>W</th>\n",
       "      <td>108075.0</td>\n",
       "      <td>0.000537</td>\n",
       "      <td>0.023160</td>\n",
       "      <td>0.0</td>\n",
       "      <td>0.0</td>\n",
       "      <td>0.0</td>\n",
       "      <td>0.0</td>\n",
       "      <td>1.0</td>\n",
       "    </tr>\n",
       "    <tr>\n",
       "      <th rowspan=\"2\" valign=\"top\">W</th>\n",
       "      <th>M</th>\n",
       "      <td>88375.0</td>\n",
       "      <td>0.000950</td>\n",
       "      <td>0.030816</td>\n",
       "      <td>0.0</td>\n",
       "      <td>0.0</td>\n",
       "      <td>0.0</td>\n",
       "      <td>0.0</td>\n",
       "      <td>1.0</td>\n",
       "    </tr>\n",
       "    <tr>\n",
       "      <th>W</th>\n",
       "      <td>71052.0</td>\n",
       "      <td>0.001506</td>\n",
       "      <td>0.038777</td>\n",
       "      <td>0.0</td>\n",
       "      <td>0.0</td>\n",
       "      <td>0.0</td>\n",
       "      <td>0.0</td>\n",
       "      <td>1.0</td>\n",
       "    </tr>\n",
       "  </tbody>\n",
       "</table>\n",
       "</div>"
      ],
      "text/plain": [
       "                               count      mean       std  min  25%  50%  75%  \\\n",
       "op_gender responder_gender                                                     \n",
       "M         M                 129264.0  0.000743  0.027242  0.0  0.0  0.0  0.0   \n",
       "          W                 108075.0  0.000537  0.023160  0.0  0.0  0.0  0.0   \n",
       "W         M                  88375.0  0.000950  0.030816  0.0  0.0  0.0  0.0   \n",
       "          W                  71052.0  0.001506  0.038777  0.0  0.0  0.0  0.0   \n",
       "\n",
       "                            max  \n",
       "op_gender responder_gender       \n",
       "M         M                 1.0  \n",
       "          W                 1.0  \n",
       "W         M                 1.0  \n",
       "          W                 1.0  "
      ]
     },
     "execution_count": 11,
     "metadata": {},
     "output_type": "execute_result"
    }
   ],
   "source": [
    "f_to_f = ['girly','girlie','chica']\n",
    "gender_visible_df['f_to_f'] = gender_visible_df.response_text.map(find_ftof)\n",
    "gender_visible_df.groupby(['op_gender', 'responder_gender']).f_to_f.describe()"
   ]
  },
  {
   "cell_type": "code",
   "execution_count": 12,
   "metadata": {},
   "outputs": [
    {
     "data": {
      "image/png": "[encoded data removed]",
      "text/plain": [
       "<Figure size 432x288 with 1 Axes>"
      ]
     },
     "metadata": {
      "needs_background": "light"
     },
     "output_type": "display_data"
    }
   ],
   "source": [
    "gender_visible_df.groupby(['op_gender', 'responder_gender']).f_to_f.mean().plot(kind='bar',\n",
    "                                            title='Occurrences of stereotypical female-to-female language')\n",
    "plt.show()"
   ]
  },
  {
   "cell_type": "markdown",
   "metadata": {},
   "source": [
    "So now there's way less occurrences of this female-to-female language, but it at least makes sense now.\n",
    "\n",
    "### Examining random words\n",
    "\n",
    "How about something like \"beautiful\"?"
   ]
  },
  {
   "cell_type": "code",
   "execution_count": 13,
   "metadata": {},
   "outputs": [
    {
     "data": {
      "image/png": "[encoded data removed]",
      "text/plain": [
       "<Figure size 432x288 with 1 Axes>"
      ]
     },
     "metadata": {
      "needs_background": "light"
     },
     "output_type": "display_data"
    },
    {
     "data": {
      "text/plain": [
       "op_gender  responder_gender\n",
       "M          M                   0.001423\n",
       "           W                   0.001980\n",
       "W          M                   0.003044\n",
       "           W                   0.003026\n",
       "dtype: float64"
      ]
     },
     "execution_count": 13,
     "metadata": {},
     "output_type": "execute_result"
    }
   ],
   "source": [
    "beautiful = gender_visible_df[gender_visible_df.response_text.str.contains('beautiful', case=False)]\n",
    "\n",
    "# need to divide to normalize\n",
    "(beautiful.groupby(['op_gender','responder_gender']).size() /\n",
    " gender_visible_df.groupby(['op_gender','responder_gender']).size()).plot(kind='bar',\n",
    "                                                                          title='Occurrences of \"beautiful\"')\n",
    "plt.show()\n",
    "\n",
    "(beautiful.groupby(['op_gender','responder_gender']).size() /\n",
    " gender_visible_df.groupby(['op_gender','responder_gender']).size())"
   ]
  },
  {
   "cell_type": "markdown",
   "metadata": {},
   "source": [
    "So it seems men call women beautiful the most, which is shortly followed by women to women.\n",
    "\n",
    "Who uses \"sexy\"?"
   ]
  },
  {
   "cell_type": "code",
   "execution_count": 14,
   "metadata": {},
   "outputs": [
    {
     "data": {
      "image/png": "[encoded data removed]",
      "text/plain": [
       "<Figure size 432x288 with 1 Axes>"
      ]
     },
     "metadata": {
      "needs_background": "light"
     },
     "output_type": "display_data"
    },
    {
     "data": {
      "text/plain": [
       "op_gender  responder_gender\n",
       "M          M                   0.001462\n",
       "           W                   0.001508\n",
       "W          M                   0.002048\n",
       "           W                   0.000788\n",
       "dtype: float64"
      ]
     },
     "execution_count": 14,
     "metadata": {},
     "output_type": "execute_result"
    }
   ],
   "source": [
    "sexy = gender_visible_df[gender_visible_df.response_text.str.contains('sexy', case=False)]\n",
    "\n",
    "# need to divide to normalize\n",
    "(sexy.groupby(['op_gender','responder_gender']).size() /\n",
    " gender_visible_df.groupby(['op_gender','responder_gender']).size()).plot(kind='bar',\n",
    "                                                                          title='Occurrences of \"sexy\"')\n",
    "plt.show()\n",
    "\n",
    "(sexy.groupby(['op_gender','responder_gender']).size() /\n",
    " gender_visible_df.groupby(['op_gender','responder_gender']).size())"
   ]
  },
  {
   "cell_type": "markdown",
   "metadata": {},
   "source": [
    "The most is yet again male to female."
   ]
  },
  {
   "cell_type": "code",
   "execution_count": 15,
   "metadata": {},
   "outputs": [
    {
     "data": {
      "image/png": "[encoded data removed]",
      "text/plain": [
       "<Figure size 432x288 with 1 Axes>"
      ]
     },
     "metadata": {
      "needs_background": "light"
     },
     "output_type": "display_data"
    },
    {
     "data": {
      "text/plain": [
       "op_gender  responder_gender\n",
       "M          M                   0.001462\n",
       "           W                   0.001508\n",
       "W          M                   0.002048\n",
       "           W                   0.000788\n",
       "dtype: float64"
      ]
     },
     "execution_count": 15,
     "metadata": {},
     "output_type": "execute_result"
    }
   ],
   "source": [
    "good_job = gender_visible_df[gender_visible_df.response_text.str.contains('good job', case=False)]\n",
    "\n",
    "# need to divide to normalize\n",
    "(good_job.groupby(['op_gender','responder_gender']).size() /\n",
    " gender_visible_df.groupby(['op_gender','responder_gender']).size()).plot(kind='bar',\n",
    "                                                                          title='Occurrences of \"good job\"')\n",
    "plt.show()\n",
    "\n",
    "(sexy.groupby(['op_gender','responder_gender']).size() /\n",
    " gender_visible_df.groupby(['op_gender','responder_gender']).size())"
   ]
  },
  {
   "cell_type": "code",
   "execution_count": null,
   "metadata": {},
   "outputs": [],
   "source": []
  }
 ],
 "metadata": {
  "kernelspec": {
   "display_name": "Python 3",
   "language": "python",
   "name": "python3"
  },
  "language_info": {
   "codemirror_mode": {
    "name": "ipython",
    "version": 3
   },
   "file_extension": ".py",
   "mimetype": "text/x-python",
   "name": "python",
   "nbconvert_exporter": "python",
   "pygments_lexer": "ipython3",
   "version": "3.7.1"
  }
 },
 "nbformat": 4,
 "nbformat_minor": 2
}
