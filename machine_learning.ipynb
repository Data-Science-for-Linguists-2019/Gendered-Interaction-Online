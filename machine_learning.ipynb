{
 "cells": [
  {
   "cell_type": "markdown",
   "metadata": {},
   "source": [
    "# Machine Learning\n",
    "\n",
    "Now, onto the fun stuff! Let's get our DataFrames again:"
   ]
  },
  {
   "cell_type": "code",
   "execution_count": 1,
   "metadata": {},
   "outputs": [],
   "source": [
    "# import things\n",
    "import pickle\n",
    "import pandas as pd\n",
    "import numpy as np\n",
    "import seaborn as sns\n",
    "import matplotlib.pyplot as plt"
   ]
  },
  {
   "cell_type": "markdown",
   "metadata": {},
   "source": [
    "## Posts and responses all together, with known genders\n",
    "This dataframe will be used to predict gender, regardless of whether they were the poster or responder."
   ]
  },
  {
   "cell_type": "code",
   "execution_count": 2,
   "metadata": {},
   "outputs": [
    {
     "data": {
      "text/html": [
       "<div>\n",
       "<style scoped>\n",
       "    .dataframe tbody tr th:only-of-type {\n",
       "        vertical-align: middle;\n",
       "    }\n",
       "\n",
       "    .dataframe tbody tr th {\n",
       "        vertical-align: top;\n",
       "    }\n",
       "\n",
       "    .dataframe thead th {\n",
       "        text-align: right;\n",
       "    }\n",
       "</style>\n",
       "<table border=\"1\" class=\"dataframe\">\n",
       "  <thead>\n",
       "    <tr style=\"text-align: right;\">\n",
       "      <th></th>\n",
       "      <th>gender</th>\n",
       "      <th>text</th>\n",
       "      <th>text_length</th>\n",
       "      <th>avg_slen</th>\n",
       "      <th>hedges</th>\n",
       "      <th>questions</th>\n",
       "      <th>source</th>\n",
       "    </tr>\n",
       "  </thead>\n",
       "  <tbody>\n",
       "    <tr>\n",
       "      <th>0</th>\n",
       "      <td>M</td>\n",
       "      <td>Roses are red...and so is Texas. Let's keep it...</td>\n",
       "      <td>23</td>\n",
       "      <td>7.666667</td>\n",
       "      <td>0</td>\n",
       "      <td>0</td>\n",
       "      <td>fb_congress_post</td>\n",
       "    </tr>\n",
       "    <tr>\n",
       "      <th>1</th>\n",
       "      <td>M</td>\n",
       "      <td>Since President Donald J. Trump was sworn in o...</td>\n",
       "      <td>69</td>\n",
       "      <td>13.800000</td>\n",
       "      <td>0</td>\n",
       "      <td>0</td>\n",
       "      <td>fb_congress_post</td>\n",
       "    </tr>\n",
       "    <tr>\n",
       "      <th>2</th>\n",
       "      <td>M</td>\n",
       "      <td>In Texas, we honor our military heroes. #Chris...</td>\n",
       "      <td>11</td>\n",
       "      <td>5.500000</td>\n",
       "      <td>0</td>\n",
       "      <td>0</td>\n",
       "      <td>fb_congress_post</td>\n",
       "    </tr>\n",
       "    <tr>\n",
       "      <th>3</th>\n",
       "      <td>M</td>\n",
       "      <td>Since its inception, Obamacare has been an abs...</td>\n",
       "      <td>28</td>\n",
       "      <td>9.333333</td>\n",
       "      <td>0</td>\n",
       "      <td>0</td>\n",
       "      <td>fb_congress_post</td>\n",
       "    </tr>\n",
       "    <tr>\n",
       "      <th>4</th>\n",
       "      <td>M</td>\n",
       "      <td>Shameful.</td>\n",
       "      <td>2</td>\n",
       "      <td>2.000000</td>\n",
       "      <td>0</td>\n",
       "      <td>0</td>\n",
       "      <td>fb_congress_post</td>\n",
       "    </tr>\n",
       "  </tbody>\n",
       "</table>\n",
       "</div>"
      ],
      "text/plain": [
       "  gender                                               text  text_length  \\\n",
       "0      M  Roses are red...and so is Texas. Let's keep it...           23   \n",
       "1      M  Since President Donald J. Trump was sworn in o...           69   \n",
       "2      M  In Texas, we honor our military heroes. #Chris...           11   \n",
       "3      M  Since its inception, Obamacare has been an abs...           28   \n",
       "4      M                                          Shameful.            2   \n",
       "\n",
       "    avg_slen  hedges  questions            source  \n",
       "0   7.666667       0          0  fb_congress_post  \n",
       "1  13.800000       0          0  fb_congress_post  \n",
       "2   5.500000       0          0  fb_congress_post  \n",
       "3   9.333333       0          0  fb_congress_post  \n",
       "4   2.000000       0          0  fb_congress_post  "
      ]
     },
     "execution_count": 2,
     "metadata": {},
     "output_type": "execute_result"
    }
   ],
   "source": [
    "all_posts_responses = pd.read_pickle(\"all_posts_responses.pkl\")\n",
    "all_posts_responses.head()"
   ]
  },
  {
   "cell_type": "code",
   "execution_count": 3,
   "metadata": {},
   "outputs": [
    {
     "data": {
      "text/plain": [
       "M    121099\n",
       "W     80167\n",
       "Name: gender, dtype: int64"
      ]
     },
     "execution_count": 3,
     "metadata": {},
     "output_type": "execute_result"
    }
   ],
   "source": [
    "# gender distribution\n",
    "all_posts_responses.gender.value_counts()"
   ]
  },
  {
   "cell_type": "code",
   "execution_count": 4,
   "metadata": {},
   "outputs": [
    {
     "data": {
      "text/html": [
       "<div>\n",
       "<style scoped>\n",
       "    .dataframe tbody tr th:only-of-type {\n",
       "        vertical-align: middle;\n",
       "    }\n",
       "\n",
       "    .dataframe tbody tr th {\n",
       "        vertical-align: top;\n",
       "    }\n",
       "\n",
       "    .dataframe thead th {\n",
       "        text-align: right;\n",
       "    }\n",
       "</style>\n",
       "<table border=\"1\" class=\"dataframe\">\n",
       "  <thead>\n",
       "    <tr style=\"text-align: right;\">\n",
       "      <th></th>\n",
       "      <th>text_length</th>\n",
       "      <th>avg_slen</th>\n",
       "      <th>hedges</th>\n",
       "    </tr>\n",
       "    <tr>\n",
       "      <th>gender</th>\n",
       "      <th></th>\n",
       "      <th></th>\n",
       "      <th></th>\n",
       "    </tr>\n",
       "  </thead>\n",
       "  <tbody>\n",
       "    <tr>\n",
       "      <th>M</th>\n",
       "      <td>33.207285</td>\n",
       "      <td>12.217391</td>\n",
       "      <td>0.057763</td>\n",
       "    </tr>\n",
       "    <tr>\n",
       "      <th>W</th>\n",
       "      <td>34.321666</td>\n",
       "      <td>12.181692</td>\n",
       "      <td>0.042249</td>\n",
       "    </tr>\n",
       "  </tbody>\n",
       "</table>\n",
       "</div>"
      ],
      "text/plain": [
       "        text_length   avg_slen    hedges\n",
       "gender                                  \n",
       "M         33.207285  12.217391  0.057763\n",
       "W         34.321666  12.181692  0.042249"
      ]
     },
     "execution_count": 4,
     "metadata": {},
     "output_type": "execute_result"
    }
   ],
   "source": [
    "# group by gender\n",
    "all_posts_responses.groupby('gender')['text_length', 'avg_slen', 'hedges'].mean()"
   ]
  },
  {
   "cell_type": "markdown",
   "metadata": {},
   "source": [
    "All of these stats are very similar, regardless of gender (even the hedges, which I predicted would be more prominent in female posters). This makes me believe that simply looking at text would be our best bet here.\n",
    "\n",
    "## Responses to posts, genders visible\n",
    "This dataframe will be used to predict gender of poster and responder, based on responder's reaction."
   ]
  },
  {
   "cell_type": "code",
   "execution_count": 5,
   "metadata": {},
   "outputs": [
    {
     "data": {
      "text/html": [
       "<div>\n",
       "<style scoped>\n",
       "    .dataframe tbody tr th:only-of-type {\n",
       "        vertical-align: middle;\n",
       "    }\n",
       "\n",
       "    .dataframe tbody tr th {\n",
       "        vertical-align: top;\n",
       "    }\n",
       "\n",
       "    .dataframe thead th {\n",
       "        text-align: right;\n",
       "    }\n",
       "</style>\n",
       "<table border=\"1\" class=\"dataframe\">\n",
       "  <thead>\n",
       "    <tr style=\"text-align: right;\">\n",
       "      <th></th>\n",
       "      <th>op_id</th>\n",
       "      <th>op_gender</th>\n",
       "      <th>responder_id</th>\n",
       "      <th>responder_gender</th>\n",
       "      <th>post_text</th>\n",
       "      <th>response_text</th>\n",
       "      <th>source</th>\n",
       "      <th>post_tokens</th>\n",
       "      <th>response_tokens</th>\n",
       "      <th>post_length</th>\n",
       "      <th>response_length</th>\n",
       "      <th>post_avg_slen</th>\n",
       "      <th>response_avg_slen</th>\n",
       "      <th>post_hedges</th>\n",
       "      <th>response_hedges</th>\n",
       "      <th>post_questions</th>\n",
       "      <th>response_questions</th>\n",
       "    </tr>\n",
       "  </thead>\n",
       "  <tbody>\n",
       "    <tr>\n",
       "      <th>0</th>\n",
       "      <td>102</td>\n",
       "      <td>W</td>\n",
       "      <td>1196122</td>\n",
       "      <td>M</td>\n",
       "      <td>Thanks for the follow!  I followed back :)  I ...</td>\n",
       "      <td>One day at a time! =]</td>\n",
       "      <td>fitocracy</td>\n",
       "      <td>[Thanks, for, the, follow, !, I, followed, bac...</td>\n",
       "      <td>[One, day, at, a, time, !, =, ]]</td>\n",
       "      <td>25</td>\n",
       "      <td>8</td>\n",
       "      <td>12.5</td>\n",
       "      <td>4.000000</td>\n",
       "      <td>0</td>\n",
       "      <td>0</td>\n",
       "      <td>0</td>\n",
       "      <td>0</td>\n",
       "    </tr>\n",
       "    <tr>\n",
       "      <th>1</th>\n",
       "      <td>104</td>\n",
       "      <td>W</td>\n",
       "      <td>5867</td>\n",
       "      <td>W</td>\n",
       "      <td>I've decided I have this crazy goal of running...</td>\n",
       "      <td>Crazy is synonymous with awesome in this case.</td>\n",
       "      <td>fitocracy</td>\n",
       "      <td>[I, 've, decided, I, have, this, crazy, goal, ...</td>\n",
       "      <td>[Crazy, is, synonymous, with, awesome, in, thi...</td>\n",
       "      <td>13</td>\n",
       "      <td>9</td>\n",
       "      <td>13.0</td>\n",
       "      <td>9.000000</td>\n",
       "      <td>0</td>\n",
       "      <td>0</td>\n",
       "      <td>0</td>\n",
       "      <td>0</td>\n",
       "    </tr>\n",
       "    <tr>\n",
       "      <th>2</th>\n",
       "      <td>104</td>\n",
       "      <td>W</td>\n",
       "      <td>1635</td>\n",
       "      <td>M</td>\n",
       "      <td>Umm, yeah, so those are assisted pull-ups. Bef...</td>\n",
       "      <td>You can enter assisted pullups. Select pullups...</td>\n",
       "      <td>fitocracy</td>\n",
       "      <td>[Umm, ,, yeah, ,, so, those, are, assisted, pu...</td>\n",
       "      <td>[You, can, enter, assisted, pullups, ., Select...</td>\n",
       "      <td>19</td>\n",
       "      <td>57</td>\n",
       "      <td>9.5</td>\n",
       "      <td>11.400000</td>\n",
       "      <td>0</td>\n",
       "      <td>0</td>\n",
       "      <td>0</td>\n",
       "      <td>0</td>\n",
       "    </tr>\n",
       "    <tr>\n",
       "      <th>3</th>\n",
       "      <td>117</td>\n",
       "      <td>M</td>\n",
       "      <td>8520</td>\n",
       "      <td>W</td>\n",
       "      <td>dam gurl lookin mad tone in dat pp holla bb</td>\n",
       "      <td>Mirin 3% bodyfat? Yeah, you are.</td>\n",
       "      <td>fitocracy</td>\n",
       "      <td>[dam, gurl, lookin, mad, tone, in, dat, pp, ho...</td>\n",
       "      <td>[Mirin, 3, %, bodyfat, ?, Yeah, ,, you, are, .]</td>\n",
       "      <td>10</td>\n",
       "      <td>10</td>\n",
       "      <td>10.0</td>\n",
       "      <td>5.000000</td>\n",
       "      <td>0</td>\n",
       "      <td>0</td>\n",
       "      <td>0</td>\n",
       "      <td>0</td>\n",
       "    </tr>\n",
       "    <tr>\n",
       "      <th>4</th>\n",
       "      <td>117</td>\n",
       "      <td>M</td>\n",
       "      <td>29126</td>\n",
       "      <td>M</td>\n",
       "      <td>What's up there bear mode?</td>\n",
       "      <td>Hey! I just started a new job, so things are s...</td>\n",
       "      <td>fitocracy</td>\n",
       "      <td>[What, 's, up, there, bear, mode, ?]</td>\n",
       "      <td>[Hey, !, I, just, started, a, new, job, ,, so,...</td>\n",
       "      <td>7</td>\n",
       "      <td>26</td>\n",
       "      <td>7.0</td>\n",
       "      <td>8.666667</td>\n",
       "      <td>0</td>\n",
       "      <td>0</td>\n",
       "      <td>0</td>\n",
       "      <td>0</td>\n",
       "    </tr>\n",
       "  </tbody>\n",
       "</table>\n",
       "</div>"
      ],
      "text/plain": [
       "  op_id op_gender responder_id responder_gender  \\\n",
       "0   102         W      1196122                M   \n",
       "1   104         W         5867                W   \n",
       "2   104         W         1635                M   \n",
       "3   117         M         8520                W   \n",
       "4   117         M        29126                M   \n",
       "\n",
       "                                           post_text  \\\n",
       "0  Thanks for the follow!  I followed back :)  I ...   \n",
       "1  I've decided I have this crazy goal of running...   \n",
       "2  Umm, yeah, so those are assisted pull-ups. Bef...   \n",
       "3        dam gurl lookin mad tone in dat pp holla bb   \n",
       "4                         What's up there bear mode?   \n",
       "\n",
       "                                       response_text     source  \\\n",
       "0                              One day at a time! =]  fitocracy   \n",
       "1     Crazy is synonymous with awesome in this case.  fitocracy   \n",
       "2  You can enter assisted pullups. Select pullups...  fitocracy   \n",
       "3                   Mirin 3% bodyfat? Yeah, you are.  fitocracy   \n",
       "4  Hey! I just started a new job, so things are s...  fitocracy   \n",
       "\n",
       "                                         post_tokens  \\\n",
       "0  [Thanks, for, the, follow, !, I, followed, bac...   \n",
       "1  [I, 've, decided, I, have, this, crazy, goal, ...   \n",
       "2  [Umm, ,, yeah, ,, so, those, are, assisted, pu...   \n",
       "3  [dam, gurl, lookin, mad, tone, in, dat, pp, ho...   \n",
       "4               [What, 's, up, there, bear, mode, ?]   \n",
       "\n",
       "                                     response_tokens  post_length  \\\n",
       "0                   [One, day, at, a, time, !, =, ]]           25   \n",
       "1  [Crazy, is, synonymous, with, awesome, in, thi...           13   \n",
       "2  [You, can, enter, assisted, pullups, ., Select...           19   \n",
       "3    [Mirin, 3, %, bodyfat, ?, Yeah, ,, you, are, .]           10   \n",
       "4  [Hey, !, I, just, started, a, new, job, ,, so,...            7   \n",
       "\n",
       "   response_length  post_avg_slen  response_avg_slen  post_hedges  \\\n",
       "0                8           12.5           4.000000            0   \n",
       "1                9           13.0           9.000000            0   \n",
       "2               57            9.5          11.400000            0   \n",
       "3               10           10.0           5.000000            0   \n",
       "4               26            7.0           8.666667            0   \n",
       "\n",
       "   response_hedges  post_questions  response_questions  \n",
       "0                0               0                   0  \n",
       "1                0               0                   0  \n",
       "2                0               0                   0  \n",
       "3                0               0                   0  \n",
       "4                0               0                   0  "
      ]
     },
     "execution_count": 5,
     "metadata": {},
     "output_type": "execute_result"
    }
   ],
   "source": [
    "gender_visible_df = pd.read_pickle(\"gender_visible_df.pkl\")\n",
    "gender_visible_df.head()"
   ]
  },
  {
   "cell_type": "code",
   "execution_count": 6,
   "metadata": {},
   "outputs": [
    {
     "name": "stdout",
     "output_type": "stream",
     "text": [
      "<class 'pandas.core.frame.DataFrame'>\n",
      "RangeIndex: 396766 entries, 0 to 396765\n",
      "Data columns (total 17 columns):\n",
      "op_id                 396766 non-null object\n",
      "op_gender             396766 non-null object\n",
      "responder_id          396766 non-null object\n",
      "responder_gender      396766 non-null object\n",
      "post_text             396766 non-null object\n",
      "response_text         396766 non-null object\n",
      "source                396766 non-null object\n",
      "post_tokens           396766 non-null object\n",
      "response_tokens       396766 non-null object\n",
      "post_length           396766 non-null int64\n",
      "response_length       396766 non-null int64\n",
      "post_avg_slen         396766 non-null float64\n",
      "response_avg_slen     396766 non-null float64\n",
      "post_hedges           396766 non-null int64\n",
      "response_hedges       396766 non-null int64\n",
      "post_questions        396766 non-null int64\n",
      "response_questions    396766 non-null int64\n",
      "dtypes: float64(2), int64(6), object(9)\n",
      "memory usage: 51.5+ MB\n"
     ]
    }
   ],
   "source": [
    "gender_visible_df.info()"
   ]
  },
  {
   "cell_type": "markdown",
   "metadata": {},
   "source": [
    "Everything looks great! Let's recap some basic stats:"
   ]
  },
  {
   "cell_type": "code",
   "execution_count": 7,
   "metadata": {},
   "outputs": [
    {
     "data": {
      "text/plain": [
       "M    237339\n",
       "W    159427\n",
       "Name: op_gender, dtype: int64"
      ]
     },
     "execution_count": 7,
     "metadata": {},
     "output_type": "execute_result"
    }
   ],
   "source": [
    "# poster gender distribution\n",
    "gender_visible_df.op_gender.value_counts()"
   ]
  },
  {
   "cell_type": "code",
   "execution_count": 8,
   "metadata": {},
   "outputs": [
    {
     "data": {
      "text/plain": [
       "M    217639\n",
       "W    179127\n",
       "Name: responder_gender, dtype: int64"
      ]
     },
     "execution_count": 8,
     "metadata": {},
     "output_type": "execute_result"
    }
   ],
   "source": [
    "# responder gender distribution\n",
    "gender_visible_df.responder_gender.value_counts()"
   ]
  },
  {
   "cell_type": "code",
   "execution_count": 9,
   "metadata": {},
   "outputs": [
    {
     "data": {
      "text/html": [
       "<div>\n",
       "<style scoped>\n",
       "    .dataframe tbody tr th:only-of-type {\n",
       "        vertical-align: middle;\n",
       "    }\n",
       "\n",
       "    .dataframe tbody tr th {\n",
       "        vertical-align: top;\n",
       "    }\n",
       "\n",
       "    .dataframe thead th {\n",
       "        text-align: right;\n",
       "    }\n",
       "</style>\n",
       "<table border=\"1\" class=\"dataframe\">\n",
       "  <thead>\n",
       "    <tr style=\"text-align: right;\">\n",
       "      <th></th>\n",
       "      <th></th>\n",
       "      <th></th>\n",
       "      <th>post_length</th>\n",
       "      <th>response_length</th>\n",
       "      <th>post_avg_slen</th>\n",
       "      <th>response_avg_slen</th>\n",
       "    </tr>\n",
       "    <tr>\n",
       "      <th>source</th>\n",
       "      <th>op_gender</th>\n",
       "      <th>responder_gender</th>\n",
       "      <th></th>\n",
       "      <th></th>\n",
       "      <th></th>\n",
       "      <th></th>\n",
       "    </tr>\n",
       "  </thead>\n",
       "  <tbody>\n",
       "    <tr>\n",
       "      <th rowspan=\"4\" valign=\"top\">fitocracy</th>\n",
       "      <th rowspan=\"2\" valign=\"top\">M</th>\n",
       "      <th>M</th>\n",
       "      <td>19.023550</td>\n",
       "      <td>16.612086</td>\n",
       "      <td>9.677136</td>\n",
       "      <td>8.384321</td>\n",
       "    </tr>\n",
       "    <tr>\n",
       "      <th>W</th>\n",
       "      <td>15.503597</td>\n",
       "      <td>31.527746</td>\n",
       "      <td>8.910398</td>\n",
       "      <td>11.419609</td>\n",
       "    </tr>\n",
       "    <tr>\n",
       "      <th rowspan=\"2\" valign=\"top\">W</th>\n",
       "      <th>M</th>\n",
       "      <td>19.160420</td>\n",
       "      <td>15.814585</td>\n",
       "      <td>9.066472</td>\n",
       "      <td>7.888464</td>\n",
       "    </tr>\n",
       "    <tr>\n",
       "      <th>W</th>\n",
       "      <td>18.134494</td>\n",
       "      <td>40.720844</td>\n",
       "      <td>9.586728</td>\n",
       "      <td>13.561374</td>\n",
       "    </tr>\n",
       "    <tr>\n",
       "      <th rowspan=\"4\" valign=\"top\">reddit</th>\n",
       "      <th rowspan=\"2\" valign=\"top\">M</th>\n",
       "      <th>M</th>\n",
       "      <td>48.399651</td>\n",
       "      <td>38.106992</td>\n",
       "      <td>13.993324</td>\n",
       "      <td>12.982770</td>\n",
       "    </tr>\n",
       "    <tr>\n",
       "      <th>W</th>\n",
       "      <td>62.564599</td>\n",
       "      <td>48.993869</td>\n",
       "      <td>15.221700</td>\n",
       "      <td>13.782006</td>\n",
       "    </tr>\n",
       "    <tr>\n",
       "      <th rowspan=\"2\" valign=\"top\">W</th>\n",
       "      <th>M</th>\n",
       "      <td>55.883847</td>\n",
       "      <td>50.545774</td>\n",
       "      <td>14.828193</td>\n",
       "      <td>14.161640</td>\n",
       "    </tr>\n",
       "    <tr>\n",
       "      <th>W</th>\n",
       "      <td>58.729640</td>\n",
       "      <td>47.042140</td>\n",
       "      <td>15.947841</td>\n",
       "      <td>14.290182</td>\n",
       "    </tr>\n",
       "  </tbody>\n",
       "</table>\n",
       "</div>"
      ],
      "text/plain": [
       "                                      post_length  response_length  \\\n",
       "source    op_gender responder_gender                                 \n",
       "fitocracy M         M                   19.023550        16.612086   \n",
       "                    W                   15.503597        31.527746   \n",
       "          W         M                   19.160420        15.814585   \n",
       "                    W                   18.134494        40.720844   \n",
       "reddit    M         M                   48.399651        38.106992   \n",
       "                    W                   62.564599        48.993869   \n",
       "          W         M                   55.883847        50.545774   \n",
       "                    W                   58.729640        47.042140   \n",
       "\n",
       "                                      post_avg_slen  response_avg_slen  \n",
       "source    op_gender responder_gender                                    \n",
       "fitocracy M         M                      9.677136           8.384321  \n",
       "                    W                      8.910398          11.419609  \n",
       "          W         M                      9.066472           7.888464  \n",
       "                    W                      9.586728          13.561374  \n",
       "reddit    M         M                     13.993324          12.982770  \n",
       "                    W                     15.221700          13.782006  \n",
       "          W         M                     14.828193          14.161640  \n",
       "                    W                     15.947841          14.290182  "
      ]
     },
     "execution_count": 9,
     "metadata": {},
     "output_type": "execute_result"
    }
   ],
   "source": [
    "gender_visible_df.groupby(['source','op_gender','responder_gender'])['post_length','response_length',\n",
    "                                                                     'post_avg_slen','response_avg_slen'].mean()"
   ]
  },
  {
   "cell_type": "markdown",
   "metadata": {},
   "source": [
    "So Reddit posts seem to be longer overall than posts on Fitocracy. This makes me believe that this may not be such a good statistic to use for machine learning. The more important factor may be the actual content of the text."
   ]
  },
  {
   "cell_type": "code",
   "execution_count": 10,
   "metadata": {},
   "outputs": [
    {
     "name": "stdout",
     "output_type": "stream",
     "text": [
      "percentage male posters with hedges: 0.05012239876295088\n",
      "percentage female posters with hedges: 0.03971723735628219\n",
      "percentage male responders with hedges: 0.053712799636094634\n",
      "percentage female responders with hedges: 0.036292686194711016\n"
     ]
    }
   ],
   "source": [
    "# hedges\n",
    "\n",
    "# male posters with hedges\n",
    "male_hedges_post = gender_visible_df[(gender_visible_df.op_gender == 'M') & (gender_visible_df.post_hedges != 0)]\n",
    "# male responders with hedges\n",
    "male_hedges_response = gender_visible_df[(gender_visible_df.responder_gender == 'M') & (gender_visible_df.response_hedges != 0)]\n",
    "\n",
    "# female posters with hedges\n",
    "female_hedges_post = gender_visible_df[(gender_visible_df.op_gender == 'W') & (gender_visible_df.post_hedges != 0)]\n",
    "# female responders with hedges\n",
    "female_hedges_response = gender_visible_df[(gender_visible_df.responder_gender == 'W') & (gender_visible_df.response_hedges != 0)]\n",
    "\n",
    "print('percentage male posters with hedges:',\n",
    "      len(male_hedges_post.index) / gender_visible_df.op_gender.value_counts()['M'])\n",
    "\n",
    "print('percentage female posters with hedges:',\n",
    "      len(female_hedges_post.index) / gender_visible_df.op_gender.value_counts()['W'])\n",
    "\n",
    "print('percentage male responders with hedges:',\n",
    "      len(male_hedges_response.index) / gender_visible_df.responder_gender.value_counts()['M'])\n",
    "\n",
    "print('percentage female responders with hedges:',\n",
    "      len(female_hedges_response.index) / gender_visible_df.responder_gender.value_counts()['W'])"
   ]
  },
  {
   "cell_type": "markdown",
   "metadata": {},
   "source": [
    "This is actually the opposite trend that I wanted to see. It was my belief coming in that female posters/responders would use more hedges, but that is in fact not the case. But Reddit was actually skewed in the direction I wanted! What does just Reddit data look like?"
   ]
  },
  {
   "cell_type": "code",
   "execution_count": 11,
   "metadata": {},
   "outputs": [
    {
     "name": "stdout",
     "output_type": "stream",
     "text": [
      "percentage male posters with hedges: 0.11949497649408028\n",
      "percentage female posters with hedges: 0.16261107313738893\n",
      "percentage male responders with hedges: 0.1084285233662827\n",
      "percentage female responders with hedges: 0.15475588160890463\n"
     ]
    }
   ],
   "source": [
    "reddit = gender_visible_df[gender_visible_df.source == 'reddit']\n",
    "\n",
    "# male posters with hedges\n",
    "male_hedges_post = reddit[(reddit.op_gender == 'M') & (reddit.post_hedges != 0)]\n",
    "# male responders with hedges\n",
    "male_hedges_response = reddit[(reddit.responder_gender == 'M') & (reddit.response_hedges != 0)]\n",
    "\n",
    "# female posters with hedges\n",
    "female_hedges_post = reddit[(reddit.op_gender == 'W') & (reddit.post_hedges != 0)]\n",
    "# female responders with hedges\n",
    "female_hedges_response = reddit[(reddit.responder_gender == 'W') & (reddit.response_hedges != 0)]\n",
    "\n",
    "print('percentage male posters with hedges:',\n",
    "      len(male_hedges_post.index) / reddit.op_gender.value_counts()['M'])\n",
    "\n",
    "print('percentage female posters with hedges:',\n",
    "      len(female_hedges_post.index) / reddit.op_gender.value_counts()['W'])\n",
    "\n",
    "print('percentage male responders with hedges:',\n",
    "      len(male_hedges_response.index) / reddit.responder_gender.value_counts()['M'])\n",
    "\n",
    "print('percentage female responders with hedges:',\n",
    "      len(female_hedges_response.index) / reddit.responder_gender.value_counts()['W'])"
   ]
  },
  {
   "cell_type": "markdown",
   "metadata": {},
   "source": [
    "So this looks how I'd expect. It seems to be the Fitocracy data that is messing with my hypothesis. Thus, using the hedge data in machine learning will not work for this combined data set. Maybe we should just focus on the text."
   ]
  },
  {
   "cell_type": "markdown",
   "metadata": {},
   "source": [
    "## Solidifying ML plan\n",
    "\n",
    "So what do I actually want to be able to predict?\n",
    "\n",
    "1. Simply the gender of the poster/responder, based on the text alone (ignoring whether they are the poster or responder).\n",
    "2. A more interesting and complicated topic would be analyzing the responder's text and predicting both their own gender and the original poster's gender. This way, we could see if different genders really do respond differently given who they are responding to. Let's make a dataframe that would fit this purpose:"
   ]
  },
  {
   "cell_type": "code",
   "execution_count": 12,
   "metadata": {},
   "outputs": [
    {
     "data": {
      "text/html": [
       "<div>\n",
       "<style scoped>\n",
       "    .dataframe tbody tr th:only-of-type {\n",
       "        vertical-align: middle;\n",
       "    }\n",
       "\n",
       "    .dataframe tbody tr th {\n",
       "        vertical-align: top;\n",
       "    }\n",
       "\n",
       "    .dataframe thead th {\n",
       "        text-align: right;\n",
       "    }\n",
       "</style>\n",
       "<table border=\"1\" class=\"dataframe\">\n",
       "  <thead>\n",
       "    <tr style=\"text-align: right;\">\n",
       "      <th></th>\n",
       "      <th>op_gender</th>\n",
       "      <th>responder_gender</th>\n",
       "      <th>response_text</th>\n",
       "      <th>response_tokens</th>\n",
       "      <th>response_length</th>\n",
       "      <th>response_avg_slen</th>\n",
       "    </tr>\n",
       "  </thead>\n",
       "  <tbody>\n",
       "    <tr>\n",
       "      <th>0</th>\n",
       "      <td>W</td>\n",
       "      <td>M</td>\n",
       "      <td>One day at a time! =]</td>\n",
       "      <td>[One, day, at, a, time, !, =, ]]</td>\n",
       "      <td>8</td>\n",
       "      <td>4.000000</td>\n",
       "    </tr>\n",
       "    <tr>\n",
       "      <th>1</th>\n",
       "      <td>W</td>\n",
       "      <td>W</td>\n",
       "      <td>Crazy is synonymous with awesome in this case.</td>\n",
       "      <td>[Crazy, is, synonymous, with, awesome, in, thi...</td>\n",
       "      <td>9</td>\n",
       "      <td>9.000000</td>\n",
       "    </tr>\n",
       "    <tr>\n",
       "      <th>2</th>\n",
       "      <td>W</td>\n",
       "      <td>M</td>\n",
       "      <td>You can enter assisted pullups. Select pullups...</td>\n",
       "      <td>[You, can, enter, assisted, pullups, ., Select...</td>\n",
       "      <td>57</td>\n",
       "      <td>11.400000</td>\n",
       "    </tr>\n",
       "    <tr>\n",
       "      <th>3</th>\n",
       "      <td>M</td>\n",
       "      <td>W</td>\n",
       "      <td>Mirin 3% bodyfat? Yeah, you are.</td>\n",
       "      <td>[Mirin, 3, %, bodyfat, ?, Yeah, ,, you, are, .]</td>\n",
       "      <td>10</td>\n",
       "      <td>5.000000</td>\n",
       "    </tr>\n",
       "    <tr>\n",
       "      <th>4</th>\n",
       "      <td>M</td>\n",
       "      <td>M</td>\n",
       "      <td>Hey! I just started a new job, so things are s...</td>\n",
       "      <td>[Hey, !, I, just, started, a, new, job, ,, so,...</td>\n",
       "      <td>26</td>\n",
       "      <td>8.666667</td>\n",
       "    </tr>\n",
       "  </tbody>\n",
       "</table>\n",
       "</div>"
      ],
      "text/plain": [
       "  op_gender responder_gender  \\\n",
       "0         W                M   \n",
       "1         W                W   \n",
       "2         W                M   \n",
       "3         M                W   \n",
       "4         M                M   \n",
       "\n",
       "                                       response_text  \\\n",
       "0                              One day at a time! =]   \n",
       "1     Crazy is synonymous with awesome in this case.   \n",
       "2  You can enter assisted pullups. Select pullups...   \n",
       "3                   Mirin 3% bodyfat? Yeah, you are.   \n",
       "4  Hey! I just started a new job, so things are s...   \n",
       "\n",
       "                                     response_tokens  response_length  \\\n",
       "0                   [One, day, at, a, time, !, =, ]]                8   \n",
       "1  [Crazy, is, synonymous, with, awesome, in, thi...                9   \n",
       "2  [You, can, enter, assisted, pullups, ., Select...               57   \n",
       "3    [Mirin, 3, %, bodyfat, ?, Yeah, ,, you, are, .]               10   \n",
       "4  [Hey, !, I, just, started, a, new, job, ,, so,...               26   \n",
       "\n",
       "   response_avg_slen  \n",
       "0           4.000000  \n",
       "1           9.000000  \n",
       "2          11.400000  \n",
       "3           5.000000  \n",
       "4           8.666667  "
      ]
     },
     "execution_count": 12,
     "metadata": {},
     "output_type": "execute_result"
    }
   ],
   "source": [
    "# getting just the columns we want\n",
    "responder_df = gender_visible_df[['op_gender','responder_gender','response_text',\n",
    "                                  'response_tokens','response_length','response_avg_slen']]\n",
    "\n",
    "responder_df.head()"
   ]
  },
  {
   "cell_type": "code",
   "execution_count": 13,
   "metadata": {},
   "outputs": [
    {
     "name": "stderr",
     "output_type": "stream",
     "text": [
      "/anaconda3/lib/python3.7/site-packages/ipykernel_launcher.py:3: SettingWithCopyWarning: \n",
      "A value is trying to be set on a copy of a slice from a DataFrame.\n",
      "Try using .loc[row_indexer,col_indexer] = value instead\n",
      "\n",
      "See the caveats in the documentation: http://pandas.pydata.org/pandas-docs/stable/indexing.html#indexing-view-versus-copy\n",
      "  This is separate from the ipykernel package so we can avoid doing imports until\n"
     ]
    },
    {
     "data": {
      "text/html": [
       "<div>\n",
       "<style scoped>\n",
       "    .dataframe tbody tr th:only-of-type {\n",
       "        vertical-align: middle;\n",
       "    }\n",
       "\n",
       "    .dataframe tbody tr th {\n",
       "        vertical-align: top;\n",
       "    }\n",
       "\n",
       "    .dataframe thead th {\n",
       "        text-align: right;\n",
       "    }\n",
       "</style>\n",
       "<table border=\"1\" class=\"dataframe\">\n",
       "  <thead>\n",
       "    <tr style=\"text-align: right;\">\n",
       "      <th></th>\n",
       "      <th>op_gender</th>\n",
       "      <th>responder_gender</th>\n",
       "      <th>response_text</th>\n",
       "      <th>response_tokens</th>\n",
       "      <th>response_length</th>\n",
       "      <th>response_avg_slen</th>\n",
       "      <th>gender_info</th>\n",
       "    </tr>\n",
       "  </thead>\n",
       "  <tbody>\n",
       "    <tr>\n",
       "      <th>0</th>\n",
       "      <td>W</td>\n",
       "      <td>M</td>\n",
       "      <td>One day at a time! =]</td>\n",
       "      <td>[One, day, at, a, time, !, =, ]]</td>\n",
       "      <td>8</td>\n",
       "      <td>4.000000</td>\n",
       "      <td>WM</td>\n",
       "    </tr>\n",
       "    <tr>\n",
       "      <th>1</th>\n",
       "      <td>W</td>\n",
       "      <td>W</td>\n",
       "      <td>Crazy is synonymous with awesome in this case.</td>\n",
       "      <td>[Crazy, is, synonymous, with, awesome, in, thi...</td>\n",
       "      <td>9</td>\n",
       "      <td>9.000000</td>\n",
       "      <td>WW</td>\n",
       "    </tr>\n",
       "    <tr>\n",
       "      <th>2</th>\n",
       "      <td>W</td>\n",
       "      <td>M</td>\n",
       "      <td>You can enter assisted pullups. Select pullups...</td>\n",
       "      <td>[You, can, enter, assisted, pullups, ., Select...</td>\n",
       "      <td>57</td>\n",
       "      <td>11.400000</td>\n",
       "      <td>WM</td>\n",
       "    </tr>\n",
       "    <tr>\n",
       "      <th>3</th>\n",
       "      <td>M</td>\n",
       "      <td>W</td>\n",
       "      <td>Mirin 3% bodyfat? Yeah, you are.</td>\n",
       "      <td>[Mirin, 3, %, bodyfat, ?, Yeah, ,, you, are, .]</td>\n",
       "      <td>10</td>\n",
       "      <td>5.000000</td>\n",
       "      <td>MW</td>\n",
       "    </tr>\n",
       "    <tr>\n",
       "      <th>4</th>\n",
       "      <td>M</td>\n",
       "      <td>M</td>\n",
       "      <td>Hey! I just started a new job, so things are s...</td>\n",
       "      <td>[Hey, !, I, just, started, a, new, job, ,, so,...</td>\n",
       "      <td>26</td>\n",
       "      <td>8.666667</td>\n",
       "      <td>MM</td>\n",
       "    </tr>\n",
       "  </tbody>\n",
       "</table>\n",
       "</div>"
      ],
      "text/plain": [
       "  op_gender responder_gender  \\\n",
       "0         W                M   \n",
       "1         W                W   \n",
       "2         W                M   \n",
       "3         M                W   \n",
       "4         M                M   \n",
       "\n",
       "                                       response_text  \\\n",
       "0                              One day at a time! =]   \n",
       "1     Crazy is synonymous with awesome in this case.   \n",
       "2  You can enter assisted pullups. Select pullups...   \n",
       "3                   Mirin 3% bodyfat? Yeah, you are.   \n",
       "4  Hey! I just started a new job, so things are s...   \n",
       "\n",
       "                                     response_tokens  response_length  \\\n",
       "0                   [One, day, at, a, time, !, =, ]]                8   \n",
       "1  [Crazy, is, synonymous, with, awesome, in, thi...                9   \n",
       "2  [You, can, enter, assisted, pullups, ., Select...               57   \n",
       "3    [Mirin, 3, %, bodyfat, ?, Yeah, ,, you, are, .]               10   \n",
       "4  [Hey, !, I, just, started, a, new, job, ,, so,...               26   \n",
       "\n",
       "   response_avg_slen gender_info  \n",
       "0           4.000000          WM  \n",
       "1           9.000000          WW  \n",
       "2          11.400000          WM  \n",
       "3           5.000000          MW  \n",
       "4           8.666667          MM  "
      ]
     },
     "execution_count": 13,
     "metadata": {},
     "output_type": "execute_result"
    }
   ],
   "source": [
    "# let's combine op_gender and responder_gender into one column, because this is what we want to predict\n",
    "# original poster's gender is first character, responder's gender is second character\n",
    "responder_df['gender_info'] = responder_df.op_gender + responder_df.responder_gender\n",
    "responder_df.head()"
   ]
  },
  {
   "cell_type": "code",
   "execution_count": 14,
   "metadata": {},
   "outputs": [
    {
     "name": "stderr",
     "output_type": "stream",
     "text": [
      "/anaconda3/lib/python3.7/site-packages/pandas/core/frame.py:3697: SettingWithCopyWarning: \n",
      "A value is trying to be set on a copy of a slice from a DataFrame\n",
      "\n",
      "See the caveats in the documentation: http://pandas.pydata.org/pandas-docs/stable/indexing.html#indexing-view-versus-copy\n",
      "  errors=errors)\n"
     ]
    },
    {
     "data": {
      "text/html": [
       "<div>\n",
       "<style scoped>\n",
       "    .dataframe tbody tr th:only-of-type {\n",
       "        vertical-align: middle;\n",
       "    }\n",
       "\n",
       "    .dataframe tbody tr th {\n",
       "        vertical-align: top;\n",
       "    }\n",
       "\n",
       "    .dataframe thead th {\n",
       "        text-align: right;\n",
       "    }\n",
       "</style>\n",
       "<table border=\"1\" class=\"dataframe\">\n",
       "  <thead>\n",
       "    <tr style=\"text-align: right;\">\n",
       "      <th></th>\n",
       "      <th>op_gender</th>\n",
       "      <th>response_text</th>\n",
       "      <th>response_tokens</th>\n",
       "      <th>response_length</th>\n",
       "      <th>response_avg_slen</th>\n",
       "      <th>gender_info</th>\n",
       "    </tr>\n",
       "  </thead>\n",
       "  <tbody>\n",
       "    <tr>\n",
       "      <th>0</th>\n",
       "      <td>W</td>\n",
       "      <td>One day at a time! =]</td>\n",
       "      <td>[One, day, at, a, time, !, =, ]]</td>\n",
       "      <td>8</td>\n",
       "      <td>4.000000</td>\n",
       "      <td>WM</td>\n",
       "    </tr>\n",
       "    <tr>\n",
       "      <th>1</th>\n",
       "      <td>W</td>\n",
       "      <td>Crazy is synonymous with awesome in this case.</td>\n",
       "      <td>[Crazy, is, synonymous, with, awesome, in, thi...</td>\n",
       "      <td>9</td>\n",
       "      <td>9.000000</td>\n",
       "      <td>WW</td>\n",
       "    </tr>\n",
       "    <tr>\n",
       "      <th>2</th>\n",
       "      <td>W</td>\n",
       "      <td>You can enter assisted pullups. Select pullups...</td>\n",
       "      <td>[You, can, enter, assisted, pullups, ., Select...</td>\n",
       "      <td>57</td>\n",
       "      <td>11.400000</td>\n",
       "      <td>WM</td>\n",
       "    </tr>\n",
       "    <tr>\n",
       "      <th>3</th>\n",
       "      <td>M</td>\n",
       "      <td>Mirin 3% bodyfat? Yeah, you are.</td>\n",
       "      <td>[Mirin, 3, %, bodyfat, ?, Yeah, ,, you, are, .]</td>\n",
       "      <td>10</td>\n",
       "      <td>5.000000</td>\n",
       "      <td>MW</td>\n",
       "    </tr>\n",
       "    <tr>\n",
       "      <th>4</th>\n",
       "      <td>M</td>\n",
       "      <td>Hey! I just started a new job, so things are s...</td>\n",
       "      <td>[Hey, !, I, just, started, a, new, job, ,, so,...</td>\n",
       "      <td>26</td>\n",
       "      <td>8.666667</td>\n",
       "      <td>MM</td>\n",
       "    </tr>\n",
       "  </tbody>\n",
       "</table>\n",
       "</div>"
      ],
      "text/plain": [
       "  op_gender                                      response_text  \\\n",
       "0         W                              One day at a time! =]   \n",
       "1         W     Crazy is synonymous with awesome in this case.   \n",
       "2         W  You can enter assisted pullups. Select pullups...   \n",
       "3         M                   Mirin 3% bodyfat? Yeah, you are.   \n",
       "4         M  Hey! I just started a new job, so things are s...   \n",
       "\n",
       "                                     response_tokens  response_length  \\\n",
       "0                   [One, day, at, a, time, !, =, ]]                8   \n",
       "1  [Crazy, is, synonymous, with, awesome, in, thi...                9   \n",
       "2  [You, can, enter, assisted, pullups, ., Select...               57   \n",
       "3    [Mirin, 3, %, bodyfat, ?, Yeah, ,, you, are, .]               10   \n",
       "4  [Hey, !, I, just, started, a, new, job, ,, so,...               26   \n",
       "\n",
       "   response_avg_slen gender_info  \n",
       "0           4.000000          WM  \n",
       "1           9.000000          WW  \n",
       "2          11.400000          WM  \n",
       "3           5.000000          MW  \n",
       "4           8.666667          MM  "
      ]
     },
     "execution_count": 14,
     "metadata": {},
     "output_type": "execute_result"
    }
   ],
   "source": [
    "# drop the columns (keep op_gender in there for later)\n",
    "responder_df.drop(labels=['responder_gender'], axis=1, inplace=True)\n",
    "responder_df.head()"
   ]
  },
  {
   "cell_type": "markdown",
   "metadata": {},
   "source": [
    "## Predict gender of poster/responder\n",
    "Let's start simple! Given our `all_posts_responses` dataframe, can we predict the gender of the poster/responder?"
   ]
  },
  {
   "cell_type": "code",
   "execution_count": 15,
   "metadata": {},
   "outputs": [
    {
     "data": {
      "text/html": [
       "<div>\n",
       "<style scoped>\n",
       "    .dataframe tbody tr th:only-of-type {\n",
       "        vertical-align: middle;\n",
       "    }\n",
       "\n",
       "    .dataframe tbody tr th {\n",
       "        vertical-align: top;\n",
       "    }\n",
       "\n",
       "    .dataframe thead th {\n",
       "        text-align: right;\n",
       "    }\n",
       "</style>\n",
       "<table border=\"1\" class=\"dataframe\">\n",
       "  <thead>\n",
       "    <tr style=\"text-align: right;\">\n",
       "      <th></th>\n",
       "      <th>gender</th>\n",
       "      <th>text</th>\n",
       "      <th>text_length</th>\n",
       "      <th>avg_slen</th>\n",
       "      <th>hedges</th>\n",
       "      <th>questions</th>\n",
       "      <th>source</th>\n",
       "    </tr>\n",
       "  </thead>\n",
       "  <tbody>\n",
       "    <tr>\n",
       "      <th>0</th>\n",
       "      <td>M</td>\n",
       "      <td>Roses are red...and so is Texas. Let's keep it...</td>\n",
       "      <td>23</td>\n",
       "      <td>7.666667</td>\n",
       "      <td>0</td>\n",
       "      <td>0</td>\n",
       "      <td>fb_congress_post</td>\n",
       "    </tr>\n",
       "    <tr>\n",
       "      <th>1</th>\n",
       "      <td>M</td>\n",
       "      <td>Since President Donald J. Trump was sworn in o...</td>\n",
       "      <td>69</td>\n",
       "      <td>13.800000</td>\n",
       "      <td>0</td>\n",
       "      <td>0</td>\n",
       "      <td>fb_congress_post</td>\n",
       "    </tr>\n",
       "    <tr>\n",
       "      <th>2</th>\n",
       "      <td>M</td>\n",
       "      <td>In Texas, we honor our military heroes. #Chris...</td>\n",
       "      <td>11</td>\n",
       "      <td>5.500000</td>\n",
       "      <td>0</td>\n",
       "      <td>0</td>\n",
       "      <td>fb_congress_post</td>\n",
       "    </tr>\n",
       "    <tr>\n",
       "      <th>3</th>\n",
       "      <td>M</td>\n",
       "      <td>Since its inception, Obamacare has been an abs...</td>\n",
       "      <td>28</td>\n",
       "      <td>9.333333</td>\n",
       "      <td>0</td>\n",
       "      <td>0</td>\n",
       "      <td>fb_congress_post</td>\n",
       "    </tr>\n",
       "    <tr>\n",
       "      <th>4</th>\n",
       "      <td>M</td>\n",
       "      <td>Shameful.</td>\n",
       "      <td>2</td>\n",
       "      <td>2.000000</td>\n",
       "      <td>0</td>\n",
       "      <td>0</td>\n",
       "      <td>fb_congress_post</td>\n",
       "    </tr>\n",
       "  </tbody>\n",
       "</table>\n",
       "</div>"
      ],
      "text/plain": [
       "  gender                                               text  text_length  \\\n",
       "0      M  Roses are red...and so is Texas. Let's keep it...           23   \n",
       "1      M  Since President Donald J. Trump was sworn in o...           69   \n",
       "2      M  In Texas, we honor our military heroes. #Chris...           11   \n",
       "3      M  Since its inception, Obamacare has been an abs...           28   \n",
       "4      M                                          Shameful.            2   \n",
       "\n",
       "    avg_slen  hedges  questions            source  \n",
       "0   7.666667       0          0  fb_congress_post  \n",
       "1  13.800000       0          0  fb_congress_post  \n",
       "2   5.500000       0          0  fb_congress_post  \n",
       "3   9.333333       0          0  fb_congress_post  \n",
       "4   2.000000       0          0  fb_congress_post  "
      ]
     },
     "execution_count": 15,
     "metadata": {},
     "output_type": "execute_result"
    }
   ],
   "source": [
    "all_posts_responses.head()"
   ]
  },
  {
   "cell_type": "code",
   "execution_count": 36,
   "metadata": {},
   "outputs": [
    {
     "data": {
      "text/plain": [
       "Welcome! Fitocracy is a great place to track your workouts and keep consistent, with a very supportive community. To help you find your way around:                Getting Started Guides:        On the web - http://bit.ly/I5PoXP        On iPhone - http://bit.ly/N2IXHE                If you need help finding an exercise name, have questions about training, etc--leave me a message on my profile or ask the Welcome to Fitocracy group:        http://ftcy.co/UpSig0        Glad to know ya ;)    4384\n",
       "just joined the WTF - Welcome to Fitocracy group!                                                                                                                                                                                                                                                                                                                                                                                                                                                           3552\n",
       "Hello and welcome! Fitocracy is a great place to track your workouts and keep consistent, with a very supportive community.        Start by earning points for any exercise...even walking up the stairs. To start:                1. Tap on the \"track\" icon on the bottom center of your screen.        2. Tap on \"start a workout\"        3. Tap on \"Add an exercise\"        If you need help finding an exercise, have questions about training, etc--drop me a line ;)                                 1497\n",
       "Thanks for the follow!                                                                                                                                                                                                                                                                                                                                                                                                                                                                                       844\n",
       "just joined the No Barbie Weights Here group!                                                                                                                                                                                                                                                                                                                                                                                                                                                                627\n",
       "Name: text, dtype: int64"
      ]
     },
     "execution_count": 36,
     "metadata": {},
     "output_type": "execute_result"
    }
   ],
   "source": [
    "all_posts_responses.text.value_counts().head()"
   ]
  },
  {
   "cell_type": "markdown",
   "metadata": {},
   "source": [
    "Something to note... it seems like a lot of these messages are auto-generated when joining some group, or there's a lot of duplicates because it's something simple like \"thanks for the follow!\" Let's drop all duplicates."
   ]
  },
  {
   "cell_type": "code",
   "execution_count": 37,
   "metadata": {},
   "outputs": [],
   "source": [
    "all_posts_responses.drop_duplicates(subset='text', keep=False, inplace=True)"
   ]
  },
  {
   "cell_type": "code",
   "execution_count": 38,
   "metadata": {},
   "outputs": [
    {
     "data": {
      "text/plain": [
       "rest. if any joint hurts, dont put any pressure on it. if the pain doesn't go away, seek some professional advice.                                                                                                                                                                                                                                                                                                   1\n",
       "Sad to announce that Season 6 will be Grimm's last, but thrilled to be going out with a bang. And eternally grateful to all of our amazing fans who helped get us to 123 wonderful episodes of TV. Excited for what comes next, and committed to savoring every moment of the next 4 months of filming. See you guys Friday January 6 💗                                                                              1\n",
       "I used to know how to reply to messages from friends on fitocracy...but I really haven't kept up with all the changes in the past year. :( Sorry...Currently I'm teaching kids to snowboard, training for being a mountaineering class instructor starting late Feb, and working out with a trainer 2x per week to maximize strength and minimize injury. No fun hikes or climbs lately...just training ones. :-P    1\n",
       "Testicles dont change volume.   >Who knows?   You claimed to. Youve also neglected the effects of the pubococcygeus and the dartos fascia.  I dont know whether underwear affects ball sag, but I see no compelling argument that it couldnt.                                                                                                                                                                        1\n",
       "I am thankful for all the props too...How's it going with you???                                                                                                                                                                                                                                                                                                                                                     1\n",
       "Name: text, dtype: int64"
      ]
     },
     "execution_count": 38,
     "metadata": {},
     "output_type": "execute_result"
    }
   ],
   "source": [
    "# make sure\n",
    "all_posts_responses.text.value_counts().head()"
   ]
  },
  {
   "cell_type": "markdown",
   "metadata": {},
   "source": [
    "Good - no more duplicates!"
   ]
  },
  {
   "cell_type": "code",
   "execution_count": 39,
   "metadata": {},
   "outputs": [
    {
     "data": {
      "text/plain": [
       "M    0.633128\n",
       "W    0.366872\n",
       "Name: gender, dtype: float64"
      ]
     },
     "execution_count": 39,
     "metadata": {},
     "output_type": "execute_result"
    }
   ],
   "source": [
    "all_posts_responses.gender.value_counts(normalize=True)"
   ]
  },
  {
   "cell_type": "markdown",
   "metadata": {},
   "source": [
    "So our baseline is 63% here.\n",
    "\n",
    "### Using Naive-Bayes"
   ]
  },
  {
   "cell_type": "code",
   "execution_count": 40,
   "metadata": {},
   "outputs": [
    {
     "name": "stdout",
     "output_type": "stream",
     "text": [
      "138014\n",
      "34504\n"
     ]
    }
   ],
   "source": [
    "X = list(all_posts_responses.text)\n",
    "y = list(all_posts_responses.gender)\n",
    "\n",
    "# create train test split\n",
    "from sklearn.model_selection import train_test_split\n",
    "X_train, X_test, y_train, y_test = train_test_split(X, y, test_size=0.2, random_state=0)\n",
    "\n",
    "print(len(y_train))\n",
    "print(len(y_test))"
   ]
  },
  {
   "cell_type": "code",
   "execution_count": 41,
   "metadata": {},
   "outputs": [],
   "source": [
    "# fit to model\n",
    "from sklearn.pipeline import make_pipeline\n",
    "from sklearn.feature_extraction.text import TfidfVectorizer\n",
    "from sklearn.naive_bayes import MultinomialNB\n",
    "from sklearn.svm import SVC\n",
    "from sklearn.decomposition import TruncatedSVD\n",
    "from sklearn.pipeline import Pipeline\n",
    "\n",
    "# this takes way too long - maybe try CRC\n",
    "#model = make_pipeline(TfidfVectorizer(ngram_range=(1,2), stop_words='english'), SVC(kernel='linear', C=1E3, random_state=0))\n",
    "\n",
    "# choose own parameters\n",
    "#model = make_pipeline(TfidfVectorizer(max_df=0.5, min_df=5, ngram_range=(1,2)),\n",
    "                      #MultinomialNB())\n",
    "\n",
    "# what if we want punctuation? takes longer to use nltk word tokenizer though. is it worth it?\n",
    "import nltk\n",
    "model = make_pipeline(TfidfVectorizer(max_df=0.5, min_df=5, ngram_range=(1,2), tokenizer=nltk.word_tokenize),\n",
    "                      MultinomialNB())"
   ]
  },
  {
   "cell_type": "code",
   "execution_count": 42,
   "metadata": {},
   "outputs": [],
   "source": [
    "# fit and predict\n",
    "model.fit(X_train, y_train)\n",
    "y_pred = model.predict(X_test)"
   ]
  },
  {
   "cell_type": "code",
   "execution_count": 43,
   "metadata": {},
   "outputs": [
    {
     "data": {
      "image/png": "[encoded data removed]",
      "text/plain": [
       "<Figure size 432x288 with 2 Axes>"
      ]
     },
     "metadata": {
      "needs_background": "light"
     },
     "output_type": "display_data"
    },
    {
     "name": "stdout",
     "output_type": "stream",
     "text": [
      "accuracy: 0.7115986552283793\n"
     ]
    }
   ],
   "source": [
    "# confusion matrix\n",
    "from sklearn.metrics import confusion_matrix, accuracy_score\n",
    "\n",
    "mat = confusion_matrix(y_test, y_pred)\n",
    "\n",
    "labels = sorted(set(y_test))\n",
    "\n",
    "# plot it\n",
    "sns.heatmap(mat.T, square=True, annot=True, fmt='d', cmap=\"Reds\", xticklabels=labels, yticklabels=labels)\n",
    "plt.xlabel('true label')\n",
    "plt.ylabel('predicted label')\n",
    "\n",
    "# save\n",
    "plt.savefig('images/predict_1gender_cm.png')\n",
    "\n",
    "# show\n",
    "plt.show()\n",
    "\n",
    "print('accuracy:', accuracy_score(y_test, y_pred))"
   ]
  },
  {
   "cell_type": "markdown",
   "metadata": {},
   "source": [
    "Note: Including nltk's tokenizer actually helps!\n",
    "\n",
    "Note 2: before dropping duplicates, my accuracy was 70%. Dropping them actually helped a little, which is good!\n",
    "\n",
    "So we get an accuracy of 71.2%! And I'm okay (ish) with a 71% accuracy when baseline was 63% - we are at least 8% better than guessing, and this is with the simplest algorithm! So what is going on with punctuation? Does one gender use more than the other? Do they use it differently?"
   ]
  },
  {
   "cell_type": "code",
   "execution_count": 44,
   "metadata": {},
   "outputs": [
    {
     "name": "stdout",
     "output_type": "stream",
     "text": [
      "'!' classified as W with probabilities: [[0.49052566 0.50947434]]\n",
      "'!!' classified as W with probabilities: [[0.3763114 0.6236886]]\n",
      "'?' classified as M with probabilities: [[0.68246672 0.31753328]]\n",
      "'??' classified as M with probabilities: [[0.58202171 0.41797829]]\n",
      "'...' classified as M with probabilities: [[0.61443946 0.38556054]]\n"
     ]
    }
   ],
   "source": [
    "# examine punctuation\n",
    "print(\"'!' classified as\", model.predict(['!'])[0], 'with probabilities:', model.predict_proba(['!']))\n",
    "print(\"'!!' classified as\", model.predict(['!!'])[0], 'with probabilities:', model.predict_proba(['!!']))\n",
    "print(\"'?' classified as\", model.predict(['?'])[0], 'with probabilities:', model.predict_proba(['?']))\n",
    "print(\"'??' classified as\", model.predict(['??'])[0], 'with probabilities:', model.predict_proba(['??']))\n",
    "print(\"'...' classified as\", model.predict(['...'])[0], 'with probabilities:', model.predict_proba(['...']))"
   ]
  },
  {
   "cell_type": "code",
   "execution_count": 45,
   "metadata": {},
   "outputs": [
    {
     "name": "stdout",
     "output_type": "stream",
     "text": [
      "'hi' classified as W with probabilities: [[0.46829524 0.53170476]]\n",
      "'hi.' classified as W with probabilities: [[0.37599521 0.62400479]]\n",
      "'hi!' classified as W with probabilities: [[0.31616674 0.68383326]]\n",
      "--------\n",
      "'hello' classified as W with probabilities: [[0.43560021 0.56439979]]\n",
      "'hello.' classified as W with probabilities: [[0.43499454 0.56500546]]\n",
      "'hello!' classified as W with probabilities: [[0.25561032 0.74438968]]\n"
     ]
    }
   ],
   "source": [
    "print(\"'hi' classified as\", model.predict(['hi'])[0], 'with probabilities:', model.predict_proba(['hi']))\n",
    "print(\"'hi.' classified as\", model.predict(['hi.'])[0], 'with probabilities:', model.predict_proba(['hi.']))\n",
    "print(\"'hi!' classified as\", model.predict(['hi!'])[0], 'with probabilities:', model.predict_proba(['hi!']))\n",
    "print('--------')\n",
    "print(\"'hello' classified as\", model.predict(['hello'])[0], 'with probabilities:', model.predict_proba(['hello']))\n",
    "print(\"'hello.' classified as\", model.predict(['hello.'])[0], 'with probabilities:', model.predict_proba(['hello.']))\n",
    "print(\"'hello!' classified as\", model.predict(['hello!'])[0], 'with probabilities:', model.predict_proba(['hello!']))"
   ]
  },
  {
   "cell_type": "markdown",
   "metadata": {},
   "source": [
    "It seems like female posters/responders may like exclamation points more (especially prominent in saying \"hello!\")."
   ]
  },
  {
   "cell_type": "code",
   "execution_count": 46,
   "metadata": {},
   "outputs": [
    {
     "name": "stdout",
     "output_type": "stream",
     "text": [
      "'hey' classified as M\n",
      "'heyy' classified as W\n"
     ]
    }
   ],
   "source": [
    "# something funny:\n",
    "print(\"'hey' classified as\", model.predict(['hey'])[0])\n",
    "print(\"'heyy' classified as\", model.predict(['heyy'])[0])"
   ]
  },
  {
   "cell_type": "markdown",
   "metadata": {},
   "source": [
    "### Try adding other features\n",
    "\n",
    "I'm going to try adding text length and sentence length (and maybe hedges)."
   ]
  },
  {
   "cell_type": "code",
   "execution_count": 114,
   "metadata": {},
   "outputs": [],
   "source": [
    "# first vectorize text\n",
    "text_vec = TfidfVectorizer(max_df=0.5, min_df=5, ngram_range=(1,2), tokenizer=nltk.word_tokenize)\n",
    "\n",
    "X_train2 = text_vec.fit_transform(X_train)\n",
    "X_test2 = text_vec.transform(X_test)\n",
    "y_train2 = y_train\n",
    "y_test2 = y_test"
   ]
  },
  {
   "cell_type": "code",
   "execution_count": 115,
   "metadata": {},
   "outputs": [
    {
     "name": "stdout",
     "output_type": "stream",
     "text": [
      "(138014, 128523)\n",
      "(34504, 128523)\n"
     ]
    }
   ],
   "source": [
    "print(X_train2.shape)\n",
    "print(X_test2.shape)"
   ]
  },
  {
   "cell_type": "markdown",
   "metadata": {},
   "source": [
    "Now make into sparse matrix and combine features:"
   ]
  },
  {
   "cell_type": "code",
   "execution_count": 116,
   "metadata": {},
   "outputs": [],
   "source": [
    "from scipy.sparse import coo_matrix, hstack"
   ]
  },
  {
   "cell_type": "code",
   "execution_count": 117,
   "metadata": {},
   "outputs": [
    {
     "name": "stdout",
     "output_type": "stream",
     "text": [
      "(138014, 7)\n",
      "(34504, 7)\n"
     ]
    }
   ],
   "source": [
    "# need to find the text length and sentence length that correspond to our train test split\n",
    "\n",
    "# training chunk of df\n",
    "train_chunk = all_posts_responses.isin(X_train)\n",
    "# getting this chunk from original\n",
    "train_chunk = all_posts_responses[train_chunk.text]\n",
    "# print to make sure same size\n",
    "print(train_chunk.shape)\n",
    "\n",
    "\n",
    "# testing chunk of df\n",
    "test_chunk = all_posts_responses.isin(X_test)\n",
    "# getting this chunk from original\n",
    "test_chunk = all_posts_responses[test_chunk.text]\n",
    "# print to make sure same size\n",
    "print(test_chunk.shape)"
   ]
  },
  {
   "cell_type": "code",
   "execution_count": 118,
   "metadata": {},
   "outputs": [
    {
     "name": "stdout",
     "output_type": "stream",
     "text": [
      "(138014, 1)\n",
      "(34504, 1)\n"
     ]
    }
   ],
   "source": [
    "sparse_stats_train = coo_matrix(train_chunk[['text_length']], dtype='float64')\n",
    "sparse_stats_test = coo_matrix(test_chunk[['text_length']], dtype='float64')\n",
    "\n",
    "# making sure we're keeping same sizes\n",
    "print(sparse_stats_train.shape)\n",
    "print(sparse_stats_test.shape)"
   ]
  },
  {
   "cell_type": "code",
   "execution_count": 119,
   "metadata": {},
   "outputs": [
    {
     "name": "stdout",
     "output_type": "stream",
     "text": [
      "(138014, 128524)\n",
      "(34504, 128524)\n"
     ]
    }
   ],
   "source": [
    "# combine features\n",
    "X_train2 = hstack([X_train2, sparse_stats_train])\n",
    "X_test2 = hstack([X_test2, sparse_stats_test])\n",
    "\n",
    "# making sure we're keeping same sizes\n",
    "print(X_train2.shape)\n",
    "print(X_test2.shape)"
   ]
  },
  {
   "cell_type": "code",
   "execution_count": 120,
   "metadata": {},
   "outputs": [
    {
     "data": {
      "text/plain": [
       "MultinomialNB(alpha=1.0, class_prior=None, fit_prior=True)"
      ]
     },
     "execution_count": 120,
     "metadata": {},
     "output_type": "execute_result"
    }
   ],
   "source": [
    "model = MultinomialNB()\n",
    "\n",
    "model.fit(X_train2, y_train2)"
   ]
  },
  {
   "cell_type": "code",
   "execution_count": 121,
   "metadata": {},
   "outputs": [],
   "source": [
    "y_pred2 = model.predict(X_test2)"
   ]
  },
  {
   "cell_type": "code",
   "execution_count": 122,
   "metadata": {},
   "outputs": [
    {
     "data": {
      "image/png": "[encoded data removed]",
      "text/plain": [
       "<Figure size 432x288 with 2 Axes>"
      ]
     },
     "metadata": {
      "needs_background": "light"
     },
     "output_type": "display_data"
    },
    {
     "name": "stdout",
     "output_type": "stream",
     "text": [
      "accuracy: 0.7039763505680501\n"
     ]
    }
   ],
   "source": [
    "# confusion matrix\n",
    "mat = confusion_matrix(y_test2, y_pred2)\n",
    "\n",
    "labels = sorted(set(y_test2))\n",
    "\n",
    "# plot it\n",
    "sns.heatmap(mat.T, square=True, annot=True, fmt='d', cmap=\"Reds\", xticklabels=labels, yticklabels=labels)\n",
    "plt.xlabel('true label')\n",
    "plt.ylabel('predicted label')\n",
    "\n",
    "# save\n",
    "#plt.savefig('images/')\n",
    "\n",
    "# show\n",
    "plt.show()\n",
    "\n",
    "print('accuracy:', accuracy_score(y_test2, y_pred2))"
   ]
  },
  {
   "cell_type": "markdown",
   "metadata": {},
   "source": [
    "Hm... so text length doesn't even seem to help.\n",
    "\n",
    "## Predict both genders\n",
    "Now I think this task may be very hard, but I'm going to try it anyways. Given the text of the responder, can we predict both their own gender and the gender they are responding to? Let's get a refresher of what our dataframe looks like in this case:"
   ]
  },
  {
   "cell_type": "code",
   "execution_count": 123,
   "metadata": {},
   "outputs": [
    {
     "data": {
      "text/html": [
       "<div>\n",
       "<style scoped>\n",
       "    .dataframe tbody tr th:only-of-type {\n",
       "        vertical-align: middle;\n",
       "    }\n",
       "\n",
       "    .dataframe tbody tr th {\n",
       "        vertical-align: top;\n",
       "    }\n",
       "\n",
       "    .dataframe thead th {\n",
       "        text-align: right;\n",
       "    }\n",
       "</style>\n",
       "<table border=\"1\" class=\"dataframe\">\n",
       "  <thead>\n",
       "    <tr style=\"text-align: right;\">\n",
       "      <th></th>\n",
       "      <th>op_gender</th>\n",
       "      <th>response_text</th>\n",
       "      <th>response_tokens</th>\n",
       "      <th>response_length</th>\n",
       "      <th>response_avg_slen</th>\n",
       "      <th>gender_info</th>\n",
       "    </tr>\n",
       "  </thead>\n",
       "  <tbody>\n",
       "    <tr>\n",
       "      <th>0</th>\n",
       "      <td>W</td>\n",
       "      <td>One day at a time! =]</td>\n",
       "      <td>[One, day, at, a, time, !, =, ]]</td>\n",
       "      <td>8</td>\n",
       "      <td>4.000000</td>\n",
       "      <td>WM</td>\n",
       "    </tr>\n",
       "    <tr>\n",
       "      <th>1</th>\n",
       "      <td>W</td>\n",
       "      <td>Crazy is synonymous with awesome in this case.</td>\n",
       "      <td>[Crazy, is, synonymous, with, awesome, in, thi...</td>\n",
       "      <td>9</td>\n",
       "      <td>9.000000</td>\n",
       "      <td>WW</td>\n",
       "    </tr>\n",
       "    <tr>\n",
       "      <th>2</th>\n",
       "      <td>W</td>\n",
       "      <td>You can enter assisted pullups. Select pullups...</td>\n",
       "      <td>[You, can, enter, assisted, pullups, ., Select...</td>\n",
       "      <td>57</td>\n",
       "      <td>11.400000</td>\n",
       "      <td>WM</td>\n",
       "    </tr>\n",
       "    <tr>\n",
       "      <th>3</th>\n",
       "      <td>M</td>\n",
       "      <td>Mirin 3% bodyfat? Yeah, you are.</td>\n",
       "      <td>[Mirin, 3, %, bodyfat, ?, Yeah, ,, you, are, .]</td>\n",
       "      <td>10</td>\n",
       "      <td>5.000000</td>\n",
       "      <td>MW</td>\n",
       "    </tr>\n",
       "    <tr>\n",
       "      <th>4</th>\n",
       "      <td>M</td>\n",
       "      <td>Hey! I just started a new job, so things are s...</td>\n",
       "      <td>[Hey, !, I, just, started, a, new, job, ,, so,...</td>\n",
       "      <td>26</td>\n",
       "      <td>8.666667</td>\n",
       "      <td>MM</td>\n",
       "    </tr>\n",
       "  </tbody>\n",
       "</table>\n",
       "</div>"
      ],
      "text/plain": [
       "  op_gender                                      response_text  \\\n",
       "0         W                              One day at a time! =]   \n",
       "1         W     Crazy is synonymous with awesome in this case.   \n",
       "2         W  You can enter assisted pullups. Select pullups...   \n",
       "3         M                   Mirin 3% bodyfat? Yeah, you are.   \n",
       "4         M  Hey! I just started a new job, so things are s...   \n",
       "\n",
       "                                     response_tokens  response_length  \\\n",
       "0                   [One, day, at, a, time, !, =, ]]                8   \n",
       "1  [Crazy, is, synonymous, with, awesome, in, thi...                9   \n",
       "2  [You, can, enter, assisted, pullups, ., Select...               57   \n",
       "3    [Mirin, 3, %, bodyfat, ?, Yeah, ,, you, are, .]               10   \n",
       "4  [Hey, !, I, just, started, a, new, job, ,, so,...               26   \n",
       "\n",
       "   response_avg_slen gender_info  \n",
       "0           4.000000          WM  \n",
       "1           9.000000          WW  \n",
       "2          11.400000          WM  \n",
       "3           5.000000          MW  \n",
       "4           8.666667          MM  "
      ]
     },
     "execution_count": 123,
     "metadata": {},
     "output_type": "execute_result"
    }
   ],
   "source": [
    "responder_df.head()"
   ]
  },
  {
   "cell_type": "code",
   "execution_count": 125,
   "metadata": {},
   "outputs": [
    {
     "data": {
      "text/plain": [
       "Welcome! Fitocracy is a great place to track your workouts and keep consistent, with a very supportive community. To help you find your way around:                Getting Started Guides:        On the web - http://bit.ly/I5PoXP        On iPhone - http://bit.ly/N2IXHE                If you need help finding an exercise name, have questions about training, etc--leave me a message on my profile or ask the Welcome to Fitocracy group:        http://ftcy.co/UpSig0        Glad to know ya ;)                            28131\n",
       "Hello and welcome! Fitocracy is a great place to track your workouts and keep consistent, with a very supportive community.        Start by earning points for any exercise...even walking up the stairs. To start:                1. Tap on the \"track\" icon on the bottom center of your screen.        2. Tap on \"start a workout\"        3. Tap on \"Add an exercise\"        If you need help finding an exercise, have questions about training, etc--drop me a line ;)                                                         10009\n",
       "Hi! I've just noticed you're posting statuses, but don't have any followers yet. Like Facebook, or Twitter, only people that are following you are likely to see your posts, so it's better to post a status/ask questions in groups. The best place to start is probably the 'Welcome to Fitocracy Group' https://www.fitocracy.com/group/6460/                                                                                                                                                                                     2764\n",
       "Thanks!                                                                                                                                                                                                                                                                                                                                                                                                                                                                                                                              2313\n",
       "Welcome! Fitocracy is a great place to track your workouts and keep consistent, with a very supportive community. To help you find your way around:                Getting Started Guides:        On the web - http://bit.ly/I5PoXP        On iPhone - http://www.youtube.com/user/fitocracy/videos                If you need help finding an exercise name, have questions about training, etc--leave me a message on my profile or ask the Welcome to Fitocracy group:        http://ftcy.co/UpSig0        Glad to know ya ;)     1741\n",
       "Name: response_text, dtype: int64"
      ]
     },
     "execution_count": 125,
     "metadata": {},
     "output_type": "execute_result"
    }
   ],
   "source": [
    "# check for duplicates again\n",
    "responder_df.response_text.value_counts().head()"
   ]
  },
  {
   "cell_type": "markdown",
   "metadata": {},
   "source": [
    "Again, some more seemingly automated messages or things that are too simple, like \"thanks!\". Let's drop duplicates again."
   ]
  },
  {
   "cell_type": "code",
   "execution_count": 127,
   "metadata": {},
   "outputs": [
    {
     "name": "stderr",
     "output_type": "stream",
     "text": [
      "/anaconda3/lib/python3.7/site-packages/ipykernel_launcher.py:1: SettingWithCopyWarning: \n",
      "A value is trying to be set on a copy of a slice from a DataFrame\n",
      "\n",
      "See the caveats in the documentation: http://pandas.pydata.org/pandas-docs/stable/indexing.html#indexing-view-versus-copy\n",
      "  \"\"\"Entry point for launching an IPython kernel.\n"
     ]
    },
    {
     "data": {
      "text/plain": [
       "Don't worry I'm still training hard core!!                                                                                                                                               1\n",
       "Absolutely! Not sure how I didn't start following you sooner :D                                                                                                                          1\n",
       "Why thank you! I'm anxious and awaiting my 6 weeks-postpartum appointment that gives me the go ahead to get back to my old routine that was interrupted by pregnancy complications ;)    1\n",
       "Thank you for giving me a new metal band that I actually enjoy. So many of my friends keep suggesting really shit bands for me.                                                          1\n",
       "Is Charlotte moving to Charlotte?                                                                                                                                                        1\n",
       "Name: response_text, dtype: int64"
      ]
     },
     "execution_count": 127,
     "metadata": {},
     "output_type": "execute_result"
    }
   ],
   "source": [
    "responder_df.drop_duplicates(subset='response_text', keep=False, inplace=True)\n",
    "responder_df.response_text.value_counts().head()"
   ]
  },
  {
   "cell_type": "markdown",
   "metadata": {},
   "source": [
    "Looks good!\n",
    "\n",
    "Recall: the gender_info column first lists the original poster's gender, and then the responder's gender. This is the column we want to predict.\n",
    "\n",
    "What is our baseline here?"
   ]
  },
  {
   "cell_type": "code",
   "execution_count": 128,
   "metadata": {},
   "outputs": [
    {
     "data": {
      "text/plain": [
       "MM    0.383260\n",
       "WM    0.240424\n",
       "MW    0.240041\n",
       "WW    0.136274\n",
       "Name: gender_info, dtype: float64"
      ]
     },
     "execution_count": 128,
     "metadata": {},
     "output_type": "execute_result"
    }
   ],
   "source": [
    "responder_df.gender_info.value_counts(normalize=True)"
   ]
  },
  {
   "cell_type": "markdown",
   "metadata": {},
   "source": [
    "Our highest percentage is male poster/male responder, at 38.3%.\n",
    "\n",
    "### Using Naive Bayes\n",
    "Can we simply use Naive Bayes? Or is this too complicated of a task? Let's see:"
   ]
  },
  {
   "cell_type": "code",
   "execution_count": 129,
   "metadata": {},
   "outputs": [
    {
     "name": "stdout",
     "output_type": "stream",
     "text": [
      "233616\n",
      "58405\n"
     ]
    }
   ],
   "source": [
    "X = list(responder_df.response_text)\n",
    "y = list(responder_df.gender_info)\n",
    "\n",
    "# create train test split\n",
    "X_train, X_test, y_train, y_test = train_test_split(X, y, test_size=0.2, random_state=0)\n",
    "\n",
    "print(len(y_train))\n",
    "print(len(y_test))"
   ]
  },
  {
   "cell_type": "code",
   "execution_count": 130,
   "metadata": {},
   "outputs": [],
   "source": [
    "# use same parameters\n",
    "model = make_pipeline(TfidfVectorizer(max_df=0.5, min_df=5, ngram_range=(1,2), tokenizer=nltk.word_tokenize),\n",
    "                      MultinomialNB())"
   ]
  },
  {
   "cell_type": "code",
   "execution_count": 131,
   "metadata": {},
   "outputs": [],
   "source": [
    "# fit and predict\n",
    "model.fit(X_train, y_train)\n",
    "y_pred = model.predict(X_test)"
   ]
  },
  {
   "cell_type": "code",
   "execution_count": 132,
   "metadata": {},
   "outputs": [
    {
     "data": {
      "image/png": "[encoded data removed]",
      "text/plain": [
       "<Figure size 432x288 with 2 Axes>"
      ]
     },
     "metadata": {
      "needs_background": "light"
     },
     "output_type": "display_data"
    },
    {
     "name": "stdout",
     "output_type": "stream",
     "text": [
      "accuracy: 0.47203150415204176\n"
     ]
    }
   ],
   "source": [
    "# confusion matrix\n",
    "mat = confusion_matrix(y_test, y_pred)\n",
    "\n",
    "labels = sorted(set(y_test))\n",
    "\n",
    "# plot it\n",
    "sns.heatmap(mat.T, square=True, annot=True, fmt='d', cmap=\"Reds\", xticklabels=labels, yticklabels=labels)\n",
    "plt.xlabel('true label')\n",
    "plt.ylabel('predicted label')\n",
    "\n",
    "# save\n",
    "plt.savefig('images/predict_2genders_cm.png')\n",
    "\n",
    "# show\n",
    "plt.show()\n",
    "\n",
    "print('accuracy:', accuracy_score(y_test, y_pred))"
   ]
  },
  {
   "cell_type": "markdown",
   "metadata": {},
   "source": [
    "47.2% - which doesn't sound good, but is an okay improvement from our baseline (about 9 points higher). And actually, before dropping duplicates, accuracy was only 44.8%. It looks like the easiest to identify is male poster/male responder.\n",
    "\n",
    "What if we just predict the gender they're responding to, and NOT try to also predict their own gender? Let's try to just predict the op_gender column."
   ]
  },
  {
   "cell_type": "code",
   "execution_count": 133,
   "metadata": {},
   "outputs": [
    {
     "data": {
      "text/plain": [
       "M    0.623301\n",
       "W    0.376699\n",
       "Name: op_gender, dtype: float64"
      ]
     },
     "execution_count": 133,
     "metadata": {},
     "output_type": "execute_result"
    }
   ],
   "source": [
    "# what is our baseline?\n",
    "responder_df.op_gender.value_counts(normalize=True)"
   ]
  },
  {
   "cell_type": "markdown",
   "metadata": {},
   "source": [
    "So our baseline is around 62.3% here."
   ]
  },
  {
   "cell_type": "code",
   "execution_count": 134,
   "metadata": {},
   "outputs": [
    {
     "name": "stdout",
     "output_type": "stream",
     "text": [
      "233616\n",
      "58405\n"
     ]
    }
   ],
   "source": [
    "X = list(responder_df.response_text)\n",
    "y = list(responder_df.op_gender)\n",
    "\n",
    "# create train test split\n",
    "X_train, X_test, y_train, y_test = train_test_split(X, y, test_size=0.2, random_state=0)\n",
    "\n",
    "print(len(y_train))\n",
    "print(len(y_test))"
   ]
  },
  {
   "cell_type": "code",
   "execution_count": 135,
   "metadata": {},
   "outputs": [],
   "source": [
    "# use same parameters\n",
    "model = make_pipeline(TfidfVectorizer(max_df=0.5, min_df=5, ngram_range=(1,2), tokenizer=nltk.word_tokenize),\n",
    "                      MultinomialNB())"
   ]
  },
  {
   "cell_type": "code",
   "execution_count": 136,
   "metadata": {},
   "outputs": [],
   "source": [
    "# fit and predict\n",
    "model.fit(X_train, y_train)\n",
    "y_pred = model.predict(X_test)"
   ]
  },
  {
   "cell_type": "code",
   "execution_count": 137,
   "metadata": {},
   "outputs": [
    {
     "data": {
      "image/png": "[encoded data removed]",
      "text/plain": [
       "<Figure size 432x288 with 2 Axes>"
      ]
     },
     "metadata": {
      "needs_background": "light"
     },
     "output_type": "display_data"
    },
    {
     "name": "stdout",
     "output_type": "stream",
     "text": [
      "accuracy: 0.6525297491653111\n"
     ]
    }
   ],
   "source": [
    "# confusion matrix\n",
    "mat = confusion_matrix(y_test, y_pred)\n",
    "\n",
    "labels = sorted(set(y_test))\n",
    "\n",
    "# plot it\n",
    "sns.heatmap(mat.T, square=True, annot=True, fmt='d', cmap=\"Reds\", xticklabels=labels, yticklabels=labels)\n",
    "plt.xlabel('true label')\n",
    "plt.ylabel('predicted label')\n",
    "\n",
    "# save\n",
    "plt.savefig('images/predict_poster_cm.png')\n",
    "\n",
    "# show\n",
    "plt.show()\n",
    "\n",
    "print('accuracy:', accuracy_score(y_test, y_pred))"
   ]
  },
  {
   "cell_type": "markdown",
   "metadata": {},
   "source": [
    "65.3%... only a couple points higher than the baseline. This seems like a difficult task. I'd like to encorporate other features, but I am still very confused by how to use FeatureUnion."
   ]
  },
  {
   "cell_type": "code",
   "execution_count": null,
   "metadata": {},
   "outputs": [],
   "source": []
  }
 ],
 "metadata": {
  "kernelspec": {
   "display_name": "Python 3",
   "language": "python",
   "name": "python3"
  },
  "language_info": {
   "codemirror_mode": {
    "name": "ipython",
    "version": 3
   },
   "file_extension": ".py",
   "mimetype": "text/x-python",
   "name": "python",
   "nbconvert_exporter": "python",
   "pygments_lexer": "ipython3",
   "version": "3.7.1"
  }
 },
 "nbformat": 4,
 "nbformat_minor": 2
}
