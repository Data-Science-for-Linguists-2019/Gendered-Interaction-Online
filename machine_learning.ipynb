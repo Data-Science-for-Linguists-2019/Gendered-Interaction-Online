{
 "cells": [
  {
   "cell_type": "markdown",
   "metadata": {},
   "source": [
    "# Machine Learning\n",
    "\n",
    "Now, onto the fun stuff! Let's get our DataFrames again:"
   ]
  },
  {
   "cell_type": "code",
   "execution_count": 1,
   "metadata": {},
   "outputs": [],
   "source": [
    "# import things\n",
    "import pickle\n",
    "import pandas as pd\n",
    "import numpy as np\n",
    "import seaborn as sns\n",
    "import matplotlib.pyplot as plt"
   ]
  },
  {
   "cell_type": "markdown",
   "metadata": {},
   "source": [
    "## Posts and responses all together, with known genders\n",
    "This dataframe will be used to predict gender, regardless of whether they were the poster or responder."
   ]
  },
  {
   "cell_type": "code",
   "execution_count": 2,
   "metadata": {},
   "outputs": [
    {
     "data": {
      "text/html": [
       "<div>\n",
       "<style scoped>\n",
       "    .dataframe tbody tr th:only-of-type {\n",
       "        vertical-align: middle;\n",
       "    }\n",
       "\n",
       "    .dataframe tbody tr th {\n",
       "        vertical-align: top;\n",
       "    }\n",
       "\n",
       "    .dataframe thead th {\n",
       "        text-align: right;\n",
       "    }\n",
       "</style>\n",
       "<table border=\"1\" class=\"dataframe\">\n",
       "  <thead>\n",
       "    <tr style=\"text-align: right;\">\n",
       "      <th></th>\n",
       "      <th>gender</th>\n",
       "      <th>text</th>\n",
       "      <th>text_length</th>\n",
       "      <th>avg_slen</th>\n",
       "      <th>hedges</th>\n",
       "      <th>source</th>\n",
       "    </tr>\n",
       "  </thead>\n",
       "  <tbody>\n",
       "    <tr>\n",
       "      <th>0</th>\n",
       "      <td>M</td>\n",
       "      <td>\"I agree 100% with President Trump's decision....</td>\n",
       "      <td>57</td>\n",
       "      <td>14.25</td>\n",
       "      <td>0</td>\n",
       "      <td>fb_congress_post</td>\n",
       "    </tr>\n",
       "    <tr>\n",
       "      <th>1</th>\n",
       "      <td>M</td>\n",
       "      <td>It's time to put Obama in the history books. W...</td>\n",
       "      <td>37</td>\n",
       "      <td>18.50</td>\n",
       "      <td>0</td>\n",
       "      <td>fb_congress_post</td>\n",
       "    </tr>\n",
       "    <tr>\n",
       "      <th>2</th>\n",
       "      <td>M</td>\n",
       "      <td>Shameful.</td>\n",
       "      <td>2</td>\n",
       "      <td>2.00</td>\n",
       "      <td>0</td>\n",
       "      <td>fb_congress_post</td>\n",
       "    </tr>\n",
       "    <tr>\n",
       "      <th>3</th>\n",
       "      <td>M</td>\n",
       "      <td>In Texas, we're proud to say Merry Christmas.</td>\n",
       "      <td>11</td>\n",
       "      <td>11.00</td>\n",
       "      <td>0</td>\n",
       "      <td>fb_congress_post</td>\n",
       "    </tr>\n",
       "    <tr>\n",
       "      <th>4</th>\n",
       "      <td>M</td>\n",
       "      <td>59 days until Barack Obama is out of office. J...</td>\n",
       "      <td>18</td>\n",
       "      <td>9.00</td>\n",
       "      <td>0</td>\n",
       "      <td>fb_congress_post</td>\n",
       "    </tr>\n",
       "  </tbody>\n",
       "</table>\n",
       "</div>"
      ],
      "text/plain": [
       "  gender                                               text  text_length  \\\n",
       "0      M  \"I agree 100% with President Trump's decision....           57   \n",
       "1      M  It's time to put Obama in the history books. W...           37   \n",
       "2      M                                          Shameful.            2   \n",
       "3      M      In Texas, we're proud to say Merry Christmas.           11   \n",
       "4      M  59 days until Barack Obama is out of office. J...           18   \n",
       "\n",
       "   avg_slen  hedges            source  \n",
       "0     14.25       0  fb_congress_post  \n",
       "1     18.50       0  fb_congress_post  \n",
       "2      2.00       0  fb_congress_post  \n",
       "3     11.00       0  fb_congress_post  \n",
       "4      9.00       0  fb_congress_post  "
      ]
     },
     "execution_count": 2,
     "metadata": {},
     "output_type": "execute_result"
    }
   ],
   "source": [
    "all_posts_responses = pd.read_pickle(\"all_posts_responses.pkl\")\n",
    "all_posts_responses.head()"
   ]
  },
  {
   "cell_type": "code",
   "execution_count": 3,
   "metadata": {},
   "outputs": [
    {
     "data": {
      "text/plain": [
       "M    121264\n",
       "W     80392\n",
       "Name: gender, dtype: int64"
      ]
     },
     "execution_count": 3,
     "metadata": {},
     "output_type": "execute_result"
    }
   ],
   "source": [
    "# gender distribution\n",
    "all_posts_responses.gender.value_counts()"
   ]
  },
  {
   "cell_type": "code",
   "execution_count": 4,
   "metadata": {},
   "outputs": [
    {
     "data": {
      "text/html": [
       "<div>\n",
       "<style scoped>\n",
       "    .dataframe tbody tr th:only-of-type {\n",
       "        vertical-align: middle;\n",
       "    }\n",
       "\n",
       "    .dataframe tbody tr th {\n",
       "        vertical-align: top;\n",
       "    }\n",
       "\n",
       "    .dataframe thead th {\n",
       "        text-align: right;\n",
       "    }\n",
       "</style>\n",
       "<table border=\"1\" class=\"dataframe\">\n",
       "  <thead>\n",
       "    <tr style=\"text-align: right;\">\n",
       "      <th></th>\n",
       "      <th>text_length</th>\n",
       "      <th>avg_slen</th>\n",
       "      <th>hedges</th>\n",
       "    </tr>\n",
       "    <tr>\n",
       "      <th>gender</th>\n",
       "      <th></th>\n",
       "      <th></th>\n",
       "      <th></th>\n",
       "    </tr>\n",
       "  </thead>\n",
       "  <tbody>\n",
       "    <tr>\n",
       "      <th>M</th>\n",
       "      <td>33.496009</td>\n",
       "      <td>12.276548</td>\n",
       "      <td>0.057503</td>\n",
       "    </tr>\n",
       "    <tr>\n",
       "      <th>W</th>\n",
       "      <td>34.675055</td>\n",
       "      <td>12.192196</td>\n",
       "      <td>0.041833</td>\n",
       "    </tr>\n",
       "  </tbody>\n",
       "</table>\n",
       "</div>"
      ],
      "text/plain": [
       "        text_length   avg_slen    hedges\n",
       "gender                                  \n",
       "M         33.496009  12.276548  0.057503\n",
       "W         34.675055  12.192196  0.041833"
      ]
     },
     "execution_count": 4,
     "metadata": {},
     "output_type": "execute_result"
    }
   ],
   "source": [
    "# group by gender\n",
    "all_posts_responses.groupby('gender')['text_length', 'avg_slen', 'hedges'].mean()"
   ]
  },
  {
   "cell_type": "markdown",
   "metadata": {},
   "source": [
    "All of these stats are very similar, regardless of gender (even the hedges, which I predicted would be more prominent in female posters). This makes me believe that simply looking at text would be our best bet here.\n",
    "\n",
    "## Responses to posts, genders visible\n",
    "This dataframe will be used to predict gender of poster and responder, based on responder's reaction."
   ]
  },
  {
   "cell_type": "code",
   "execution_count": 5,
   "metadata": {},
   "outputs": [
    {
     "data": {
      "text/html": [
       "<div>\n",
       "<style scoped>\n",
       "    .dataframe tbody tr th:only-of-type {\n",
       "        vertical-align: middle;\n",
       "    }\n",
       "\n",
       "    .dataframe tbody tr th {\n",
       "        vertical-align: top;\n",
       "    }\n",
       "\n",
       "    .dataframe thead th {\n",
       "        text-align: right;\n",
       "    }\n",
       "</style>\n",
       "<table border=\"1\" class=\"dataframe\">\n",
       "  <thead>\n",
       "    <tr style=\"text-align: right;\">\n",
       "      <th></th>\n",
       "      <th>op_id</th>\n",
       "      <th>op_gender</th>\n",
       "      <th>responder_id</th>\n",
       "      <th>responder_gender</th>\n",
       "      <th>post_text</th>\n",
       "      <th>response_text</th>\n",
       "      <th>source</th>\n",
       "      <th>post_tokens</th>\n",
       "      <th>response_tokens</th>\n",
       "      <th>post_length</th>\n",
       "      <th>response_length</th>\n",
       "      <th>post_avg_slen</th>\n",
       "      <th>response_avg_slen</th>\n",
       "      <th>post_hedges</th>\n",
       "      <th>response_hedges</th>\n",
       "    </tr>\n",
       "  </thead>\n",
       "  <tbody>\n",
       "    <tr>\n",
       "      <th>0</th>\n",
       "      <td>102</td>\n",
       "      <td>W</td>\n",
       "      <td>1196122</td>\n",
       "      <td>M</td>\n",
       "      <td>Thanks for the follow!  I followed back :)  I ...</td>\n",
       "      <td>One day at a time! =]</td>\n",
       "      <td>fitocracy</td>\n",
       "      <td>[Thanks, for, the, follow, !, I, followed, bac...</td>\n",
       "      <td>[One, day, at, a, time, !, =, ]]</td>\n",
       "      <td>25</td>\n",
       "      <td>8</td>\n",
       "      <td>12.5</td>\n",
       "      <td>4.000000</td>\n",
       "      <td>0</td>\n",
       "      <td>0</td>\n",
       "    </tr>\n",
       "    <tr>\n",
       "      <th>1</th>\n",
       "      <td>104</td>\n",
       "      <td>W</td>\n",
       "      <td>5867</td>\n",
       "      <td>W</td>\n",
       "      <td>I've decided I have this crazy goal of running...</td>\n",
       "      <td>Crazy is synonymous with awesome in this case.</td>\n",
       "      <td>fitocracy</td>\n",
       "      <td>[I, 've, decided, I, have, this, crazy, goal, ...</td>\n",
       "      <td>[Crazy, is, synonymous, with, awesome, in, thi...</td>\n",
       "      <td>13</td>\n",
       "      <td>9</td>\n",
       "      <td>13.0</td>\n",
       "      <td>9.000000</td>\n",
       "      <td>0</td>\n",
       "      <td>0</td>\n",
       "    </tr>\n",
       "    <tr>\n",
       "      <th>2</th>\n",
       "      <td>104</td>\n",
       "      <td>W</td>\n",
       "      <td>1635</td>\n",
       "      <td>M</td>\n",
       "      <td>Umm, yeah, so those are assisted pull-ups. Bef...</td>\n",
       "      <td>You can enter assisted pullups. Select pullups...</td>\n",
       "      <td>fitocracy</td>\n",
       "      <td>[Umm, ,, yeah, ,, so, those, are, assisted, pu...</td>\n",
       "      <td>[You, can, enter, assisted, pullups, ., Select...</td>\n",
       "      <td>19</td>\n",
       "      <td>57</td>\n",
       "      <td>9.5</td>\n",
       "      <td>11.400000</td>\n",
       "      <td>0</td>\n",
       "      <td>0</td>\n",
       "    </tr>\n",
       "    <tr>\n",
       "      <th>3</th>\n",
       "      <td>117</td>\n",
       "      <td>M</td>\n",
       "      <td>8520</td>\n",
       "      <td>W</td>\n",
       "      <td>dam gurl lookin mad tone in dat pp holla bb</td>\n",
       "      <td>Mirin 3% bodyfat? Yeah, you are.</td>\n",
       "      <td>fitocracy</td>\n",
       "      <td>[dam, gurl, lookin, mad, tone, in, dat, pp, ho...</td>\n",
       "      <td>[Mirin, 3, %, bodyfat, ?, Yeah, ,, you, are, .]</td>\n",
       "      <td>10</td>\n",
       "      <td>10</td>\n",
       "      <td>10.0</td>\n",
       "      <td>5.000000</td>\n",
       "      <td>0</td>\n",
       "      <td>0</td>\n",
       "    </tr>\n",
       "    <tr>\n",
       "      <th>4</th>\n",
       "      <td>117</td>\n",
       "      <td>M</td>\n",
       "      <td>29126</td>\n",
       "      <td>M</td>\n",
       "      <td>What's up there bear mode?</td>\n",
       "      <td>Hey! I just started a new job, so things are s...</td>\n",
       "      <td>fitocracy</td>\n",
       "      <td>[What, 's, up, there, bear, mode, ?]</td>\n",
       "      <td>[Hey, !, I, just, started, a, new, job, ,, so,...</td>\n",
       "      <td>7</td>\n",
       "      <td>26</td>\n",
       "      <td>7.0</td>\n",
       "      <td>8.666667</td>\n",
       "      <td>0</td>\n",
       "      <td>0</td>\n",
       "    </tr>\n",
       "  </tbody>\n",
       "</table>\n",
       "</div>"
      ],
      "text/plain": [
       "  op_id op_gender responder_id responder_gender  \\\n",
       "0   102         W      1196122                M   \n",
       "1   104         W         5867                W   \n",
       "2   104         W         1635                M   \n",
       "3   117         M         8520                W   \n",
       "4   117         M        29126                M   \n",
       "\n",
       "                                           post_text  \\\n",
       "0  Thanks for the follow!  I followed back :)  I ...   \n",
       "1  I've decided I have this crazy goal of running...   \n",
       "2  Umm, yeah, so those are assisted pull-ups. Bef...   \n",
       "3        dam gurl lookin mad tone in dat pp holla bb   \n",
       "4                         What's up there bear mode?   \n",
       "\n",
       "                                       response_text     source  \\\n",
       "0                              One day at a time! =]  fitocracy   \n",
       "1     Crazy is synonymous with awesome in this case.  fitocracy   \n",
       "2  You can enter assisted pullups. Select pullups...  fitocracy   \n",
       "3                   Mirin 3% bodyfat? Yeah, you are.  fitocracy   \n",
       "4  Hey! I just started a new job, so things are s...  fitocracy   \n",
       "\n",
       "                                         post_tokens  \\\n",
       "0  [Thanks, for, the, follow, !, I, followed, bac...   \n",
       "1  [I, 've, decided, I, have, this, crazy, goal, ...   \n",
       "2  [Umm, ,, yeah, ,, so, those, are, assisted, pu...   \n",
       "3  [dam, gurl, lookin, mad, tone, in, dat, pp, ho...   \n",
       "4               [What, 's, up, there, bear, mode, ?]   \n",
       "\n",
       "                                     response_tokens  post_length  \\\n",
       "0                   [One, day, at, a, time, !, =, ]]           25   \n",
       "1  [Crazy, is, synonymous, with, awesome, in, thi...           13   \n",
       "2  [You, can, enter, assisted, pullups, ., Select...           19   \n",
       "3    [Mirin, 3, %, bodyfat, ?, Yeah, ,, you, are, .]           10   \n",
       "4  [Hey, !, I, just, started, a, new, job, ,, so,...            7   \n",
       "\n",
       "   response_length  post_avg_slen  response_avg_slen  post_hedges  \\\n",
       "0                8           12.5           4.000000            0   \n",
       "1                9           13.0           9.000000            0   \n",
       "2               57            9.5          11.400000            0   \n",
       "3               10           10.0           5.000000            0   \n",
       "4               26            7.0           8.666667            0   \n",
       "\n",
       "   response_hedges  \n",
       "0                0  \n",
       "1                0  \n",
       "2                0  \n",
       "3                0  \n",
       "4                0  "
      ]
     },
     "execution_count": 5,
     "metadata": {},
     "output_type": "execute_result"
    }
   ],
   "source": [
    "gender_visible_df = pd.read_pickle(\"gender_visible_df.pkl\")\n",
    "gender_visible_df.head()"
   ]
  },
  {
   "cell_type": "code",
   "execution_count": 6,
   "metadata": {},
   "outputs": [
    {
     "name": "stdout",
     "output_type": "stream",
     "text": [
      "<class 'pandas.core.frame.DataFrame'>\n",
      "RangeIndex: 396766 entries, 0 to 396765\n",
      "Data columns (total 15 columns):\n",
      "op_id                396766 non-null object\n",
      "op_gender            396766 non-null object\n",
      "responder_id         396766 non-null object\n",
      "responder_gender     396766 non-null object\n",
      "post_text            396766 non-null object\n",
      "response_text        396766 non-null object\n",
      "source               396766 non-null object\n",
      "post_tokens          396766 non-null object\n",
      "response_tokens      396766 non-null object\n",
      "post_length          396766 non-null int64\n",
      "response_length      396766 non-null int64\n",
      "post_avg_slen        396766 non-null float64\n",
      "response_avg_slen    396766 non-null float64\n",
      "post_hedges          396766 non-null int64\n",
      "response_hedges      396766 non-null int64\n",
      "dtypes: float64(2), int64(4), object(9)\n",
      "memory usage: 45.4+ MB\n"
     ]
    }
   ],
   "source": [
    "gender_visible_df.info()"
   ]
  },
  {
   "cell_type": "markdown",
   "metadata": {},
   "source": [
    "Everything looks great! Let's recap some basic stats:"
   ]
  },
  {
   "cell_type": "code",
   "execution_count": 7,
   "metadata": {},
   "outputs": [
    {
     "data": {
      "text/plain": [
       "M    237339\n",
       "W    159427\n",
       "Name: op_gender, dtype: int64"
      ]
     },
     "execution_count": 7,
     "metadata": {},
     "output_type": "execute_result"
    }
   ],
   "source": [
    "# poster gender distribution\n",
    "gender_visible_df.op_gender.value_counts()"
   ]
  },
  {
   "cell_type": "code",
   "execution_count": 8,
   "metadata": {},
   "outputs": [
    {
     "data": {
      "text/plain": [
       "M    217639\n",
       "W    179127\n",
       "Name: responder_gender, dtype: int64"
      ]
     },
     "execution_count": 8,
     "metadata": {},
     "output_type": "execute_result"
    }
   ],
   "source": [
    "# responder gender distribution\n",
    "gender_visible_df.responder_gender.value_counts()"
   ]
  },
  {
   "cell_type": "code",
   "execution_count": 9,
   "metadata": {},
   "outputs": [
    {
     "data": {
      "text/html": [
       "<div>\n",
       "<style scoped>\n",
       "    .dataframe tbody tr th:only-of-type {\n",
       "        vertical-align: middle;\n",
       "    }\n",
       "\n",
       "    .dataframe tbody tr th {\n",
       "        vertical-align: top;\n",
       "    }\n",
       "\n",
       "    .dataframe thead th {\n",
       "        text-align: right;\n",
       "    }\n",
       "</style>\n",
       "<table border=\"1\" class=\"dataframe\">\n",
       "  <thead>\n",
       "    <tr style=\"text-align: right;\">\n",
       "      <th></th>\n",
       "      <th></th>\n",
       "      <th></th>\n",
       "      <th>post_length</th>\n",
       "      <th>response_length</th>\n",
       "      <th>post_avg_slen</th>\n",
       "      <th>response_avg_slen</th>\n",
       "    </tr>\n",
       "    <tr>\n",
       "      <th>source</th>\n",
       "      <th>op_gender</th>\n",
       "      <th>responder_gender</th>\n",
       "      <th></th>\n",
       "      <th></th>\n",
       "      <th></th>\n",
       "      <th></th>\n",
       "    </tr>\n",
       "  </thead>\n",
       "  <tbody>\n",
       "    <tr>\n",
       "      <th rowspan=\"4\" valign=\"top\">fitocracy</th>\n",
       "      <th rowspan=\"2\" valign=\"top\">M</th>\n",
       "      <th>M</th>\n",
       "      <td>19.023550</td>\n",
       "      <td>16.612086</td>\n",
       "      <td>9.677136</td>\n",
       "      <td>8.384321</td>\n",
       "    </tr>\n",
       "    <tr>\n",
       "      <th>W</th>\n",
       "      <td>15.503597</td>\n",
       "      <td>31.527746</td>\n",
       "      <td>8.910398</td>\n",
       "      <td>11.419609</td>\n",
       "    </tr>\n",
       "    <tr>\n",
       "      <th rowspan=\"2\" valign=\"top\">W</th>\n",
       "      <th>M</th>\n",
       "      <td>19.160420</td>\n",
       "      <td>15.814585</td>\n",
       "      <td>9.066472</td>\n",
       "      <td>7.888464</td>\n",
       "    </tr>\n",
       "    <tr>\n",
       "      <th>W</th>\n",
       "      <td>18.134494</td>\n",
       "      <td>40.720844</td>\n",
       "      <td>9.586728</td>\n",
       "      <td>13.561374</td>\n",
       "    </tr>\n",
       "    <tr>\n",
       "      <th rowspan=\"4\" valign=\"top\">reddit</th>\n",
       "      <th rowspan=\"2\" valign=\"top\">M</th>\n",
       "      <th>M</th>\n",
       "      <td>48.399651</td>\n",
       "      <td>38.106992</td>\n",
       "      <td>13.993324</td>\n",
       "      <td>12.982770</td>\n",
       "    </tr>\n",
       "    <tr>\n",
       "      <th>W</th>\n",
       "      <td>62.564599</td>\n",
       "      <td>48.993869</td>\n",
       "      <td>15.221700</td>\n",
       "      <td>13.782006</td>\n",
       "    </tr>\n",
       "    <tr>\n",
       "      <th rowspan=\"2\" valign=\"top\">W</th>\n",
       "      <th>M</th>\n",
       "      <td>55.883847</td>\n",
       "      <td>50.545774</td>\n",
       "      <td>14.828193</td>\n",
       "      <td>14.161640</td>\n",
       "    </tr>\n",
       "    <tr>\n",
       "      <th>W</th>\n",
       "      <td>58.729640</td>\n",
       "      <td>47.042140</td>\n",
       "      <td>15.947841</td>\n",
       "      <td>14.290182</td>\n",
       "    </tr>\n",
       "  </tbody>\n",
       "</table>\n",
       "</div>"
      ],
      "text/plain": [
       "                                      post_length  response_length  \\\n",
       "source    op_gender responder_gender                                 \n",
       "fitocracy M         M                   19.023550        16.612086   \n",
       "                    W                   15.503597        31.527746   \n",
       "          W         M                   19.160420        15.814585   \n",
       "                    W                   18.134494        40.720844   \n",
       "reddit    M         M                   48.399651        38.106992   \n",
       "                    W                   62.564599        48.993869   \n",
       "          W         M                   55.883847        50.545774   \n",
       "                    W                   58.729640        47.042140   \n",
       "\n",
       "                                      post_avg_slen  response_avg_slen  \n",
       "source    op_gender responder_gender                                    \n",
       "fitocracy M         M                      9.677136           8.384321  \n",
       "                    W                      8.910398          11.419609  \n",
       "          W         M                      9.066472           7.888464  \n",
       "                    W                      9.586728          13.561374  \n",
       "reddit    M         M                     13.993324          12.982770  \n",
       "                    W                     15.221700          13.782006  \n",
       "          W         M                     14.828193          14.161640  \n",
       "                    W                     15.947841          14.290182  "
      ]
     },
     "execution_count": 9,
     "metadata": {},
     "output_type": "execute_result"
    }
   ],
   "source": [
    "gender_visible_df.groupby(['source','op_gender','responder_gender'])['post_length','response_length',\n",
    "                                                                     'post_avg_slen','response_avg_slen'].mean()"
   ]
  },
  {
   "cell_type": "markdown",
   "metadata": {},
   "source": [
    "So Reddit posts seem to be longer overall than posts on Fitocracy. This makes me believe that this may not be such a good statistic to use for machine learning. The more important factor may be the actual content of the text."
   ]
  },
  {
   "cell_type": "code",
   "execution_count": 10,
   "metadata": {},
   "outputs": [
    {
     "name": "stdout",
     "output_type": "stream",
     "text": [
      "percentage male posters with hedges: 0.05012239876295088\n",
      "percentage female posters with hedges: 0.03971723735628219\n",
      "percentage male responders with hedges: 0.053712799636094634\n",
      "percentage female responders with hedges: 0.036292686194711016\n"
     ]
    }
   ],
   "source": [
    "# hedges\n",
    "\n",
    "# male posters with hedges\n",
    "male_hedges_post = gender_visible_df[(gender_visible_df.op_gender == 'M') & (gender_visible_df.post_hedges != 0)]\n",
    "# male responders with hedges\n",
    "male_hedges_response = gender_visible_df[(gender_visible_df.responder_gender == 'M') & (gender_visible_df.response_hedges != 0)]\n",
    "\n",
    "# female posters with hedges\n",
    "female_hedges_post = gender_visible_df[(gender_visible_df.op_gender == 'W') & (gender_visible_df.post_hedges != 0)]\n",
    "# female responders with hedges\n",
    "female_hedges_response = gender_visible_df[(gender_visible_df.responder_gender == 'W') & (gender_visible_df.response_hedges != 0)]\n",
    "\n",
    "print('percentage male posters with hedges:',\n",
    "      len(male_hedges_post.index) / gender_visible_df.op_gender.value_counts()['M'])\n",
    "\n",
    "print('percentage female posters with hedges:',\n",
    "      len(female_hedges_post.index) / gender_visible_df.op_gender.value_counts()['W'])\n",
    "\n",
    "print('percentage male responders with hedges:',\n",
    "      len(male_hedges_response.index) / gender_visible_df.responder_gender.value_counts()['M'])\n",
    "\n",
    "print('percentage female responders with hedges:',\n",
    "      len(female_hedges_response.index) / gender_visible_df.responder_gender.value_counts()['W'])"
   ]
  },
  {
   "cell_type": "markdown",
   "metadata": {},
   "source": [
    "This is actually the opposite trend that I wanted to see. It was my belief coming in that female posters/responders would use more hedges, but that is in fact not the case. But Reddit was actually skewed in the direction I wanted! What does just Reddit data look like?"
   ]
  },
  {
   "cell_type": "code",
   "execution_count": 11,
   "metadata": {},
   "outputs": [
    {
     "name": "stdout",
     "output_type": "stream",
     "text": [
      "percentage male posters with hedges: 0.11949497649408028\n",
      "percentage female posters with hedges: 0.16261107313738893\n",
      "percentage male responders with hedges: 0.1084285233662827\n",
      "percentage female responders with hedges: 0.15475588160890463\n"
     ]
    }
   ],
   "source": [
    "reddit = gender_visible_df[gender_visible_df.source == 'reddit']\n",
    "\n",
    "# male posters with hedges\n",
    "male_hedges_post = reddit[(reddit.op_gender == 'M') & (reddit.post_hedges != 0)]\n",
    "# male responders with hedges\n",
    "male_hedges_response = reddit[(reddit.responder_gender == 'M') & (reddit.response_hedges != 0)]\n",
    "\n",
    "# female posters with hedges\n",
    "female_hedges_post = reddit[(reddit.op_gender == 'W') & (reddit.post_hedges != 0)]\n",
    "# female responders with hedges\n",
    "female_hedges_response = reddit[(reddit.responder_gender == 'W') & (reddit.response_hedges != 0)]\n",
    "\n",
    "print('percentage male posters with hedges:',\n",
    "      len(male_hedges_post.index) / reddit.op_gender.value_counts()['M'])\n",
    "\n",
    "print('percentage female posters with hedges:',\n",
    "      len(female_hedges_post.index) / reddit.op_gender.value_counts()['W'])\n",
    "\n",
    "print('percentage male responders with hedges:',\n",
    "      len(male_hedges_response.index) / reddit.responder_gender.value_counts()['M'])\n",
    "\n",
    "print('percentage female responders with hedges:',\n",
    "      len(female_hedges_response.index) / reddit.responder_gender.value_counts()['W'])"
   ]
  },
  {
   "cell_type": "markdown",
   "metadata": {},
   "source": [
    "So this looks how I'd expect. It seems to be the Fitocracy data that is messing with my hypothesis. Thus, using the hedge data in machine learning will not work for this combined data set. Maybe we should just focus on the text."
   ]
  },
  {
   "cell_type": "markdown",
   "metadata": {},
   "source": [
    "## Solidifying ML plan\n",
    "\n",
    "So what do I actually want to be able to predict?\n",
    "\n",
    "1. Simply the gender of the poster/responder, based on the text alone (ignoring whether they are the poster or responder).\n",
    "2. A more interesting and complicated topic would be analyzing the responder's text and predicting both their own gender and the original poster's gender. This way, we could see if different genders really do respond differently given who they are responding to. Let's make a dataframe that would fit this purpose:"
   ]
  },
  {
   "cell_type": "code",
   "execution_count": 12,
   "metadata": {},
   "outputs": [
    {
     "data": {
      "text/html": [
       "<div>\n",
       "<style scoped>\n",
       "    .dataframe tbody tr th:only-of-type {\n",
       "        vertical-align: middle;\n",
       "    }\n",
       "\n",
       "    .dataframe tbody tr th {\n",
       "        vertical-align: top;\n",
       "    }\n",
       "\n",
       "    .dataframe thead th {\n",
       "        text-align: right;\n",
       "    }\n",
       "</style>\n",
       "<table border=\"1\" class=\"dataframe\">\n",
       "  <thead>\n",
       "    <tr style=\"text-align: right;\">\n",
       "      <th></th>\n",
       "      <th>op_gender</th>\n",
       "      <th>responder_gender</th>\n",
       "      <th>response_text</th>\n",
       "      <th>response_tokens</th>\n",
       "      <th>response_length</th>\n",
       "      <th>response_avg_slen</th>\n",
       "    </tr>\n",
       "  </thead>\n",
       "  <tbody>\n",
       "    <tr>\n",
       "      <th>0</th>\n",
       "      <td>W</td>\n",
       "      <td>M</td>\n",
       "      <td>One day at a time! =]</td>\n",
       "      <td>[One, day, at, a, time, !, =, ]]</td>\n",
       "      <td>8</td>\n",
       "      <td>4.000000</td>\n",
       "    </tr>\n",
       "    <tr>\n",
       "      <th>1</th>\n",
       "      <td>W</td>\n",
       "      <td>W</td>\n",
       "      <td>Crazy is synonymous with awesome in this case.</td>\n",
       "      <td>[Crazy, is, synonymous, with, awesome, in, thi...</td>\n",
       "      <td>9</td>\n",
       "      <td>9.000000</td>\n",
       "    </tr>\n",
       "    <tr>\n",
       "      <th>2</th>\n",
       "      <td>W</td>\n",
       "      <td>M</td>\n",
       "      <td>You can enter assisted pullups. Select pullups...</td>\n",
       "      <td>[You, can, enter, assisted, pullups, ., Select...</td>\n",
       "      <td>57</td>\n",
       "      <td>11.400000</td>\n",
       "    </tr>\n",
       "    <tr>\n",
       "      <th>3</th>\n",
       "      <td>M</td>\n",
       "      <td>W</td>\n",
       "      <td>Mirin 3% bodyfat? Yeah, you are.</td>\n",
       "      <td>[Mirin, 3, %, bodyfat, ?, Yeah, ,, you, are, .]</td>\n",
       "      <td>10</td>\n",
       "      <td>5.000000</td>\n",
       "    </tr>\n",
       "    <tr>\n",
       "      <th>4</th>\n",
       "      <td>M</td>\n",
       "      <td>M</td>\n",
       "      <td>Hey! I just started a new job, so things are s...</td>\n",
       "      <td>[Hey, !, I, just, started, a, new, job, ,, so,...</td>\n",
       "      <td>26</td>\n",
       "      <td>8.666667</td>\n",
       "    </tr>\n",
       "  </tbody>\n",
       "</table>\n",
       "</div>"
      ],
      "text/plain": [
       "  op_gender responder_gender  \\\n",
       "0         W                M   \n",
       "1         W                W   \n",
       "2         W                M   \n",
       "3         M                W   \n",
       "4         M                M   \n",
       "\n",
       "                                       response_text  \\\n",
       "0                              One day at a time! =]   \n",
       "1     Crazy is synonymous with awesome in this case.   \n",
       "2  You can enter assisted pullups. Select pullups...   \n",
       "3                   Mirin 3% bodyfat? Yeah, you are.   \n",
       "4  Hey! I just started a new job, so things are s...   \n",
       "\n",
       "                                     response_tokens  response_length  \\\n",
       "0                   [One, day, at, a, time, !, =, ]]                8   \n",
       "1  [Crazy, is, synonymous, with, awesome, in, thi...                9   \n",
       "2  [You, can, enter, assisted, pullups, ., Select...               57   \n",
       "3    [Mirin, 3, %, bodyfat, ?, Yeah, ,, you, are, .]               10   \n",
       "4  [Hey, !, I, just, started, a, new, job, ,, so,...               26   \n",
       "\n",
       "   response_avg_slen  \n",
       "0           4.000000  \n",
       "1           9.000000  \n",
       "2          11.400000  \n",
       "3           5.000000  \n",
       "4           8.666667  "
      ]
     },
     "execution_count": 12,
     "metadata": {},
     "output_type": "execute_result"
    }
   ],
   "source": [
    "# getting just the columns we want\n",
    "responder_df = gender_visible_df[['op_gender','responder_gender','response_text',\n",
    "                                  'response_tokens','response_length','response_avg_slen']]\n",
    "\n",
    "responder_df.head()"
   ]
  },
  {
   "cell_type": "code",
   "execution_count": 13,
   "metadata": {},
   "outputs": [
    {
     "name": "stderr",
     "output_type": "stream",
     "text": [
      "/anaconda3/lib/python3.7/site-packages/ipykernel_launcher.py:3: SettingWithCopyWarning: \n",
      "A value is trying to be set on a copy of a slice from a DataFrame.\n",
      "Try using .loc[row_indexer,col_indexer] = value instead\n",
      "\n",
      "See the caveats in the documentation: http://pandas.pydata.org/pandas-docs/stable/indexing.html#indexing-view-versus-copy\n",
      "  This is separate from the ipykernel package so we can avoid doing imports until\n"
     ]
    },
    {
     "data": {
      "text/html": [
       "<div>\n",
       "<style scoped>\n",
       "    .dataframe tbody tr th:only-of-type {\n",
       "        vertical-align: middle;\n",
       "    }\n",
       "\n",
       "    .dataframe tbody tr th {\n",
       "        vertical-align: top;\n",
       "    }\n",
       "\n",
       "    .dataframe thead th {\n",
       "        text-align: right;\n",
       "    }\n",
       "</style>\n",
       "<table border=\"1\" class=\"dataframe\">\n",
       "  <thead>\n",
       "    <tr style=\"text-align: right;\">\n",
       "      <th></th>\n",
       "      <th>op_gender</th>\n",
       "      <th>responder_gender</th>\n",
       "      <th>response_text</th>\n",
       "      <th>response_tokens</th>\n",
       "      <th>response_length</th>\n",
       "      <th>response_avg_slen</th>\n",
       "      <th>gender_info</th>\n",
       "    </tr>\n",
       "  </thead>\n",
       "  <tbody>\n",
       "    <tr>\n",
       "      <th>0</th>\n",
       "      <td>W</td>\n",
       "      <td>M</td>\n",
       "      <td>One day at a time! =]</td>\n",
       "      <td>[One, day, at, a, time, !, =, ]]</td>\n",
       "      <td>8</td>\n",
       "      <td>4.000000</td>\n",
       "      <td>WM</td>\n",
       "    </tr>\n",
       "    <tr>\n",
       "      <th>1</th>\n",
       "      <td>W</td>\n",
       "      <td>W</td>\n",
       "      <td>Crazy is synonymous with awesome in this case.</td>\n",
       "      <td>[Crazy, is, synonymous, with, awesome, in, thi...</td>\n",
       "      <td>9</td>\n",
       "      <td>9.000000</td>\n",
       "      <td>WW</td>\n",
       "    </tr>\n",
       "    <tr>\n",
       "      <th>2</th>\n",
       "      <td>W</td>\n",
       "      <td>M</td>\n",
       "      <td>You can enter assisted pullups. Select pullups...</td>\n",
       "      <td>[You, can, enter, assisted, pullups, ., Select...</td>\n",
       "      <td>57</td>\n",
       "      <td>11.400000</td>\n",
       "      <td>WM</td>\n",
       "    </tr>\n",
       "    <tr>\n",
       "      <th>3</th>\n",
       "      <td>M</td>\n",
       "      <td>W</td>\n",
       "      <td>Mirin 3% bodyfat? Yeah, you are.</td>\n",
       "      <td>[Mirin, 3, %, bodyfat, ?, Yeah, ,, you, are, .]</td>\n",
       "      <td>10</td>\n",
       "      <td>5.000000</td>\n",
       "      <td>MW</td>\n",
       "    </tr>\n",
       "    <tr>\n",
       "      <th>4</th>\n",
       "      <td>M</td>\n",
       "      <td>M</td>\n",
       "      <td>Hey! I just started a new job, so things are s...</td>\n",
       "      <td>[Hey, !, I, just, started, a, new, job, ,, so,...</td>\n",
       "      <td>26</td>\n",
       "      <td>8.666667</td>\n",
       "      <td>MM</td>\n",
       "    </tr>\n",
       "  </tbody>\n",
       "</table>\n",
       "</div>"
      ],
      "text/plain": [
       "  op_gender responder_gender  \\\n",
       "0         W                M   \n",
       "1         W                W   \n",
       "2         W                M   \n",
       "3         M                W   \n",
       "4         M                M   \n",
       "\n",
       "                                       response_text  \\\n",
       "0                              One day at a time! =]   \n",
       "1     Crazy is synonymous with awesome in this case.   \n",
       "2  You can enter assisted pullups. Select pullups...   \n",
       "3                   Mirin 3% bodyfat? Yeah, you are.   \n",
       "4  Hey! I just started a new job, so things are s...   \n",
       "\n",
       "                                     response_tokens  response_length  \\\n",
       "0                   [One, day, at, a, time, !, =, ]]                8   \n",
       "1  [Crazy, is, synonymous, with, awesome, in, thi...                9   \n",
       "2  [You, can, enter, assisted, pullups, ., Select...               57   \n",
       "3    [Mirin, 3, %, bodyfat, ?, Yeah, ,, you, are, .]               10   \n",
       "4  [Hey, !, I, just, started, a, new, job, ,, so,...               26   \n",
       "\n",
       "   response_avg_slen gender_info  \n",
       "0           4.000000          WM  \n",
       "1           9.000000          WW  \n",
       "2          11.400000          WM  \n",
       "3           5.000000          MW  \n",
       "4           8.666667          MM  "
      ]
     },
     "execution_count": 13,
     "metadata": {},
     "output_type": "execute_result"
    }
   ],
   "source": [
    "# let's combine op_gender and responder_gender into one column, because this is what we want to predict\n",
    "# original poster's gender is first character, responder's gender is second character\n",
    "responder_df['gender_info'] = responder_df.op_gender + responder_df.responder_gender\n",
    "responder_df.head()"
   ]
  },
  {
   "cell_type": "code",
   "execution_count": 14,
   "metadata": {},
   "outputs": [
    {
     "name": "stderr",
     "output_type": "stream",
     "text": [
      "/anaconda3/lib/python3.7/site-packages/pandas/core/frame.py:3697: SettingWithCopyWarning: \n",
      "A value is trying to be set on a copy of a slice from a DataFrame\n",
      "\n",
      "See the caveats in the documentation: http://pandas.pydata.org/pandas-docs/stable/indexing.html#indexing-view-versus-copy\n",
      "  errors=errors)\n"
     ]
    },
    {
     "data": {
      "text/html": [
       "<div>\n",
       "<style scoped>\n",
       "    .dataframe tbody tr th:only-of-type {\n",
       "        vertical-align: middle;\n",
       "    }\n",
       "\n",
       "    .dataframe tbody tr th {\n",
       "        vertical-align: top;\n",
       "    }\n",
       "\n",
       "    .dataframe thead th {\n",
       "        text-align: right;\n",
       "    }\n",
       "</style>\n",
       "<table border=\"1\" class=\"dataframe\">\n",
       "  <thead>\n",
       "    <tr style=\"text-align: right;\">\n",
       "      <th></th>\n",
       "      <th>response_text</th>\n",
       "      <th>response_tokens</th>\n",
       "      <th>response_length</th>\n",
       "      <th>response_avg_slen</th>\n",
       "      <th>gender_info</th>\n",
       "    </tr>\n",
       "  </thead>\n",
       "  <tbody>\n",
       "    <tr>\n",
       "      <th>0</th>\n",
       "      <td>One day at a time! =]</td>\n",
       "      <td>[One, day, at, a, time, !, =, ]]</td>\n",
       "      <td>8</td>\n",
       "      <td>4.000000</td>\n",
       "      <td>WM</td>\n",
       "    </tr>\n",
       "    <tr>\n",
       "      <th>1</th>\n",
       "      <td>Crazy is synonymous with awesome in this case.</td>\n",
       "      <td>[Crazy, is, synonymous, with, awesome, in, thi...</td>\n",
       "      <td>9</td>\n",
       "      <td>9.000000</td>\n",
       "      <td>WW</td>\n",
       "    </tr>\n",
       "    <tr>\n",
       "      <th>2</th>\n",
       "      <td>You can enter assisted pullups. Select pullups...</td>\n",
       "      <td>[You, can, enter, assisted, pullups, ., Select...</td>\n",
       "      <td>57</td>\n",
       "      <td>11.400000</td>\n",
       "      <td>WM</td>\n",
       "    </tr>\n",
       "    <tr>\n",
       "      <th>3</th>\n",
       "      <td>Mirin 3% bodyfat? Yeah, you are.</td>\n",
       "      <td>[Mirin, 3, %, bodyfat, ?, Yeah, ,, you, are, .]</td>\n",
       "      <td>10</td>\n",
       "      <td>5.000000</td>\n",
       "      <td>MW</td>\n",
       "    </tr>\n",
       "    <tr>\n",
       "      <th>4</th>\n",
       "      <td>Hey! I just started a new job, so things are s...</td>\n",
       "      <td>[Hey, !, I, just, started, a, new, job, ,, so,...</td>\n",
       "      <td>26</td>\n",
       "      <td>8.666667</td>\n",
       "      <td>MM</td>\n",
       "    </tr>\n",
       "  </tbody>\n",
       "</table>\n",
       "</div>"
      ],
      "text/plain": [
       "                                       response_text  \\\n",
       "0                              One day at a time! =]   \n",
       "1     Crazy is synonymous with awesome in this case.   \n",
       "2  You can enter assisted pullups. Select pullups...   \n",
       "3                   Mirin 3% bodyfat? Yeah, you are.   \n",
       "4  Hey! I just started a new job, so things are s...   \n",
       "\n",
       "                                     response_tokens  response_length  \\\n",
       "0                   [One, day, at, a, time, !, =, ]]                8   \n",
       "1  [Crazy, is, synonymous, with, awesome, in, thi...                9   \n",
       "2  [You, can, enter, assisted, pullups, ., Select...               57   \n",
       "3    [Mirin, 3, %, bodyfat, ?, Yeah, ,, you, are, .]               10   \n",
       "4  [Hey, !, I, just, started, a, new, job, ,, so,...               26   \n",
       "\n",
       "   response_avg_slen gender_info  \n",
       "0           4.000000          WM  \n",
       "1           9.000000          WW  \n",
       "2          11.400000          WM  \n",
       "3           5.000000          MW  \n",
       "4           8.666667          MM  "
      ]
     },
     "execution_count": 14,
     "metadata": {},
     "output_type": "execute_result"
    }
   ],
   "source": [
    "# drop the columns\n",
    "responder_df.drop(labels=['op_gender','responder_gender'], axis=1, inplace=True)\n",
    "responder_df.head()"
   ]
  },
  {
   "cell_type": "markdown",
   "metadata": {},
   "source": [
    "## Predict gender of poster/responder\n",
    "Let's start simple! Given our `all_posts_responses` dataframe, can we predict the gender of the poster/responder?"
   ]
  },
  {
   "cell_type": "code",
   "execution_count": 15,
   "metadata": {},
   "outputs": [
    {
     "data": {
      "text/html": [
       "<div>\n",
       "<style scoped>\n",
       "    .dataframe tbody tr th:only-of-type {\n",
       "        vertical-align: middle;\n",
       "    }\n",
       "\n",
       "    .dataframe tbody tr th {\n",
       "        vertical-align: top;\n",
       "    }\n",
       "\n",
       "    .dataframe thead th {\n",
       "        text-align: right;\n",
       "    }\n",
       "</style>\n",
       "<table border=\"1\" class=\"dataframe\">\n",
       "  <thead>\n",
       "    <tr style=\"text-align: right;\">\n",
       "      <th></th>\n",
       "      <th>gender</th>\n",
       "      <th>text</th>\n",
       "      <th>text_length</th>\n",
       "      <th>avg_slen</th>\n",
       "      <th>hedges</th>\n",
       "      <th>source</th>\n",
       "    </tr>\n",
       "  </thead>\n",
       "  <tbody>\n",
       "    <tr>\n",
       "      <th>0</th>\n",
       "      <td>M</td>\n",
       "      <td>\"I agree 100% with President Trump's decision....</td>\n",
       "      <td>57</td>\n",
       "      <td>14.25</td>\n",
       "      <td>0</td>\n",
       "      <td>fb_congress_post</td>\n",
       "    </tr>\n",
       "    <tr>\n",
       "      <th>1</th>\n",
       "      <td>M</td>\n",
       "      <td>It's time to put Obama in the history books. W...</td>\n",
       "      <td>37</td>\n",
       "      <td>18.50</td>\n",
       "      <td>0</td>\n",
       "      <td>fb_congress_post</td>\n",
       "    </tr>\n",
       "    <tr>\n",
       "      <th>2</th>\n",
       "      <td>M</td>\n",
       "      <td>Shameful.</td>\n",
       "      <td>2</td>\n",
       "      <td>2.00</td>\n",
       "      <td>0</td>\n",
       "      <td>fb_congress_post</td>\n",
       "    </tr>\n",
       "    <tr>\n",
       "      <th>3</th>\n",
       "      <td>M</td>\n",
       "      <td>In Texas, we're proud to say Merry Christmas.</td>\n",
       "      <td>11</td>\n",
       "      <td>11.00</td>\n",
       "      <td>0</td>\n",
       "      <td>fb_congress_post</td>\n",
       "    </tr>\n",
       "    <tr>\n",
       "      <th>4</th>\n",
       "      <td>M</td>\n",
       "      <td>59 days until Barack Obama is out of office. J...</td>\n",
       "      <td>18</td>\n",
       "      <td>9.00</td>\n",
       "      <td>0</td>\n",
       "      <td>fb_congress_post</td>\n",
       "    </tr>\n",
       "  </tbody>\n",
       "</table>\n",
       "</div>"
      ],
      "text/plain": [
       "  gender                                               text  text_length  \\\n",
       "0      M  \"I agree 100% with President Trump's decision....           57   \n",
       "1      M  It's time to put Obama in the history books. W...           37   \n",
       "2      M                                          Shameful.            2   \n",
       "3      M      In Texas, we're proud to say Merry Christmas.           11   \n",
       "4      M  59 days until Barack Obama is out of office. J...           18   \n",
       "\n",
       "   avg_slen  hedges            source  \n",
       "0     14.25       0  fb_congress_post  \n",
       "1     18.50       0  fb_congress_post  \n",
       "2      2.00       0  fb_congress_post  \n",
       "3     11.00       0  fb_congress_post  \n",
       "4      9.00       0  fb_congress_post  "
      ]
     },
     "execution_count": 15,
     "metadata": {},
     "output_type": "execute_result"
    }
   ],
   "source": [
    "all_posts_responses.head()"
   ]
  },
  {
   "cell_type": "code",
   "execution_count": 16,
   "metadata": {},
   "outputs": [
    {
     "data": {
      "text/plain": [
       "M    0.601341\n",
       "W    0.398659\n",
       "Name: gender, dtype: float64"
      ]
     },
     "execution_count": 16,
     "metadata": {},
     "output_type": "execute_result"
    }
   ],
   "source": [
    "all_posts_responses.gender.value_counts(normalize=True)"
   ]
  },
  {
   "cell_type": "markdown",
   "metadata": {},
   "source": [
    "So our baseline is 60% here.\n",
    "\n",
    "### Using Naive-Bayes"
   ]
  },
  {
   "cell_type": "code",
   "execution_count": 17,
   "metadata": {},
   "outputs": [
    {
     "name": "stdout",
     "output_type": "stream",
     "text": [
      "161324\n",
      "40332\n"
     ]
    }
   ],
   "source": [
    "X = list(all_posts_responses.text)\n",
    "y = list(all_posts_responses.gender)\n",
    "\n",
    "# create train test split\n",
    "from sklearn.model_selection import train_test_split\n",
    "X_train, X_test, y_train, y_test = train_test_split(X, y, test_size=0.2, random_state=0)\n",
    "\n",
    "print(len(y_train))\n",
    "print(len(y_test))"
   ]
  },
  {
   "cell_type": "code",
   "execution_count": 50,
   "metadata": {},
   "outputs": [],
   "source": [
    "# fit to model\n",
    "from sklearn.pipeline import make_pipeline\n",
    "from sklearn.feature_extraction.text import TfidfVectorizer\n",
    "from sklearn.naive_bayes import MultinomialNB\n",
    "from sklearn.svm import SVC\n",
    "from sklearn.decomposition import TruncatedSVD\n",
    "from sklearn.model_selection import GridSearchCV\n",
    "from sklearn.pipeline import Pipeline\n",
    "\n",
    "# this takes way too long - maybe try CRC\n",
    "#model = make_pipeline(TfidfVectorizer(ngram_range=(1,2), stop_words='english'), SVC(kernel='linear', C=1E3, random_state=0))\n",
    "\n",
    "# gridsearch took about 30 mins and didn't even give me a good accuracy score\n",
    "\n",
    "# choose own parameters\n",
    "#model = make_pipeline(TfidfVectorizer(max_df=0.5, min_df=5, ngram_range=(1,2)),\n",
    "                         #MultinomialNB())\n",
    "\n",
    "# what if we want punctuation? takes longer to use nltk word tokenizer though. is it worth it?\n",
    "import nltk\n",
    "model = make_pipeline(TfidfVectorizer(max_df=0.5, min_df=5, ngram_range=(1,2), tokenizer=nltk.word_tokenize),\n",
    "                         MultinomialNB())"
   ]
  },
  {
   "cell_type": "code",
   "execution_count": 51,
   "metadata": {},
   "outputs": [],
   "source": [
    "# fit and predict\n",
    "model.fit(X_train, y_train)\n",
    "y_pred = model.predict(X_test)"
   ]
  },
  {
   "cell_type": "code",
   "execution_count": 52,
   "metadata": {},
   "outputs": [
    {
     "data": {
      "image/png": "[encoded data removed]",
      "text/plain": [
       "<Figure size 432x288 with 2 Axes>"
      ]
     },
     "metadata": {
      "needs_background": "light"
     },
     "output_type": "display_data"
    },
    {
     "name": "stdout",
     "output_type": "stream",
     "text": [
      "accuracy: 0.7059654864623623\n"
     ]
    }
   ],
   "source": [
    "# confusion matrix\n",
    "from sklearn.metrics import confusion_matrix, accuracy_score\n",
    "\n",
    "mat = confusion_matrix(y_test, y_pred)\n",
    "\n",
    "labels = sorted(set(y_test))\n",
    "\n",
    "# plot it\n",
    "sns.heatmap(mat.T, square=True, annot=True, fmt='d', cmap=\"Reds\", xticklabels=labels, yticklabels=labels)\n",
    "plt.xlabel('true label')\n",
    "plt.ylabel('predicted label')\n",
    "plt.show()\n",
    "\n",
    "print('accuracy:', accuracy_score(y_test, y_pred))"
   ]
  },
  {
   "cell_type": "markdown",
   "metadata": {},
   "source": [
    "With the built in tokenizer (excluding punctuation), accuracy was around 69.2%. However, above is when I include punctuation with nltk's word tokenizer, and we get an accuracy of 70.6%! Small difference - but still a whole percentage point. So what is going on with punctuation? Does one gender use more than the other?"
   ]
  },
  {
   "cell_type": "code",
   "execution_count": 54,
   "metadata": {},
   "outputs": [
    {
     "name": "stdout",
     "output_type": "stream",
     "text": [
      "'hey' classified as M\n",
      "'heyy' classified as W\n"
     ]
    }
   ],
   "source": [
    "# something funny:\n",
    "print(\"'hey' classified as\", model.predict(['hey'])[0])\n",
    "print(\"'heyy' classified as\", model.predict(['heyy'])[0])"
   ]
  },
  {
   "cell_type": "code",
   "execution_count": 74,
   "metadata": {},
   "outputs": [
    {
     "name": "stdout",
     "output_type": "stream",
     "text": [
      "'!' classified as W with probabilities: [[0.49453088 0.50546912]]\n",
      "'!!' classified as W with probabilities: [[0.38223107 0.61776893]]\n",
      "'?' classified as M with probabilities: [[0.68968333 0.31031667]]\n",
      "'??' classified as M with probabilities: [[0.61829181 0.38170819]]\n",
      "'...' classified as M with probabilities: [[0.59342229 0.40657771]]\n"
     ]
    }
   ],
   "source": [
    "# examine punctuation\n",
    "print(\"'!' classified as\", model.predict(['!'])[0], 'with probabilities:', model.predict_proba(['!']))\n",
    "print(\"'!!' classified as\", model.predict(['!!'])[0], 'with probabilities:', model.predict_proba(['!!']))\n",
    "print(\"'?' classified as\", model.predict(['?'])[0], 'with probabilities:', model.predict_proba(['?']))\n",
    "print(\"'??' classified as\", model.predict(['??'])[0], 'with probabilities:', model.predict_proba(['??']))\n",
    "print(\"'...' classified as\", model.predict(['...'])[0], 'with probabilities:', model.predict_proba(['...']))"
   ]
  },
  {
   "cell_type": "code",
   "execution_count": null,
   "metadata": {},
   "outputs": [],
   "source": []
  }
 ],
 "metadata": {
  "kernelspec": {
   "display_name": "Python 3",
   "language": "python",
   "name": "python3"
  },
  "language_info": {
   "codemirror_mode": {
    "name": "ipython",
    "version": 3
   },
   "file_extension": ".py",
   "mimetype": "text/x-python",
   "name": "python",
   "nbconvert_exporter": "python",
   "pygments_lexer": "ipython3",
   "version": "3.7.1"
  }
 },
 "nbformat": 4,
 "nbformat_minor": 2
}
